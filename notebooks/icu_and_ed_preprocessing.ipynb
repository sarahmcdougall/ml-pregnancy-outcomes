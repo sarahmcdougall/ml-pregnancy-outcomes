{
 "cells": [
  {
   "cell_type": "markdown",
   "id": "9ffa5c9f-fc96-41e5-b044-58b3958ba041",
   "metadata": {},
   "source": [
    "# ICU and ED Module Preprocessing\n",
    "Preprocessing of ICU and ED tables, with some additional descriptions of design decisions"
   ]
  },
  {
   "cell_type": "code",
   "execution_count": 137,
   "id": "757377ca-9463-4bea-88d4-09fa7a5137b0",
   "metadata": {},
   "outputs": [
    {
     "name": "stdout",
     "output_type": "stream",
     "text": [
      "Connected to db: smcdougall\n",
      "The Postgres database version is: ('PostgreSQL 14.5 on aarch64-apple-darwin20.6.0, compiled by Apple clang version 12.0.5 (clang-1205.0.22.9), 64-bit',)\n",
      "Postgres connection has been closed.\n"
     ]
    }
   ],
   "source": [
    "import psycopg2\n",
    "from psycopg2 import OperationalError, DatabaseError, sql\n",
    "import pandas as pd\n",
    "import csv\n",
    "import numpy as np\n",
    "import seaborn as sns\n",
    "# for fuzzy matching on the item ids\n",
    "from fuzzywuzzy import process\n",
    "import os\n",
    "\n",
    "### Environment Variables for Connection ###\n",
    "DB_NAME = 'smcdougall'\n",
    "USERNAME = 'postgres'\n",
    "PASSWORD = 'postgres'\n",
    "HOST = 'localhost'\n",
    "PORT = 5432 \n",
    "\n",
    "def connect_to_postgres(db_name, username, password, host, port):\n",
    "    connection = None\n",
    "    try:\n",
    "        connection = psycopg2.connect(\n",
    "            dbname=db_name,\n",
    "            user=username,\n",
    "            password=password,\n",
    "            host=host,\n",
    "            port=port\n",
    "        )\n",
    "        print('Connected to db:', db_name)\n",
    "        return connection\n",
    "    except OperationalError as e:\n",
    "        print('Received the following error:', e)\n",
    "        return None\n",
    "\n",
    "def verify_postgres_connection(connection):\n",
    "    if connection is not None:\n",
    "        try:\n",
    "            cur = connection.cursor()\n",
    "            cur.execute('SELECT version();')\n",
    "            db_version = cur.fetchone()\n",
    "            print('The Postgres database version is:', db_version)\n",
    "            cur.close()\n",
    "        except DatabaseError as e:\n",
    "            print('Received the following error:', e)\n",
    "    else:\n",
    "        print('Connection to Postgres failed.')\n",
    "\n",
    "def close_connection(connection):\n",
    "    if connection is not None:\n",
    "        connection.close()\n",
    "        print('Postgres connection has been closed.')\n",
    "\n",
    "connection = connect_to_postgres(DB_NAME, USERNAME, PASSWORD, HOST, PORT)\n",
    "verify_postgres_connection(connection)\n",
    "close_connection(connection)"
   ]
  },
  {
   "cell_type": "code",
   "execution_count": 138,
   "id": "65b739e3-8b40-40ed-80a0-3b2f312b978c",
   "metadata": {},
   "outputs": [],
   "source": [
    "\"\"\"\n",
    "General function for loading data from an existing SQL table that retrieves all of the fields\n",
    "for the table.\n",
    "\"\"\"\n",
    "def load_table(connection, table_name):\n",
    "    cur = connection.cursor()\n",
    "    query = f'SELECT * FROM \"{table_name}\"'\n",
    "    cur.execute(query)\n",
    "    rows = cur.fetchall()\n",
    "    cur.close()\n",
    "    \n",
    "    # get column names\n",
    "    columns = [desc[0] for desc in cur.description]\n",
    "    # use column names retrieved from the cursor\n",
    "    df = pd.DataFrame(rows, columns=columns)\n",
    "    return df"
   ]
  },
  {
   "cell_type": "code",
   "execution_count": 139,
   "id": "fe2d7eb7-f77e-4b09-bec4-7c59ef4816f8",
   "metadata": {},
   "outputs": [],
   "source": [
    "\"\"\"\n",
    "Saves pandas DataFrame as a CSV file.\n",
    "\"\"\"\n",
    "def save_df_as_csv(df, csv_name, directory='dataframes'):\n",
    "    if not os.path.exists(directory):\n",
    "        os.makedirs(directory)\n",
    "\n",
    "    file_path = os.path.join(directory, csv_name)\n",
    "    df.to_csv(file_path, index=False)\n",
    "\n",
    "    print(f'DataFrame has been saved as {file_path}')"
   ]
  },
  {
   "cell_type": "markdown",
   "id": "d40e951d-5a5f-4498-8b3a-3ba2e8033e01",
   "metadata": {},
   "source": [
    "# ICU Pre-processing - Non Vital-Signs Tables"
   ]
  },
  {
   "cell_type": "markdown",
   "id": "d576b8d8-c94c-41ae-a3f8-78a2e58423e7",
   "metadata": {},
   "source": [
    "## Relevant tables to start with\n",
    "- chartevents\n",
    "- datetimeevents\n",
    "- icustays\n",
    "- inputevents\n",
    "- outputevents\n",
    "- procedureevents\n",
    "\n",
    "**NOTE**: the filtering of \"event\"-related tables (`chartevents`, `datetimeevents`, etc.) is performed in vital_signs_and_hosp_preprocessing.ipynb - any importing of those tables here is for additional preprocessing/feature engineering on the existing columns"
   ]
  },
  {
   "cell_type": "markdown",
   "id": "b97dcdf5-762e-4938-ad8d-7a1536bc4515",
   "metadata": {},
   "source": [
    "### icustays\n",
    "- derived from `transfers` (just the ICU-related rows) -- **so don't preprocess separately**\n",
    "- for first care unit and last care unit columns, see the consolidated values from `transfers` because they should be the same\n",
    "- keep length of stay"
   ]
  },
  {
   "cell_type": "markdown",
   "id": "ce036dd6-0627-4494-92bd-d13c7761913c",
   "metadata": {},
   "source": [
    "### ingredientevents\n",
    "- neither project pulls from this table, so omit from analysis"
   ]
  },
  {
   "cell_type": "markdown",
   "id": "2c41a193-b7d5-4681-b8be-057aea3341bc",
   "metadata": {},
   "source": [
    "### procedureevents\n",
    "- not sure how to process - not sure if ICD"
   ]
  },
  {
   "cell_type": "code",
   "execution_count": 140,
   "id": "0f7cc45c-cf90-49dc-8b55-d965d2156a75",
   "metadata": {
    "scrolled": true
   },
   "outputs": [
    {
     "name": "stdout",
     "output_type": "stream",
     "text": [
      "Connected to db: smcdougall\n",
      "(37436, 22)\n"
     ]
    },
    {
     "data": {
      "text/html": [
       "<div>\n",
       "<style scoped>\n",
       "    .dataframe tbody tr th:only-of-type {\n",
       "        vertical-align: middle;\n",
       "    }\n",
       "\n",
       "    .dataframe tbody tr th {\n",
       "        vertical-align: top;\n",
       "    }\n",
       "\n",
       "    .dataframe thead th {\n",
       "        text-align: right;\n",
       "    }\n",
       "</style>\n",
       "<table border=\"1\" class=\"dataframe\">\n",
       "  <thead>\n",
       "    <tr style=\"text-align: right;\">\n",
       "      <th></th>\n",
       "      <th>subject_id</th>\n",
       "      <th>hadm_id</th>\n",
       "      <th>stay_id</th>\n",
       "      <th>caregiver_id</th>\n",
       "      <th>starttime</th>\n",
       "      <th>endtime</th>\n",
       "      <th>storetime</th>\n",
       "      <th>itemid</th>\n",
       "      <th>value</th>\n",
       "      <th>valueuom</th>\n",
       "      <th>...</th>\n",
       "      <th>orderid</th>\n",
       "      <th>linkorderid</th>\n",
       "      <th>ordercategoryname</th>\n",
       "      <th>ordercategorydescription</th>\n",
       "      <th>patientweight</th>\n",
       "      <th>isopenbag</th>\n",
       "      <th>continueinnextdept</th>\n",
       "      <th>statusdescription</th>\n",
       "      <th>originalamount</th>\n",
       "      <th>originalrate</th>\n",
       "    </tr>\n",
       "  </thead>\n",
       "  <tbody>\n",
       "    <tr>\n",
       "      <th>0</th>\n",
       "      <td>10001884</td>\n",
       "      <td>26184834</td>\n",
       "      <td>37510196</td>\n",
       "      <td>31763.0</td>\n",
       "      <td>2131-01-12 21:30:00</td>\n",
       "      <td>2131-01-13 04:00:00</td>\n",
       "      <td>2131-01-15 04:07:00</td>\n",
       "      <td>225794</td>\n",
       "      <td>390.0</td>\n",
       "      <td>min</td>\n",
       "      <td>...</td>\n",
       "      <td>4809276</td>\n",
       "      <td>4809276</td>\n",
       "      <td>Ventilation</td>\n",
       "      <td>ContinuousProcess</td>\n",
       "      <td>65.0</td>\n",
       "      <td>1</td>\n",
       "      <td>0</td>\n",
       "      <td>FinishedRunning</td>\n",
       "      <td>390.0</td>\n",
       "      <td>1.0</td>\n",
       "    </tr>\n",
       "    <tr>\n",
       "      <th>1</th>\n",
       "      <td>10001884</td>\n",
       "      <td>26184834</td>\n",
       "      <td>37510196</td>\n",
       "      <td>35966.0</td>\n",
       "      <td>2131-01-12 17:40:00</td>\n",
       "      <td>2131-01-12 17:41:00</td>\n",
       "      <td>2131-01-12 17:50:00</td>\n",
       "      <td>227194</td>\n",
       "      <td>1.0</td>\n",
       "      <td>None</td>\n",
       "      <td>...</td>\n",
       "      <td>6470885</td>\n",
       "      <td>6470885</td>\n",
       "      <td>Intubation/Extubation</td>\n",
       "      <td>Task</td>\n",
       "      <td>65.0</td>\n",
       "      <td>0</td>\n",
       "      <td>0</td>\n",
       "      <td>FinishedRunning</td>\n",
       "      <td>1.0</td>\n",
       "      <td>0.0</td>\n",
       "    </tr>\n",
       "    <tr>\n",
       "      <th>2</th>\n",
       "      <td>10001884</td>\n",
       "      <td>26184834</td>\n",
       "      <td>37510196</td>\n",
       "      <td>36121.0</td>\n",
       "      <td>2131-01-19 18:44:00</td>\n",
       "      <td>2131-01-19 18:45:00</td>\n",
       "      <td>2131-01-19 18:44:00</td>\n",
       "      <td>228128</td>\n",
       "      <td>1.0</td>\n",
       "      <td>None</td>\n",
       "      <td>...</td>\n",
       "      <td>9459863</td>\n",
       "      <td>9459863</td>\n",
       "      <td>Communication</td>\n",
       "      <td>Task</td>\n",
       "      <td>65.0</td>\n",
       "      <td>0</td>\n",
       "      <td>0</td>\n",
       "      <td>FinishedRunning</td>\n",
       "      <td>1.0</td>\n",
       "      <td>0.0</td>\n",
       "    </tr>\n",
       "    <tr>\n",
       "      <th>3</th>\n",
       "      <td>10001884</td>\n",
       "      <td>26184834</td>\n",
       "      <td>37510196</td>\n",
       "      <td>36518.0</td>\n",
       "      <td>2131-01-13 16:14:00</td>\n",
       "      <td>2131-01-13 16:15:00</td>\n",
       "      <td>2131-01-13 16:14:00</td>\n",
       "      <td>225401</td>\n",
       "      <td>1.0</td>\n",
       "      <td>None</td>\n",
       "      <td>...</td>\n",
       "      <td>4595950</td>\n",
       "      <td>4595950</td>\n",
       "      <td>Procedures</td>\n",
       "      <td>Task</td>\n",
       "      <td>65.0</td>\n",
       "      <td>0</td>\n",
       "      <td>0</td>\n",
       "      <td>FinishedRunning</td>\n",
       "      <td>1.0</td>\n",
       "      <td>0.0</td>\n",
       "    </tr>\n",
       "    <tr>\n",
       "      <th>4</th>\n",
       "      <td>10001884</td>\n",
       "      <td>26184834</td>\n",
       "      <td>37510196</td>\n",
       "      <td>36518.0</td>\n",
       "      <td>2131-01-13 16:14:00</td>\n",
       "      <td>2131-01-13 16:15:00</td>\n",
       "      <td>2131-01-13 16:14:00</td>\n",
       "      <td>225454</td>\n",
       "      <td>1.0</td>\n",
       "      <td>None</td>\n",
       "      <td>...</td>\n",
       "      <td>5410081</td>\n",
       "      <td>5410081</td>\n",
       "      <td>Procedures</td>\n",
       "      <td>Task</td>\n",
       "      <td>65.0</td>\n",
       "      <td>0</td>\n",
       "      <td>0</td>\n",
       "      <td>FinishedRunning</td>\n",
       "      <td>1.0</td>\n",
       "      <td>0.0</td>\n",
       "    </tr>\n",
       "  </tbody>\n",
       "</table>\n",
       "<p>5 rows × 22 columns</p>\n",
       "</div>"
      ],
      "text/plain": [
       "   subject_id   hadm_id   stay_id  caregiver_id           starttime  \\\n",
       "0    10001884  26184834  37510196       31763.0 2131-01-12 21:30:00   \n",
       "1    10001884  26184834  37510196       35966.0 2131-01-12 17:40:00   \n",
       "2    10001884  26184834  37510196       36121.0 2131-01-19 18:44:00   \n",
       "3    10001884  26184834  37510196       36518.0 2131-01-13 16:14:00   \n",
       "4    10001884  26184834  37510196       36518.0 2131-01-13 16:14:00   \n",
       "\n",
       "              endtime           storetime  itemid  value valueuom  ...  \\\n",
       "0 2131-01-13 04:00:00 2131-01-15 04:07:00  225794  390.0      min  ...   \n",
       "1 2131-01-12 17:41:00 2131-01-12 17:50:00  227194    1.0     None  ...   \n",
       "2 2131-01-19 18:45:00 2131-01-19 18:44:00  228128    1.0     None  ...   \n",
       "3 2131-01-13 16:15:00 2131-01-13 16:14:00  225401    1.0     None  ...   \n",
       "4 2131-01-13 16:15:00 2131-01-13 16:14:00  225454    1.0     None  ...   \n",
       "\n",
       "   orderid linkorderid      ordercategoryname  ordercategorydescription  \\\n",
       "0  4809276     4809276            Ventilation         ContinuousProcess   \n",
       "1  6470885     6470885  Intubation/Extubation                      Task   \n",
       "2  9459863     9459863          Communication                      Task   \n",
       "3  4595950     4595950             Procedures                      Task   \n",
       "4  5410081     5410081             Procedures                      Task   \n",
       "\n",
       "  patientweight isopenbag  continueinnextdept  statusdescription  \\\n",
       "0          65.0         1                   0    FinishedRunning   \n",
       "1          65.0         0                   0    FinishedRunning   \n",
       "2          65.0         0                   0    FinishedRunning   \n",
       "3          65.0         0                   0    FinishedRunning   \n",
       "4          65.0         0                   0    FinishedRunning   \n",
       "\n",
       "   originalamount originalrate  \n",
       "0           390.0          1.0  \n",
       "1             1.0          0.0  \n",
       "2             1.0          0.0  \n",
       "3             1.0          0.0  \n",
       "4             1.0          0.0  \n",
       "\n",
       "[5 rows x 22 columns]"
      ]
     },
     "execution_count": 140,
     "metadata": {},
     "output_type": "execute_result"
    }
   ],
   "source": [
    "connection = connect_to_postgres(DB_NAME, USERNAME, PASSWORD, HOST, PORT)\n",
    "procedureevents_df = load_table(connection, 'mimiciv_icu.filtered_procedureevents')\n",
    "print(procedureevents_df.shape)\n",
    "procedureevents_df.head()"
   ]
  },
  {
   "cell_type": "code",
   "execution_count": 141,
   "id": "27d8ace7-f7e9-4148-8242-315408c0a93c",
   "metadata": {},
   "outputs": [
    {
     "data": {
      "text/plain": [
       "location\n",
       "Right IJ                 635\n",
       "Right Antecubital        586\n",
       "Left Antecubital         563\n",
       "Right Radial             509\n",
       "Left Radial              465\n",
       "                        ... \n",
       "L Hand Lateral             2\n",
       "LU Ant Forearm             2\n",
       "Right Foot                 1\n",
       "Ostomy                     1\n",
       "LU Ant Forearm Medial      1\n",
       "Name: count, Length: 94, dtype: int64"
      ]
     },
     "execution_count": 141,
     "metadata": {},
     "output_type": "execute_result"
    }
   ],
   "source": [
    "procedureevents_df['location'].value_counts()"
   ]
  },
  {
   "cell_type": "code",
   "execution_count": 142,
   "id": "ae3c6a00-c891-44c5-a9bd-12f16f1e3e7e",
   "metadata": {},
   "outputs": [
    {
     "data": {
      "text/plain": [
       "locationcategory\n",
       "Peripheral             4357\n",
       "Invasive Venous        1285\n",
       "Invasive Arterial      1157\n",
       "Peripheral - old        523\n",
       "Catheter, GU            146\n",
       "Dialysis                 86\n",
       "ICP Line                 16\n",
       "Intraosseous             15\n",
       "Peritoneal Dialysis      11\n",
       "Name: count, dtype: int64"
      ]
     },
     "execution_count": 142,
     "metadata": {},
     "output_type": "execute_result"
    }
   ],
   "source": [
    "procedureevents_df['locationcategory'].value_counts()"
   ]
  },
  {
   "cell_type": "code",
   "execution_count": 143,
   "id": "e0dcceef-0d5d-4453-bb69-56456ef71b8e",
   "metadata": {},
   "outputs": [
    {
     "data": {
      "text/plain": [
       "ordercategorydescription\n",
       "ContinuousProcess    19675\n",
       "Task                 17761\n",
       "Name: count, dtype: int64"
      ]
     },
     "execution_count": 143,
     "metadata": {},
     "output_type": "execute_result"
    }
   ],
   "source": [
    "procedureevents_df['ordercategorydescription'].value_counts()"
   ]
  },
  {
   "cell_type": "code",
   "execution_count": 144,
   "id": "f9a0698e-8aef-4240-b07a-3cd09183d2a7",
   "metadata": {},
   "outputs": [],
   "source": [
    "cols_to_drop = [\n",
    "    'caregiver_id',\n",
    "    # when the event was stored in the system\n",
    "    'storetime',\n",
    "    # use location category instead\n",
    "    'location',\n",
    "    'isopenbag',\n",
    "    # from the docs - \"These fields are present in the table and never null, but have no clear meaning.\"\n",
    "    'originalamount',\n",
    "    'originalrate'\n",
    "]\n",
    "procedureevents_df = procedureevents_df.drop(columns=cols_to_drop)"
   ]
  },
  {
   "cell_type": "code",
   "execution_count": 145,
   "id": "3c36fdf4-4fa6-4bbe-ba42-16ae0ee4f459",
   "metadata": {},
   "outputs": [
    {
     "data": {
      "text/plain": [
       "subject_id                      0\n",
       "hadm_id                         0\n",
       "stay_id                         0\n",
       "starttime                       0\n",
       "endtime                         0\n",
       "itemid                          0\n",
       "value                           0\n",
       "valueuom                        0\n",
       "locationcategory            29840\n",
       "orderid                         0\n",
       "linkorderid                     0\n",
       "ordercategoryname               0\n",
       "ordercategorydescription        0\n",
       "patientweight                   0\n",
       "continueinnextdept              0\n",
       "statusdescription               0\n",
       "dtype: int64"
      ]
     },
     "execution_count": 145,
     "metadata": {},
     "output_type": "execute_result"
    }
   ],
   "source": [
    "procedureevents_df.isna().sum()"
   ]
  },
  {
   "cell_type": "code",
   "execution_count": 146,
   "id": "f073f4f4-ccb5-43bb-82ba-fcfc76977dfc",
   "metadata": {},
   "outputs": [],
   "source": [
    "procedureevents_df['locationcategory'] = procedureevents_df['locationcategory'].fillna('Unknown')"
   ]
  },
  {
   "cell_type": "code",
   "execution_count": 147,
   "id": "1e4ffb4f-f83b-4b98-a53e-fa04e5cd0951",
   "metadata": {},
   "outputs": [
    {
     "data": {
      "text/plain": [
       "143"
      ]
     },
     "execution_count": 147,
     "metadata": {},
     "output_type": "execute_result"
    }
   ],
   "source": [
    "procedureevents_df['itemid'].nunique()"
   ]
  },
  {
   "cell_type": "code",
   "execution_count": 148,
   "id": "4e99b9b2-2888-4acc-972f-7123994419e4",
   "metadata": {},
   "outputs": [
    {
     "name": "stdout",
     "output_type": "stream",
     "text": [
      "DataFrame has been saved as dataframes/icu_procedureevents.csv\n"
     ]
    }
   ],
   "source": [
    "save_df_as_csv(procedureevents_df, 'icu_procedureevents.csv')"
   ]
  },
  {
   "cell_type": "markdown",
   "id": "83a564d5-2bb4-4935-b339-8d07cf011513",
   "metadata": {},
   "source": [
    "We are working with 143 different procedures, which isn't terrible to start out with. Unfortunately they are not mapped to ICD-9 or ICD-10 but use an itemid instead... Keep as-is for now and see if it causes an issue down the line?"
   ]
  },
  {
   "cell_type": "markdown",
   "id": "daed5e4f-d960-4359-a18c-fbaf6782f32e",
   "metadata": {},
   "source": [
    "# ED Pre-processing"
   ]
  },
  {
   "cell_type": "markdown",
   "id": "b828c722-ceb8-449d-a995-8520f6ba77fd",
   "metadata": {},
   "source": [
    "## Relevant tables to start with\n",
    "- diagnosis\n",
    "- edstays (minus demographic fields -- already captured)\n",
    "- medrecon - will probably filter on ndc\n",
    "- pyxis\n",
    "- triage\n",
    "- vitalsign"
   ]
  },
  {
   "cell_type": "markdown",
   "id": "ea1d9432-b693-40bf-947e-c4459346bbd3",
   "metadata": {},
   "source": [
    "### diagnosis"
   ]
  },
  {
   "cell_type": "code",
   "execution_count": 149,
   "id": "042275b5-ef7c-47b5-ad67-8050a2deaaa3",
   "metadata": {},
   "outputs": [
    {
     "name": "stdout",
     "output_type": "stream",
     "text": [
      "Connected to db: smcdougall\n",
      "(91603, 6)\n"
     ]
    },
    {
     "data": {
      "text/html": [
       "<div>\n",
       "<style scoped>\n",
       "    .dataframe tbody tr th:only-of-type {\n",
       "        vertical-align: middle;\n",
       "    }\n",
       "\n",
       "    .dataframe tbody tr th {\n",
       "        vertical-align: top;\n",
       "    }\n",
       "\n",
       "    .dataframe thead th {\n",
       "        text-align: right;\n",
       "    }\n",
       "</style>\n",
       "<table border=\"1\" class=\"dataframe\">\n",
       "  <thead>\n",
       "    <tr style=\"text-align: right;\">\n",
       "      <th></th>\n",
       "      <th>subject_id</th>\n",
       "      <th>stay_id</th>\n",
       "      <th>seq_num</th>\n",
       "      <th>icd_code</th>\n",
       "      <th>icd_version</th>\n",
       "      <th>icd_title</th>\n",
       "    </tr>\n",
       "  </thead>\n",
       "  <tbody>\n",
       "    <tr>\n",
       "      <th>0</th>\n",
       "      <td>10001884</td>\n",
       "      <td>31306678</td>\n",
       "      <td>1</td>\n",
       "      <td>J45901</td>\n",
       "      <td>10</td>\n",
       "      <td>Unspecified asthma with (acute) exacerbation</td>\n",
       "    </tr>\n",
       "    <tr>\n",
       "      <th>1</th>\n",
       "      <td>10001884</td>\n",
       "      <td>31742950</td>\n",
       "      <td>1</td>\n",
       "      <td>J441</td>\n",
       "      <td>10</td>\n",
       "      <td>Chronic obstructive pulmonary disease w (acute...</td>\n",
       "    </tr>\n",
       "    <tr>\n",
       "      <th>2</th>\n",
       "      <td>10001884</td>\n",
       "      <td>33281437</td>\n",
       "      <td>1</td>\n",
       "      <td>78650</td>\n",
       "      <td>9</td>\n",
       "      <td>CHEST PAIN NOS</td>\n",
       "    </tr>\n",
       "    <tr>\n",
       "      <th>3</th>\n",
       "      <td>10001884</td>\n",
       "      <td>33281437</td>\n",
       "      <td>2</td>\n",
       "      <td>4019</td>\n",
       "      <td>9</td>\n",
       "      <td>HYPERTENSION NOS</td>\n",
       "    </tr>\n",
       "    <tr>\n",
       "      <th>4</th>\n",
       "      <td>10001884</td>\n",
       "      <td>33281437</td>\n",
       "      <td>3</td>\n",
       "      <td>49390</td>\n",
       "      <td>9</td>\n",
       "      <td>ASTHMA, UNSPECIFIED</td>\n",
       "    </tr>\n",
       "  </tbody>\n",
       "</table>\n",
       "</div>"
      ],
      "text/plain": [
       "   subject_id   stay_id  seq_num icd_code  icd_version  \\\n",
       "0    10001884  31306678        1   J45901           10   \n",
       "1    10001884  31742950        1     J441           10   \n",
       "2    10001884  33281437        1    78650            9   \n",
       "3    10001884  33281437        2     4019            9   \n",
       "4    10001884  33281437        3    49390            9   \n",
       "\n",
       "                                           icd_title  \n",
       "0       Unspecified asthma with (acute) exacerbation  \n",
       "1  Chronic obstructive pulmonary disease w (acute...  \n",
       "2                                     CHEST PAIN NOS  \n",
       "3                                   HYPERTENSION NOS  \n",
       "4                                ASTHMA, UNSPECIFIED  "
      ]
     },
     "execution_count": 149,
     "metadata": {},
     "output_type": "execute_result"
    }
   ],
   "source": [
    "connection = connect_to_postgres(DB_NAME, USERNAME, PASSWORD, HOST, PORT)\n",
    "ed_diagnosis_df = load_table(connection, 'mimiciv_ed.filtered_diagnosis')\n",
    "print(ed_diagnosis_df.shape)\n",
    "ed_diagnosis_df.head()"
   ]
  },
  {
   "cell_type": "code",
   "execution_count": 150,
   "id": "0021fda4-9a6e-4956-98c9-6ea1b1e5e603",
   "metadata": {},
   "outputs": [
    {
     "data": {
      "text/plain": [
       "4818"
      ]
     },
     "execution_count": 150,
     "metadata": {},
     "output_type": "execute_result"
    }
   ],
   "source": [
    "ed_diagnosis_df['icd_code'].nunique()"
   ]
  },
  {
   "cell_type": "code",
   "execution_count": 151,
   "id": "e47480cf-0e32-4657-b5d1-fde3424cdb46",
   "metadata": {},
   "outputs": [],
   "source": [
    "PREG_ICD9_PREFIXES = ['V22', 'V23', 'V24', 'V27', 'V28', '63', '64', '65', '66', '67', '7651', '7650']\n",
    "PREG_ICD10_PREFIXES = ['Z33', 'Z34', 'Z3A', 'O0', 'O1', 'O2', 'O3', 'O4', 'O5', 'O6', 'O7', 'O8', 'O9']\n",
    "\n",
    "def does_not_start_with_prefixes(string, prefixes):\n",
    "    for prefix in prefixes:\n",
    "        if string.startswith(prefix):\n",
    "            return False\n",
    "    return True\n",
    "\n",
    "mapping_file = 'ICD9_to_ICD10_mapping.txt'\n",
    "\n",
    "### NOTE: The following functions come from https://github.com/healthylaife/MIMIC-IV-Data-Pipeline ###\n",
    "def read_icd_mapping(map_path: str) -> pd.DataFrame:\n",
    "    \"\"\"Reads in mapping table for converting ICD9 to ICD10 codes\"\"\"\n",
    "\n",
    "    mapping = pd.read_csv(map_path, header=0, delimiter=\"\\t\")\n",
    "    mapping.diagnosis_description = mapping.diagnosis_description.apply(str.lower)\n",
    "    return mapping\n",
    "\n",
    "def standardize_icd(\n",
    "    mapping: pd.DataFrame, diag: pd.DataFrame, map_code_col=\"diagnosis_code\", root=True\n",
    ") -> str:\n",
    "    \"\"\"Takes an ICD9 -> ICD10 mapping table and a diagnosis dataframe;\n",
    "    adds column with converted ICD10 column\"\"\"\n",
    "\n",
    "    count = 0\n",
    "    code_cols = mapping.columns\n",
    "    errors = []\n",
    "\n",
    "    def icd_9to10(icd):\n",
    "        \"\"\"Function use to apply over the diag DataFrame for ICD9->ICD10 conversion\"\"\"\n",
    "        # If root is true, only map an ICD 9 -> 10 according to the\n",
    "        # ICD9's root (first 3 digits)\n",
    "\n",
    "        # NOTE - modified from the original code\n",
    "        # if root AND not a pregnancy-related code\n",
    "        if root and does_not_start_with_prefixes(icd, PREG_ICD9_PREFIXES):\n",
    "            icd = icd[:3]\n",
    "\n",
    "        if map_code_col not in code_cols:\n",
    "            errors.append(f\"ICD NOT FOUND: {icd}\")\n",
    "            return np.nan\n",
    "\n",
    "        matches = mapping.loc[mapping[map_code_col] == icd]\n",
    "        if matches.shape[0] == 0:\n",
    "            errors.append(f\"ICD NOT FOUND: {icd}\")\n",
    "            return np.nan\n",
    "\n",
    "        return mapping.loc[mapping[map_code_col] == icd].icd10cm.iloc[0]\n",
    "\n",
    "    # Create new column with original codes as default\n",
    "    col_name = \"root_icd10_convert\"\n",
    "    diag[col_name] = diag[\"icd_code\"].values\n",
    "\n",
    "    # Group identical ICD9 codes, then convert all ICD9 codes within\n",
    "    # a group to ICD10\n",
    "    for code, group in diag.loc[diag.icd_version == 9].groupby(by=\"icd_code\"):\n",
    "        new_code = icd_9to10(code)\n",
    "        for idx in group.index.values:\n",
    "            # Modify values of original df at the indexes in the groups\n",
    "            diag.at[idx, col_name] = new_code\n",
    "\n",
    "        count += group.shape[0]\n",
    "        #print(f\"{count}/{diag.shape[0]} rows processed\")\n",
    "\n",
    "    # Column for just the roots of the converted ICD10 column\n",
    "    diag[\"root\"] = diag[col_name].apply(lambda x: x[:3] if type(x) is str and does_not_start_with_prefixes(x, PREG_ICD10_PREFIXES)\n",
    "                                        else x if type(x)\n",
    "                                        else np.nan)\n",
    "\n",
    "###\n",
    "###\n",
    "### TODO: may need to edit this to just work with existing diagnosis df that I have\n",
    "def preproc_icd_module(h_ids,\n",
    "    module_path: str, ICD10_code: str, icd_map_path: str\n",
    ") -> tuple:\n",
    "    \"\"\"Takes an module dataset with ICD codes and puts it in long_format,\n",
    "    mapping ICD-codes by a mapping table path\"\"\"\n",
    "\n",
    "    diag = get_diagnosis_icd(module_path)\n",
    "    icd_map = read_icd_mapping(icd_map_path)\n",
    "\n",
    "    standardize_icd(icd_map, diag, root=True)\n",
    "\n",
    "    # patient ids that have at least 1 record of the given ICD10 code category\n",
    "    diag.dropna(subset=[\"root\"], inplace=True)\n",
    "    pos_ids = pd.DataFrame(\n",
    "        diag.loc[diag.root.str.contains(ICD10_code)].hadm_id.unique(),\n",
    "        columns=[\"hadm_id\"]\n",
    "    )\n",
    "    return pos_ids"
   ]
  },
  {
   "cell_type": "code",
   "execution_count": 152,
   "id": "4d52d3ca-ca1d-4870-a810-99f0f6bef1f2",
   "metadata": {
    "scrolled": true
   },
   "outputs": [
    {
     "data": {
      "text/html": [
       "<div>\n",
       "<style scoped>\n",
       "    .dataframe tbody tr th:only-of-type {\n",
       "        vertical-align: middle;\n",
       "    }\n",
       "\n",
       "    .dataframe tbody tr th {\n",
       "        vertical-align: top;\n",
       "    }\n",
       "\n",
       "    .dataframe thead th {\n",
       "        text-align: right;\n",
       "    }\n",
       "</style>\n",
       "<table border=\"1\" class=\"dataframe\">\n",
       "  <thead>\n",
       "    <tr style=\"text-align: right;\">\n",
       "      <th></th>\n",
       "      <th>diagnosis_type</th>\n",
       "      <th>diagnosis_code</th>\n",
       "      <th>diagnosis_description</th>\n",
       "      <th>icd9cm</th>\n",
       "      <th>icd10cm</th>\n",
       "      <th>flags</th>\n",
       "    </tr>\n",
       "  </thead>\n",
       "  <tbody>\n",
       "    <tr>\n",
       "      <th>0</th>\n",
       "      <td>ICD9</td>\n",
       "      <td>996.76</td>\n",
       "      <td>other complications due to genitourinary devic...</td>\n",
       "      <td>99676</td>\n",
       "      <td>T8384XA</td>\n",
       "      <td>10000</td>\n",
       "    </tr>\n",
       "    <tr>\n",
       "      <th>1</th>\n",
       "      <td>ICD9</td>\n",
       "      <td>V54.12</td>\n",
       "      <td>aftercare for healing traumatic fracture of lo...</td>\n",
       "      <td>V5412</td>\n",
       "      <td>S52602D</td>\n",
       "      <td>10000</td>\n",
       "    </tr>\n",
       "    <tr>\n",
       "      <th>2</th>\n",
       "      <td>ICD9</td>\n",
       "      <td>730.06</td>\n",
       "      <td>acute osteomyelitis involving lower leg</td>\n",
       "      <td>73006</td>\n",
       "      <td>M86169</td>\n",
       "      <td>10000</td>\n",
       "    </tr>\n",
       "    <tr>\n",
       "      <th>3</th>\n",
       "      <td>ICD9</td>\n",
       "      <td>345.61</td>\n",
       "      <td>infantile spasms, with intractable epilepsy</td>\n",
       "      <td>34561</td>\n",
       "      <td>G40824</td>\n",
       "      <td>10000</td>\n",
       "    </tr>\n",
       "    <tr>\n",
       "      <th>4</th>\n",
       "      <td>ICD9</td>\n",
       "      <td>989.5</td>\n",
       "      <td>toxic effect of venom</td>\n",
       "      <td>9895</td>\n",
       "      <td>T63421A</td>\n",
       "      <td>10000</td>\n",
       "    </tr>\n",
       "  </tbody>\n",
       "</table>\n",
       "</div>"
      ],
      "text/plain": [
       "  diagnosis_type diagnosis_code  \\\n",
       "0           ICD9         996.76   \n",
       "1           ICD9         V54.12   \n",
       "2           ICD9         730.06   \n",
       "3           ICD9         345.61   \n",
       "4           ICD9          989.5   \n",
       "\n",
       "                               diagnosis_description icd9cm  icd10cm  flags  \n",
       "0  other complications due to genitourinary devic...  99676  T8384XA  10000  \n",
       "1  aftercare for healing traumatic fracture of lo...  V5412  S52602D  10000  \n",
       "2            acute osteomyelitis involving lower leg  73006   M86169  10000  \n",
       "3        infantile spasms, with intractable epilepsy  34561   G40824  10000  \n",
       "4                              toxic effect of venom   9895  T63421A  10000  "
      ]
     },
     "execution_count": 152,
     "metadata": {},
     "output_type": "execute_result"
    }
   ],
   "source": [
    "icd_mapping = read_icd_mapping(mapping_file)\n",
    "icd_mapping.head()"
   ]
  },
  {
   "cell_type": "code",
   "execution_count": 153,
   "id": "3a972f19-06a0-47d0-bf6d-b2302406aa9c",
   "metadata": {},
   "outputs": [],
   "source": [
    "standardize_icd(icd_mapping, ed_diagnosis_df, root=True)\n",
    "\n",
    "# patient ids that have at least 1 record of the given ICD10 code category\n",
    "ed_diagnosis_df.dropna(subset=[\"root\"], inplace=True)"
   ]
  },
  {
   "cell_type": "code",
   "execution_count": 154,
   "id": "10973d37-ae66-4eb8-bf72-681f5f7915d9",
   "metadata": {},
   "outputs": [
    {
     "data": {
      "text/html": [
       "<div>\n",
       "<style scoped>\n",
       "    .dataframe tbody tr th:only-of-type {\n",
       "        vertical-align: middle;\n",
       "    }\n",
       "\n",
       "    .dataframe tbody tr th {\n",
       "        vertical-align: top;\n",
       "    }\n",
       "\n",
       "    .dataframe thead th {\n",
       "        text-align: right;\n",
       "    }\n",
       "</style>\n",
       "<table border=\"1\" class=\"dataframe\">\n",
       "  <thead>\n",
       "    <tr style=\"text-align: right;\">\n",
       "      <th></th>\n",
       "      <th>subject_id</th>\n",
       "      <th>stay_id</th>\n",
       "      <th>seq_num</th>\n",
       "      <th>icd_code</th>\n",
       "      <th>icd_title</th>\n",
       "    </tr>\n",
       "  </thead>\n",
       "  <tbody>\n",
       "    <tr>\n",
       "      <th>0</th>\n",
       "      <td>10001884</td>\n",
       "      <td>31306678</td>\n",
       "      <td>1</td>\n",
       "      <td>J45</td>\n",
       "      <td>Unspecified asthma with (acute) exacerbation</td>\n",
       "    </tr>\n",
       "    <tr>\n",
       "      <th>1</th>\n",
       "      <td>10001884</td>\n",
       "      <td>31742950</td>\n",
       "      <td>1</td>\n",
       "      <td>J44</td>\n",
       "      <td>Chronic obstructive pulmonary disease w (acute...</td>\n",
       "    </tr>\n",
       "    <tr>\n",
       "      <th>2</th>\n",
       "      <td>10001884</td>\n",
       "      <td>33281437</td>\n",
       "      <td>1</td>\n",
       "      <td>R06</td>\n",
       "      <td>CHEST PAIN NOS</td>\n",
       "    </tr>\n",
       "    <tr>\n",
       "      <th>3</th>\n",
       "      <td>10001884</td>\n",
       "      <td>33281437</td>\n",
       "      <td>2</td>\n",
       "      <td>I10</td>\n",
       "      <td>HYPERTENSION NOS</td>\n",
       "    </tr>\n",
       "    <tr>\n",
       "      <th>4</th>\n",
       "      <td>10001884</td>\n",
       "      <td>33281437</td>\n",
       "      <td>3</td>\n",
       "      <td>J45</td>\n",
       "      <td>ASTHMA, UNSPECIFIED</td>\n",
       "    </tr>\n",
       "  </tbody>\n",
       "</table>\n",
       "</div>"
      ],
      "text/plain": [
       "   subject_id   stay_id  seq_num icd_code  \\\n",
       "0    10001884  31306678        1      J45   \n",
       "1    10001884  31742950        1      J44   \n",
       "2    10001884  33281437        1      R06   \n",
       "3    10001884  33281437        2      I10   \n",
       "4    10001884  33281437        3      J45   \n",
       "\n",
       "                                           icd_title  \n",
       "0       Unspecified asthma with (acute) exacerbation  \n",
       "1  Chronic obstructive pulmonary disease w (acute...  \n",
       "2                                     CHEST PAIN NOS  \n",
       "3                                   HYPERTENSION NOS  \n",
       "4                                ASTHMA, UNSPECIFIED  "
      ]
     },
     "execution_count": 154,
     "metadata": {},
     "output_type": "execute_result"
    }
   ],
   "source": [
    "ed_diagnosis_df = ed_diagnosis_df.assign(icd_code=ed_diagnosis_df['root']).drop(columns=['root_icd10_convert', 'root', 'icd_version'])\n",
    "ed_diagnosis_df.head()"
   ]
  },
  {
   "cell_type": "code",
   "execution_count": 155,
   "id": "28c52f28-1140-4b61-a39c-8bdefe547b3b",
   "metadata": {},
   "outputs": [
    {
     "data": {
      "text/plain": [
       "1193"
      ]
     },
     "execution_count": 155,
     "metadata": {},
     "output_type": "execute_result"
    }
   ],
   "source": [
    "ed_diagnosis_df['icd_code'].nunique()"
   ]
  },
  {
   "cell_type": "code",
   "execution_count": 156,
   "id": "cf580224-5cfc-4bf4-88f8-7eb91d4f4d3c",
   "metadata": {},
   "outputs": [
    {
     "data": {
      "text/plain": [
       "subject_id    0\n",
       "stay_id       0\n",
       "seq_num       0\n",
       "icd_code      0\n",
       "icd_title     0\n",
       "dtype: int64"
      ]
     },
     "execution_count": 156,
     "metadata": {},
     "output_type": "execute_result"
    }
   ],
   "source": [
    "ed_diagnosis_df.isna().sum()"
   ]
  },
  {
   "cell_type": "code",
   "execution_count": 157,
   "id": "a9be2ab4-d4bd-4cc1-b5ee-3a02a2e9ad59",
   "metadata": {},
   "outputs": [
    {
     "name": "stdout",
     "output_type": "stream",
     "text": [
      "DataFrame has been saved as dataframes/ed_diagnosis.csv\n"
     ]
    }
   ],
   "source": [
    "save_df_as_csv(ed_diagnosis_df, 'ed_diagnosis.csv')"
   ]
  },
  {
   "cell_type": "markdown",
   "id": "9fda2698-cea6-4e2a-b7b3-ee25ba7fd01e",
   "metadata": {},
   "source": [
    "### edstays"
   ]
  },
  {
   "cell_type": "code",
   "execution_count": 158,
   "id": "761dfe5f-1d77-4fd0-8d15-73387b058308",
   "metadata": {},
   "outputs": [
    {
     "name": "stdout",
     "output_type": "stream",
     "text": [
      "Connected to db: smcdougall\n",
      "(43198, 9)\n"
     ]
    },
    {
     "data": {
      "text/html": [
       "<div>\n",
       "<style scoped>\n",
       "    .dataframe tbody tr th:only-of-type {\n",
       "        vertical-align: middle;\n",
       "    }\n",
       "\n",
       "    .dataframe tbody tr th {\n",
       "        vertical-align: top;\n",
       "    }\n",
       "\n",
       "    .dataframe thead th {\n",
       "        text-align: right;\n",
       "    }\n",
       "</style>\n",
       "<table border=\"1\" class=\"dataframe\">\n",
       "  <thead>\n",
       "    <tr style=\"text-align: right;\">\n",
       "      <th></th>\n",
       "      <th>subject_id</th>\n",
       "      <th>hadm_id</th>\n",
       "      <th>stay_id</th>\n",
       "      <th>intime</th>\n",
       "      <th>outtime</th>\n",
       "      <th>gender</th>\n",
       "      <th>race</th>\n",
       "      <th>arrival_transport</th>\n",
       "      <th>disposition</th>\n",
       "    </tr>\n",
       "  </thead>\n",
       "  <tbody>\n",
       "    <tr>\n",
       "      <th>0</th>\n",
       "      <td>10001884</td>\n",
       "      <td>21192799.0</td>\n",
       "      <td>38708413</td>\n",
       "      <td>2130-10-05 11:58:00</td>\n",
       "      <td>2130-10-06 15:05:00</td>\n",
       "      <td>F</td>\n",
       "      <td>BLACK/AFRICAN AMERICAN</td>\n",
       "      <td>WALK IN</td>\n",
       "      <td>HOME</td>\n",
       "    </tr>\n",
       "    <tr>\n",
       "      <th>1</th>\n",
       "      <td>10001884</td>\n",
       "      <td>22532141.0</td>\n",
       "      <td>38021228</td>\n",
       "      <td>2130-10-13 21:00:00</td>\n",
       "      <td>2130-10-14 13:57:00</td>\n",
       "      <td>F</td>\n",
       "      <td>BLACK/AFRICAN AMERICAN</td>\n",
       "      <td>WALK IN</td>\n",
       "      <td>HOME</td>\n",
       "    </tr>\n",
       "    <tr>\n",
       "      <th>2</th>\n",
       "      <td>10001884</td>\n",
       "      <td>24325811.0</td>\n",
       "      <td>33281437</td>\n",
       "      <td>2126-11-03 19:15:00</td>\n",
       "      <td>2126-11-04 12:49:00</td>\n",
       "      <td>F</td>\n",
       "      <td>BLACK/AFRICAN AMERICAN</td>\n",
       "      <td>WALK IN</td>\n",
       "      <td>HOME</td>\n",
       "    </tr>\n",
       "    <tr>\n",
       "      <th>3</th>\n",
       "      <td>10001884</td>\n",
       "      <td>24746267.0</td>\n",
       "      <td>35329716</td>\n",
       "      <td>2130-12-27 15:48:00</td>\n",
       "      <td>2130-12-27 22:30:00</td>\n",
       "      <td>F</td>\n",
       "      <td>BLACK/AFRICAN AMERICAN</td>\n",
       "      <td>WALK IN</td>\n",
       "      <td>ADMITTED</td>\n",
       "    </tr>\n",
       "    <tr>\n",
       "      <th>4</th>\n",
       "      <td>10001884</td>\n",
       "      <td>24962904.0</td>\n",
       "      <td>31742950</td>\n",
       "      <td>2130-12-06 16:46:00</td>\n",
       "      <td>2130-12-06 22:05:00</td>\n",
       "      <td>F</td>\n",
       "      <td>BLACK/AFRICAN AMERICAN</td>\n",
       "      <td>WALK IN</td>\n",
       "      <td>ADMITTED</td>\n",
       "    </tr>\n",
       "  </tbody>\n",
       "</table>\n",
       "</div>"
      ],
      "text/plain": [
       "   subject_id     hadm_id   stay_id              intime             outtime  \\\n",
       "0    10001884  21192799.0  38708413 2130-10-05 11:58:00 2130-10-06 15:05:00   \n",
       "1    10001884  22532141.0  38021228 2130-10-13 21:00:00 2130-10-14 13:57:00   \n",
       "2    10001884  24325811.0  33281437 2126-11-03 19:15:00 2126-11-04 12:49:00   \n",
       "3    10001884  24746267.0  35329716 2130-12-27 15:48:00 2130-12-27 22:30:00   \n",
       "4    10001884  24962904.0  31742950 2130-12-06 16:46:00 2130-12-06 22:05:00   \n",
       "\n",
       "  gender                    race arrival_transport disposition  \n",
       "0      F  BLACK/AFRICAN AMERICAN           WALK IN        HOME  \n",
       "1      F  BLACK/AFRICAN AMERICAN           WALK IN        HOME  \n",
       "2      F  BLACK/AFRICAN AMERICAN           WALK IN        HOME  \n",
       "3      F  BLACK/AFRICAN AMERICAN           WALK IN    ADMITTED  \n",
       "4      F  BLACK/AFRICAN AMERICAN           WALK IN    ADMITTED  "
      ]
     },
     "execution_count": 158,
     "metadata": {},
     "output_type": "execute_result"
    }
   ],
   "source": [
    "connection = connect_to_postgres(DB_NAME, USERNAME, PASSWORD, HOST, PORT)\n",
    "edstays_df = load_table(connection, 'mimiciv_ed.filtered_edstays')\n",
    "print(edstays_df.shape)\n",
    "edstays_df.head()"
   ]
  },
  {
   "cell_type": "code",
   "execution_count": 159,
   "id": "0ecef220-d064-436e-a631-5f981b45ec92",
   "metadata": {},
   "outputs": [
    {
     "data": {
      "text/plain": [
       "subject_id               0\n",
       "hadm_id              22444\n",
       "stay_id                  0\n",
       "intime                   0\n",
       "outtime                  0\n",
       "gender                   0\n",
       "race                     0\n",
       "arrival_transport        0\n",
       "disposition              0\n",
       "dtype: int64"
      ]
     },
     "execution_count": 159,
     "metadata": {},
     "output_type": "execute_result"
    }
   ],
   "source": [
    "edstays_df.isna().sum()"
   ]
  },
  {
   "cell_type": "code",
   "execution_count": 160,
   "id": "c0d89d38-b09d-4804-8c8b-b0c63b8e4f9e",
   "metadata": {},
   "outputs": [
    {
     "data": {
      "text/html": [
       "<div>\n",
       "<style scoped>\n",
       "    .dataframe tbody tr th:only-of-type {\n",
       "        vertical-align: middle;\n",
       "    }\n",
       "\n",
       "    .dataframe tbody tr th {\n",
       "        vertical-align: top;\n",
       "    }\n",
       "\n",
       "    .dataframe thead th {\n",
       "        text-align: right;\n",
       "    }\n",
       "</style>\n",
       "<table border=\"1\" class=\"dataframe\">\n",
       "  <thead>\n",
       "    <tr style=\"text-align: right;\">\n",
       "      <th></th>\n",
       "      <th>subject_id</th>\n",
       "      <th>hadm_id</th>\n",
       "      <th>stay_id</th>\n",
       "      <th>intime</th>\n",
       "      <th>outtime</th>\n",
       "      <th>arrival_transport</th>\n",
       "      <th>disposition</th>\n",
       "    </tr>\n",
       "  </thead>\n",
       "  <tbody>\n",
       "    <tr>\n",
       "      <th>0</th>\n",
       "      <td>10001884</td>\n",
       "      <td>21192799.0</td>\n",
       "      <td>38708413</td>\n",
       "      <td>2130-10-05 11:58:00</td>\n",
       "      <td>2130-10-06 15:05:00</td>\n",
       "      <td>WALK IN</td>\n",
       "      <td>HOME</td>\n",
       "    </tr>\n",
       "    <tr>\n",
       "      <th>1</th>\n",
       "      <td>10001884</td>\n",
       "      <td>22532141.0</td>\n",
       "      <td>38021228</td>\n",
       "      <td>2130-10-13 21:00:00</td>\n",
       "      <td>2130-10-14 13:57:00</td>\n",
       "      <td>WALK IN</td>\n",
       "      <td>HOME</td>\n",
       "    </tr>\n",
       "    <tr>\n",
       "      <th>2</th>\n",
       "      <td>10001884</td>\n",
       "      <td>24325811.0</td>\n",
       "      <td>33281437</td>\n",
       "      <td>2126-11-03 19:15:00</td>\n",
       "      <td>2126-11-04 12:49:00</td>\n",
       "      <td>WALK IN</td>\n",
       "      <td>HOME</td>\n",
       "    </tr>\n",
       "    <tr>\n",
       "      <th>3</th>\n",
       "      <td>10001884</td>\n",
       "      <td>24746267.0</td>\n",
       "      <td>35329716</td>\n",
       "      <td>2130-12-27 15:48:00</td>\n",
       "      <td>2130-12-27 22:30:00</td>\n",
       "      <td>WALK IN</td>\n",
       "      <td>ADMITTED</td>\n",
       "    </tr>\n",
       "    <tr>\n",
       "      <th>4</th>\n",
       "      <td>10001884</td>\n",
       "      <td>24962904.0</td>\n",
       "      <td>31742950</td>\n",
       "      <td>2130-12-06 16:46:00</td>\n",
       "      <td>2130-12-06 22:05:00</td>\n",
       "      <td>WALK IN</td>\n",
       "      <td>ADMITTED</td>\n",
       "    </tr>\n",
       "  </tbody>\n",
       "</table>\n",
       "</div>"
      ],
      "text/plain": [
       "   subject_id     hadm_id   stay_id              intime             outtime  \\\n",
       "0    10001884  21192799.0  38708413 2130-10-05 11:58:00 2130-10-06 15:05:00   \n",
       "1    10001884  22532141.0  38021228 2130-10-13 21:00:00 2130-10-14 13:57:00   \n",
       "2    10001884  24325811.0  33281437 2126-11-03 19:15:00 2126-11-04 12:49:00   \n",
       "3    10001884  24746267.0  35329716 2130-12-27 15:48:00 2130-12-27 22:30:00   \n",
       "4    10001884  24962904.0  31742950 2130-12-06 16:46:00 2130-12-06 22:05:00   \n",
       "\n",
       "  arrival_transport disposition  \n",
       "0           WALK IN        HOME  \n",
       "1           WALK IN        HOME  \n",
       "2           WALK IN        HOME  \n",
       "3           WALK IN    ADMITTED  \n",
       "4           WALK IN    ADMITTED  "
      ]
     },
     "execution_count": 160,
     "metadata": {},
     "output_type": "execute_result"
    }
   ],
   "source": [
    "# remove gender and race since we used it for patient demographics pre-processing previously\n",
    "edstays_df = edstays_df.drop(columns=['gender', 'race'])\n",
    "edstays_df.head()"
   ]
  },
  {
   "cell_type": "markdown",
   "id": "39c6dabc-0e50-4afe-aa36-4ad193a11e34",
   "metadata": {},
   "source": [
    "#### Arrival transport\n",
    "- Possible values: WALKIN, AMBULANCE, UNKNOWN, OTHER, HELICOPTER\n",
    "- in order to simplify this for the machine learning model, we can have this field be indicative of the level of urgency for the ED arrival. We can combine AMBULANCE and HELICOPTER, versus the other values\n",
    "- Do a transformation on this column"
   ]
  },
  {
   "cell_type": "code",
   "execution_count": 161,
   "id": "0f0bbf1f-583d-4d2a-a36f-4490a456b841",
   "metadata": {},
   "outputs": [
    {
     "data": {
      "text/html": [
       "<div>\n",
       "<style scoped>\n",
       "    .dataframe tbody tr th:only-of-type {\n",
       "        vertical-align: middle;\n",
       "    }\n",
       "\n",
       "    .dataframe tbody tr th {\n",
       "        vertical-align: top;\n",
       "    }\n",
       "\n",
       "    .dataframe thead th {\n",
       "        text-align: right;\n",
       "    }\n",
       "</style>\n",
       "<table border=\"1\" class=\"dataframe\">\n",
       "  <thead>\n",
       "    <tr style=\"text-align: right;\">\n",
       "      <th></th>\n",
       "      <th>subject_id</th>\n",
       "      <th>hadm_id</th>\n",
       "      <th>stay_id</th>\n",
       "      <th>intime</th>\n",
       "      <th>outtime</th>\n",
       "      <th>disposition</th>\n",
       "      <th>arrived_by_urgent_transport</th>\n",
       "    </tr>\n",
       "  </thead>\n",
       "  <tbody>\n",
       "    <tr>\n",
       "      <th>0</th>\n",
       "      <td>10001884</td>\n",
       "      <td>21192799.0</td>\n",
       "      <td>38708413</td>\n",
       "      <td>2130-10-05 11:58:00</td>\n",
       "      <td>2130-10-06 15:05:00</td>\n",
       "      <td>HOME</td>\n",
       "      <td>0</td>\n",
       "    </tr>\n",
       "    <tr>\n",
       "      <th>1</th>\n",
       "      <td>10001884</td>\n",
       "      <td>22532141.0</td>\n",
       "      <td>38021228</td>\n",
       "      <td>2130-10-13 21:00:00</td>\n",
       "      <td>2130-10-14 13:57:00</td>\n",
       "      <td>HOME</td>\n",
       "      <td>0</td>\n",
       "    </tr>\n",
       "    <tr>\n",
       "      <th>2</th>\n",
       "      <td>10001884</td>\n",
       "      <td>24325811.0</td>\n",
       "      <td>33281437</td>\n",
       "      <td>2126-11-03 19:15:00</td>\n",
       "      <td>2126-11-04 12:49:00</td>\n",
       "      <td>HOME</td>\n",
       "      <td>0</td>\n",
       "    </tr>\n",
       "    <tr>\n",
       "      <th>3</th>\n",
       "      <td>10001884</td>\n",
       "      <td>24746267.0</td>\n",
       "      <td>35329716</td>\n",
       "      <td>2130-12-27 15:48:00</td>\n",
       "      <td>2130-12-27 22:30:00</td>\n",
       "      <td>ADMITTED</td>\n",
       "      <td>0</td>\n",
       "    </tr>\n",
       "    <tr>\n",
       "      <th>4</th>\n",
       "      <td>10001884</td>\n",
       "      <td>24962904.0</td>\n",
       "      <td>31742950</td>\n",
       "      <td>2130-12-06 16:46:00</td>\n",
       "      <td>2130-12-06 22:05:00</td>\n",
       "      <td>ADMITTED</td>\n",
       "      <td>0</td>\n",
       "    </tr>\n",
       "  </tbody>\n",
       "</table>\n",
       "</div>"
      ],
      "text/plain": [
       "   subject_id     hadm_id   stay_id              intime             outtime  \\\n",
       "0    10001884  21192799.0  38708413 2130-10-05 11:58:00 2130-10-06 15:05:00   \n",
       "1    10001884  22532141.0  38021228 2130-10-13 21:00:00 2130-10-14 13:57:00   \n",
       "2    10001884  24325811.0  33281437 2126-11-03 19:15:00 2126-11-04 12:49:00   \n",
       "3    10001884  24746267.0  35329716 2130-12-27 15:48:00 2130-12-27 22:30:00   \n",
       "4    10001884  24962904.0  31742950 2130-12-06 16:46:00 2130-12-06 22:05:00   \n",
       "\n",
       "  disposition  arrived_by_urgent_transport  \n",
       "0        HOME                            0  \n",
       "1        HOME                            0  \n",
       "2        HOME                            0  \n",
       "3    ADMITTED                            0  \n",
       "4    ADMITTED                            0  "
      ]
     },
     "execution_count": 161,
     "metadata": {},
     "output_type": "execute_result"
    }
   ],
   "source": [
    "urgent_transport_values = ['AMBULANCE', 'HELICOPTER']\n",
    "edstays_df['arrived_by_urgent_transport'] = edstays_df['arrival_transport'].apply(lambda x: 1 if x.lower() in urgent_transport_values else 0)\n",
    "edstays_df.drop(columns=['arrival_transport'], inplace=True)\n",
    "edstays_df.head()"
   ]
  },
  {
   "cell_type": "markdown",
   "id": "e16e55c6-9922-4971-a844-36700c899b80",
   "metadata": {},
   "source": [
    "#### Disposition\n",
    "- Possible values: HOME, ADMITTED, TRANSFER, LEFT WITHOUT BEING SEEN, OTHER, LEFT AGAINST MEDICAL ADVICE, ELOPED, EXPIRED\n",
    "- eloped == patient leaves prematurely (so, similar to leaving against medical advice)\n",
    "- To start, we can consolidate some of the categories in regard to leaving -- and I wonder if eventually we should just filter those out to begin with..."
   ]
  },
  {
   "cell_type": "code",
   "execution_count": 162,
   "id": "92ab0fb1-92ac-441e-a7a4-7c4a2473f17f",
   "metadata": {},
   "outputs": [
    {
     "data": {
      "text/plain": [
       "disposition\n",
       "HOME        22690\n",
       "ADMITTED    17506\n",
       "TRANSFER     1323\n",
       "LEFT         1224\n",
       "OTHER         438\n",
       "EXPIRED        17\n",
       "Name: count, dtype: int64"
      ]
     },
     "execution_count": 162,
     "metadata": {},
     "output_type": "execute_result"
    }
   ],
   "source": [
    "disposition_mapping = {\n",
    "    'HOME': 'HOME',\n",
    "    'ADMITTED': 'ADMITTED',\n",
    "    'TRANSFER': 'TRANSFER',\n",
    "    'LEFT WITHOUT BEING SEEN': 'LEFT',\n",
    "    'OTHER': 'OTHER',\n",
    "    'LEFT AGAINST MEDICAL ADVICE': 'LEFT',\n",
    "    'ELOPED': 'LEFT',\n",
    "    'EXPIRED': 'EXPIRED'\n",
    "}\n",
    "\n",
    "# Apply the mapping to create a new column\n",
    "edstays_df['disposition'] = edstays_df['disposition'].map(disposition_mapping)\n",
    "edstays_df['disposition'].value_counts()"
   ]
  },
  {
   "cell_type": "code",
   "execution_count": 163,
   "id": "6db02cfd-3eab-4774-b7da-686ef0e77f9c",
   "metadata": {},
   "outputs": [
    {
     "name": "stdout",
     "output_type": "stream",
     "text": [
      "DataFrame has been saved as dataframes/ed_edstays.csv\n"
     ]
    }
   ],
   "source": [
    "save_df_as_csv(edstays_df, 'ed_edstays.csv')"
   ]
  },
  {
   "cell_type": "markdown",
   "id": "5a1525c8-fe7f-4539-bec7-d9f787e11d09",
   "metadata": {},
   "source": [
    "### medrecon"
   ]
  },
  {
   "cell_type": "code",
   "execution_count": 164,
   "id": "bf0f8abf-ff36-4006-8e1f-717283cdb2ab",
   "metadata": {},
   "outputs": [
    {
     "name": "stdout",
     "output_type": "stream",
     "text": [
      "Connected to db: smcdougall\n",
      "(391033, 9)\n"
     ]
    },
    {
     "data": {
      "text/html": [
       "<div>\n",
       "<style scoped>\n",
       "    .dataframe tbody tr th:only-of-type {\n",
       "        vertical-align: middle;\n",
       "    }\n",
       "\n",
       "    .dataframe tbody tr th {\n",
       "        vertical-align: top;\n",
       "    }\n",
       "\n",
       "    .dataframe thead th {\n",
       "        text-align: right;\n",
       "    }\n",
       "</style>\n",
       "<table border=\"1\" class=\"dataframe\">\n",
       "  <thead>\n",
       "    <tr style=\"text-align: right;\">\n",
       "      <th></th>\n",
       "      <th>subject_id</th>\n",
       "      <th>stay_id</th>\n",
       "      <th>charttime</th>\n",
       "      <th>name</th>\n",
       "      <th>gsn</th>\n",
       "      <th>ndc</th>\n",
       "      <th>etc_rn</th>\n",
       "      <th>etccode</th>\n",
       "      <th>etcdescription</th>\n",
       "    </tr>\n",
       "  </thead>\n",
       "  <tbody>\n",
       "    <tr>\n",
       "      <th>0</th>\n",
       "      <td>10001884</td>\n",
       "      <td>31306678</td>\n",
       "      <td>2130-10-19 14:38:00</td>\n",
       "      <td>acetaminophen</td>\n",
       "      <td>004489</td>\n",
       "      <td>10135012301</td>\n",
       "      <td>1</td>\n",
       "      <td>00000577</td>\n",
       "      <td>Analgesic or Antipyretic Non-Opioid</td>\n",
       "    </tr>\n",
       "    <tr>\n",
       "      <th>1</th>\n",
       "      <td>10001884</td>\n",
       "      <td>31306678</td>\n",
       "      <td>2130-10-19 14:38:00</td>\n",
       "      <td>albuterol sulfate</td>\n",
       "      <td>048698</td>\n",
       "      <td>49502069203</td>\n",
       "      <td>1</td>\n",
       "      <td>00005970</td>\n",
       "      <td>Asthma/COPD Therapy - Beta 2-Adrenergic Agents...</td>\n",
       "    </tr>\n",
       "    <tr>\n",
       "      <th>2</th>\n",
       "      <td>10001884</td>\n",
       "      <td>31306678</td>\n",
       "      <td>2130-10-19 14:38:00</td>\n",
       "      <td>albuterol sulfate [ProAir HFA]</td>\n",
       "      <td>028090</td>\n",
       "      <td>21695042308</td>\n",
       "      <td>1</td>\n",
       "      <td>00005970</td>\n",
       "      <td>Asthma/COPD Therapy - Beta 2-Adrenergic Agents...</td>\n",
       "    </tr>\n",
       "    <tr>\n",
       "      <th>3</th>\n",
       "      <td>10001884</td>\n",
       "      <td>31306678</td>\n",
       "      <td>2130-10-19 14:38:00</td>\n",
       "      <td>amiodarone</td>\n",
       "      <td>000266</td>\n",
       "      <td>13107005605</td>\n",
       "      <td>1</td>\n",
       "      <td>00002734</td>\n",
       "      <td>Antiarrhythmic - Class III</td>\n",
       "    </tr>\n",
       "    <tr>\n",
       "      <th>4</th>\n",
       "      <td>10001884</td>\n",
       "      <td>31306678</td>\n",
       "      <td>2130-10-19 14:38:00</td>\n",
       "      <td>Aspirin</td>\n",
       "      <td>016995</td>\n",
       "      <td>10135017301</td>\n",
       "      <td>1</td>\n",
       "      <td>00000575</td>\n",
       "      <td>Salicylate Analgesics</td>\n",
       "    </tr>\n",
       "  </tbody>\n",
       "</table>\n",
       "</div>"
      ],
      "text/plain": [
       "   subject_id   stay_id           charttime                            name  \\\n",
       "0    10001884  31306678 2130-10-19 14:38:00                   acetaminophen   \n",
       "1    10001884  31306678 2130-10-19 14:38:00               albuterol sulfate   \n",
       "2    10001884  31306678 2130-10-19 14:38:00  albuterol sulfate [ProAir HFA]   \n",
       "3    10001884  31306678 2130-10-19 14:38:00                      amiodarone   \n",
       "4    10001884  31306678 2130-10-19 14:38:00                         Aspirin   \n",
       "\n",
       "      gsn          ndc  etc_rn   etccode  \\\n",
       "0  004489  10135012301       1  00000577   \n",
       "1  048698  49502069203       1  00005970   \n",
       "2  028090  21695042308       1  00005970   \n",
       "3  000266  13107005605       1  00002734   \n",
       "4  016995  10135017301       1  00000575   \n",
       "\n",
       "                                      etcdescription  \n",
       "0                Analgesic or Antipyretic Non-Opioid  \n",
       "1  Asthma/COPD Therapy - Beta 2-Adrenergic Agents...  \n",
       "2  Asthma/COPD Therapy - Beta 2-Adrenergic Agents...  \n",
       "3                         Antiarrhythmic - Class III  \n",
       "4                              Salicylate Analgesics  "
      ]
     },
     "execution_count": 164,
     "metadata": {},
     "output_type": "execute_result"
    }
   ],
   "source": [
    "connection = connect_to_postgres(DB_NAME, USERNAME, PASSWORD, HOST, PORT)\n",
    "medrecon_df = load_table(connection, 'mimiciv_ed.filtered_medrecon')\n",
    "print(medrecon_df.shape)\n",
    "medrecon_df.head()"
   ]
  },
  {
   "cell_type": "code",
   "execution_count": 165,
   "id": "f287c5c5-b8f7-4637-92d1-73d8a77ba0e5",
   "metadata": {},
   "outputs": [
    {
     "data": {
      "text/plain": [
       "subject_id          0\n",
       "stay_id             0\n",
       "charttime           0\n",
       "name                0\n",
       "gsn                 0\n",
       "ndc                 0\n",
       "etc_rn              0\n",
       "etccode           947\n",
       "etcdescription    947\n",
       "dtype: int64"
      ]
     },
     "execution_count": 165,
     "metadata": {},
     "output_type": "execute_result"
    }
   ],
   "source": [
    "medrecon_df.isna().sum()"
   ]
  },
  {
   "cell_type": "markdown",
   "id": "efc26400-38f4-4b1f-99ff-79e07104352d",
   "metadata": {},
   "source": [
    "For hospital-related data preprocessing, we consolidated the meds based on the NDC mapping. Use similar logic here:"
   ]
  },
  {
   "cell_type": "code",
   "execution_count": 166,
   "id": "9e5557af-7a78-40b9-b352-707e3e7ab3e1",
   "metadata": {},
   "outputs": [
    {
     "data": {
      "text/plain": [
       "4788"
      ]
     },
     "execution_count": 166,
     "metadata": {},
     "output_type": "execute_result"
    }
   ],
   "source": [
    "medrecon_df['ndc'].nunique()"
   ]
  },
  {
   "cell_type": "code",
   "execution_count": 167,
   "id": "30c2bad5-7075-414c-95fe-0fe47c86fdcd",
   "metadata": {},
   "outputs": [],
   "source": [
    "ndc_mapping = pd.read_csv('ndc_product.txt', header=0, delimiter=\"\\t\", encoding='cp1252')"
   ]
  },
  {
   "cell_type": "code",
   "execution_count": 168,
   "id": "7a522145-bf73-4eee-a3c9-7053ea492ace",
   "metadata": {},
   "outputs": [],
   "source": [
    "##### from MIMIC preprocessing -- but modified to work with the ED table instead of Hosp\n",
    "# returned fields like hadm_id are replaced with stay_id, which is used across the ED modules (same with charttime)\n",
    "def read_ndc_mapping(map_path):\n",
    "    ndc_map = pd.read_csv(map_path, header=0, delimiter='\\t', encoding='latin1')\n",
    "    ndc_map.NONPROPRIETARYNAME = ndc_map.NONPROPRIETARYNAME.fillna(\"\")\n",
    "    ndc_map.NONPROPRIETARYNAME = ndc_map.NONPROPRIETARYNAME.apply(str.lower)\n",
    "    ndc_map.columns = list(map(str.lower, ndc_map.columns))\n",
    "    return ndc_map\n",
    "\n",
    "def read_prescriptions_table(mimic4_path):\n",
    "    meds = dataframe_from_csv(os.path.join(mimic4_path, 'hosp/prescriptions.csv.gz'))\n",
    "    meds = meds.reset_index()\n",
    "    return meds[['subject_id', 'stay_id', 'charttime', 'ndc', 'gsn']]\n",
    "\n",
    "### NOTE - not used anywhere...\n",
    "def get_generic_drugs(mapping, df):\n",
    "    \"\"\"Takes NDC product table and prescriptions dataframe; adds column with NDC table's corresponding generic name\"\"\"\n",
    "\n",
    "    def brand_to_generic(ndc):\n",
    "        # We only want the first 2 sections of the NDC code: xxxx-xxxx-xx\n",
    "        matches = list(re.finditer(r\"-\", ndc))\n",
    "        if len(matches) > 1:\n",
    "            ndc = ndc[:matches[1].start()]\n",
    "        try:\n",
    "            return mapping.loc[mapping.PRODUCTNDC == ndc].NONPROPRIETARYNAME.iloc[0]\n",
    "        except:\n",
    "            print(\"Error: \", ndc)\n",
    "            return np.nan\n",
    "\n",
    "    df['generic_drug_name'] = df['ndc'].apply(brand_to_generic)\n",
    "\n",
    "def preproc_meds(module_path:str, adm_cohort_path:str, mapping:str) -> pd.DataFrame:\n",
    "  \n",
    "    adm = pd.read_csv(adm_cohort_path, usecols=['stay_id', 'charttime'], parse_dates = ['charttime'])\n",
    "    med = pd.read_csv(module_path, compression='gzip', usecols=['subject_id', 'stay_id', 'charttime', 'ndc'], parse_dates = ['charttime'])\n",
    "    med = med.merge(adm, left_on = 'stay_id', right_on = 'stay_id', how = 'inner')\n",
    "    \n",
    "    # Normalize drug strings and remove potential duplicates\n",
    "\n",
    "    med.drug = med.drug.fillna(\"\").astype(str)\n",
    "    med.drug = med.drug.apply(lambda x: x.lower().strip().replace(\" \", \"_\") if not \"\" else \"\")\n",
    "    med.drug=med.drug.dropna().apply(lambda x: x.lower().strip())\n",
    "    \n",
    "    #meds.to_csv(output_path, compression='gzip', index=False)\n",
    "    med = ndc_meds(med,mapping)\n",
    "    \n",
    "    print(\"Number of unique type of drug: \", med.drug.nunique())\n",
    "    print(\"Number of unique type of drug (after grouping to use Non propietary names): \", med.nonproprietaryname.nunique())\n",
    "    print(\"Total number of rows: \", med.shape[0])\n",
    "    print(\"# Admissions:  \", med.hadm_id.nunique())\n",
    "        \n",
    "    return med\n",
    "    \n",
    "    \n",
    "def ndc_meds(med, mapping:str) -> pd.DataFrame:\n",
    "    \n",
    "    # Convert any nan values to a dummy value\n",
    "    med.ndc = med.ndc.fillna(-1)\n",
    "\n",
    "    # Ensures the decimal is removed from the ndc col\n",
    "    med.ndc = med.ndc.astype(\"Int64\")\n",
    "    \n",
    "    # The NDC codes in the prescription dataset is the 11-digit NDC code, although codes are missing\n",
    "    # their leading 0's because the column was interpreted as a float then integer; this function restores\n",
    "    # the leading 0's, then obtains only the PRODUCT and MANUFACTUERER parts of the NDC code (first 9 digits)\n",
    "    def to_str(ndc):\n",
    "        if ndc < 0:         # dummy values are < 0\n",
    "            return np.nan\n",
    "        ndc = str(ndc)\n",
    "        return ((\"0\"*(11 - len(ndc))) + ndc)[0:-2]\n",
    "\n",
    "    # The mapping table is ALSO incorrectly formatted for 11 digit NDC codes. An 11 digit NDC is in the\n",
    "    # form of xxxxx-xxxx-xx for manufacturer-product-dosage. The hyphens are in the correct spots, but\n",
    "    # the number of digits within each section may not be 5-4-2, in which case we add leading 0's to each\n",
    "    # to restore the 11 digit format. However, we only take the 5-4 sections, just like the to_str function\n",
    "    def format_ndc_table(ndc):\n",
    "        parts = ndc.split(\"-\")\n",
    "        return (\"0\"*(5 - len(parts[0])) + parts[0]) + (\"0\"*(4 - len(parts[1])) + parts[1])\n",
    "    \n",
    "    def read_ndc_mapping2(map_path):\n",
    "        ndc_map = pd.read_csv(map_path, header=0, delimiter='\\t', encoding = 'latin1')\n",
    "        ndc_map.NONPROPRIETARYNAME = ndc_map.NONPROPRIETARYNAME.fillna(\"\")\n",
    "        ndc_map.NONPROPRIETARYNAME = ndc_map.NONPROPRIETARYNAME.apply(str.lower)\n",
    "        ndc_map.columns = list(map(str.lower, ndc_map.columns))\n",
    "        return ndc_map\n",
    "        # Read in NDC mapping table\n",
    "    \n",
    "    ndc_map = read_ndc_mapping2(mapping)[['productndc', 'nonproprietaryname', 'pharm_classes']]\n",
    "    \n",
    "    # Normalize the NDC codes in the mapping table so that they can be merged\n",
    "    ndc_map['new_ndc'] = ndc_map.productndc.apply(format_ndc_table)\n",
    "    ndc_map.drop_duplicates(subset=['new_ndc', 'nonproprietaryname'], inplace=True)\n",
    "    med['new_ndc'] = med.ndc.apply(to_str)  \n",
    "    \n",
    "    # Left join the med dataset to the mapping information\n",
    "    med = med.merge(ndc_map, how='inner', left_on='new_ndc', right_on='new_ndc')\n",
    "    \n",
    "    # In NDC mapping table, the pharm_class col is structured as a text string, separating different pharm classes from eachother\n",
    "    # This can be [PE], [EPC], and others, but we're interested in EPC. Luckily, between each commas, it states if a phrase is [EPC]\n",
    "    # So, we just string split by commas and keep phrases containing \"[EPC]\"\n",
    "    def get_EPC(s):\n",
    "        \"\"\"Gets the Established Pharmacologic Class (EPC) from the mapping table\"\"\"\n",
    "        if type(s) != str:\n",
    "            return np.nan\n",
    "        words = s.split(\",\")\n",
    "        return [x for x in words if \"[EPC]\" in x]\n",
    "    \n",
    "    # Function generates a list of EPCs, as a drug can have multiple EPCs\n",
    "    med['EPC'] = med.pharm_classes.apply(get_EPC)\n",
    "    \n",
    "    return med"
   ]
  },
  {
   "cell_type": "code",
   "execution_count": 169,
   "id": "484219de-7af3-46d6-b88a-c1c5f872e441",
   "metadata": {},
   "outputs": [
    {
     "name": "stdout",
     "output_type": "stream",
     "text": [
      "Number of unique type of drug (after grouping to use Non propietary names):  605\n",
      "Total number of rows:  77323\n",
      "# Admissions:   22935\n"
     ]
    }
   ],
   "source": [
    "ndc_mapping = read_ndc_mapping('ndc_product.txt')\n",
    "med = medrecon_df\n",
    "# Normalize drug strings and remove potential duplicates\n",
    "\n",
    "# med.dropna(inplace=True)\n",
    "\n",
    "med = ndc_meds(med,'ndc_product.txt')\n",
    "\n",
    "print(\"Number of unique type of drug (after grouping to use Non propietary names): \", med.nonproprietaryname.nunique())\n",
    "print(\"Total number of rows: \", med.shape[0])\n",
    "print(\"# Admissions:  \", med.stay_id.nunique())"
   ]
  },
  {
   "cell_type": "code",
   "execution_count": 170,
   "id": "e362871a-ac7a-41c5-9dac-65dd6c55360f",
   "metadata": {},
   "outputs": [
    {
     "data": {
      "text/html": [
       "<div>\n",
       "<style scoped>\n",
       "    .dataframe tbody tr th:only-of-type {\n",
       "        vertical-align: middle;\n",
       "    }\n",
       "\n",
       "    .dataframe tbody tr th {\n",
       "        vertical-align: top;\n",
       "    }\n",
       "\n",
       "    .dataframe thead th {\n",
       "        text-align: right;\n",
       "    }\n",
       "</style>\n",
       "<table border=\"1\" class=\"dataframe\">\n",
       "  <thead>\n",
       "    <tr style=\"text-align: right;\">\n",
       "      <th></th>\n",
       "      <th>subject_id</th>\n",
       "      <th>stay_id</th>\n",
       "      <th>charttime</th>\n",
       "      <th>nonproprietaryname</th>\n",
       "    </tr>\n",
       "  </thead>\n",
       "  <tbody>\n",
       "    <tr>\n",
       "      <th>0</th>\n",
       "      <td>10001884</td>\n",
       "      <td>31306678</td>\n",
       "      <td>2130-10-19 14:38:00</td>\n",
       "      <td>acetaminophen</td>\n",
       "    </tr>\n",
       "    <tr>\n",
       "      <th>1</th>\n",
       "      <td>10001884</td>\n",
       "      <td>31306678</td>\n",
       "      <td>2130-10-19 14:38:00</td>\n",
       "      <td>oxycodone hydrochloride</td>\n",
       "    </tr>\n",
       "    <tr>\n",
       "      <th>2</th>\n",
       "      <td>10001884</td>\n",
       "      <td>31306678</td>\n",
       "      <td>2130-10-19 14:38:00</td>\n",
       "      <td>aspirin</td>\n",
       "    </tr>\n",
       "    <tr>\n",
       "      <th>3</th>\n",
       "      <td>10001884</td>\n",
       "      <td>31306678</td>\n",
       "      <td>2130-10-19 14:38:00</td>\n",
       "      <td>aspirin</td>\n",
       "    </tr>\n",
       "    <tr>\n",
       "      <th>4</th>\n",
       "      <td>10001884</td>\n",
       "      <td>31306678</td>\n",
       "      <td>2130-10-19 14:38:00</td>\n",
       "      <td>diltiazem hydrochloride</td>\n",
       "    </tr>\n",
       "  </tbody>\n",
       "</table>\n",
       "</div>"
      ],
      "text/plain": [
       "   subject_id   stay_id           charttime       nonproprietaryname\n",
       "0    10001884  31306678 2130-10-19 14:38:00            acetaminophen\n",
       "1    10001884  31306678 2130-10-19 14:38:00  oxycodone hydrochloride\n",
       "2    10001884  31306678 2130-10-19 14:38:00                  aspirin\n",
       "3    10001884  31306678 2130-10-19 14:38:00                  aspirin\n",
       "4    10001884  31306678 2130-10-19 14:38:00  diltiazem hydrochloride"
      ]
     },
     "execution_count": 170,
     "metadata": {},
     "output_type": "execute_result"
    }
   ],
   "source": [
    "# we will likely be working with the nonproprietary name\n",
    "cols_to_drop= ['gsn', 'etc_rn', 'etccode', 'etcdescription', 'new_ndc', 'ndc', 'productndc', 'pharm_classes', 'EPC']\n",
    "med.drop(columns=cols_to_drop, inplace=True)\n",
    "med.drop(columns=['name'], inplace=True)\n",
    "med.head()"
   ]
  },
  {
   "cell_type": "code",
   "execution_count": 171,
   "id": "3066cedf-e502-4864-b41e-6cda18bbda1b",
   "metadata": {},
   "outputs": [
    {
     "name": "stdout",
     "output_type": "stream",
     "text": [
      "DataFrame has been saved as dataframes/ed_medrecon.csv\n"
     ]
    }
   ],
   "source": [
    "save_df_as_csv(med, 'ed_medrecon.csv')"
   ]
  },
  {
   "cell_type": "markdown",
   "id": "67c84180-8d40-4964-87d6-cae10acca43e",
   "metadata": {},
   "source": [
    "### pyxis"
   ]
  },
  {
   "cell_type": "code",
   "execution_count": 172,
   "id": "66eae39e-eef7-4eb4-afc8-6d8451903504",
   "metadata": {},
   "outputs": [
    {
     "name": "stdout",
     "output_type": "stream",
     "text": [
      "Connected to db: smcdougall\n",
      "(173941, 7)\n"
     ]
    },
    {
     "data": {
      "text/html": [
       "<div>\n",
       "<style scoped>\n",
       "    .dataframe tbody tr th:only-of-type {\n",
       "        vertical-align: middle;\n",
       "    }\n",
       "\n",
       "    .dataframe tbody tr th {\n",
       "        vertical-align: top;\n",
       "    }\n",
       "\n",
       "    .dataframe thead th {\n",
       "        text-align: right;\n",
       "    }\n",
       "</style>\n",
       "<table border=\"1\" class=\"dataframe\">\n",
       "  <thead>\n",
       "    <tr style=\"text-align: right;\">\n",
       "      <th></th>\n",
       "      <th>subject_id</th>\n",
       "      <th>stay_id</th>\n",
       "      <th>charttime</th>\n",
       "      <th>med_rn</th>\n",
       "      <th>name</th>\n",
       "      <th>gsn_rn</th>\n",
       "      <th>gsn</th>\n",
       "    </tr>\n",
       "  </thead>\n",
       "  <tbody>\n",
       "    <tr>\n",
       "      <th>0</th>\n",
       "      <td>10001884</td>\n",
       "      <td>31306678</td>\n",
       "      <td>2130-10-19 13:50:00</td>\n",
       "      <td>1</td>\n",
       "      <td>MethylPREDNISolone Sodium Succ</td>\n",
       "      <td>1</td>\n",
       "      <td>006730</td>\n",
       "    </tr>\n",
       "    <tr>\n",
       "      <th>1</th>\n",
       "      <td>10001884</td>\n",
       "      <td>31306678</td>\n",
       "      <td>2130-10-19 13:50:00</td>\n",
       "      <td>1</td>\n",
       "      <td>MethylPREDNISolone Sodium Succ</td>\n",
       "      <td>2</td>\n",
       "      <td>051555</td>\n",
       "    </tr>\n",
       "    <tr>\n",
       "      <th>2</th>\n",
       "      <td>10001884</td>\n",
       "      <td>31306678</td>\n",
       "      <td>2130-10-19 13:50:00</td>\n",
       "      <td>1</td>\n",
       "      <td>MethylPREDNISolone Sodium Succ</td>\n",
       "      <td>3</td>\n",
       "      <td>065978</td>\n",
       "    </tr>\n",
       "    <tr>\n",
       "      <th>3</th>\n",
       "      <td>10001884</td>\n",
       "      <td>31306678</td>\n",
       "      <td>2130-10-19 13:56:00</td>\n",
       "      <td>2</td>\n",
       "      <td>Aspirin</td>\n",
       "      <td>1</td>\n",
       "      <td>004380</td>\n",
       "    </tr>\n",
       "    <tr>\n",
       "      <th>4</th>\n",
       "      <td>10001884</td>\n",
       "      <td>31306678</td>\n",
       "      <td>2130-10-19 15:01:00</td>\n",
       "      <td>3</td>\n",
       "      <td>Azithromycin</td>\n",
       "      <td>1</td>\n",
       "      <td>031452</td>\n",
       "    </tr>\n",
       "  </tbody>\n",
       "</table>\n",
       "</div>"
      ],
      "text/plain": [
       "   subject_id   stay_id           charttime  med_rn  \\\n",
       "0    10001884  31306678 2130-10-19 13:50:00       1   \n",
       "1    10001884  31306678 2130-10-19 13:50:00       1   \n",
       "2    10001884  31306678 2130-10-19 13:50:00       1   \n",
       "3    10001884  31306678 2130-10-19 13:56:00       2   \n",
       "4    10001884  31306678 2130-10-19 15:01:00       3   \n",
       "\n",
       "                             name  gsn_rn     gsn  \n",
       "0  MethylPREDNISolone Sodium Succ       1  006730  \n",
       "1  MethylPREDNISolone Sodium Succ       2  051555  \n",
       "2  MethylPREDNISolone Sodium Succ       3  065978  \n",
       "3                         Aspirin       1  004380  \n",
       "4                    Azithromycin       1  031452  "
      ]
     },
     "execution_count": 172,
     "metadata": {},
     "output_type": "execute_result"
    }
   ],
   "source": [
    "connection = connect_to_postgres(DB_NAME, USERNAME, PASSWORD, HOST, PORT)\n",
    "pyxis_df = load_table(connection, 'mimiciv_ed.filtered_pyxis')\n",
    "print(pyxis_df.shape)\n",
    "pyxis_df.head()"
   ]
  },
  {
   "cell_type": "markdown",
   "id": "59f1bb5b-35f4-4ce9-8246-eadcf6f805ad",
   "metadata": {},
   "source": [
    "- medrecon == medicine reconcilation (what the patient is already taking)\n",
    "- pyxis - refers to a med station - assumed that these are dispensed medications that are then given to the patient\n",
    "- note that it is challenging to map NDC to GSN - no easily identifiable mapping for completing this\n",
    "- GSN - Generic Sequence Number (GSN), a sequential number assigned to each drug based on its chemical composition and strength\n",
    "\n",
    "From the docs: \"Note that as the same medication may have multiple gsn values, each row does not necessarily indicate a unique dispensation. The med_rn column allows for subselecting to individual dispensations.\"\n",
    "\n",
    "The `gsn_rn` column differentiates the many different gsn's that the medicine may correspond to... Should consolidate this if possible"
   ]
  },
  {
   "cell_type": "code",
   "execution_count": 173,
   "id": "82b10f05-f24f-4e1d-8fd8-3294ed075716",
   "metadata": {},
   "outputs": [
    {
     "data": {
      "text/plain": [
       "930"
      ]
     },
     "execution_count": 173,
     "metadata": {},
     "output_type": "execute_result"
    }
   ],
   "source": [
    "pyxis_df['name'].nunique()"
   ]
  },
  {
   "cell_type": "code",
   "execution_count": 174,
   "id": "62b1adfb-6652-45a3-84db-694215acd0c2",
   "metadata": {},
   "outputs": [
    {
     "data": {
      "text/plain": [
       "636"
      ]
     },
     "execution_count": 174,
     "metadata": {},
     "output_type": "execute_result"
    }
   ],
   "source": [
    "pyxis_df['gsn'].nunique()"
   ]
  },
  {
   "cell_type": "code",
   "execution_count": 175,
   "id": "7a72e26a-58e9-4235-9f0b-d490b8c76d36",
   "metadata": {},
   "outputs": [
    {
     "data": {
      "text/plain": [
       "gsn\n",
       "015869    9431\n",
       "061716    9431\n",
       "004490    7111\n",
       "062823    6138\n",
       "074851    4283\n",
       "          ... \n",
       "048492       1\n",
       "070644       1\n",
       "041440       1\n",
       "006611       1\n",
       "059794       1\n",
       "Name: count, Length: 636, dtype: int64"
      ]
     },
     "execution_count": 175,
     "metadata": {},
     "output_type": "execute_result"
    }
   ],
   "source": [
    "pyxis_df['gsn'].value_counts()"
   ]
  },
  {
   "cell_type": "code",
   "execution_count": 176,
   "id": "34e81263-9938-4592-bbba-765d23274bb0",
   "metadata": {},
   "outputs": [
    {
     "data": {
      "text/plain": [
       "(173941, 7)"
      ]
     },
     "execution_count": 176,
     "metadata": {},
     "output_type": "execute_result"
    }
   ],
   "source": [
    "pyxis_df.shape"
   ]
  },
  {
   "cell_type": "markdown",
   "id": "aeb0b51e-1d0f-49d9-946b-7805ccdfbbde",
   "metadata": {},
   "source": [
    "Steps for pre-processing: (1) Remove the dosage from the name, (2) lowercase everything"
   ]
  },
  {
   "cell_type": "code",
   "execution_count": 178,
   "id": "09ef9046-acb4-46c6-91ec-8bbca1a7e760",
   "metadata": {},
   "outputs": [
    {
     "name": "stdout",
     "output_type": "stream",
     "text": [
      "880\n"
     ]
    }
   ],
   "source": [
    "pyxis_df['name'] = pyxis_df['name'].str.lower()\n",
    "print(pyxis_df['name'].nunique())"
   ]
  },
  {
   "cell_type": "code",
   "execution_count": 179,
   "id": "dc6b1566-5356-4cc0-89ee-72161ddadc9d",
   "metadata": {},
   "outputs": [
    {
     "name": "stdout",
     "output_type": "stream",
     "text": [
      "415\n"
     ]
    }
   ],
   "source": [
    "import re\n",
    "# regex pattern to detect different dosages within the medication name\n",
    "# also remove slashes, percent signs, and anything in parentheses\n",
    "MED_DOSAGE_PATTERN = r'^([^\\d/%()]+).*' #r'(\\d+(\\.\\d+)?\\s*(mg|g|mL|L|units|mcg)?|\\s*/\\s*|\\s*%\\s*|\\s*\\([^)]*\\))'\n",
    "\n",
    "def remove_dosage_from_med(med_name):\n",
    "    match = re.match(MED_DOSAGE_PATTERN, med_name)\n",
    "    if match:\n",
    "        match = match.group(1).strip().lower()\n",
    "        # remove any trailing asterisks\n",
    "        match = re.sub(r'\\*+', '', match).strip()\n",
    "        # remove standalone \"so\" (for \"solution\")\n",
    "        match = re.sub(r'\\bso\\b', '', match).strip()\n",
    "        return match\n",
    "    else:\n",
    "        return med_name.strip().lower()\n",
    "    # return re.sub(MED_DOSAGE_PATTERN, '', med_name, flags=re.IGNORECASE).strip()\n",
    "\n",
    "pyxis_df['name'] = pyxis_df['name'].apply(remove_dosage_from_med)\n",
    "print(pyxis_df['name'].nunique())"
   ]
  },
  {
   "cell_type": "markdown",
   "id": "0f8c6240-f428-4333-8c59-5bb4bfad1cbd",
   "metadata": {},
   "source": [
    "there are a few medications that need to be manually mapped\n",
    "\n",
    "\n",
    "Rule here is that if the medication says the way it is used (ex. methadone vs. methadone oral vs. methadone oral liquid), consolidate into a single value (ex. methadone)\n",
    "- acetaminophen (if it starts with acetaminophen, convert to acetaminophen)\n",
    "- albuterol (if it starts with albuterol, convert to albuterol)\n",
    "- aluminum-magnesium hy (if it ...)\n",
    "- amoxicillin\n",
    "- amphetamine-dextroamphetamine\n",
    "- aspirin\n",
    "- balanced salt opth.\n",
    "- diltiazem\n",
    "- epinephrine\n",
    "- fluorescein strip\n",
    "- lidocaine\n",
    "- methadone\n",
    "- tranexamic ac"
   ]
  },
  {
   "cell_type": "code",
   "execution_count": 181,
   "id": "68faa236-b6a0-4832-bf6a-01721c94e4ed",
   "metadata": {},
   "outputs": [
    {
     "name": "stdout",
     "output_type": "stream",
     "text": [
      "388\n"
     ]
    }
   ],
   "source": [
    "prefixes = [\n",
    "    'acetaminophen',\n",
    "    'albuterol',\n",
    "    'aluminum-magnesium hy',\n",
    "    'amoxicillin',\n",
    "    'amphetamine-dextroamphetamine',\n",
    "    'aspirin',\n",
    "    'balanced salt opth.',\n",
    "    'diltiazem',\n",
    "    'epinephrine',\n",
    "    'fluorescein strip',\n",
    "    'lidocaine',\n",
    "    'methadone',\n",
    "    'tranexamic ac'\n",
    "]\n",
    "def apply_prefix_check(name):\n",
    "    for prefix in prefixes:\n",
    "        if name.lower().startswith(prefix):\n",
    "            return prefix\n",
    "    return name\n",
    "\n",
    "# Apply function to 'name' column\n",
    "pyxis_df['name'] = pyxis_df['name'].apply(apply_prefix_check)\n",
    "print(pyxis_df['name'].nunique())"
   ]
  },
  {
   "cell_type": "code",
   "execution_count": 182,
   "id": "c1e6a32b-c00c-4a7a-97ba-4c2d7719df57",
   "metadata": {},
   "outputs": [
    {
     "name": "stdout",
     "output_type": "stream",
     "text": [
      "DataFrame has been saved as dataframes/ed_pyxis.csv\n"
     ]
    }
   ],
   "source": [
    "save_df_as_csv(pyxis_df, 'ed_pyxis.csv')"
   ]
  },
  {
   "cell_type": "markdown",
   "id": "9ccedcc4-729f-463a-a2ab-8611295535e1",
   "metadata": {},
   "source": [
    "### vitalsign\n",
    "- numeric fields were originally free-text\n",
    "- Free-text entries which could not be converted trivially were removed\n",
    "- for the most part, missing data indicates that no information was documented\n",
    "- routine vital signs taken ever 1-4 hours"
   ]
  },
  {
   "cell_type": "code",
   "execution_count": 183,
   "id": "ad576767-2d95-4193-ba6b-751e82de3491",
   "metadata": {},
   "outputs": [
    {
     "name": "stdout",
     "output_type": "stream",
     "text": [
      "Connected to db: smcdougall\n",
      "(154819, 11)\n"
     ]
    },
    {
     "data": {
      "text/html": [
       "<div>\n",
       "<style scoped>\n",
       "    .dataframe tbody tr th:only-of-type {\n",
       "        vertical-align: middle;\n",
       "    }\n",
       "\n",
       "    .dataframe tbody tr th {\n",
       "        vertical-align: top;\n",
       "    }\n",
       "\n",
       "    .dataframe thead th {\n",
       "        text-align: right;\n",
       "    }\n",
       "</style>\n",
       "<table border=\"1\" class=\"dataframe\">\n",
       "  <thead>\n",
       "    <tr style=\"text-align: right;\">\n",
       "      <th></th>\n",
       "      <th>subject_id</th>\n",
       "      <th>stay_id</th>\n",
       "      <th>charttime</th>\n",
       "      <th>temperature</th>\n",
       "      <th>heartrate</th>\n",
       "      <th>resprate</th>\n",
       "      <th>o2sat</th>\n",
       "      <th>sbp</th>\n",
       "      <th>dbp</th>\n",
       "      <th>rhythm</th>\n",
       "      <th>pain</th>\n",
       "    </tr>\n",
       "  </thead>\n",
       "  <tbody>\n",
       "    <tr>\n",
       "      <th>0</th>\n",
       "      <td>10001884</td>\n",
       "      <td>31306678</td>\n",
       "      <td>2130-10-19 13:34:00</td>\n",
       "      <td>None</td>\n",
       "      <td>None</td>\n",
       "      <td>None</td>\n",
       "      <td>79.0000</td>\n",
       "      <td>NaN</td>\n",
       "      <td>NaN</td>\n",
       "      <td>None</td>\n",
       "      <td>unable</td>\n",
       "    </tr>\n",
       "    <tr>\n",
       "      <th>1</th>\n",
       "      <td>10001884</td>\n",
       "      <td>31306678</td>\n",
       "      <td>2130-10-19 14:31:00</td>\n",
       "      <td>None</td>\n",
       "      <td>75.0000</td>\n",
       "      <td>15.0000</td>\n",
       "      <td>100.0000</td>\n",
       "      <td>133.0</td>\n",
       "      <td>68.0</td>\n",
       "      <td>None</td>\n",
       "      <td>None</td>\n",
       "    </tr>\n",
       "    <tr>\n",
       "      <th>2</th>\n",
       "      <td>10001884</td>\n",
       "      <td>31306678</td>\n",
       "      <td>2130-10-19 14:44:00</td>\n",
       "      <td>98.2000</td>\n",
       "      <td>76.0000</td>\n",
       "      <td>16.0000</td>\n",
       "      <td>99.0000</td>\n",
       "      <td>139.0</td>\n",
       "      <td>70.0</td>\n",
       "      <td>None</td>\n",
       "      <td>0</td>\n",
       "    </tr>\n",
       "    <tr>\n",
       "      <th>3</th>\n",
       "      <td>10001884</td>\n",
       "      <td>31306678</td>\n",
       "      <td>2130-10-19 15:50:00</td>\n",
       "      <td>98.2000</td>\n",
       "      <td>76.0000</td>\n",
       "      <td>20.0000</td>\n",
       "      <td>97.0000</td>\n",
       "      <td>138.0</td>\n",
       "      <td>72.0</td>\n",
       "      <td>None</td>\n",
       "      <td>0</td>\n",
       "    </tr>\n",
       "    <tr>\n",
       "      <th>4</th>\n",
       "      <td>10001884</td>\n",
       "      <td>31742950</td>\n",
       "      <td>2130-12-06 16:46:00</td>\n",
       "      <td>97.6000</td>\n",
       "      <td>67.0000</td>\n",
       "      <td>22.0000</td>\n",
       "      <td>97.0000</td>\n",
       "      <td>132.0</td>\n",
       "      <td>82.0</td>\n",
       "      <td>None</td>\n",
       "      <td>0</td>\n",
       "    </tr>\n",
       "  </tbody>\n",
       "</table>\n",
       "</div>"
      ],
      "text/plain": [
       "   subject_id   stay_id           charttime temperature heartrate resprate  \\\n",
       "0    10001884  31306678 2130-10-19 13:34:00        None      None     None   \n",
       "1    10001884  31306678 2130-10-19 14:31:00        None   75.0000  15.0000   \n",
       "2    10001884  31306678 2130-10-19 14:44:00     98.2000   76.0000  16.0000   \n",
       "3    10001884  31306678 2130-10-19 15:50:00     98.2000   76.0000  20.0000   \n",
       "4    10001884  31742950 2130-12-06 16:46:00     97.6000   67.0000  22.0000   \n",
       "\n",
       "      o2sat    sbp   dbp rhythm    pain  \n",
       "0   79.0000    NaN   NaN   None  unable  \n",
       "1  100.0000  133.0  68.0   None    None  \n",
       "2   99.0000  139.0  70.0   None       0  \n",
       "3   97.0000  138.0  72.0   None       0  \n",
       "4   97.0000  132.0  82.0   None       0  "
      ]
     },
     "execution_count": 183,
     "metadata": {},
     "output_type": "execute_result"
    }
   ],
   "source": [
    "connection = connect_to_postgres(DB_NAME, USERNAME, PASSWORD, HOST, PORT)\n",
    "vitalsign_df = load_table(connection, 'mimiciv_ed.filtered_vitalsign')\n",
    "print(vitalsign_df.shape)\n",
    "vitalsign_df.head()"
   ]
  },
  {
   "cell_type": "code",
   "execution_count": 184,
   "id": "31eaff50-41d6-4d64-a203-95148089ea7a",
   "metadata": {},
   "outputs": [
    {
     "data": {
      "text/plain": [
       "subject_id          0\n",
       "stay_id             0\n",
       "charttime           0\n",
       "temperature     52369\n",
       "heartrate        7199\n",
       "resprate         9008\n",
       "o2sat           13803\n",
       "sbp              8119\n",
       "dbp              8119\n",
       "rhythm         149170\n",
       "pain            44618\n",
       "dtype: int64"
      ]
     },
     "execution_count": 184,
     "metadata": {},
     "output_type": "execute_result"
    }
   ],
   "source": [
    "vitalsign_df.isna().sum()"
   ]
  },
  {
   "cell_type": "code",
   "execution_count": 185,
   "id": "f9a9e725-26fa-4a08-b092-269e81951444",
   "metadata": {},
   "outputs": [
    {
     "name": "stdout",
     "output_type": "stream",
     "text": [
      "DataFrame has been saved as dataframes/ed_vitalsign.csv\n"
     ]
    }
   ],
   "source": [
    "save_df_as_csv(vitalsign_df, 'ed_vitalsign.csv')"
   ]
  },
  {
   "cell_type": "markdown",
   "id": "7e87cd0d-95cd-47d3-ac77-97ec10d9822d",
   "metadata": {},
   "source": [
    "### triage\n",
    "- all fields were originally free-text\n",
    "- no time associated with the observations\n",
    "- missing data in the numeric columns indicates either deidentified data or no data recorded\n",
    "\n",
    "\n",
    "**Design Decision** - We are missing a good bit of data... and we capture temp, heart rate, resprate, etc. in the `vitalsign` table. One route to take is to exclude the triage data since it is not time-stamped and we have access to time-stamped data in the `vitalsign` table. On the other hand, we can also impute missing values in this table with the first value that is captured for the stay in the `vitalsign` table (?) - that way we can still retain useful information from this table where we have it defined already"
   ]
  },
  {
   "cell_type": "code",
   "execution_count": 186,
   "id": "d4540fd7-a779-4bef-8f4e-0c64777f20c7",
   "metadata": {},
   "outputs": [
    {
     "name": "stdout",
     "output_type": "stream",
     "text": [
      "Connected to db: smcdougall\n",
      "(43198, 11)\n"
     ]
    },
    {
     "data": {
      "text/html": [
       "<div>\n",
       "<style scoped>\n",
       "    .dataframe tbody tr th:only-of-type {\n",
       "        vertical-align: middle;\n",
       "    }\n",
       "\n",
       "    .dataframe tbody tr th {\n",
       "        vertical-align: top;\n",
       "    }\n",
       "\n",
       "    .dataframe thead th {\n",
       "        text-align: right;\n",
       "    }\n",
       "</style>\n",
       "<table border=\"1\" class=\"dataframe\">\n",
       "  <thead>\n",
       "    <tr style=\"text-align: right;\">\n",
       "      <th></th>\n",
       "      <th>subject_id</th>\n",
       "      <th>stay_id</th>\n",
       "      <th>temperature</th>\n",
       "      <th>heartrate</th>\n",
       "      <th>resprate</th>\n",
       "      <th>o2sat</th>\n",
       "      <th>sbp</th>\n",
       "      <th>dbp</th>\n",
       "      <th>pain</th>\n",
       "      <th>acuity</th>\n",
       "      <th>chiefcomplaint</th>\n",
       "    </tr>\n",
       "  </thead>\n",
       "  <tbody>\n",
       "    <tr>\n",
       "      <th>0</th>\n",
       "      <td>10001884</td>\n",
       "      <td>31306678</td>\n",
       "      <td>None</td>\n",
       "      <td>None</td>\n",
       "      <td>None</td>\n",
       "      <td>79.0000</td>\n",
       "      <td>None</td>\n",
       "      <td>None</td>\n",
       "      <td>unable</td>\n",
       "      <td>1.0000</td>\n",
       "      <td>Hypoxia</td>\n",
       "    </tr>\n",
       "    <tr>\n",
       "      <th>1</th>\n",
       "      <td>10001884</td>\n",
       "      <td>31742950</td>\n",
       "      <td>97.6000</td>\n",
       "      <td>67.0000</td>\n",
       "      <td>22.0000</td>\n",
       "      <td>97.0000</td>\n",
       "      <td>132.0000</td>\n",
       "      <td>82.0000</td>\n",
       "      <td>0</td>\n",
       "      <td>2.0000</td>\n",
       "      <td>Dyspnea</td>\n",
       "    </tr>\n",
       "    <tr>\n",
       "      <th>2</th>\n",
       "      <td>10001884</td>\n",
       "      <td>33281437</td>\n",
       "      <td>98.2000</td>\n",
       "      <td>72.0000</td>\n",
       "      <td>20.0000</td>\n",
       "      <td>97.0000</td>\n",
       "      <td>157.0000</td>\n",
       "      <td>66.0000</td>\n",
       "      <td>2</td>\n",
       "      <td>3.0000</td>\n",
       "      <td>CP/SOB</td>\n",
       "    </tr>\n",
       "    <tr>\n",
       "      <th>3</th>\n",
       "      <td>10001884</td>\n",
       "      <td>33478776</td>\n",
       "      <td>98.4000</td>\n",
       "      <td>74.0000</td>\n",
       "      <td>16.0000</td>\n",
       "      <td>100.0000</td>\n",
       "      <td>142.0000</td>\n",
       "      <td>69.0000</td>\n",
       "      <td>0</td>\n",
       "      <td>3.0000</td>\n",
       "      <td>Dyspnea, Fatigue</td>\n",
       "    </tr>\n",
       "    <tr>\n",
       "      <th>4</th>\n",
       "      <td>10001884</td>\n",
       "      <td>34226385</td>\n",
       "      <td>98.2000</td>\n",
       "      <td>65.0000</td>\n",
       "      <td>18.0000</td>\n",
       "      <td>97.0000</td>\n",
       "      <td>113.0000</td>\n",
       "      <td>91.0000</td>\n",
       "      <td>0</td>\n",
       "      <td>2.0000</td>\n",
       "      <td>Dyspnea</td>\n",
       "    </tr>\n",
       "  </tbody>\n",
       "</table>\n",
       "</div>"
      ],
      "text/plain": [
       "   subject_id   stay_id temperature heartrate resprate     o2sat       sbp  \\\n",
       "0    10001884  31306678        None      None     None   79.0000      None   \n",
       "1    10001884  31742950     97.6000   67.0000  22.0000   97.0000  132.0000   \n",
       "2    10001884  33281437     98.2000   72.0000  20.0000   97.0000  157.0000   \n",
       "3    10001884  33478776     98.4000   74.0000  16.0000  100.0000  142.0000   \n",
       "4    10001884  34226385     98.2000   65.0000  18.0000   97.0000  113.0000   \n",
       "\n",
       "       dbp    pain  acuity    chiefcomplaint  \n",
       "0     None  unable  1.0000           Hypoxia  \n",
       "1  82.0000       0  2.0000           Dyspnea  \n",
       "2  66.0000       2  3.0000            CP/SOB  \n",
       "3  69.0000       0  3.0000  Dyspnea, Fatigue  \n",
       "4  91.0000       0  2.0000           Dyspnea  "
      ]
     },
     "execution_count": 186,
     "metadata": {},
     "output_type": "execute_result"
    }
   ],
   "source": [
    "connection = connect_to_postgres(DB_NAME, USERNAME, PASSWORD, HOST, PORT)\n",
    "triage_df = load_table(connection, 'mimiciv_ed.filtered_triage')\n",
    "print(triage_df.shape)\n",
    "triage_df.head()"
   ]
  },
  {
   "cell_type": "code",
   "execution_count": 187,
   "id": "57609e39-a5e8-432f-9e30-f6d4b66b361c",
   "metadata": {},
   "outputs": [
    {
     "data": {
      "text/plain": [
       "subject_id           0\n",
       "stay_id              0\n",
       "temperature       1431\n",
       "heartrate          847\n",
       "resprate          1223\n",
       "o2sat             1211\n",
       "sbp                956\n",
       "dbp               1036\n",
       "pain               869\n",
       "acuity             273\n",
       "chiefcomplaint       1\n",
       "dtype: int64"
      ]
     },
     "execution_count": 187,
     "metadata": {},
     "output_type": "execute_result"
    }
   ],
   "source": [
    "triage_df.isna().sum()"
   ]
  },
  {
   "cell_type": "code",
   "execution_count": 188,
   "id": "0f1e5031-25f7-451d-8dfb-dc2f5ba05792",
   "metadata": {},
   "outputs": [
    {
     "data": {
      "text/plain": [
       "43198"
      ]
     },
     "execution_count": 188,
     "metadata": {},
     "output_type": "execute_result"
    }
   ],
   "source": [
    "triage_df['stay_id'].nunique()"
   ]
  },
  {
   "cell_type": "code",
   "execution_count": 189,
   "id": "0a76663a-9643-47fa-920e-b9e09871c2c3",
   "metadata": {},
   "outputs": [
    {
     "data": {
      "text/plain": [
       "(43198, 11)"
      ]
     },
     "execution_count": 189,
     "metadata": {},
     "output_type": "execute_result"
    }
   ],
   "source": [
    "triage_df.shape"
   ]
  },
  {
   "cell_type": "code",
   "execution_count": 190,
   "id": "12df4971-7e36-4d6b-b3d3-c36b9769ff15",
   "metadata": {},
   "outputs": [
    {
     "name": "stdout",
     "output_type": "stream",
     "text": [
      "DataFrame has been saved as dataframes/ed_triage.csv\n"
     ]
    }
   ],
   "source": [
    "save_df_as_csv(triage_df, 'ed_triage.csv')"
   ]
  },
  {
   "cell_type": "markdown",
   "id": "49543406-6e6f-4996-9f19-640854a24072",
   "metadata": {},
   "source": [
    "Each row in this dataframe corresponds to a unique stay - so there will be a temp, heart rate, etc. associated with the stay if it is present"
   ]
  }
 ],
 "metadata": {
  "kernelspec": {
   "display_name": "Python 3 (ipykernel)",
   "language": "python",
   "name": "python3"
  },
  "language_info": {
   "codemirror_mode": {
    "name": "ipython",
    "version": 3
   },
   "file_extension": ".py",
   "mimetype": "text/x-python",
   "name": "python",
   "nbconvert_exporter": "python",
   "pygments_lexer": "ipython3",
   "version": "3.11.5"
  }
 },
 "nbformat": 4,
 "nbformat_minor": 5
}
