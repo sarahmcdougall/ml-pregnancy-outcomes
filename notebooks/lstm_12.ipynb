{
  "cells": [
    {
      "cell_type": "markdown",
      "source": [
        "# LSTM Modeling\n",
        "This Jupyter notebook creates two different LSTM architectures using TensorFlow: (1) binary output LSTM and (2) multilabel output LSTM. The two LSTM structures use the same input data."
      ],
      "metadata": {
        "id": "ZIFMeS4b9i1V"
      },
      "id": "ZIFMeS4b9i1V"
    },
    {
      "cell_type": "code",
      "source": [
        "### COMMENT OUT IF RUNNING LOCALLY (NOT VIA GOOGLE COLAB) ###\n",
        "from google.colab import drive\n",
        "drive.mount('/content/drive')"
      ],
      "metadata": {
        "colab": {
          "base_uri": "https://localhost:8080/"
        },
        "id": "piFikIAIUBtE",
        "outputId": "da0d2108-e6c8-4075-8edf-39d8d1131939"
      },
      "id": "piFikIAIUBtE",
      "execution_count": 1,
      "outputs": [
        {
          "output_type": "stream",
          "name": "stdout",
          "text": [
            "Mounted at /content/drive\n"
          ]
        }
      ]
    },
    {
      "cell_type": "code",
      "execution_count": 2,
      "id": "9c1efcf0-41df-4596-8590-67c5daafc602",
      "metadata": {
        "colab": {
          "base_uri": "https://localhost:8080/"
        },
        "id": "9c1efcf0-41df-4596-8590-67c5daafc602",
        "outputId": "301eb2ca-0567-4746-97fb-c52d9885ac7b"
      },
      "outputs": [
        {
          "output_type": "stream",
          "name": "stdout",
          "text": [
            "TensorFlow version: 2.17.0\n",
            "TensorFlow is using GPU.\n"
          ]
        }
      ],
      "source": [
        "import tensorflow as tf\n",
        "print(\"TensorFlow version:\", tf.__version__)\n",
        "if tf.config.list_physical_devices('GPU'):\n",
        "    print(\"TensorFlow is using GPU.\")\n",
        "else:\n",
        "    print(\"TensorFlow is using CPU.\")\n"
      ]
    },
    {
      "cell_type": "code",
      "source": [
        "!pip install shap"
      ],
      "metadata": {
        "colab": {
          "base_uri": "https://localhost:8080/"
        },
        "id": "zOChbCUeVBHR",
        "outputId": "1bbc90cb-5eef-4454-cb3e-00b0585eff66"
      },
      "id": "zOChbCUeVBHR",
      "execution_count": 3,
      "outputs": [
        {
          "output_type": "stream",
          "name": "stdout",
          "text": [
            "Collecting shap\n",
            "  Downloading shap-0.46.0-cp310-cp310-manylinux_2_12_x86_64.manylinux2010_x86_64.manylinux_2_17_x86_64.manylinux2014_x86_64.whl.metadata (24 kB)\n",
            "Requirement already satisfied: numpy in /usr/local/lib/python3.10/dist-packages (from shap) (1.26.4)\n",
            "Requirement already satisfied: scipy in /usr/local/lib/python3.10/dist-packages (from shap) (1.13.1)\n",
            "Requirement already satisfied: scikit-learn in /usr/local/lib/python3.10/dist-packages (from shap) (1.3.2)\n",
            "Requirement already satisfied: pandas in /usr/local/lib/python3.10/dist-packages (from shap) (2.1.4)\n",
            "Requirement already satisfied: tqdm>=4.27.0 in /usr/local/lib/python3.10/dist-packages (from shap) (4.66.5)\n",
            "Requirement already satisfied: packaging>20.9 in /usr/local/lib/python3.10/dist-packages (from shap) (24.1)\n",
            "Collecting slicer==0.0.8 (from shap)\n",
            "  Downloading slicer-0.0.8-py3-none-any.whl.metadata (4.0 kB)\n",
            "Requirement already satisfied: numba in /usr/local/lib/python3.10/dist-packages (from shap) (0.60.0)\n",
            "Requirement already satisfied: cloudpickle in /usr/local/lib/python3.10/dist-packages (from shap) (2.2.1)\n",
            "Requirement already satisfied: llvmlite<0.44,>=0.43.0dev0 in /usr/local/lib/python3.10/dist-packages (from numba->shap) (0.43.0)\n",
            "Requirement already satisfied: python-dateutil>=2.8.2 in /usr/local/lib/python3.10/dist-packages (from pandas->shap) (2.8.2)\n",
            "Requirement already satisfied: pytz>=2020.1 in /usr/local/lib/python3.10/dist-packages (from pandas->shap) (2024.1)\n",
            "Requirement already satisfied: tzdata>=2022.1 in /usr/local/lib/python3.10/dist-packages (from pandas->shap) (2024.1)\n",
            "Requirement already satisfied: joblib>=1.1.1 in /usr/local/lib/python3.10/dist-packages (from scikit-learn->shap) (1.4.2)\n",
            "Requirement already satisfied: threadpoolctl>=2.0.0 in /usr/local/lib/python3.10/dist-packages (from scikit-learn->shap) (3.5.0)\n",
            "Requirement already satisfied: six>=1.5 in /usr/local/lib/python3.10/dist-packages (from python-dateutil>=2.8.2->pandas->shap) (1.16.0)\n",
            "Downloading shap-0.46.0-cp310-cp310-manylinux_2_12_x86_64.manylinux2010_x86_64.manylinux_2_17_x86_64.manylinux2014_x86_64.whl (540 kB)\n",
            "\u001b[2K   \u001b[90m━━━━━━━━━━━━━━━━━━━━━━━━━━━━━━━━━━━━━━━━\u001b[0m \u001b[32m540.1/540.1 kB\u001b[0m \u001b[31m24.4 MB/s\u001b[0m eta \u001b[36m0:00:00\u001b[0m\n",
            "\u001b[?25hDownloading slicer-0.0.8-py3-none-any.whl (15 kB)\n",
            "Installing collected packages: slicer, shap\n",
            "Successfully installed shap-0.46.0 slicer-0.0.8\n"
          ]
        }
      ]
    },
    {
      "cell_type": "code",
      "execution_count": 4,
      "id": "0fe966ee-45f0-4ee6-a019-2622ced83293",
      "metadata": {
        "id": "0fe966ee-45f0-4ee6-a019-2622ced83293"
      },
      "outputs": [],
      "source": [
        "import numpy as np\n",
        "import pandas as pd\n",
        "import tensorflow as tf\n",
        "from tensorflow.keras.models import Model, Sequential\n",
        "from tensorflow.keras.layers import Input, LSTM, Dense, Concatenate, Dropout, Bidirectional, BatchNormalization\n",
        "from tensorflow.keras.optimizers import Adam\n",
        "from sklearn.metrics import recall_score\n",
        "from sklearn.decomposition import PCA\n",
        "from imblearn.over_sampling import RandomOverSampler, SMOTE\n",
        "from sklearn.model_selection import train_test_split, StratifiedKFold, KFold\n",
        "from sklearn.preprocessing import StandardScaler\n",
        "from sklearn.utils import class_weight\n",
        "import shap\n",
        "from scipy.sparse import csr_matrix\n",
        "\n",
        "def read_csv(csv_file_path):\n",
        "    # Read the CSV file into a DataFrame\n",
        "    df = pd.read_csv(csv_file_path)\n",
        "    print(csv_file_path)\n",
        "    print('Shape:', df.shape)\n",
        "    print(df.head())\n",
        "    return df"
      ]
    },
    {
      "cell_type": "code",
      "source": [
        "from sklearn.model_selection import train_test_split\n",
        "from sklearn.ensemble import RandomForestClassifier\n",
        "from sklearn.metrics import classification_report, confusion_matrix, roc_auc_score, recall_score, \\\n",
        "roc_curve\n",
        "from sklearn.metrics import precision_recall_curve, average_precision_score\n",
        "from imblearn.over_sampling import SMOTE\n",
        "from imblearn.pipeline import Pipeline\n",
        "import matplotlib.pyplot as plt\n",
        "import seaborn as sns"
      ],
      "metadata": {
        "id": "A0Pcl9aQVrBH"
      },
      "id": "A0Pcl9aQVrBH",
      "execution_count": 5,
      "outputs": []
    },
    {
      "cell_type": "markdown",
      "id": "7f8ff790-26d1-4c26-9f61-7e51a35511f3",
      "metadata": {
        "id": "7f8ff790-26d1-4c26-9f61-7e51a35511f3"
      },
      "source": [
        "# The Data Representation\n",
        "\n",
        "- We have two different sources of data: the time-series data, and static data. The time series data has dimensions equivalent to `(# samples, # time stamps, # features)`. The static data has dimensions equivalent to `(# samples, # features)`.\n",
        "- The time-series data will use an LSTM model since the architecture is designed to effectively work with long-range dependencies.\n",
        "- The **LSTM model** will be bidirectional, providing us with additional advantages. A bidirectional LSTM processes the data both forward and backward, which is advantageous for clinical time-series data that can be influenced by both previous and subsequent information. Patterns in the clinical records can be better captured by knowing the additional context provided from both directions.\n",
        "- The static data will be processed using a feed-forward network. The **feed-forward network (FFN)** is preferred over a single-layer perceptron (SLP) because it is more flexible. It can have multiple (hidden) layers to capture some of the more complex relationships between the input and output data.\n",
        "- Papers like \"An Extensive Data Processing Pipeline for MIMIC-IV\" call a model like this a `hybrid LSTM model` because it uses both static data and time-series data for training."
      ]
    },
    {
      "cell_type": "markdown",
      "id": "9599ae62-dbe4-43a7-b3ed-8c3b14878a5e",
      "metadata": {
        "id": "9599ae62-dbe4-43a7-b3ed-8c3b14878a5e"
      },
      "source": [
        "## Read in the Data"
      ]
    },
    {
      "cell_type": "code",
      "execution_count": 6,
      "id": "38e71dd9-57c7-457f-be93-393a9f4f751d",
      "metadata": {
        "colab": {
          "base_uri": "https://localhost:8080/"
        },
        "id": "38e71dd9-57c7-457f-be93-393a9f4f751d",
        "outputId": "5a4a4413-741b-4c4d-ade6-cd10efdfc046"
      },
      "outputs": [
        {
          "output_type": "stream",
          "name": "stderr",
          "text": [
            "<ipython-input-4-bf2573342fe9>:18: DtypeWarning: Columns (3) have mixed types. Specify dtype option on import or set low_memory=False.\n",
            "  df = pd.read_csv(csv_file_path)\n"
          ]
        },
        {
          "output_type": "stream",
          "name": "stdout",
          "text": [
            "/content/drive/MyDrive/final_dfs/final_static_data.csv\n",
            "Shape: (109751, 1789)\n",
            "   subject_id            charttime     hadm_id         duration  \\\n",
            "0    16925328  2151-05-25 15:03:00  20000024.0   75120000000000   \n",
            "1    11146739  2190-01-15 14:41:00  20000057.0  255480000000000   \n",
            "2    14546051  2130-12-10 00:00:00  20000069.0  175560000000000   \n",
            "3    13074106  2135-05-20 00:00:00  20000102.0  296880000000000   \n",
            "4    13559141  2174-12-06 00:00:00  20000347.0  177780000000000   \n",
            "\n",
            "     microbiology_orgname curr_service   care_unit_group disposition  \\\n",
            "0                     NaN          MED         Emergency        HOME   \n",
            "1                     NaN          MED         Emergency     UNKNOWN   \n",
            "2  GRAM POSITIVE BACTERIA          OBS  Labor & Delivery        HOME   \n",
            "3                     NaN          OBS  Labor & Delivery        HOME   \n",
            "4     SERRATIA MARCESCENS          MED         Emergency     UNKNOWN   \n",
            "\n",
            "   is_ed_visit  is_urgent_lab_event  ...                       race  \\\n",
            "0            0                    1  ...                    Unknown   \n",
            "1            0                    1  ...                    Unknown   \n",
            "2            0                    0  ...         Hispanic or Latino   \n",
            "3            0                    0  ...  Black or African American   \n",
            "4            0                    0  ...                      White   \n",
            "\n",
            "   dod_binary  procedure_during_admission  transfer_status  \\\n",
            "0         0.0                           0               ED   \n",
            "1         0.0                           0               ED   \n",
            "2         0.0                           0            admit   \n",
            "3         0.0                           0            admit   \n",
            "4         1.0                           0               ED   \n",
            "\n",
            "   triage_heartrate_outside_thresh  triage_sbp_outside_thresh  \\\n",
            "0                   Not applicable             Not applicable   \n",
            "1                   Not applicable             Not applicable   \n",
            "2                   Not applicable             Not applicable   \n",
            "3                   Not applicable             Not applicable   \n",
            "4                   Not applicable             Not applicable   \n",
            "\n",
            "   triage_dbp_outside_thresh  triage_resprate_outside_thresh  \\\n",
            "0             Not applicable                  Not applicable   \n",
            "1             Not applicable                  Not applicable   \n",
            "2             Not applicable                  Not applicable   \n",
            "3             Not applicable                  Not applicable   \n",
            "4             Not applicable                  Not applicable   \n",
            "\n",
            "   triage_o2sat_outside_thresh  is_postpartum  \n",
            "0               Not applicable          False  \n",
            "1               Not applicable          False  \n",
            "2               Not applicable           True  \n",
            "3               Not applicable          False  \n",
            "4               Not applicable          False  \n",
            "\n",
            "[5 rows x 1789 columns]\n"
          ]
        }
      ],
      "source": [
        "input_data = read_csv('/content/drive/MyDrive/final_dfs/final_static_data.csv')"
      ]
    },
    {
      "cell_type": "code",
      "execution_count": 7,
      "id": "fcbe3207-1c7c-4f4b-ab7c-ad11014a2cbb",
      "metadata": {
        "id": "fcbe3207-1c7c-4f4b-ab7c-ad11014a2cbb",
        "outputId": "19dc8a5d-961f-4cf1-d61f-33a105d32689",
        "colab": {
          "base_uri": "https://localhost:8080/"
        }
      },
      "outputs": [
        {
          "output_type": "stream",
          "name": "stdout",
          "text": [
            "/content/drive/MyDrive/final_dfs/target_outputs.csv\n",
            "Shape: (19076, 5)\n",
            "   subject_id  preeclampsia_output  preterm_output  hemorrhage_output  \\\n",
            "0    16925328                    0               0                  0   \n",
            "1    11146739                    0               0                  0   \n",
            "2    14546051                    0               0                  0   \n",
            "3    13074106                    0               1                  1   \n",
            "4    13559141                    0               0                  0   \n",
            "\n",
            "   has_adverse_outcome  \n",
            "0                    0  \n",
            "1                    0  \n",
            "2                    0  \n",
            "3                    1  \n",
            "4                    0  \n"
          ]
        }
      ],
      "source": [
        "output_data = read_csv('/content/drive/MyDrive/final_dfs/target_outputs.csv')"
      ]
    },
    {
      "cell_type": "markdown",
      "id": "08626d62-151e-4540-b242-e9e1147c6841",
      "metadata": {
        "id": "08626d62-151e-4540-b242-e9e1147c6841"
      },
      "source": [
        "## Generate the Model Architecture\n",
        "\n",
        "### General Structure\n",
        "- create the time series data input\n",
        "- create the static data input\n",
        "- create the concatenated output (LSTM and static data FFN)\n",
        "- create the final classification layer (a dense layer)\n",
        "- compule into the model with the appropriate optimizer, loss, and metrics"
      ]
    },
    {
      "cell_type": "markdown",
      "source": [
        "## Visualization-Related Functions"
      ],
      "metadata": {
        "id": "pSoARl6jyepw"
      },
      "id": "pSoARl6jyepw"
    },
    {
      "cell_type": "code",
      "source": [
        "SAVE_FOLDER = 'capstone_imgs'\n",
        "def gen_roc_curve(y_test, y_prob, plot_title, file_name):\n",
        "  # ROC Curve\n",
        "  auc_score = roc_auc_score(y_test, y_prob)\n",
        "  fpr, tpr, thresholds = roc_curve(y_test, y_prob)\n",
        "\n",
        "  plt.figure(figsize=(10, 6))\n",
        "  plt.plot(fpr, tpr, color='blue', label=f'ROC Curve(AUC = {auc_score:.2f})')\n",
        "  plt.plot([0, 1], [0, 1], color='grey', linestyle='--')\n",
        "  plt.xlim([0.0, 1.0])\n",
        "  plt.ylim([0.0, 1.05])\n",
        "  plt.xlabel('False Positive Rate')\n",
        "  plt.ylabel('True Positive Rate')\n",
        "  plt.title(plot_title)\n",
        "  plt.legend(loc='lower right')\n",
        "  plt.savefig(f'/content/drive/My Drive/{SAVE_FOLDER}/{file_name}', bbox_inches='tight')\n",
        "  plt.show()\n",
        "\n",
        "def gen_roc_curve_multi(y_test, y_prob, plot_title, file_name, column_names):\n",
        "    \"\"\"\n",
        "    Handle ROC Curve for each label independently, and plot separately.\n",
        "    \"\"\"\n",
        "    num_labels = y_test.shape[1]\n",
        "    plt.figure(figsize=(10, 6))\n",
        "\n",
        "    for i in range(num_labels):\n",
        "        fpr, tpr, _ = roc_curve(y_test[:, i], y_prob[:, i])\n",
        "        auc_score = roc_auc_score(y_test[:, i], y_prob[:, i])\n",
        "        plt.plot(fpr, tpr, label=f'{column_names[i]} (AUC = {auc_score:.2f})')\n",
        "\n",
        "    plt.plot([0, 1], [0, 1], color='grey', linestyle='--')\n",
        "    plt.xlim([0.0, 1.0])\n",
        "    plt.ylim([0.0, 1.05])\n",
        "    plt.xlabel('False Positive Rate')\n",
        "    plt.ylabel('True Positive Rate')\n",
        "    plt.title(plot_title)\n",
        "    plt.legend(loc='lower right')\n",
        "    plt.savefig(f'/content/drive/My Drive/{SAVE_FOLDER}/{file_name}.png', bbox_inches='tight')\n",
        "    plt.show()\n",
        "\n",
        "def gen_confusion_matrix(y_test, y_pred, plot_title, file_name):\n",
        "  # Confusion matrix\n",
        "  cm = confusion_matrix(y_test, y_pred)\n",
        "\n",
        "  plt.figure(figsize=(8, 6))\n",
        "  sns.heatmap(cm, annot=True, fmt='d', cmap='Blues',\n",
        "              xticklabels=['Class 0', 'Class 1'],\n",
        "              yticklabels=['Class 0', 'Class 1'])\n",
        "  plt.xlabel('Predicted')\n",
        "  plt.ylabel('Actual')\n",
        "  plt.title(plot_title)\n",
        "  plt.savefig(f'/content/drive/My Drive/{SAVE_FOLDER}/{file_name}', bbox_inches='tight')\n",
        "  plt.show()\n",
        "\n",
        "def gen_confusion_matrix_multi(y_test, y_pred, plot_title, file_name, column_names):\n",
        "    # Compute each heatmap separately for each target label\n",
        "    num_labels = y_test.shape[1]\n",
        "\n",
        "    for i in range(num_labels):\n",
        "        cm = confusion_matrix(y_test[:, i], y_pred[:, i])\n",
        "\n",
        "        plt.figure(figsize=(8, 6))\n",
        "        sns.heatmap(cm, annot=True, fmt='d', cmap='Blues',\n",
        "                    xticklabels=['Class 0', 'Class 1'],\n",
        "                    yticklabels=['Class 0', 'Class 1'])\n",
        "        plt.xlabel('Predicted')\n",
        "        plt.ylabel('Actual')\n",
        "        plt.title(f'{plot_title} - {column_names[i]}')\n",
        "        plt.savefig(f'/content/drive/My Drive/{SAVE_FOLDER}/{file_name}_{column_names[i]}.png', bbox_inches='tight')\n",
        "        plt.show()\n",
        "\n",
        "def gen_precision_recall_curve(y_test, y_pred_prob, plot_title, file_name):\n",
        "    precision, recall, thresholds = precision_recall_curve(y_test, y_pred_prob)\n",
        "    ap_score = average_precision_score(y_test, y_pred_prob)\n",
        "\n",
        "    # Plot Precision-Recall Curve\n",
        "    plt.figure(figsize=(10, 6))\n",
        "    plt.plot(recall, precision, color='blue', label=f'Precision-Recall Curve (AP = {ap_score:.2f})')\n",
        "    plt.xlim([0.0, 1.0])\n",
        "    plt.ylim([0.0, 1.05])\n",
        "    plt.xlabel('Recall')\n",
        "    plt.ylabel('Precision')\n",
        "    plt.title(plot_title)\n",
        "    plt.legend(loc='lower left')\n",
        "    plt.savefig(f'/content/drive/My Drive/{SAVE_FOLDER}/{file_name}', bbox_inches='tight')\n",
        "    plt.show()\n",
        "\n",
        "def gen_precision_recall_curve_multi(y_test, y_pred_prob, plot_title, file_name, class_names):\n",
        "    plt.figure()\n",
        "    num_classes = y_test.shape[1]\n",
        "\n",
        "    for i in range(num_classes):\n",
        "        precision, recall, _ = precision_recall_curve(y_test[:, i], y_pred_prob[:, i])\n",
        "        average_precision = average_precision_score(y_test[:, i], y_pred_prob[:, i])\n",
        "        plt.plot(recall, precision, lw=2, label=f'Class {class_names[i]} (AP = {average_precision:.2f})')\n",
        "\n",
        "    plt.xlabel('Recall')\n",
        "    plt.ylabel('Precision')\n",
        "    plt.title(plot_title)\n",
        "    plt.legend(loc='lower left')\n",
        "    plt.savefig(f'/content/drive/My Drive/{SAVE_FOLDER}/{file_name}', bbox_inches='tight')\n",
        "    plt.show()"
      ],
      "metadata": {
        "id": "h2ol6hx7yhi2"
      },
      "id": "h2ol6hx7yhi2",
      "execution_count": 8,
      "outputs": []
    },
    {
      "cell_type": "markdown",
      "id": "70b84536-9d92-432e-b88f-f1f1da786f0b",
      "metadata": {
        "id": "70b84536-9d92-432e-b88f-f1f1da786f0b"
      },
      "source": [
        "### Define the models:\n",
        "- create a base class for common preprocessing and training methods\n",
        "- then create separate child classes for binary and multilabel classification\n",
        "- Note that traditional SMOTE is not suited for multilabel classification - need to use a variation of SMOTE for handling the multilabel class\n",
        "- MLSMOTE - multilabel SMOTE that extends SMOTE for multilabel classification, generates synthetic samples for each label while considering the correlations between labels\n",
        "- We likely don't want to use MLSMOTE because it assumes that the labels are independent of each other - which we don't want to assume here\n",
        "- can instead use class weight adjustment -- compute weights based on class frquencies and apply them in the loss function during training, plus use resampling via RandomOverSampler"
      ]
    },
    {
      "cell_type": "code",
      "source": [
        "class BaseLSTM:\n",
        "    def __init__(self, timesteps, loss_function, test_size=0.3, pca_components=None):\n",
        "        self.timesteps = timesteps\n",
        "        self.loss_function = loss_function\n",
        "        self.test_size = test_size\n",
        "        self.pca_components = pca_components\n",
        "        self.lstm_model = None\n",
        "\n",
        "    def apply_pca(self, X):\n",
        "        if self.pca_components:\n",
        "            n_samples, timesteps, n_features = X.shape\n",
        "            X_flattened = X.reshape(n_samples, timesteps * n_features)\n",
        "            pca = PCA(n_components=self.pca_components)\n",
        "            # shape: (n_samples, n_components)\n",
        "            X_pca = pca.fit_transform(X_flattened)\n",
        "            print(f\"Reduced from {X.shape[0]} columns to {self.pca_components} PCA components\")\n",
        "            return X_pca\n",
        "        return X\n",
        "\n",
        "    def apply_resampling(self, X, y):\n",
        "        # use placeholder values -- not implemented here because the implementation\n",
        "        # varies between binary versus multilabel\n",
        "        return X, y\n",
        "\n",
        "    def build_model(self):\n",
        "        raise NotImplementedError(\"Should be implemented by child classes\")\n",
        "\n",
        "    def cross_validate(self, X_resampled, y_resampled):\n",
        "\n",
        "      kf = StratifiedKFold(n_splits=5, shuffle=True, random_state=23)\n",
        "\n",
        "      auc_scores = []\n",
        "      recall_scores = []\n",
        "      y_test_all = []\n",
        "      y_pred_prob_all = []\n",
        "      y_pred_all = []\n",
        "\n",
        "      for train_index, val_index in kf.split(X_resampled, y_resampled):\n",
        "          print('Validating fold...')\n",
        "          X_train, X_val = X_resampled[train_index], X_resampled[val_index]\n",
        "          y_train, y_val = y_resampled[train_index], y_resampled[val_index]\n",
        "\n",
        "          cls_weights = self.compute_class_weights(y_train)\n",
        "\n",
        "          self.lstm_model = self.build_model()\n",
        "          self.lstm_model.fit(\n",
        "              x=X_train,\n",
        "              y=y_train,\n",
        "              validation_data=(X_val, y_val),\n",
        "              batch_size=32,\n",
        "              epochs=10,\n",
        "              class_weight=cls_weights,\n",
        "              verbose=1\n",
        "          )\n",
        "\n",
        "          y_pred_prob = self.lstm_model.predict(X_val)\n",
        "          y_pred = self.predict_from_prob(y_pred_prob)\n",
        "\n",
        "          # calculate the metrics we are interested in, for each fold\n",
        "          fold_auc = roc_auc_score(y_val, y_pred_prob)\n",
        "          fold_recall = recall_score(y_val, y_pred, average='binary')\n",
        "\n",
        "          auc_scores.append(fold_auc)\n",
        "          recall_scores.append(fold_recall)\n",
        "          y_test_all.append(y_val)\n",
        "          y_pred_prob_all.append(y_pred_prob)\n",
        "          y_pred_all.append(y_pred)\n",
        "\n",
        "      print('Cross-validated AUC:', np.mean(auc_scores))\n",
        "      print('Cross-validated Recall:', np.mean(recall_scores))\n",
        "\n",
        "\n",
        "    def train(self, X_time_series, y):\n",
        "        X_pca = self.apply_pca(X_time_series)\n",
        "\n",
        "        ## reshape\n",
        "        X_pca_reshaped = None\n",
        "        n_samples, n_components = X_pca.shape\n",
        "        total_elements = n_samples * n_components\n",
        "        if total_elements % (n_samples * self.timesteps) == 0:\n",
        "          new_components = total_elements // (n_samples * self.timesteps)\n",
        "          X_pca_reshaped = X_pca.reshape(n_samples, self.timesteps, new_components)\n",
        "        else:\n",
        "          raise ValueError(\"Cannot reshape PCA output due to mistmatch in dimensions\")\n",
        "\n",
        "        X_resampled, y_resampled = self.apply_resampling(X_pca_reshaped, y)\n",
        "\n",
        "        self.cross_validate(X_resampled, y_resampled)\n",
        "\n",
        "        X_train, X_test, y_train, y_test = train_test_split(\n",
        "            X_resampled, y_resampled, test_size=self.test_size, random_state=23\n",
        "        )\n",
        "\n",
        "        cls_weights = self.compute_class_weights(y_train)\n",
        "\n",
        "        self.lstm_model = self.build_model()\n",
        "        model_fit = self.lstm_model.fit(\n",
        "            x=X_train,\n",
        "            y=y_train,\n",
        "            validation_data=(X_test, y_test),\n",
        "            batch_size=32,\n",
        "            epochs=20,\n",
        "            class_weight=cls_weights,\n",
        "            verbose=1\n",
        "        )\n",
        "\n",
        "        y_pred_prob = self.lstm_model.predict(X_test)\n",
        "        y_pred = self.predict_from_prob(y_pred_prob)\n",
        "\n",
        "        train_auc = tf.keras.metrics.AUC()(y_test, y_pred_prob).numpy()\n",
        "        train_recall = recall_score(y_test, y_pred, average='binary')\n",
        "\n",
        "        print('Train AUC:', train_auc)\n",
        "        print('Train Recall:', train_recall)\n",
        "\n",
        "        report = classification_report(y_test, y_pred, target_names=['Class 0', 'Class 1'])\n",
        "        print('Classification Report:')\n",
        "        print(report)\n",
        "\n",
        "        ### plot visualizations\n",
        "        gen_roc_curve(y_test, y_pred_prob, 'Binary LSTM ROC Curve', 'binary_lstm_roc.png')\n",
        "        gen_confusion_matrix(y_test, y_pred, 'Binary LSTM Confusion Matrix',\n",
        "                             'binary_lstm_conf_matrix.png')\n",
        "        gen_precision_recall_curve(y_test, y_pred_prob, 'Binary LSTM Precision-Recall Curve',\n",
        "                                   'binary_lstm_prec_recall.png')\n",
        "\n",
        "        return model_fit\n",
        "\n",
        "    def predict_from_prob(self, y_pred_prob):\n",
        "        raise NotImplementedError(\"Subclasses should implement this method.\")\n",
        "\n",
        "    def compute_class_weights(self, y):\n",
        "        cls_weights = class_weight.compute_class_weight(\n",
        "            'balanced',\n",
        "            classes=np.unique(y),\n",
        "            y=y\n",
        "        )\n",
        "        cls_weights = dict(enumerate(cls_weights))\n",
        "        return cls_weights\n",
        "\n",
        "    def predict(self, X_time_series):\n",
        "        X_pca = self.apply_pca(X_time_series)\n",
        "\n",
        "        X_pca_reshaped = None\n",
        "        n_samples, n_components = X_pca.shape\n",
        "        total_elements = n_samples * n_components\n",
        "        if total_elements % (n_samples * self.timesteps) == 0:\n",
        "          new_components = total_elements // (n_samples * self.timesteps)\n",
        "          X_pca_reshaped = X_pca.reshape(n_samples, self.timesteps, new_components)\n",
        "        else:\n",
        "          raise ValueError(\"Cannot reshape PCA output due to mistmatch in dimensions\")\n",
        "\n",
        "        results = self.lstm_model.predict(X_pca_reshaped)\n",
        "        return self.predict_from_prob(results)\n",
        "\n",
        "    def save(self, file_path):\n",
        "        self.lstm_model.save(file_path, overwrite=True)\n",
        "        print(f'Model successfully saved to file path {file_path}')\n",
        "\n",
        "    def load(self, file_path):\n",
        "        self.lstm_model = tf.keras.models.load_model(file_path)\n",
        "        print(f'Model successfully loaded from file path {file_path}')"
      ],
      "metadata": {
        "id": "ACtXdAuC0eHR"
      },
      "id": "ACtXdAuC0eHR",
      "execution_count": 30,
      "outputs": []
    },
    {
      "cell_type": "code",
      "execution_count": 12,
      "id": "53c0540e-cd50-4bc2-bceb-1561d502b8c2",
      "metadata": {
        "id": "53c0540e-cd50-4bc2-bceb-1561d502b8c2"
      },
      "outputs": [],
      "source": [
        "class BinaryMIMICLSTM(BaseLSTM):\n",
        "    def build_model(self):\n",
        "\n",
        "        model = Sequential()\n",
        "\n",
        "        # LSTM layer with reduced units\n",
        "        model.add(LSTM(units=16, input_shape=(self.timesteps, self.pca_components)))\n",
        "        # should use dropout between 0.2 and 0.5\n",
        "        model.add(Dropout(0.3))\n",
        "        model.add(Dense(32, activation='relu'))\n",
        "\n",
        "        # Dense output layer\n",
        "        # use value of \"1\" here since this model has binary output\n",
        "        # use sigmoid activation since goal is to classify into one of two classes\n",
        "        model.add(Dense(1, activation='sigmoid'))\n",
        "\n",
        "        # using legacy Adam optimizer (works better on M1 Mac)\n",
        "        optimizer = tf.keras.optimizers.Adam(learning_rate=0.001)\n",
        "        model.compile(optimizer=optimizer, loss=self.loss_function, metrics=['AUC', 'Recall'])\n",
        "\n",
        "        model.summary()\n",
        "        return model\n",
        "\n",
        "    def apply_resampling(self, X, y):\n",
        "      # SMOTE expects 2 dimensions, so need to flatten\n",
        "      X_flattened = X.reshape(X.shape[0], -1) #(n_samples, timesteps * num_features)\n",
        "      smote = SMOTE(random_state=23)\n",
        "      X_resampled, y_resampled = smote.fit_resample(X_flattened, y)\n",
        "      # revert back to 3D\n",
        "      n_samples = X_resampled.shape[0]\n",
        "      n_features = X.shape[2] # from original representation of X\n",
        "      X_reshaped = X_resampled.reshape(n_samples, self.timesteps, n_features)\n",
        "      return X_reshaped, y_resampled\n",
        "\n",
        "    def predict_from_prob(self, y_pred_prob):\n",
        "      return (y_pred_prob > 0.5).astype(int).flatten()"
      ]
    },
    {
      "cell_type": "code",
      "source": [
        "class MultilabelMIMICLSTM(BaseLSTM):\n",
        "  def __init__(self, timesteps, num_labels, loss_function, class_names,\n",
        "               test_size=0.3, pca_components=None):\n",
        "    super().__init__(timesteps, loss_function, test_size, pca_components)\n",
        "    self.num_labels = num_labels\n",
        "    self.class_names = class_names\n",
        "\n",
        "  def build_model(self):\n",
        "    model = Sequential()\n",
        "    model.add(LSTM(units=16, input_shape=(self.timesteps, self.pca_components), return_sequences=False))\n",
        "    model.add(Dropout(0.3))\n",
        "    model.add(Dense(32, activation='relu'))\n",
        "    # use softmax to produce probability distribution over the multiple classes\n",
        "    model.add(Dense(self.num_labels, activation='softmax'))\n",
        "\n",
        "    optimizer = tf.keras.optimizers.Adam(learning_rate=0.001)\n",
        "    model.compile(optimizer=optimizer, loss=self.loss_function, metrics=['AUC', 'Recall'])\n",
        "\n",
        "    model.summary()\n",
        "    return model\n",
        "\n",
        "\n",
        "  def compute_class_weights(self, y):\n",
        "      # Compute class weights for multilabel classification\n",
        "      class_weights = {}\n",
        "      num_labels = y.shape[1]\n",
        "      print('about to compute weights')\n",
        "      for i in range(num_labels):\n",
        "          cls_weights = class_weight.compute_class_weight(\n",
        "              class_weight='balanced',\n",
        "              classes=np.unique(y[:, i]),\n",
        "              y=y[:, i]\n",
        "          )\n",
        "          class_weights[i] = {label: cls_weights[index] for index, label in enumerate(np.unique(y[:, i]))}\n",
        "      print('weights created')\n",
        "      print(class_weights)\n",
        "      return class_weights\n",
        "\n",
        "  def class_weights_to_sample_weights(self, y, class_weights):\n",
        "    if len(y.shape) == 1:\n",
        "        y = y[:, np.newaxis]\n",
        "\n",
        "    sample_weights = np.ones(shape=(y.shape[0],), dtype=np.float32)\n",
        "\n",
        "    for i in range(y.shape[1]):\n",
        "        label_weights = class_weights.get(i, {})\n",
        "        weight_for_label_1 = label_weights.get(1, 1)\n",
        "\n",
        "        sample_indices = np.where(y[:, i] == 1)[0]\n",
        "\n",
        "        sample_weights[sample_indices] *= weight_for_label_1\n",
        "\n",
        "    return sample_weights\n",
        "\n",
        "  def cross_validate(self, X, y):\n",
        "    auc_scores = []\n",
        "    recall_scores = []\n",
        "    y_test_all = []\n",
        "    y_pred_prob_all = []\n",
        "    y_pred_all = []\n",
        "\n",
        "    kf = KFold(n_splits=5, shuffle=True, random_state=23)\n",
        "\n",
        "    for train_index, val_index in kf.split(X, y):\n",
        "        print('Validating fold...')\n",
        "        X_train, X_val = X[train_index], X[val_index]\n",
        "        y_train, y_val = y[train_index], y[val_index]\n",
        "\n",
        "        cls_weights = self.compute_class_weights(y_train)\n",
        "        sample_weights = self.class_weights_to_sample_weights(y_train, cls_weights)\n",
        "\n",
        "        self.lstm_model = self.build_model()\n",
        "        self.lstm_model.fit(\n",
        "            x=X_train,\n",
        "            y=y_train,\n",
        "            validation_data=(X_val, y_val),\n",
        "            batch_size=32,\n",
        "            epochs=10,\n",
        "            sample_weight=sample_weights,\n",
        "            verbose=1\n",
        "        )\n",
        "\n",
        "        y_pred_prob = self.lstm_model.predict(X_val)\n",
        "        y_pred = self.predict_from_prob(y_pred_prob)\n",
        "\n",
        "        fold_auc = []\n",
        "        fold_recall = []\n",
        "\n",
        "        for i in range(y_val.shape[1]):\n",
        "            fold_auc.append(roc_auc_score(y_val[:, i], y_pred_prob[:, i]))\n",
        "            fold_recall.append(recall_score(y_val[:, i], y_pred[:, i], average='binary'))\n",
        "\n",
        "        auc_scores.append(np.mean(fold_auc))\n",
        "        recall_scores.append(np.mean(fold_recall))\n",
        "        y_test_all.append(y_val)\n",
        "        y_pred_prob_all.append(y_pred_prob)\n",
        "        y_pred_all.append(y_pred)\n",
        "\n",
        "    auc_scores = np.array(auc_scores)\n",
        "    recall_scores = np.array(recall_scores)\n",
        "\n",
        "    print('Mean AUC scores across folds:', np.mean(auc_scores))\n",
        "    print('Mean Recall scores across folds:', np.mean(recall_scores))\n",
        "    return auc_scores, recall_scores, y_test_all, y_pred_prob_all, y_pred_all\n",
        "\n",
        "\n",
        "  def train(self, X_time_series, y):\n",
        "      X_pca = self.apply_pca(X_time_series)\n",
        "\n",
        "      ## reshape\n",
        "      X_pca_reshaped = None\n",
        "      n_samples, n_components = X_pca.shape\n",
        "      total_elements = n_samples * n_components\n",
        "      if total_elements % (n_samples * self.timesteps) == 0:\n",
        "        new_components = total_elements // (n_samples * self.timesteps)\n",
        "        X_pca_reshaped = X_pca.reshape(n_samples, self.timesteps, new_components)\n",
        "      else:\n",
        "        raise ValueError(\"Cannot reshape PCA output due to mistmatch in dimensions\")\n",
        "\n",
        "      self.cross_validate(X_pca_reshaped, y)\n",
        "\n",
        "      X_train, X_test, y_train, y_test = train_test_split(\n",
        "          X_pca_reshaped, y, test_size=self.test_size, random_state=23\n",
        "      )\n",
        "\n",
        "      cls_weights = self.compute_class_weights(y_train)\n",
        "      sample_weights = self.class_weights_to_sample_weights(y_train, cls_weights)\n",
        "\n",
        "\n",
        "      self.lstm_model = self.build_model()\n",
        "      model_fit = self.lstm_model.fit(\n",
        "          x=X_train,\n",
        "          y=y_train,\n",
        "          validation_data=(X_test, y_test),\n",
        "          batch_size=32,\n",
        "          epochs=10,\n",
        "          sample_weight=sample_weights,\n",
        "          verbose=1\n",
        "      )\n",
        "\n",
        "      y_pred_prob = self.lstm_model.predict(X_test)\n",
        "      y_pred = self.predict_from_prob(y_pred_prob)\n",
        "\n",
        "      train_auc = tf.keras.metrics.AUC()(y_test, y_pred_prob).numpy()\n",
        "      train_recall = recall_score(y_test, y_pred, average='weighted')\n",
        "\n",
        "      print('Train AUC:', train_auc)\n",
        "      print('Train Recall (Weighted):', train_recall)\n",
        "\n",
        "      if self.class_names is not None:\n",
        "            report = classification_report(y_test, y_pred, target_names=self.class_names)\n",
        "      else:\n",
        "            report = classification_report(y_test, y_pred, target_names=[f'Class {i}' for i in range(y_test.shape[1])])\n",
        "\n",
        "      print(report)\n",
        "\n",
        "      ### plot visualizations\n",
        "      gen_roc_curve_multi(y_test, y_pred_prob, 'Multi-label LSTM ROC Curve', 'multi_lstm_roc_updated.png',\n",
        "                          self.class_names)\n",
        "      gen_confusion_matrix_multi(y_test, y_pred, 'Multi-label LSTM Confusion Matrix',\n",
        "                            'multi_lstm_conf_matrix_updated.png', self.class_names)\n",
        "      gen_precision_recall_curve_multi(y_test, y_pred_prob, 'Multi-label LSTM Precision-Recall Curve',\n",
        "                                  'multi_lstm_prec_recall_updated.png', self.class_names)\n",
        "\n",
        "\n",
        "      return model_fit\n",
        "\n",
        "  def predict_from_prob(self, y_pred_prob):\n",
        "    # we prefer higher recall, which is what lowering this threshold achieves\n",
        "    return (y_pred_prob > 0.3).astype(int)"
      ],
      "metadata": {
        "id": "WnJBo1tyzvQd"
      },
      "id": "WnJBo1tyzvQd",
      "execution_count": 39,
      "outputs": []
    },
    {
      "cell_type": "markdown",
      "source": [
        "## Running the Binary LSTM Model"
      ],
      "metadata": {
        "id": "F7xxTuRT_Esn"
      },
      "id": "F7xxTuRT_Esn"
    },
    {
      "cell_type": "markdown",
      "id": "d7fd1180-dd71-4723-91aa-b37f58ca6bca",
      "metadata": {
        "id": "d7fd1180-dd71-4723-91aa-b37f58ca6bca"
      },
      "source": [
        "### Prepare the data, then train and evaluate the model"
      ]
    },
    {
      "cell_type": "code",
      "source": [
        "for col in input_data.columns:\n",
        "    if pd.api.types.is_float_dtype(input_data[col]):\n",
        "            input_data[col] = input_data[col].astype(int)"
      ],
      "metadata": {
        "id": "5GwE6JutjEEL"
      },
      "id": "5GwE6JutjEEL",
      "execution_count": 14,
      "outputs": []
    },
    {
      "cell_type": "code",
      "execution_count": 15,
      "id": "6a41f141-aa56-4247-a387-d2ac07c0da86",
      "metadata": {
        "id": "6a41f141-aa56-4247-a387-d2ac07c0da86"
      },
      "outputs": [],
      "source": [
        "# these columns are either output cols, not necessary for the model, or are\n",
        "# numeric features that will get handled separately\n",
        "exclude_cols = ['has_adverse_outcome', 'subject_id', 'hadm_id', 'charttime', 'duration', 'age_at_admission',\n",
        "                'mean_patient_weight']\n",
        "feature_cols = [col for col in input_data.columns.tolist() if col not in exclude_cols]\n",
        "# get dummies for all the categorical data\n",
        "input_data = pd.get_dummies(input_data, columns=feature_cols)"
      ]
    },
    {
      "cell_type": "code",
      "execution_count": 16,
      "id": "39227e82-2e93-4052-8773-a6e4dea55c39",
      "metadata": {
        "id": "39227e82-2e93-4052-8773-a6e4dea55c39"
      },
      "outputs": [],
      "source": [
        "# numeric data\n",
        "columns_to_scale = input_data[['age_at_admission', 'mean_patient_weight']]\n",
        "\n",
        "scaler = StandardScaler()\n",
        "scaled_column = scaler.fit_transform(columns_to_scale)\n",
        "\n",
        "scaled_column_df = pd.DataFrame(scaled_column, columns=['age_at_admission', 'mean_patient_weight'], index=input_data.index)\n",
        "input_data = input_data.drop(columns=['age_at_admission', 'mean_patient_weight'])\n",
        "\n",
        "# Add the scaled column back to the DataFrame\n",
        "input_data = pd.concat([input_data, scaled_column_df], axis=1)"
      ]
    },
    {
      "cell_type": "markdown",
      "id": "143b68dd-0a8b-41b2-89a3-29583d2fdc1c",
      "metadata": {
        "id": "143b68dd-0a8b-41b2-89a3-29583d2fdc1c"
      },
      "source": [
        "### Create Time Sequences"
      ]
    },
    {
      "cell_type": "markdown",
      "id": "90fee637-0148-4476-9ce5-8bd8f227ebcb",
      "metadata": {
        "id": "90fee637-0148-4476-9ce5-8bd8f227ebcb"
      },
      "source": [
        "LSTM requires data to be in 3D array format of shape `(samples, timesteps, features)`"
      ]
    },
    {
      "cell_type": "code",
      "execution_count": 17,
      "id": "f7056e80-c18d-4fd3-9f92-ccb6cf6f7475",
      "metadata": {
        "id": "f7056e80-c18d-4fd3-9f92-ccb6cf6f7475"
      },
      "outputs": [],
      "source": [
        "# sort and group by subject\n",
        "# then create sequences where each sequence corresponds to a series of hadm_id events\n",
        "input_data = input_data.sort_values(by=['subject_id', 'charttime'])"
      ]
    },
    {
      "cell_type": "code",
      "execution_count": 18,
      "id": "a2db8ac7-9f32-4159-ae67-e5f6a45f6208",
      "metadata": {
        "id": "a2db8ac7-9f32-4159-ae67-e5f6a45f6208"
      },
      "outputs": [],
      "source": [
        "admission_counts = input_data.groupby('subject_id').size()\n",
        "subject_ids = admission_counts[admission_counts >= 2].index\n",
        "filtered_input_data = input_data[input_data['subject_id'].isin(subject_ids)]"
      ]
    },
    {
      "cell_type": "code",
      "execution_count": 19,
      "id": "75df9ae4-4f03-47a4-ac98-a59a3ea64275",
      "metadata": {
        "id": "75df9ae4-4f03-47a4-ac98-a59a3ea64275",
        "outputId": "2596d6ce-5b96-4edd-f008-e25de16f3762",
        "colab": {
          "base_uri": "https://localhost:8080/"
        }
      },
      "outputs": [
        {
          "output_type": "execute_result",
          "data": {
            "text/plain": [
              "(106786, 3639)"
            ]
          },
          "metadata": {},
          "execution_count": 19
        }
      ],
      "source": [
        "filtered_input_data.shape"
      ]
    },
    {
      "cell_type": "code",
      "execution_count": 20,
      "id": "89a50d37-7576-460f-b481-3cb6a6b99946",
      "metadata": {
        "id": "89a50d37-7576-460f-b481-3cb6a6b99946"
      },
      "outputs": [],
      "source": [
        "filtered_input_data = pd.merge(filtered_input_data, output_data, on='subject_id', how='left')"
      ]
    },
    {
      "cell_type": "code",
      "execution_count": 21,
      "id": "d37ffe37-4f37-4cf1-a50a-2340fcab7c6a",
      "metadata": {
        "id": "d37ffe37-4f37-4cf1-a50a-2340fcab7c6a",
        "outputId": "491ea6d2-5d71-40db-e2f4-ee92b12cf44f",
        "colab": {
          "base_uri": "https://localhost:8080/",
          "height": 176
        }
      },
      "outputs": [
        {
          "output_type": "execute_result",
          "data": {
            "text/plain": [
              "has_adverse_outcome\n",
              "0    91716\n",
              "1    15070\n",
              "Name: count, dtype: int64"
            ],
            "text/html": [
              "<div>\n",
              "<style scoped>\n",
              "    .dataframe tbody tr th:only-of-type {\n",
              "        vertical-align: middle;\n",
              "    }\n",
              "\n",
              "    .dataframe tbody tr th {\n",
              "        vertical-align: top;\n",
              "    }\n",
              "\n",
              "    .dataframe thead th {\n",
              "        text-align: right;\n",
              "    }\n",
              "</style>\n",
              "<table border=\"1\" class=\"dataframe\">\n",
              "  <thead>\n",
              "    <tr style=\"text-align: right;\">\n",
              "      <th></th>\n",
              "      <th>count</th>\n",
              "    </tr>\n",
              "    <tr>\n",
              "      <th>has_adverse_outcome</th>\n",
              "      <th></th>\n",
              "    </tr>\n",
              "  </thead>\n",
              "  <tbody>\n",
              "    <tr>\n",
              "      <th>0</th>\n",
              "      <td>91716</td>\n",
              "    </tr>\n",
              "    <tr>\n",
              "      <th>1</th>\n",
              "      <td>15070</td>\n",
              "    </tr>\n",
              "  </tbody>\n",
              "</table>\n",
              "</div><br><label><b>dtype:</b> int64</label>"
            ]
          },
          "metadata": {},
          "execution_count": 21
        }
      ],
      "source": [
        "filtered_input_data['has_adverse_outcome'].value_counts()"
      ]
    },
    {
      "cell_type": "markdown",
      "source": [
        "Notes on sequences and their relationship with PCA:\n",
        "- PCA is applied to the features independently of their time order\n",
        "- PCA does not inherently handle temporal sequences\n",
        "- we should create the sequences first, then apply to PCA, then reshape as needed so that we are preserving the temporal structure"
      ],
      "metadata": {
        "id": "WzM3lW1a-yVF"
      },
      "id": "WzM3lW1a-yVF"
    },
    {
      "cell_type": "code",
      "execution_count": 22,
      "id": "78384303-1b83-4308-8988-672f7a326d97",
      "metadata": {
        "id": "78384303-1b83-4308-8988-672f7a326d97"
      },
      "outputs": [],
      "source": [
        "# Define timesteps -- hadm_id serves as the timestep\n",
        "timesteps = 2\n",
        "chunk_size = 10000\n",
        "# define feature cols\n",
        "exclude_cols = ['has_adverse_outcome', 'subject_id', 'hadm_id', 'charttime', 'duration',\n",
        "                'preeclampsia_output', 'preterm_output', 'hemorrhage_output']\n",
        "feature_cols = [col for col in filtered_input_data.columns.tolist() if col not in exclude_cols]\n",
        "outcome_col = 'has_adverse_outcome'\n",
        "\n",
        "# approaches for making this process less computationall expensive:\n",
        "# (1) use vectorized operations using numpy library\n",
        "# (2) process the data in chunks\n",
        "def create_sequences_from_chunk(chunk, feature_cols, outcome_col, timesteps):\n",
        "    # this function works for single outcome or multiple outcome columns\n",
        "    features = chunk[feature_cols].values\n",
        "    outcomes = chunk[outcome_col].values\n",
        "\n",
        "    num_sequences = len(features) - timesteps\n",
        "\n",
        "    if num_sequences <= 0:\n",
        "        return np.array([]), np.array([])\n",
        "\n",
        "    shape = (num_sequences, timesteps, features.shape[1])\n",
        "    strides = (features.strides[0], features.strides[0], features.strides[1])\n",
        "    sequences = np.lib.stride_tricks.as_strided(features, shape=shape, strides=strides)\n",
        "    labels = outcomes[timesteps:]\n",
        "\n",
        "    return sequences, labels"
      ]
    },
    {
      "cell_type": "code",
      "source": [
        "# results from all the processed chunks\n",
        "all_sequences = []\n",
        "all_labels = []\n",
        "for start in range(0, len(filtered_input_data), chunk_size):\n",
        "    end = min(start + chunk_size, len(filtered_input_data))\n",
        "    chunk = filtered_input_data.iloc[start:end]\n",
        "    sequences, labels = create_sequences_from_chunk(chunk, feature_cols, outcome_col, timesteps)\n",
        "    if len(sequences) > 0:\n",
        "        all_sequences.append(sequences)\n",
        "        all_labels.append(labels)"
      ],
      "metadata": {
        "id": "NUW0aLEdA5QA"
      },
      "id": "NUW0aLEdA5QA",
      "execution_count": 23,
      "outputs": []
    },
    {
      "cell_type": "code",
      "source": [
        "X = np.concatenate(all_sequences, axis=0)\n",
        "y = np.concatenate(all_labels, axis=0)"
      ],
      "metadata": {
        "id": "dSoCsUwT0Lim"
      },
      "id": "dSoCsUwT0Lim",
      "execution_count": 24,
      "outputs": []
    },
    {
      "cell_type": "code",
      "source": [
        "# multilabel example\n",
        "all_sequences = []\n",
        "all_labels = []\n",
        "\n",
        "# define feature cols\n",
        "exclude_cols = ['has_adverse_outcome', 'subject_id', 'hadm_id', 'charttime', 'duration',\n",
        "                'preeclampsia_output', 'preterm_output', 'hemorrhage_output']\n",
        "feature_cols = [col for col in filtered_input_data.columns.tolist() if col not in exclude_cols]\n",
        "outcome_cols = ['preeclampsia_output', 'preterm_output', 'hemorrhage_output']\n",
        "for start in range(0, len(filtered_input_data), chunk_size):\n",
        "    end = min(start + chunk_size, len(filtered_input_data))\n",
        "    chunk = filtered_input_data.iloc[start:end]\n",
        "    sequences, labels = create_sequences_from_chunk(chunk, feature_cols, outcome_cols, timesteps)\n",
        "    if len(sequences) > 0:\n",
        "        all_sequences.append(sequences)\n",
        "        all_labels.append(labels)"
      ],
      "metadata": {
        "id": "JczmilDW2aDq"
      },
      "id": "JczmilDW2aDq",
      "execution_count": 28,
      "outputs": []
    },
    {
      "cell_type": "code",
      "source": [
        "X_multi = np.concatenate(all_sequences, axis=0)\n",
        "y_multi = np.concatenate(all_labels, axis=0)\n",
        "y_multi_names = outcome_cols"
      ],
      "metadata": {
        "id": "ZwFfd6wm3bSQ"
      },
      "id": "ZwFfd6wm3bSQ",
      "execution_count": 29,
      "outputs": []
    },
    {
      "cell_type": "markdown",
      "source": [
        "### Determine appropriate number of PCA Components\n",
        "- a practical number to use is around 5-20 components\n",
        "- can use the explained variance ratio to help in choosing the number of components based on the amount of variance they explain\n",
        "- example: choose enough components to explain 80% of the variance in the model"
      ],
      "metadata": {
        "id": "Q1TKswumHNSG"
      },
      "id": "Q1TKswumHNSG"
    },
    {
      "cell_type": "code",
      "source": [
        "# PCA requires format of (n_samples, n_features) but X is currently in\n",
        "# the format of (n_samples, timesteps, n_features)\n",
        "n_samples, timesteps, n_features = X.shape\n",
        "X_flattened = X.reshape(n_samples, timesteps * n_features)\n",
        "pca = PCA()\n",
        "X_pca = pca.fit_transform(X_flattened)\n",
        "# determine number of components that cumulatively determine 80% of the variable\n",
        "cum_var = np.cumsum(pca.explained_variance_ratio_)\n",
        "# get number of components\n",
        "num_components = np.argmax(cum_var >= 0.8) + 1\n",
        "print('Proposed number of components:', num_components)"
      ],
      "metadata": {
        "id": "ctXEW61bHMtB"
      },
      "id": "ctXEW61bHMtB",
      "execution_count": null,
      "outputs": []
    },
    {
      "cell_type": "markdown",
      "source": [
        "Proposed number of components: 206\n",
        "- about 200 components needed to explain 80% of the variance\n",
        "- gives us a substantial decrease in feature complexity"
      ],
      "metadata": {
        "id": "9j9r3pkJPl-b"
      },
      "id": "9j9r3pkJPl-b"
    },
    {
      "cell_type": "markdown",
      "source": [
        "### Create model!"
      ],
      "metadata": {
        "id": "dboilu5UBtQK"
      },
      "id": "dboilu5UBtQK"
    },
    {
      "cell_type": "code",
      "source": [
        "timesteps = 2\n",
        "loss_function = 'binary_crossentropy'\n",
        "# start with smaller number of components for initial testing\n",
        "pca_components = 200\n",
        "bin_model = BinaryMIMICLSTM(timesteps, loss_function, test_size=0.3,\n",
        "                            pca_components=pca_components)"
      ],
      "metadata": {
        "id": "uSG2e3UIBvDa"
      },
      "id": "uSG2e3UIBvDa",
      "execution_count": 25,
      "outputs": []
    },
    {
      "cell_type": "code",
      "execution_count": 26,
      "id": "f24f1063-81cb-49ac-a7cb-f533fe9f9a1c",
      "metadata": {
        "id": "f24f1063-81cb-49ac-a7cb-f533fe9f9a1c",
        "colab": {
          "base_uri": "https://localhost:8080/",
          "height": 1000
        },
        "outputId": "b5acf1dc-b3d4-46e8-faaa-b71a22474ae4"
      },
      "outputs": [
        {
          "output_type": "stream",
          "name": "stdout",
          "text": [
            "Reduced from 106764 columns to 200 PCA components\n",
            "Validating fold...\n"
          ]
        },
        {
          "output_type": "stream",
          "name": "stderr",
          "text": [
            "/usr/local/lib/python3.10/dist-packages/keras/src/layers/rnn/rnn.py:204: UserWarning: Do not pass an `input_shape`/`input_dim` argument to a layer. When using Sequential models, prefer using an `Input(shape)` object as the first layer in the model instead.\n",
            "  super().__init__(**kwargs)\n"
          ]
        },
        {
          "output_type": "display_data",
          "data": {
            "text/plain": [
              "\u001b[1mModel: \"sequential\"\u001b[0m\n"
            ],
            "text/html": [
              "<pre style=\"white-space:pre;overflow-x:auto;line-height:normal;font-family:Menlo,'DejaVu Sans Mono',consolas,'Courier New',monospace\"><span style=\"font-weight: bold\">Model: \"sequential\"</span>\n",
              "</pre>\n"
            ]
          },
          "metadata": {}
        },
        {
          "output_type": "display_data",
          "data": {
            "text/plain": [
              "┏━━━━━━━━━━━━━━━━━━━━━━━━━━━━━━━━━━━━━━┳━━━━━━━━━━━━━━━━━━━━━━━━━━━━━┳━━━━━━━━━━━━━━━━━┓\n",
              "┃\u001b[1m \u001b[0m\u001b[1mLayer (type)                        \u001b[0m\u001b[1m \u001b[0m┃\u001b[1m \u001b[0m\u001b[1mOutput Shape               \u001b[0m\u001b[1m \u001b[0m┃\u001b[1m \u001b[0m\u001b[1m        Param #\u001b[0m\u001b[1m \u001b[0m┃\n",
              "┡━━━━━━━━━━━━━━━━━━━━━━━━━━━━━━━━━━━━━━╇━━━━━━━━━━━━━━━━━━━━━━━━━━━━━╇━━━━━━━━━━━━━━━━━┩\n",
              "│ lstm (\u001b[38;5;33mLSTM\u001b[0m)                          │ (\u001b[38;5;45mNone\u001b[0m, \u001b[38;5;34m16\u001b[0m)                  │          \u001b[38;5;34m13,888\u001b[0m │\n",
              "├──────────────────────────────────────┼─────────────────────────────┼─────────────────┤\n",
              "│ dropout (\u001b[38;5;33mDropout\u001b[0m)                    │ (\u001b[38;5;45mNone\u001b[0m, \u001b[38;5;34m16\u001b[0m)                  │               \u001b[38;5;34m0\u001b[0m │\n",
              "├──────────────────────────────────────┼─────────────────────────────┼─────────────────┤\n",
              "│ dense (\u001b[38;5;33mDense\u001b[0m)                        │ (\u001b[38;5;45mNone\u001b[0m, \u001b[38;5;34m32\u001b[0m)                  │             \u001b[38;5;34m544\u001b[0m │\n",
              "├──────────────────────────────────────┼─────────────────────────────┼─────────────────┤\n",
              "│ dense_1 (\u001b[38;5;33mDense\u001b[0m)                      │ (\u001b[38;5;45mNone\u001b[0m, \u001b[38;5;34m1\u001b[0m)                   │              \u001b[38;5;34m33\u001b[0m │\n",
              "└──────────────────────────────────────┴─────────────────────────────┴─────────────────┘\n"
            ],
            "text/html": [
              "<pre style=\"white-space:pre;overflow-x:auto;line-height:normal;font-family:Menlo,'DejaVu Sans Mono',consolas,'Courier New',monospace\">┏━━━━━━━━━━━━━━━━━━━━━━━━━━━━━━━━━━━━━━┳━━━━━━━━━━━━━━━━━━━━━━━━━━━━━┳━━━━━━━━━━━━━━━━━┓\n",
              "┃<span style=\"font-weight: bold\"> Layer (type)                         </span>┃<span style=\"font-weight: bold\"> Output Shape                </span>┃<span style=\"font-weight: bold\">         Param # </span>┃\n",
              "┡━━━━━━━━━━━━━━━━━━━━━━━━━━━━━━━━━━━━━━╇━━━━━━━━━━━━━━━━━━━━━━━━━━━━━╇━━━━━━━━━━━━━━━━━┩\n",
              "│ lstm (<span style=\"color: #0087ff; text-decoration-color: #0087ff\">LSTM</span>)                          │ (<span style=\"color: #00d7ff; text-decoration-color: #00d7ff\">None</span>, <span style=\"color: #00af00; text-decoration-color: #00af00\">16</span>)                  │          <span style=\"color: #00af00; text-decoration-color: #00af00\">13,888</span> │\n",
              "├──────────────────────────────────────┼─────────────────────────────┼─────────────────┤\n",
              "│ dropout (<span style=\"color: #0087ff; text-decoration-color: #0087ff\">Dropout</span>)                    │ (<span style=\"color: #00d7ff; text-decoration-color: #00d7ff\">None</span>, <span style=\"color: #00af00; text-decoration-color: #00af00\">16</span>)                  │               <span style=\"color: #00af00; text-decoration-color: #00af00\">0</span> │\n",
              "├──────────────────────────────────────┼─────────────────────────────┼─────────────────┤\n",
              "│ dense (<span style=\"color: #0087ff; text-decoration-color: #0087ff\">Dense</span>)                        │ (<span style=\"color: #00d7ff; text-decoration-color: #00d7ff\">None</span>, <span style=\"color: #00af00; text-decoration-color: #00af00\">32</span>)                  │             <span style=\"color: #00af00; text-decoration-color: #00af00\">544</span> │\n",
              "├──────────────────────────────────────┼─────────────────────────────┼─────────────────┤\n",
              "│ dense_1 (<span style=\"color: #0087ff; text-decoration-color: #0087ff\">Dense</span>)                      │ (<span style=\"color: #00d7ff; text-decoration-color: #00d7ff\">None</span>, <span style=\"color: #00af00; text-decoration-color: #00af00\">1</span>)                   │              <span style=\"color: #00af00; text-decoration-color: #00af00\">33</span> │\n",
              "└──────────────────────────────────────┴─────────────────────────────┴─────────────────┘\n",
              "</pre>\n"
            ]
          },
          "metadata": {}
        },
        {
          "output_type": "display_data",
          "data": {
            "text/plain": [
              "\u001b[1m Total params: \u001b[0m\u001b[38;5;34m14,465\u001b[0m (56.50 KB)\n"
            ],
            "text/html": [
              "<pre style=\"white-space:pre;overflow-x:auto;line-height:normal;font-family:Menlo,'DejaVu Sans Mono',consolas,'Courier New',monospace\"><span style=\"font-weight: bold\"> Total params: </span><span style=\"color: #00af00; text-decoration-color: #00af00\">14,465</span> (56.50 KB)\n",
              "</pre>\n"
            ]
          },
          "metadata": {}
        },
        {
          "output_type": "display_data",
          "data": {
            "text/plain": [
              "\u001b[1m Trainable params: \u001b[0m\u001b[38;5;34m14,465\u001b[0m (56.50 KB)\n"
            ],
            "text/html": [
              "<pre style=\"white-space:pre;overflow-x:auto;line-height:normal;font-family:Menlo,'DejaVu Sans Mono',consolas,'Courier New',monospace\"><span style=\"font-weight: bold\"> Trainable params: </span><span style=\"color: #00af00; text-decoration-color: #00af00\">14,465</span> (56.50 KB)\n",
              "</pre>\n"
            ]
          },
          "metadata": {}
        },
        {
          "output_type": "display_data",
          "data": {
            "text/plain": [
              "\u001b[1m Non-trainable params: \u001b[0m\u001b[38;5;34m0\u001b[0m (0.00 B)\n"
            ],
            "text/html": [
              "<pre style=\"white-space:pre;overflow-x:auto;line-height:normal;font-family:Menlo,'DejaVu Sans Mono',consolas,'Courier New',monospace\"><span style=\"font-weight: bold\"> Non-trainable params: </span><span style=\"color: #00af00; text-decoration-color: #00af00\">0</span> (0.00 B)\n",
              "</pre>\n"
            ]
          },
          "metadata": {}
        },
        {
          "output_type": "stream",
          "name": "stdout",
          "text": [
            "Epoch 1/10\n",
            "\u001b[1m4585/4585\u001b[0m \u001b[32m━━━━━━━━━━━━━━━━━━━━\u001b[0m\u001b[37m\u001b[0m \u001b[1m30s\u001b[0m 5ms/step - AUC: 0.8021 - Recall: 0.9015 - loss: 0.5087 - val_AUC: 0.8440 - val_Recall: 0.9376 - val_loss: 0.4575\n",
            "Epoch 2/10\n",
            "\u001b[1m4585/4585\u001b[0m \u001b[32m━━━━━━━━━━━━━━━━━━━━\u001b[0m\u001b[37m\u001b[0m \u001b[1m23s\u001b[0m 5ms/step - AUC: 0.8403 - Recall: 0.9190 - loss: 0.4562 - val_AUC: 0.8601 - val_Recall: 0.9226 - val_loss: 0.4343\n",
            "Epoch 3/10\n",
            "\u001b[1m4585/4585\u001b[0m \u001b[32m━━━━━━━━━━━━━━━━━━━━\u001b[0m\u001b[37m\u001b[0m \u001b[1m23s\u001b[0m 5ms/step - AUC: 0.8572 - Recall: 0.9129 - loss: 0.4356 - val_AUC: 0.8682 - val_Recall: 0.9225 - val_loss: 0.4216\n",
            "Epoch 4/10\n",
            "\u001b[1m4585/4585\u001b[0m \u001b[32m━━━━━━━━━━━━━━━━━━━━\u001b[0m\u001b[37m\u001b[0m \u001b[1m23s\u001b[0m 5ms/step - AUC: 0.8677 - Recall: 0.9135 - loss: 0.4218 - val_AUC: 0.8722 - val_Recall: 0.9248 - val_loss: 0.4157\n",
            "Epoch 5/10\n",
            "\u001b[1m4585/4585\u001b[0m \u001b[32m━━━━━━━━━━━━━━━━━━━━\u001b[0m\u001b[37m\u001b[0m \u001b[1m23s\u001b[0m 5ms/step - AUC: 0.8727 - Recall: 0.9175 - loss: 0.4134 - val_AUC: 0.8765 - val_Recall: 0.9257 - val_loss: 0.4085\n",
            "Epoch 6/10\n",
            "\u001b[1m4585/4585\u001b[0m \u001b[32m━━━━━━━━━━━━━━━━━━━━\u001b[0m\u001b[37m\u001b[0m \u001b[1m23s\u001b[0m 5ms/step - AUC: 0.8775 - Recall: 0.9204 - loss: 0.4048 - val_AUC: 0.8801 - val_Recall: 0.9282 - val_loss: 0.4038\n",
            "Epoch 7/10\n",
            "\u001b[1m4585/4585\u001b[0m \u001b[32m━━━━━━━━━━━━━━━━━━━━\u001b[0m\u001b[37m\u001b[0m \u001b[1m23s\u001b[0m 5ms/step - AUC: 0.8824 - Recall: 0.9226 - loss: 0.3968 - val_AUC: 0.8832 - val_Recall: 0.9250 - val_loss: 0.3974\n",
            "Epoch 8/10\n",
            "\u001b[1m4585/4585\u001b[0m \u001b[32m━━━━━━━━━━━━━━━━━━━━\u001b[0m\u001b[37m\u001b[0m \u001b[1m23s\u001b[0m 5ms/step - AUC: 0.8844 - Recall: 0.9212 - loss: 0.3939 - val_AUC: 0.8856 - val_Recall: 0.9360 - val_loss: 0.3946\n",
            "Epoch 9/10\n",
            "\u001b[1m4585/4585\u001b[0m \u001b[32m━━━━━━━━━━━━━━━━━━━━\u001b[0m\u001b[37m\u001b[0m \u001b[1m23s\u001b[0m 5ms/step - AUC: 0.8877 - Recall: 0.9246 - loss: 0.3874 - val_AUC: 0.8863 - val_Recall: 0.9375 - val_loss: 0.3936\n",
            "Epoch 10/10\n",
            "\u001b[1m4585/4585\u001b[0m \u001b[32m━━━━━━━━━━━━━━━━━━━━\u001b[0m\u001b[37m\u001b[0m \u001b[1m23s\u001b[0m 5ms/step - AUC: 0.8899 - Recall: 0.9246 - loss: 0.3836 - val_AUC: 0.8874 - val_Recall: 0.9394 - val_loss: 0.3931\n",
            "\u001b[1m1147/1147\u001b[0m \u001b[32m━━━━━━━━━━━━━━━━━━━━\u001b[0m\u001b[37m\u001b[0m \u001b[1m2s\u001b[0m 1ms/step\n",
            "Validating fold...\n"
          ]
        },
        {
          "output_type": "stream",
          "name": "stderr",
          "text": [
            "/usr/local/lib/python3.10/dist-packages/keras/src/layers/rnn/rnn.py:204: UserWarning: Do not pass an `input_shape`/`input_dim` argument to a layer. When using Sequential models, prefer using an `Input(shape)` object as the first layer in the model instead.\n",
            "  super().__init__(**kwargs)\n"
          ]
        },
        {
          "output_type": "display_data",
          "data": {
            "text/plain": [
              "\u001b[1mModel: \"sequential_1\"\u001b[0m\n"
            ],
            "text/html": [
              "<pre style=\"white-space:pre;overflow-x:auto;line-height:normal;font-family:Menlo,'DejaVu Sans Mono',consolas,'Courier New',monospace\"><span style=\"font-weight: bold\">Model: \"sequential_1\"</span>\n",
              "</pre>\n"
            ]
          },
          "metadata": {}
        },
        {
          "output_type": "display_data",
          "data": {
            "text/plain": [
              "┏━━━━━━━━━━━━━━━━━━━━━━━━━━━━━━━━━━━━━━┳━━━━━━━━━━━━━━━━━━━━━━━━━━━━━┳━━━━━━━━━━━━━━━━━┓\n",
              "┃\u001b[1m \u001b[0m\u001b[1mLayer (type)                        \u001b[0m\u001b[1m \u001b[0m┃\u001b[1m \u001b[0m\u001b[1mOutput Shape               \u001b[0m\u001b[1m \u001b[0m┃\u001b[1m \u001b[0m\u001b[1m        Param #\u001b[0m\u001b[1m \u001b[0m┃\n",
              "┡━━━━━━━━━━━━━━━━━━━━━━━━━━━━━━━━━━━━━━╇━━━━━━━━━━━━━━━━━━━━━━━━━━━━━╇━━━━━━━━━━━━━━━━━┩\n",
              "│ lstm_1 (\u001b[38;5;33mLSTM\u001b[0m)                        │ (\u001b[38;5;45mNone\u001b[0m, \u001b[38;5;34m16\u001b[0m)                  │          \u001b[38;5;34m13,888\u001b[0m │\n",
              "├──────────────────────────────────────┼─────────────────────────────┼─────────────────┤\n",
              "│ dropout_1 (\u001b[38;5;33mDropout\u001b[0m)                  │ (\u001b[38;5;45mNone\u001b[0m, \u001b[38;5;34m16\u001b[0m)                  │               \u001b[38;5;34m0\u001b[0m │\n",
              "├──────────────────────────────────────┼─────────────────────────────┼─────────────────┤\n",
              "│ dense_2 (\u001b[38;5;33mDense\u001b[0m)                      │ (\u001b[38;5;45mNone\u001b[0m, \u001b[38;5;34m32\u001b[0m)                  │             \u001b[38;5;34m544\u001b[0m │\n",
              "├──────────────────────────────────────┼─────────────────────────────┼─────────────────┤\n",
              "│ dense_3 (\u001b[38;5;33mDense\u001b[0m)                      │ (\u001b[38;5;45mNone\u001b[0m, \u001b[38;5;34m1\u001b[0m)                   │              \u001b[38;5;34m33\u001b[0m │\n",
              "└──────────────────────────────────────┴─────────────────────────────┴─────────────────┘\n"
            ],
            "text/html": [
              "<pre style=\"white-space:pre;overflow-x:auto;line-height:normal;font-family:Menlo,'DejaVu Sans Mono',consolas,'Courier New',monospace\">┏━━━━━━━━━━━━━━━━━━━━━━━━━━━━━━━━━━━━━━┳━━━━━━━━━━━━━━━━━━━━━━━━━━━━━┳━━━━━━━━━━━━━━━━━┓\n",
              "┃<span style=\"font-weight: bold\"> Layer (type)                         </span>┃<span style=\"font-weight: bold\"> Output Shape                </span>┃<span style=\"font-weight: bold\">         Param # </span>┃\n",
              "┡━━━━━━━━━━━━━━━━━━━━━━━━━━━━━━━━━━━━━━╇━━━━━━━━━━━━━━━━━━━━━━━━━━━━━╇━━━━━━━━━━━━━━━━━┩\n",
              "│ lstm_1 (<span style=\"color: #0087ff; text-decoration-color: #0087ff\">LSTM</span>)                        │ (<span style=\"color: #00d7ff; text-decoration-color: #00d7ff\">None</span>, <span style=\"color: #00af00; text-decoration-color: #00af00\">16</span>)                  │          <span style=\"color: #00af00; text-decoration-color: #00af00\">13,888</span> │\n",
              "├──────────────────────────────────────┼─────────────────────────────┼─────────────────┤\n",
              "│ dropout_1 (<span style=\"color: #0087ff; text-decoration-color: #0087ff\">Dropout</span>)                  │ (<span style=\"color: #00d7ff; text-decoration-color: #00d7ff\">None</span>, <span style=\"color: #00af00; text-decoration-color: #00af00\">16</span>)                  │               <span style=\"color: #00af00; text-decoration-color: #00af00\">0</span> │\n",
              "├──────────────────────────────────────┼─────────────────────────────┼─────────────────┤\n",
              "│ dense_2 (<span style=\"color: #0087ff; text-decoration-color: #0087ff\">Dense</span>)                      │ (<span style=\"color: #00d7ff; text-decoration-color: #00d7ff\">None</span>, <span style=\"color: #00af00; text-decoration-color: #00af00\">32</span>)                  │             <span style=\"color: #00af00; text-decoration-color: #00af00\">544</span> │\n",
              "├──────────────────────────────────────┼─────────────────────────────┼─────────────────┤\n",
              "│ dense_3 (<span style=\"color: #0087ff; text-decoration-color: #0087ff\">Dense</span>)                      │ (<span style=\"color: #00d7ff; text-decoration-color: #00d7ff\">None</span>, <span style=\"color: #00af00; text-decoration-color: #00af00\">1</span>)                   │              <span style=\"color: #00af00; text-decoration-color: #00af00\">33</span> │\n",
              "└──────────────────────────────────────┴─────────────────────────────┴─────────────────┘\n",
              "</pre>\n"
            ]
          },
          "metadata": {}
        },
        {
          "output_type": "display_data",
          "data": {
            "text/plain": [
              "\u001b[1m Total params: \u001b[0m\u001b[38;5;34m14,465\u001b[0m (56.50 KB)\n"
            ],
            "text/html": [
              "<pre style=\"white-space:pre;overflow-x:auto;line-height:normal;font-family:Menlo,'DejaVu Sans Mono',consolas,'Courier New',monospace\"><span style=\"font-weight: bold\"> Total params: </span><span style=\"color: #00af00; text-decoration-color: #00af00\">14,465</span> (56.50 KB)\n",
              "</pre>\n"
            ]
          },
          "metadata": {}
        },
        {
          "output_type": "display_data",
          "data": {
            "text/plain": [
              "\u001b[1m Trainable params: \u001b[0m\u001b[38;5;34m14,465\u001b[0m (56.50 KB)\n"
            ],
            "text/html": [
              "<pre style=\"white-space:pre;overflow-x:auto;line-height:normal;font-family:Menlo,'DejaVu Sans Mono',consolas,'Courier New',monospace\"><span style=\"font-weight: bold\"> Trainable params: </span><span style=\"color: #00af00; text-decoration-color: #00af00\">14,465</span> (56.50 KB)\n",
              "</pre>\n"
            ]
          },
          "metadata": {}
        },
        {
          "output_type": "display_data",
          "data": {
            "text/plain": [
              "\u001b[1m Non-trainable params: \u001b[0m\u001b[38;5;34m0\u001b[0m (0.00 B)\n"
            ],
            "text/html": [
              "<pre style=\"white-space:pre;overflow-x:auto;line-height:normal;font-family:Menlo,'DejaVu Sans Mono',consolas,'Courier New',monospace\"><span style=\"font-weight: bold\"> Non-trainable params: </span><span style=\"color: #00af00; text-decoration-color: #00af00\">0</span> (0.00 B)\n",
              "</pre>\n"
            ]
          },
          "metadata": {}
        },
        {
          "output_type": "stream",
          "name": "stdout",
          "text": [
            "Epoch 1/10\n",
            "\u001b[1m4585/4585\u001b[0m \u001b[32m━━━━━━━━━━━━━━━━━━━━\u001b[0m\u001b[37m\u001b[0m \u001b[1m26s\u001b[0m 5ms/step - AUC: 0.7980 - Recall: 0.9197 - loss: 0.5129 - val_AUC: 0.8399 - val_Recall: 0.9364 - val_loss: 0.4599\n",
            "Epoch 2/10\n",
            "\u001b[1m4585/4585\u001b[0m \u001b[32m━━━━━━━━━━━━━━━━━━━━\u001b[0m\u001b[37m\u001b[0m \u001b[1m24s\u001b[0m 5ms/step - AUC: 0.8383 - Recall: 0.9209 - loss: 0.4575 - val_AUC: 0.8548 - val_Recall: 0.9198 - val_loss: 0.4392\n",
            "Epoch 3/10\n",
            "\u001b[1m4585/4585\u001b[0m \u001b[32m━━━━━━━━━━━━━━━━━━━━\u001b[0m\u001b[37m\u001b[0m \u001b[1m23s\u001b[0m 5ms/step - AUC: 0.8541 - Recall: 0.9175 - loss: 0.4376 - val_AUC: 0.8659 - val_Recall: 0.9298 - val_loss: 0.4252\n",
            "Epoch 4/10\n",
            "\u001b[1m4585/4585\u001b[0m \u001b[32m━━━━━━━━━━━━━━━━━━━━\u001b[0m\u001b[37m\u001b[0m \u001b[1m24s\u001b[0m 5ms/step - AUC: 0.8671 - Recall: 0.9182 - loss: 0.4201 - val_AUC: 0.8707 - val_Recall: 0.9225 - val_loss: 0.4160\n",
            "Epoch 5/10\n",
            "\u001b[1m4585/4585\u001b[0m \u001b[32m━━━━━━━━━━━━━━━━━━━━\u001b[0m\u001b[37m\u001b[0m \u001b[1m24s\u001b[0m 5ms/step - AUC: 0.8721 - Recall: 0.9184 - loss: 0.4133 - val_AUC: 0.8760 - val_Recall: 0.9329 - val_loss: 0.4102\n",
            "Epoch 6/10\n",
            "\u001b[1m4585/4585\u001b[0m \u001b[32m━━━━━━━━━━━━━━━━━━━━\u001b[0m\u001b[37m\u001b[0m \u001b[1m24s\u001b[0m 5ms/step - AUC: 0.8774 - Recall: 0.9191 - loss: 0.4056 - val_AUC: 0.8790 - val_Recall: 0.9324 - val_loss: 0.4072\n",
            "Epoch 7/10\n",
            "\u001b[1m4585/4585\u001b[0m \u001b[32m━━━━━━━━━━━━━━━━━━━━\u001b[0m\u001b[37m\u001b[0m \u001b[1m24s\u001b[0m 5ms/step - AUC: 0.8818 - Recall: 0.9197 - loss: 0.3974 - val_AUC: 0.8804 - val_Recall: 0.9311 - val_loss: 0.4035\n",
            "Epoch 8/10\n",
            "\u001b[1m4585/4585\u001b[0m \u001b[32m━━━━━━━━━━━━━━━━━━━━\u001b[0m\u001b[37m\u001b[0m \u001b[1m24s\u001b[0m 5ms/step - AUC: 0.8854 - Recall: 0.9198 - loss: 0.3928 - val_AUC: 0.8834 - val_Recall: 0.9500 - val_loss: 0.4071\n",
            "Epoch 9/10\n",
            "\u001b[1m4585/4585\u001b[0m \u001b[32m━━━━━━━━━━━━━━━━━━━━\u001b[0m\u001b[37m\u001b[0m \u001b[1m24s\u001b[0m 5ms/step - AUC: 0.8886 - Recall: 0.9226 - loss: 0.3869 - val_AUC: 0.8836 - val_Recall: 0.9311 - val_loss: 0.3990\n",
            "Epoch 10/10\n",
            "\u001b[1m4585/4585\u001b[0m \u001b[32m━━━━━━━━━━━━━━━━━━━━\u001b[0m\u001b[37m\u001b[0m \u001b[1m24s\u001b[0m 5ms/step - AUC: 0.8901 - Recall: 0.9227 - loss: 0.3840 - val_AUC: 0.8858 - val_Recall: 0.9381 - val_loss: 0.3957\n",
            "\u001b[1m1147/1147\u001b[0m \u001b[32m━━━━━━━━━━━━━━━━━━━━\u001b[0m\u001b[37m\u001b[0m \u001b[1m2s\u001b[0m 1ms/step\n",
            "Validating fold...\n"
          ]
        },
        {
          "output_type": "stream",
          "name": "stderr",
          "text": [
            "/usr/local/lib/python3.10/dist-packages/keras/src/layers/rnn/rnn.py:204: UserWarning: Do not pass an `input_shape`/`input_dim` argument to a layer. When using Sequential models, prefer using an `Input(shape)` object as the first layer in the model instead.\n",
            "  super().__init__(**kwargs)\n"
          ]
        },
        {
          "output_type": "display_data",
          "data": {
            "text/plain": [
              "\u001b[1mModel: \"sequential_2\"\u001b[0m\n"
            ],
            "text/html": [
              "<pre style=\"white-space:pre;overflow-x:auto;line-height:normal;font-family:Menlo,'DejaVu Sans Mono',consolas,'Courier New',monospace\"><span style=\"font-weight: bold\">Model: \"sequential_2\"</span>\n",
              "</pre>\n"
            ]
          },
          "metadata": {}
        },
        {
          "output_type": "display_data",
          "data": {
            "text/plain": [
              "┏━━━━━━━━━━━━━━━━━━━━━━━━━━━━━━━━━━━━━━┳━━━━━━━━━━━━━━━━━━━━━━━━━━━━━┳━━━━━━━━━━━━━━━━━┓\n",
              "┃\u001b[1m \u001b[0m\u001b[1mLayer (type)                        \u001b[0m\u001b[1m \u001b[0m┃\u001b[1m \u001b[0m\u001b[1mOutput Shape               \u001b[0m\u001b[1m \u001b[0m┃\u001b[1m \u001b[0m\u001b[1m        Param #\u001b[0m\u001b[1m \u001b[0m┃\n",
              "┡━━━━━━━━━━━━━━━━━━━━━━━━━━━━━━━━━━━━━━╇━━━━━━━━━━━━━━━━━━━━━━━━━━━━━╇━━━━━━━━━━━━━━━━━┩\n",
              "│ lstm_2 (\u001b[38;5;33mLSTM\u001b[0m)                        │ (\u001b[38;5;45mNone\u001b[0m, \u001b[38;5;34m16\u001b[0m)                  │          \u001b[38;5;34m13,888\u001b[0m │\n",
              "├──────────────────────────────────────┼─────────────────────────────┼─────────────────┤\n",
              "│ dropout_2 (\u001b[38;5;33mDropout\u001b[0m)                  │ (\u001b[38;5;45mNone\u001b[0m, \u001b[38;5;34m16\u001b[0m)                  │               \u001b[38;5;34m0\u001b[0m │\n",
              "├──────────────────────────────────────┼─────────────────────────────┼─────────────────┤\n",
              "│ dense_4 (\u001b[38;5;33mDense\u001b[0m)                      │ (\u001b[38;5;45mNone\u001b[0m, \u001b[38;5;34m32\u001b[0m)                  │             \u001b[38;5;34m544\u001b[0m │\n",
              "├──────────────────────────────────────┼─────────────────────────────┼─────────────────┤\n",
              "│ dense_5 (\u001b[38;5;33mDense\u001b[0m)                      │ (\u001b[38;5;45mNone\u001b[0m, \u001b[38;5;34m1\u001b[0m)                   │              \u001b[38;5;34m33\u001b[0m │\n",
              "└──────────────────────────────────────┴─────────────────────────────┴─────────────────┘\n"
            ],
            "text/html": [
              "<pre style=\"white-space:pre;overflow-x:auto;line-height:normal;font-family:Menlo,'DejaVu Sans Mono',consolas,'Courier New',monospace\">┏━━━━━━━━━━━━━━━━━━━━━━━━━━━━━━━━━━━━━━┳━━━━━━━━━━━━━━━━━━━━━━━━━━━━━┳━━━━━━━━━━━━━━━━━┓\n",
              "┃<span style=\"font-weight: bold\"> Layer (type)                         </span>┃<span style=\"font-weight: bold\"> Output Shape                </span>┃<span style=\"font-weight: bold\">         Param # </span>┃\n",
              "┡━━━━━━━━━━━━━━━━━━━━━━━━━━━━━━━━━━━━━━╇━━━━━━━━━━━━━━━━━━━━━━━━━━━━━╇━━━━━━━━━━━━━━━━━┩\n",
              "│ lstm_2 (<span style=\"color: #0087ff; text-decoration-color: #0087ff\">LSTM</span>)                        │ (<span style=\"color: #00d7ff; text-decoration-color: #00d7ff\">None</span>, <span style=\"color: #00af00; text-decoration-color: #00af00\">16</span>)                  │          <span style=\"color: #00af00; text-decoration-color: #00af00\">13,888</span> │\n",
              "├──────────────────────────────────────┼─────────────────────────────┼─────────────────┤\n",
              "│ dropout_2 (<span style=\"color: #0087ff; text-decoration-color: #0087ff\">Dropout</span>)                  │ (<span style=\"color: #00d7ff; text-decoration-color: #00d7ff\">None</span>, <span style=\"color: #00af00; text-decoration-color: #00af00\">16</span>)                  │               <span style=\"color: #00af00; text-decoration-color: #00af00\">0</span> │\n",
              "├──────────────────────────────────────┼─────────────────────────────┼─────────────────┤\n",
              "│ dense_4 (<span style=\"color: #0087ff; text-decoration-color: #0087ff\">Dense</span>)                      │ (<span style=\"color: #00d7ff; text-decoration-color: #00d7ff\">None</span>, <span style=\"color: #00af00; text-decoration-color: #00af00\">32</span>)                  │             <span style=\"color: #00af00; text-decoration-color: #00af00\">544</span> │\n",
              "├──────────────────────────────────────┼─────────────────────────────┼─────────────────┤\n",
              "│ dense_5 (<span style=\"color: #0087ff; text-decoration-color: #0087ff\">Dense</span>)                      │ (<span style=\"color: #00d7ff; text-decoration-color: #00d7ff\">None</span>, <span style=\"color: #00af00; text-decoration-color: #00af00\">1</span>)                   │              <span style=\"color: #00af00; text-decoration-color: #00af00\">33</span> │\n",
              "└──────────────────────────────────────┴─────────────────────────────┴─────────────────┘\n",
              "</pre>\n"
            ]
          },
          "metadata": {}
        },
        {
          "output_type": "display_data",
          "data": {
            "text/plain": [
              "\u001b[1m Total params: \u001b[0m\u001b[38;5;34m14,465\u001b[0m (56.50 KB)\n"
            ],
            "text/html": [
              "<pre style=\"white-space:pre;overflow-x:auto;line-height:normal;font-family:Menlo,'DejaVu Sans Mono',consolas,'Courier New',monospace\"><span style=\"font-weight: bold\"> Total params: </span><span style=\"color: #00af00; text-decoration-color: #00af00\">14,465</span> (56.50 KB)\n",
              "</pre>\n"
            ]
          },
          "metadata": {}
        },
        {
          "output_type": "display_data",
          "data": {
            "text/plain": [
              "\u001b[1m Trainable params: \u001b[0m\u001b[38;5;34m14,465\u001b[0m (56.50 KB)\n"
            ],
            "text/html": [
              "<pre style=\"white-space:pre;overflow-x:auto;line-height:normal;font-family:Menlo,'DejaVu Sans Mono',consolas,'Courier New',monospace\"><span style=\"font-weight: bold\"> Trainable params: </span><span style=\"color: #00af00; text-decoration-color: #00af00\">14,465</span> (56.50 KB)\n",
              "</pre>\n"
            ]
          },
          "metadata": {}
        },
        {
          "output_type": "display_data",
          "data": {
            "text/plain": [
              "\u001b[1m Non-trainable params: \u001b[0m\u001b[38;5;34m0\u001b[0m (0.00 B)\n"
            ],
            "text/html": [
              "<pre style=\"white-space:pre;overflow-x:auto;line-height:normal;font-family:Menlo,'DejaVu Sans Mono',consolas,'Courier New',monospace\"><span style=\"font-weight: bold\"> Non-trainable params: </span><span style=\"color: #00af00; text-decoration-color: #00af00\">0</span> (0.00 B)\n",
              "</pre>\n"
            ]
          },
          "metadata": {}
        },
        {
          "output_type": "stream",
          "name": "stdout",
          "text": [
            "Epoch 1/10\n",
            "\u001b[1m4585/4585\u001b[0m \u001b[32m━━━━━━━━━━━━━━━━━━━━\u001b[0m\u001b[37m\u001b[0m \u001b[1m26s\u001b[0m 5ms/step - AUC: 0.8043 - Recall: 0.9139 - loss: 0.5069 - val_AUC: 0.8341 - val_Recall: 0.9292 - val_loss: 0.4638\n",
            "Epoch 2/10\n",
            "\u001b[1m4585/4585\u001b[0m \u001b[32m━━━━━━━━━━━━━━━━━━━━\u001b[0m\u001b[37m\u001b[0m \u001b[1m24s\u001b[0m 5ms/step - AUC: 0.8405 - Recall: 0.9206 - loss: 0.4556 - val_AUC: 0.8513 - val_Recall: 0.9255 - val_loss: 0.4441\n",
            "Epoch 3/10\n",
            "\u001b[1m4585/4585\u001b[0m \u001b[32m━━━━━━━━━━━━━━━━━━━━\u001b[0m\u001b[37m\u001b[0m \u001b[1m24s\u001b[0m 5ms/step - AUC: 0.8543 - Recall: 0.9177 - loss: 0.4385 - val_AUC: 0.8622 - val_Recall: 0.9358 - val_loss: 0.4307\n",
            "Epoch 4/10\n",
            "\u001b[1m4585/4585\u001b[0m \u001b[32m━━━━━━━━━━━━━━━━━━━━\u001b[0m\u001b[37m\u001b[0m \u001b[1m24s\u001b[0m 5ms/step - AUC: 0.8643 - Recall: 0.9223 - loss: 0.4236 - val_AUC: 0.8680 - val_Recall: 0.9491 - val_loss: 0.4259\n",
            "Epoch 5/10\n",
            "\u001b[1m4585/4585\u001b[0m \u001b[32m━━━━━━━━━━━━━━━━━━━━\u001b[0m\u001b[37m\u001b[0m \u001b[1m24s\u001b[0m 5ms/step - AUC: 0.8722 - Recall: 0.9242 - loss: 0.4113 - val_AUC: 0.8727 - val_Recall: 0.9351 - val_loss: 0.4141\n",
            "Epoch 6/10\n",
            "\u001b[1m4585/4585\u001b[0m \u001b[32m━━━━━━━━━━━━━━━━━━━━\u001b[0m\u001b[37m\u001b[0m \u001b[1m23s\u001b[0m 5ms/step - AUC: 0.8765 - Recall: 0.9239 - loss: 0.4048 - val_AUC: 0.8762 - val_Recall: 0.9504 - val_loss: 0.4144\n",
            "Epoch 7/10\n",
            "\u001b[1m4585/4585\u001b[0m \u001b[32m━━━━━━━━━━━━━━━━━━━━\u001b[0m\u001b[37m\u001b[0m \u001b[1m24s\u001b[0m 5ms/step - AUC: 0.8805 - Recall: 0.9270 - loss: 0.3965 - val_AUC: 0.8784 - val_Recall: 0.9456 - val_loss: 0.4083\n",
            "Epoch 8/10\n",
            "\u001b[1m4585/4585\u001b[0m \u001b[32m━━━━━━━━━━━━━━━━━━━━\u001b[0m\u001b[37m\u001b[0m \u001b[1m24s\u001b[0m 5ms/step - AUC: 0.8839 - Recall: 0.9235 - loss: 0.3935 - val_AUC: 0.8809 - val_Recall: 0.9393 - val_loss: 0.4030\n",
            "Epoch 9/10\n",
            "\u001b[1m4585/4585\u001b[0m \u001b[32m━━━━━━━━━━━━━━━━━━━━\u001b[0m\u001b[37m\u001b[0m \u001b[1m24s\u001b[0m 5ms/step - AUC: 0.8866 - Recall: 0.9246 - loss: 0.3875 - val_AUC: 0.8848 - val_Recall: 0.9318 - val_loss: 0.3951\n",
            "Epoch 10/10\n",
            "\u001b[1m4585/4585\u001b[0m \u001b[32m━━━━━━━━━━━━━━━━━━━━\u001b[0m\u001b[37m\u001b[0m \u001b[1m24s\u001b[0m 5ms/step - AUC: 0.8881 - Recall: 0.9284 - loss: 0.3846 - val_AUC: 0.8836 - val_Recall: 0.9423 - val_loss: 0.3980\n",
            "\u001b[1m1147/1147\u001b[0m \u001b[32m━━━━━━━━━━━━━━━━━━━━\u001b[0m\u001b[37m\u001b[0m \u001b[1m2s\u001b[0m 1ms/step\n",
            "Validating fold...\n"
          ]
        },
        {
          "output_type": "stream",
          "name": "stderr",
          "text": [
            "/usr/local/lib/python3.10/dist-packages/keras/src/layers/rnn/rnn.py:204: UserWarning: Do not pass an `input_shape`/`input_dim` argument to a layer. When using Sequential models, prefer using an `Input(shape)` object as the first layer in the model instead.\n",
            "  super().__init__(**kwargs)\n"
          ]
        },
        {
          "output_type": "display_data",
          "data": {
            "text/plain": [
              "\u001b[1mModel: \"sequential_3\"\u001b[0m\n"
            ],
            "text/html": [
              "<pre style=\"white-space:pre;overflow-x:auto;line-height:normal;font-family:Menlo,'DejaVu Sans Mono',consolas,'Courier New',monospace\"><span style=\"font-weight: bold\">Model: \"sequential_3\"</span>\n",
              "</pre>\n"
            ]
          },
          "metadata": {}
        },
        {
          "output_type": "display_data",
          "data": {
            "text/plain": [
              "┏━━━━━━━━━━━━━━━━━━━━━━━━━━━━━━━━━━━━━━┳━━━━━━━━━━━━━━━━━━━━━━━━━━━━━┳━━━━━━━━━━━━━━━━━┓\n",
              "┃\u001b[1m \u001b[0m\u001b[1mLayer (type)                        \u001b[0m\u001b[1m \u001b[0m┃\u001b[1m \u001b[0m\u001b[1mOutput Shape               \u001b[0m\u001b[1m \u001b[0m┃\u001b[1m \u001b[0m\u001b[1m        Param #\u001b[0m\u001b[1m \u001b[0m┃\n",
              "┡━━━━━━━━━━━━━━━━━━━━━━━━━━━━━━━━━━━━━━╇━━━━━━━━━━━━━━━━━━━━━━━━━━━━━╇━━━━━━━━━━━━━━━━━┩\n",
              "│ lstm_3 (\u001b[38;5;33mLSTM\u001b[0m)                        │ (\u001b[38;5;45mNone\u001b[0m, \u001b[38;5;34m16\u001b[0m)                  │          \u001b[38;5;34m13,888\u001b[0m │\n",
              "├──────────────────────────────────────┼─────────────────────────────┼─────────────────┤\n",
              "│ dropout_3 (\u001b[38;5;33mDropout\u001b[0m)                  │ (\u001b[38;5;45mNone\u001b[0m, \u001b[38;5;34m16\u001b[0m)                  │               \u001b[38;5;34m0\u001b[0m │\n",
              "├──────────────────────────────────────┼─────────────────────────────┼─────────────────┤\n",
              "│ dense_6 (\u001b[38;5;33mDense\u001b[0m)                      │ (\u001b[38;5;45mNone\u001b[0m, \u001b[38;5;34m32\u001b[0m)                  │             \u001b[38;5;34m544\u001b[0m │\n",
              "├──────────────────────────────────────┼─────────────────────────────┼─────────────────┤\n",
              "│ dense_7 (\u001b[38;5;33mDense\u001b[0m)                      │ (\u001b[38;5;45mNone\u001b[0m, \u001b[38;5;34m1\u001b[0m)                   │              \u001b[38;5;34m33\u001b[0m │\n",
              "└──────────────────────────────────────┴─────────────────────────────┴─────────────────┘\n"
            ],
            "text/html": [
              "<pre style=\"white-space:pre;overflow-x:auto;line-height:normal;font-family:Menlo,'DejaVu Sans Mono',consolas,'Courier New',monospace\">┏━━━━━━━━━━━━━━━━━━━━━━━━━━━━━━━━━━━━━━┳━━━━━━━━━━━━━━━━━━━━━━━━━━━━━┳━━━━━━━━━━━━━━━━━┓\n",
              "┃<span style=\"font-weight: bold\"> Layer (type)                         </span>┃<span style=\"font-weight: bold\"> Output Shape                </span>┃<span style=\"font-weight: bold\">         Param # </span>┃\n",
              "┡━━━━━━━━━━━━━━━━━━━━━━━━━━━━━━━━━━━━━━╇━━━━━━━━━━━━━━━━━━━━━━━━━━━━━╇━━━━━━━━━━━━━━━━━┩\n",
              "│ lstm_3 (<span style=\"color: #0087ff; text-decoration-color: #0087ff\">LSTM</span>)                        │ (<span style=\"color: #00d7ff; text-decoration-color: #00d7ff\">None</span>, <span style=\"color: #00af00; text-decoration-color: #00af00\">16</span>)                  │          <span style=\"color: #00af00; text-decoration-color: #00af00\">13,888</span> │\n",
              "├──────────────────────────────────────┼─────────────────────────────┼─────────────────┤\n",
              "│ dropout_3 (<span style=\"color: #0087ff; text-decoration-color: #0087ff\">Dropout</span>)                  │ (<span style=\"color: #00d7ff; text-decoration-color: #00d7ff\">None</span>, <span style=\"color: #00af00; text-decoration-color: #00af00\">16</span>)                  │               <span style=\"color: #00af00; text-decoration-color: #00af00\">0</span> │\n",
              "├──────────────────────────────────────┼─────────────────────────────┼─────────────────┤\n",
              "│ dense_6 (<span style=\"color: #0087ff; text-decoration-color: #0087ff\">Dense</span>)                      │ (<span style=\"color: #00d7ff; text-decoration-color: #00d7ff\">None</span>, <span style=\"color: #00af00; text-decoration-color: #00af00\">32</span>)                  │             <span style=\"color: #00af00; text-decoration-color: #00af00\">544</span> │\n",
              "├──────────────────────────────────────┼─────────────────────────────┼─────────────────┤\n",
              "│ dense_7 (<span style=\"color: #0087ff; text-decoration-color: #0087ff\">Dense</span>)                      │ (<span style=\"color: #00d7ff; text-decoration-color: #00d7ff\">None</span>, <span style=\"color: #00af00; text-decoration-color: #00af00\">1</span>)                   │              <span style=\"color: #00af00; text-decoration-color: #00af00\">33</span> │\n",
              "└──────────────────────────────────────┴─────────────────────────────┴─────────────────┘\n",
              "</pre>\n"
            ]
          },
          "metadata": {}
        },
        {
          "output_type": "display_data",
          "data": {
            "text/plain": [
              "\u001b[1m Total params: \u001b[0m\u001b[38;5;34m14,465\u001b[0m (56.50 KB)\n"
            ],
            "text/html": [
              "<pre style=\"white-space:pre;overflow-x:auto;line-height:normal;font-family:Menlo,'DejaVu Sans Mono',consolas,'Courier New',monospace\"><span style=\"font-weight: bold\"> Total params: </span><span style=\"color: #00af00; text-decoration-color: #00af00\">14,465</span> (56.50 KB)\n",
              "</pre>\n"
            ]
          },
          "metadata": {}
        },
        {
          "output_type": "display_data",
          "data": {
            "text/plain": [
              "\u001b[1m Trainable params: \u001b[0m\u001b[38;5;34m14,465\u001b[0m (56.50 KB)\n"
            ],
            "text/html": [
              "<pre style=\"white-space:pre;overflow-x:auto;line-height:normal;font-family:Menlo,'DejaVu Sans Mono',consolas,'Courier New',monospace\"><span style=\"font-weight: bold\"> Trainable params: </span><span style=\"color: #00af00; text-decoration-color: #00af00\">14,465</span> (56.50 KB)\n",
              "</pre>\n"
            ]
          },
          "metadata": {}
        },
        {
          "output_type": "display_data",
          "data": {
            "text/plain": [
              "\u001b[1m Non-trainable params: \u001b[0m\u001b[38;5;34m0\u001b[0m (0.00 B)\n"
            ],
            "text/html": [
              "<pre style=\"white-space:pre;overflow-x:auto;line-height:normal;font-family:Menlo,'DejaVu Sans Mono',consolas,'Courier New',monospace\"><span style=\"font-weight: bold\"> Non-trainable params: </span><span style=\"color: #00af00; text-decoration-color: #00af00\">0</span> (0.00 B)\n",
              "</pre>\n"
            ]
          },
          "metadata": {}
        },
        {
          "output_type": "stream",
          "name": "stdout",
          "text": [
            "Epoch 1/10\n",
            "\u001b[1m4585/4585\u001b[0m \u001b[32m━━━━━━━━━━━━━━━━━━━━\u001b[0m\u001b[37m\u001b[0m \u001b[1m26s\u001b[0m 5ms/step - AUC: 0.7983 - Recall: 0.9194 - loss: 0.5121 - val_AUC: 0.8390 - val_Recall: 0.9289 - val_loss: 0.4622\n",
            "Epoch 2/10\n",
            "\u001b[1m4585/4585\u001b[0m \u001b[32m━━━━━━━━━━━━━━━━━━━━\u001b[0m\u001b[37m\u001b[0m \u001b[1m24s\u001b[0m 5ms/step - AUC: 0.8419 - Recall: 0.9188 - loss: 0.4560 - val_AUC: 0.8547 - val_Recall: 0.9258 - val_loss: 0.4422\n",
            "Epoch 3/10\n",
            "\u001b[1m4585/4585\u001b[0m \u001b[32m━━━━━━━━━━━━━━━━━━━━\u001b[0m\u001b[37m\u001b[0m \u001b[1m24s\u001b[0m 5ms/step - AUC: 0.8569 - Recall: 0.9133 - loss: 0.4375 - val_AUC: 0.8640 - val_Recall: 0.9162 - val_loss: 0.4287\n",
            "Epoch 4/10\n",
            "\u001b[1m4585/4585\u001b[0m \u001b[32m━━━━━━━━━━━━━━━━━━━━\u001b[0m\u001b[37m\u001b[0m \u001b[1m24s\u001b[0m 5ms/step - AUC: 0.8677 - Recall: 0.9155 - loss: 0.4212 - val_AUC: 0.8682 - val_Recall: 0.9036 - val_loss: 0.4220\n",
            "Epoch 5/10\n",
            "\u001b[1m4585/4585\u001b[0m \u001b[32m━━━━━━━━━━━━━━━━━━━━\u001b[0m\u001b[37m\u001b[0m \u001b[1m24s\u001b[0m 5ms/step - AUC: 0.8728 - Recall: 0.9192 - loss: 0.4127 - val_AUC: 0.8739 - val_Recall: 0.9341 - val_loss: 0.4142\n",
            "Epoch 6/10\n",
            "\u001b[1m4585/4585\u001b[0m \u001b[32m━━━━━━━━━━━━━━━━━━━━\u001b[0m\u001b[37m\u001b[0m \u001b[1m24s\u001b[0m 5ms/step - AUC: 0.8784 - Recall: 0.9207 - loss: 0.4042 - val_AUC: 0.8765 - val_Recall: 0.9253 - val_loss: 0.4091\n",
            "Epoch 7/10\n",
            "\u001b[1m4585/4585\u001b[0m \u001b[32m━━━━━━━━━━━━━━━━━━━━\u001b[0m\u001b[37m\u001b[0m \u001b[1m24s\u001b[0m 5ms/step - AUC: 0.8838 - Recall: 0.9204 - loss: 0.3966 - val_AUC: 0.8796 - val_Recall: 0.9271 - val_loss: 0.4043\n",
            "Epoch 8/10\n",
            "\u001b[1m4585/4585\u001b[0m \u001b[32m━━━━━━━━━━━━━━━━━━━━\u001b[0m\u001b[37m\u001b[0m \u001b[1m24s\u001b[0m 5ms/step - AUC: 0.8839 - Recall: 0.9232 - loss: 0.3939 - val_AUC: 0.8814 - val_Recall: 0.9321 - val_loss: 0.4030\n",
            "Epoch 9/10\n",
            "\u001b[1m4585/4585\u001b[0m \u001b[32m━━━━━━━━━━━━━━━━━━━━\u001b[0m\u001b[37m\u001b[0m \u001b[1m24s\u001b[0m 5ms/step - AUC: 0.8883 - Recall: 0.9237 - loss: 0.3871 - val_AUC: 0.8837 - val_Recall: 0.9448 - val_loss: 0.4010\n",
            "Epoch 10/10\n",
            "\u001b[1m4585/4585\u001b[0m \u001b[32m━━━━━━━━━━━━━━━━━━━━\u001b[0m\u001b[37m\u001b[0m \u001b[1m24s\u001b[0m 5ms/step - AUC: 0.8899 - Recall: 0.9262 - loss: 0.3831 - val_AUC: 0.8846 - val_Recall: 0.9269 - val_loss: 0.3963\n",
            "\u001b[1m1147/1147\u001b[0m \u001b[32m━━━━━━━━━━━━━━━━━━━━\u001b[0m\u001b[37m\u001b[0m \u001b[1m2s\u001b[0m 1ms/step\n",
            "Validating fold...\n"
          ]
        },
        {
          "output_type": "stream",
          "name": "stderr",
          "text": [
            "/usr/local/lib/python3.10/dist-packages/keras/src/layers/rnn/rnn.py:204: UserWarning: Do not pass an `input_shape`/`input_dim` argument to a layer. When using Sequential models, prefer using an `Input(shape)` object as the first layer in the model instead.\n",
            "  super().__init__(**kwargs)\n"
          ]
        },
        {
          "output_type": "display_data",
          "data": {
            "text/plain": [
              "\u001b[1mModel: \"sequential_4\"\u001b[0m\n"
            ],
            "text/html": [
              "<pre style=\"white-space:pre;overflow-x:auto;line-height:normal;font-family:Menlo,'DejaVu Sans Mono',consolas,'Courier New',monospace\"><span style=\"font-weight: bold\">Model: \"sequential_4\"</span>\n",
              "</pre>\n"
            ]
          },
          "metadata": {}
        },
        {
          "output_type": "display_data",
          "data": {
            "text/plain": [
              "┏━━━━━━━━━━━━━━━━━━━━━━━━━━━━━━━━━━━━━━┳━━━━━━━━━━━━━━━━━━━━━━━━━━━━━┳━━━━━━━━━━━━━━━━━┓\n",
              "┃\u001b[1m \u001b[0m\u001b[1mLayer (type)                        \u001b[0m\u001b[1m \u001b[0m┃\u001b[1m \u001b[0m\u001b[1mOutput Shape               \u001b[0m\u001b[1m \u001b[0m┃\u001b[1m \u001b[0m\u001b[1m        Param #\u001b[0m\u001b[1m \u001b[0m┃\n",
              "┡━━━━━━━━━━━━━━━━━━━━━━━━━━━━━━━━━━━━━━╇━━━━━━━━━━━━━━━━━━━━━━━━━━━━━╇━━━━━━━━━━━━━━━━━┩\n",
              "│ lstm_4 (\u001b[38;5;33mLSTM\u001b[0m)                        │ (\u001b[38;5;45mNone\u001b[0m, \u001b[38;5;34m16\u001b[0m)                  │          \u001b[38;5;34m13,888\u001b[0m │\n",
              "├──────────────────────────────────────┼─────────────────────────────┼─────────────────┤\n",
              "│ dropout_4 (\u001b[38;5;33mDropout\u001b[0m)                  │ (\u001b[38;5;45mNone\u001b[0m, \u001b[38;5;34m16\u001b[0m)                  │               \u001b[38;5;34m0\u001b[0m │\n",
              "├──────────────────────────────────────┼─────────────────────────────┼─────────────────┤\n",
              "│ dense_8 (\u001b[38;5;33mDense\u001b[0m)                      │ (\u001b[38;5;45mNone\u001b[0m, \u001b[38;5;34m32\u001b[0m)                  │             \u001b[38;5;34m544\u001b[0m │\n",
              "├──────────────────────────────────────┼─────────────────────────────┼─────────────────┤\n",
              "│ dense_9 (\u001b[38;5;33mDense\u001b[0m)                      │ (\u001b[38;5;45mNone\u001b[0m, \u001b[38;5;34m1\u001b[0m)                   │              \u001b[38;5;34m33\u001b[0m │\n",
              "└──────────────────────────────────────┴─────────────────────────────┴─────────────────┘\n"
            ],
            "text/html": [
              "<pre style=\"white-space:pre;overflow-x:auto;line-height:normal;font-family:Menlo,'DejaVu Sans Mono',consolas,'Courier New',monospace\">┏━━━━━━━━━━━━━━━━━━━━━━━━━━━━━━━━━━━━━━┳━━━━━━━━━━━━━━━━━━━━━━━━━━━━━┳━━━━━━━━━━━━━━━━━┓\n",
              "┃<span style=\"font-weight: bold\"> Layer (type)                         </span>┃<span style=\"font-weight: bold\"> Output Shape                </span>┃<span style=\"font-weight: bold\">         Param # </span>┃\n",
              "┡━━━━━━━━━━━━━━━━━━━━━━━━━━━━━━━━━━━━━━╇━━━━━━━━━━━━━━━━━━━━━━━━━━━━━╇━━━━━━━━━━━━━━━━━┩\n",
              "│ lstm_4 (<span style=\"color: #0087ff; text-decoration-color: #0087ff\">LSTM</span>)                        │ (<span style=\"color: #00d7ff; text-decoration-color: #00d7ff\">None</span>, <span style=\"color: #00af00; text-decoration-color: #00af00\">16</span>)                  │          <span style=\"color: #00af00; text-decoration-color: #00af00\">13,888</span> │\n",
              "├──────────────────────────────────────┼─────────────────────────────┼─────────────────┤\n",
              "│ dropout_4 (<span style=\"color: #0087ff; text-decoration-color: #0087ff\">Dropout</span>)                  │ (<span style=\"color: #00d7ff; text-decoration-color: #00d7ff\">None</span>, <span style=\"color: #00af00; text-decoration-color: #00af00\">16</span>)                  │               <span style=\"color: #00af00; text-decoration-color: #00af00\">0</span> │\n",
              "├──────────────────────────────────────┼─────────────────────────────┼─────────────────┤\n",
              "│ dense_8 (<span style=\"color: #0087ff; text-decoration-color: #0087ff\">Dense</span>)                      │ (<span style=\"color: #00d7ff; text-decoration-color: #00d7ff\">None</span>, <span style=\"color: #00af00; text-decoration-color: #00af00\">32</span>)                  │             <span style=\"color: #00af00; text-decoration-color: #00af00\">544</span> │\n",
              "├──────────────────────────────────────┼─────────────────────────────┼─────────────────┤\n",
              "│ dense_9 (<span style=\"color: #0087ff; text-decoration-color: #0087ff\">Dense</span>)                      │ (<span style=\"color: #00d7ff; text-decoration-color: #00d7ff\">None</span>, <span style=\"color: #00af00; text-decoration-color: #00af00\">1</span>)                   │              <span style=\"color: #00af00; text-decoration-color: #00af00\">33</span> │\n",
              "└──────────────────────────────────────┴─────────────────────────────┴─────────────────┘\n",
              "</pre>\n"
            ]
          },
          "metadata": {}
        },
        {
          "output_type": "display_data",
          "data": {
            "text/plain": [
              "\u001b[1m Total params: \u001b[0m\u001b[38;5;34m14,465\u001b[0m (56.50 KB)\n"
            ],
            "text/html": [
              "<pre style=\"white-space:pre;overflow-x:auto;line-height:normal;font-family:Menlo,'DejaVu Sans Mono',consolas,'Courier New',monospace\"><span style=\"font-weight: bold\"> Total params: </span><span style=\"color: #00af00; text-decoration-color: #00af00\">14,465</span> (56.50 KB)\n",
              "</pre>\n"
            ]
          },
          "metadata": {}
        },
        {
          "output_type": "display_data",
          "data": {
            "text/plain": [
              "\u001b[1m Trainable params: \u001b[0m\u001b[38;5;34m14,465\u001b[0m (56.50 KB)\n"
            ],
            "text/html": [
              "<pre style=\"white-space:pre;overflow-x:auto;line-height:normal;font-family:Menlo,'DejaVu Sans Mono',consolas,'Courier New',monospace\"><span style=\"font-weight: bold\"> Trainable params: </span><span style=\"color: #00af00; text-decoration-color: #00af00\">14,465</span> (56.50 KB)\n",
              "</pre>\n"
            ]
          },
          "metadata": {}
        },
        {
          "output_type": "display_data",
          "data": {
            "text/plain": [
              "\u001b[1m Non-trainable params: \u001b[0m\u001b[38;5;34m0\u001b[0m (0.00 B)\n"
            ],
            "text/html": [
              "<pre style=\"white-space:pre;overflow-x:auto;line-height:normal;font-family:Menlo,'DejaVu Sans Mono',consolas,'Courier New',monospace\"><span style=\"font-weight: bold\"> Non-trainable params: </span><span style=\"color: #00af00; text-decoration-color: #00af00\">0</span> (0.00 B)\n",
              "</pre>\n"
            ]
          },
          "metadata": {}
        },
        {
          "output_type": "stream",
          "name": "stdout",
          "text": [
            "Epoch 1/10\n",
            "\u001b[1m4585/4585\u001b[0m \u001b[32m━━━━━━━━━━━━━━━━━━━━\u001b[0m\u001b[37m\u001b[0m \u001b[1m27s\u001b[0m 5ms/step - AUC: 0.7967 - Recall: 0.9044 - loss: 0.5133 - val_AUC: 0.8400 - val_Recall: 0.9352 - val_loss: 0.4594\n",
            "Epoch 2/10\n",
            "\u001b[1m4585/4585\u001b[0m \u001b[32m━━━━━━━━━━━━━━━━━━━━\u001b[0m\u001b[37m\u001b[0m \u001b[1m24s\u001b[0m 5ms/step - AUC: 0.8399 - Recall: 0.9213 - loss: 0.4562 - val_AUC: 0.8544 - val_Recall: 0.9256 - val_loss: 0.4401\n",
            "Epoch 3/10\n",
            "\u001b[1m4585/4585\u001b[0m \u001b[32m━━━━━━━━━━━━━━━━━━━━\u001b[0m\u001b[37m\u001b[0m \u001b[1m24s\u001b[0m 5ms/step - AUC: 0.8564 - Recall: 0.9187 - loss: 0.4344 - val_AUC: 0.8614 - val_Recall: 0.9270 - val_loss: 0.4293\n",
            "Epoch 4/10\n",
            "\u001b[1m4585/4585\u001b[0m \u001b[32m━━━━━━━━━━━━━━━━━━━━\u001b[0m\u001b[37m\u001b[0m \u001b[1m24s\u001b[0m 5ms/step - AUC: 0.8669 - Recall: 0.9214 - loss: 0.4194 - val_AUC: 0.8684 - val_Recall: 0.9295 - val_loss: 0.4205\n",
            "Epoch 5/10\n",
            "\u001b[1m4585/4585\u001b[0m \u001b[32m━━━━━━━━━━━━━━━━━━━━\u001b[0m\u001b[37m\u001b[0m \u001b[1m24s\u001b[0m 5ms/step - AUC: 0.8734 - Recall: 0.9224 - loss: 0.4088 - val_AUC: 0.8725 - val_Recall: 0.9401 - val_loss: 0.4156\n",
            "Epoch 6/10\n",
            "\u001b[1m4585/4585\u001b[0m \u001b[32m━━━━━━━━━━━━━━━━━━━━\u001b[0m\u001b[37m\u001b[0m \u001b[1m24s\u001b[0m 5ms/step - AUC: 0.8785 - Recall: 0.9231 - loss: 0.4029 - val_AUC: 0.8769 - val_Recall: 0.9294 - val_loss: 0.4075\n",
            "Epoch 7/10\n",
            "\u001b[1m4585/4585\u001b[0m \u001b[32m━━━━━━━━━━━━━━━━━━━━\u001b[0m\u001b[37m\u001b[0m \u001b[1m24s\u001b[0m 5ms/step - AUC: 0.8845 - Recall: 0.9239 - loss: 0.3930 - val_AUC: 0.8790 - val_Recall: 0.9252 - val_loss: 0.4052\n",
            "Epoch 8/10\n",
            "\u001b[1m4585/4585\u001b[0m \u001b[32m━━━━━━━━━━━━━━━━━━━━\u001b[0m\u001b[37m\u001b[0m \u001b[1m24s\u001b[0m 5ms/step - AUC: 0.8860 - Recall: 0.9229 - loss: 0.3898 - val_AUC: 0.8809 - val_Recall: 0.9249 - val_loss: 0.4022\n",
            "Epoch 9/10\n",
            "\u001b[1m4585/4585\u001b[0m \u001b[32m━━━━━━━━━━━━━━━━━━━━\u001b[0m\u001b[37m\u001b[0m \u001b[1m24s\u001b[0m 5ms/step - AUC: 0.8904 - Recall: 0.9253 - loss: 0.3838 - val_AUC: 0.8825 - val_Recall: 0.9218 - val_loss: 0.3978\n",
            "Epoch 10/10\n",
            "\u001b[1m4585/4585\u001b[0m \u001b[32m━━━━━━━━━━━━━━━━━━━━\u001b[0m\u001b[37m\u001b[0m \u001b[1m24s\u001b[0m 5ms/step - AUC: 0.8912 - Recall: 0.9260 - loss: 0.3811 - val_AUC: 0.8847 - val_Recall: 0.9413 - val_loss: 0.3961\n",
            "\u001b[1m1147/1147\u001b[0m \u001b[32m━━━━━━━━━━━━━━━━━━━━\u001b[0m\u001b[37m\u001b[0m \u001b[1m2s\u001b[0m 1ms/step\n",
            "Cross-validated AUC: 0.8853002933195151\n",
            "Cross-validated Recall: 0.937574860931998\n"
          ]
        },
        {
          "output_type": "stream",
          "name": "stderr",
          "text": [
            "/usr/local/lib/python3.10/dist-packages/keras/src/layers/rnn/rnn.py:204: UserWarning: Do not pass an `input_shape`/`input_dim` argument to a layer. When using Sequential models, prefer using an `Input(shape)` object as the first layer in the model instead.\n",
            "  super().__init__(**kwargs)\n"
          ]
        },
        {
          "output_type": "display_data",
          "data": {
            "text/plain": [
              "\u001b[1mModel: \"sequential_5\"\u001b[0m\n"
            ],
            "text/html": [
              "<pre style=\"white-space:pre;overflow-x:auto;line-height:normal;font-family:Menlo,'DejaVu Sans Mono',consolas,'Courier New',monospace\"><span style=\"font-weight: bold\">Model: \"sequential_5\"</span>\n",
              "</pre>\n"
            ]
          },
          "metadata": {}
        },
        {
          "output_type": "display_data",
          "data": {
            "text/plain": [
              "┏━━━━━━━━━━━━━━━━━━━━━━━━━━━━━━━━━━━━━━┳━━━━━━━━━━━━━━━━━━━━━━━━━━━━━┳━━━━━━━━━━━━━━━━━┓\n",
              "┃\u001b[1m \u001b[0m\u001b[1mLayer (type)                        \u001b[0m\u001b[1m \u001b[0m┃\u001b[1m \u001b[0m\u001b[1mOutput Shape               \u001b[0m\u001b[1m \u001b[0m┃\u001b[1m \u001b[0m\u001b[1m        Param #\u001b[0m\u001b[1m \u001b[0m┃\n",
              "┡━━━━━━━━━━━━━━━━━━━━━━━━━━━━━━━━━━━━━━╇━━━━━━━━━━━━━━━━━━━━━━━━━━━━━╇━━━━━━━━━━━━━━━━━┩\n",
              "│ lstm_5 (\u001b[38;5;33mLSTM\u001b[0m)                        │ (\u001b[38;5;45mNone\u001b[0m, \u001b[38;5;34m16\u001b[0m)                  │          \u001b[38;5;34m13,888\u001b[0m │\n",
              "├──────────────────────────────────────┼─────────────────────────────┼─────────────────┤\n",
              "│ dropout_5 (\u001b[38;5;33mDropout\u001b[0m)                  │ (\u001b[38;5;45mNone\u001b[0m, \u001b[38;5;34m16\u001b[0m)                  │               \u001b[38;5;34m0\u001b[0m │\n",
              "├──────────────────────────────────────┼─────────────────────────────┼─────────────────┤\n",
              "│ dense_10 (\u001b[38;5;33mDense\u001b[0m)                     │ (\u001b[38;5;45mNone\u001b[0m, \u001b[38;5;34m32\u001b[0m)                  │             \u001b[38;5;34m544\u001b[0m │\n",
              "├──────────────────────────────────────┼─────────────────────────────┼─────────────────┤\n",
              "│ dense_11 (\u001b[38;5;33mDense\u001b[0m)                     │ (\u001b[38;5;45mNone\u001b[0m, \u001b[38;5;34m1\u001b[0m)                   │              \u001b[38;5;34m33\u001b[0m │\n",
              "└──────────────────────────────────────┴─────────────────────────────┴─────────────────┘\n"
            ],
            "text/html": [
              "<pre style=\"white-space:pre;overflow-x:auto;line-height:normal;font-family:Menlo,'DejaVu Sans Mono',consolas,'Courier New',monospace\">┏━━━━━━━━━━━━━━━━━━━━━━━━━━━━━━━━━━━━━━┳━━━━━━━━━━━━━━━━━━━━━━━━━━━━━┳━━━━━━━━━━━━━━━━━┓\n",
              "┃<span style=\"font-weight: bold\"> Layer (type)                         </span>┃<span style=\"font-weight: bold\"> Output Shape                </span>┃<span style=\"font-weight: bold\">         Param # </span>┃\n",
              "┡━━━━━━━━━━━━━━━━━━━━━━━━━━━━━━━━━━━━━━╇━━━━━━━━━━━━━━━━━━━━━━━━━━━━━╇━━━━━━━━━━━━━━━━━┩\n",
              "│ lstm_5 (<span style=\"color: #0087ff; text-decoration-color: #0087ff\">LSTM</span>)                        │ (<span style=\"color: #00d7ff; text-decoration-color: #00d7ff\">None</span>, <span style=\"color: #00af00; text-decoration-color: #00af00\">16</span>)                  │          <span style=\"color: #00af00; text-decoration-color: #00af00\">13,888</span> │\n",
              "├──────────────────────────────────────┼─────────────────────────────┼─────────────────┤\n",
              "│ dropout_5 (<span style=\"color: #0087ff; text-decoration-color: #0087ff\">Dropout</span>)                  │ (<span style=\"color: #00d7ff; text-decoration-color: #00d7ff\">None</span>, <span style=\"color: #00af00; text-decoration-color: #00af00\">16</span>)                  │               <span style=\"color: #00af00; text-decoration-color: #00af00\">0</span> │\n",
              "├──────────────────────────────────────┼─────────────────────────────┼─────────────────┤\n",
              "│ dense_10 (<span style=\"color: #0087ff; text-decoration-color: #0087ff\">Dense</span>)                     │ (<span style=\"color: #00d7ff; text-decoration-color: #00d7ff\">None</span>, <span style=\"color: #00af00; text-decoration-color: #00af00\">32</span>)                  │             <span style=\"color: #00af00; text-decoration-color: #00af00\">544</span> │\n",
              "├──────────────────────────────────────┼─────────────────────────────┼─────────────────┤\n",
              "│ dense_11 (<span style=\"color: #0087ff; text-decoration-color: #0087ff\">Dense</span>)                     │ (<span style=\"color: #00d7ff; text-decoration-color: #00d7ff\">None</span>, <span style=\"color: #00af00; text-decoration-color: #00af00\">1</span>)                   │              <span style=\"color: #00af00; text-decoration-color: #00af00\">33</span> │\n",
              "└──────────────────────────────────────┴─────────────────────────────┴─────────────────┘\n",
              "</pre>\n"
            ]
          },
          "metadata": {}
        },
        {
          "output_type": "display_data",
          "data": {
            "text/plain": [
              "\u001b[1m Total params: \u001b[0m\u001b[38;5;34m14,465\u001b[0m (56.50 KB)\n"
            ],
            "text/html": [
              "<pre style=\"white-space:pre;overflow-x:auto;line-height:normal;font-family:Menlo,'DejaVu Sans Mono',consolas,'Courier New',monospace\"><span style=\"font-weight: bold\"> Total params: </span><span style=\"color: #00af00; text-decoration-color: #00af00\">14,465</span> (56.50 KB)\n",
              "</pre>\n"
            ]
          },
          "metadata": {}
        },
        {
          "output_type": "display_data",
          "data": {
            "text/plain": [
              "\u001b[1m Trainable params: \u001b[0m\u001b[38;5;34m14,465\u001b[0m (56.50 KB)\n"
            ],
            "text/html": [
              "<pre style=\"white-space:pre;overflow-x:auto;line-height:normal;font-family:Menlo,'DejaVu Sans Mono',consolas,'Courier New',monospace\"><span style=\"font-weight: bold\"> Trainable params: </span><span style=\"color: #00af00; text-decoration-color: #00af00\">14,465</span> (56.50 KB)\n",
              "</pre>\n"
            ]
          },
          "metadata": {}
        },
        {
          "output_type": "display_data",
          "data": {
            "text/plain": [
              "\u001b[1m Non-trainable params: \u001b[0m\u001b[38;5;34m0\u001b[0m (0.00 B)\n"
            ],
            "text/html": [
              "<pre style=\"white-space:pre;overflow-x:auto;line-height:normal;font-family:Menlo,'DejaVu Sans Mono',consolas,'Courier New',monospace\"><span style=\"font-weight: bold\"> Non-trainable params: </span><span style=\"color: #00af00; text-decoration-color: #00af00\">0</span> (0.00 B)\n",
              "</pre>\n"
            ]
          },
          "metadata": {}
        },
        {
          "output_type": "stream",
          "name": "stdout",
          "text": [
            "Epoch 1/20\n",
            "\u001b[1m4012/4012\u001b[0m \u001b[32m━━━━━━━━━━━━━━━━━━━━\u001b[0m\u001b[37m\u001b[0m \u001b[1m25s\u001b[0m 6ms/step - AUC: 0.8014 - Recall: 0.8646 - loss: 0.5119 - val_AUC: 0.8410 - val_Recall: 0.9200 - val_loss: 0.4604\n",
            "Epoch 2/20\n",
            "\u001b[1m4012/4012\u001b[0m \u001b[32m━━━━━━━━━━━━━━━━━━━━\u001b[0m\u001b[37m\u001b[0m \u001b[1m22s\u001b[0m 6ms/step - AUC: 0.8408 - Recall: 0.9153 - loss: 0.4570 - val_AUC: 0.8550 - val_Recall: 0.9016 - val_loss: 0.4423\n",
            "Epoch 3/20\n",
            "\u001b[1m4012/4012\u001b[0m \u001b[32m━━━━━━━━━━━━━━━━━━━━\u001b[0m\u001b[37m\u001b[0m \u001b[1m23s\u001b[0m 6ms/step - AUC: 0.8548 - Recall: 0.9133 - loss: 0.4388 - val_AUC: 0.8656 - val_Recall: 0.9299 - val_loss: 0.4275\n",
            "Epoch 4/20\n",
            "\u001b[1m4012/4012\u001b[0m \u001b[32m━━━━━━━━━━━━━━━━━━━━\u001b[0m\u001b[37m\u001b[0m \u001b[1m23s\u001b[0m 6ms/step - AUC: 0.8651 - Recall: 0.9124 - loss: 0.4253 - val_AUC: 0.8718 - val_Recall: 0.9221 - val_loss: 0.4187\n",
            "Epoch 5/20\n",
            "\u001b[1m4012/4012\u001b[0m \u001b[32m━━━━━━━━━━━━━━━━━━━━\u001b[0m\u001b[37m\u001b[0m \u001b[1m23s\u001b[0m 6ms/step - AUC: 0.8742 - Recall: 0.9162 - loss: 0.4133 - val_AUC: 0.8759 - val_Recall: 0.9059 - val_loss: 0.4129\n",
            "Epoch 6/20\n",
            "\u001b[1m4012/4012\u001b[0m \u001b[32m━━━━━━━━━━━━━━━━━━━━\u001b[0m\u001b[37m\u001b[0m \u001b[1m23s\u001b[0m 6ms/step - AUC: 0.8799 - Recall: 0.9150 - loss: 0.4037 - val_AUC: 0.8801 - val_Recall: 0.9278 - val_loss: 0.4082\n",
            "Epoch 7/20\n",
            "\u001b[1m4012/4012\u001b[0m \u001b[32m━━━━━━━━━━━━━━━━━━━━\u001b[0m\u001b[37m\u001b[0m \u001b[1m22s\u001b[0m 6ms/step - AUC: 0.8827 - Recall: 0.9163 - loss: 0.3987 - val_AUC: 0.8811 - val_Recall: 0.9260 - val_loss: 0.4053\n",
            "Epoch 8/20\n",
            "\u001b[1m4012/4012\u001b[0m \u001b[32m━━━━━━━━━━━━━━━━━━━━\u001b[0m\u001b[37m\u001b[0m \u001b[1m23s\u001b[0m 6ms/step - AUC: 0.8859 - Recall: 0.9167 - loss: 0.3934 - val_AUC: 0.8834 - val_Recall: 0.9024 - val_loss: 0.4021\n",
            "Epoch 9/20\n",
            "\u001b[1m4012/4012\u001b[0m \u001b[32m━━━━━━━━━━━━━━━━━━━━\u001b[0m\u001b[37m\u001b[0m \u001b[1m23s\u001b[0m 6ms/step - AUC: 0.8885 - Recall: 0.9195 - loss: 0.3894 - val_AUC: 0.8856 - val_Recall: 0.9355 - val_loss: 0.4005\n",
            "Epoch 10/20\n",
            "\u001b[1m4012/4012\u001b[0m \u001b[32m━━━━━━━━━━━━━━━━━━━━\u001b[0m\u001b[37m\u001b[0m \u001b[1m23s\u001b[0m 6ms/step - AUC: 0.8912 - Recall: 0.9223 - loss: 0.3841 - val_AUC: 0.8890 - val_Recall: 0.9266 - val_loss: 0.3938\n",
            "Epoch 11/20\n",
            "\u001b[1m4012/4012\u001b[0m \u001b[32m━━━━━━━━━━━━━━━━━━━━\u001b[0m\u001b[37m\u001b[0m \u001b[1m23s\u001b[0m 6ms/step - AUC: 0.8947 - Recall: 0.9213 - loss: 0.3778 - val_AUC: 0.8885 - val_Recall: 0.9202 - val_loss: 0.3946\n",
            "Epoch 12/20\n",
            "\u001b[1m4012/4012\u001b[0m \u001b[32m━━━━━━━━━━━━━━━━━━━━\u001b[0m\u001b[37m\u001b[0m \u001b[1m22s\u001b[0m 6ms/step - AUC: 0.8948 - Recall: 0.9224 - loss: 0.3772 - val_AUC: 0.8904 - val_Recall: 0.9275 - val_loss: 0.3914\n",
            "Epoch 13/20\n",
            "\u001b[1m4012/4012\u001b[0m \u001b[32m━━━━━━━━━━━━━━━━━━━━\u001b[0m\u001b[37m\u001b[0m \u001b[1m23s\u001b[0m 6ms/step - AUC: 0.8962 - Recall: 0.9241 - loss: 0.3748 - val_AUC: 0.8910 - val_Recall: 0.9425 - val_loss: 0.3944\n",
            "Epoch 14/20\n",
            "\u001b[1m4012/4012\u001b[0m \u001b[32m━━━━━━━━━━━━━━━━━━━━\u001b[0m\u001b[37m\u001b[0m \u001b[1m23s\u001b[0m 6ms/step - AUC: 0.8993 - Recall: 0.9236 - loss: 0.3691 - val_AUC: 0.8917 - val_Recall: 0.9362 - val_loss: 0.3930\n",
            "Epoch 15/20\n",
            "\u001b[1m4012/4012\u001b[0m \u001b[32m━━━━━━━━━━━━━━━━━━━━\u001b[0m\u001b[37m\u001b[0m \u001b[1m23s\u001b[0m 6ms/step - AUC: 0.9020 - Recall: 0.9238 - loss: 0.3664 - val_AUC: 0.8929 - val_Recall: 0.9450 - val_loss: 0.3928\n",
            "Epoch 16/20\n",
            "\u001b[1m4012/4012\u001b[0m \u001b[32m━━━━━━━━━━━━━━━━━━━━\u001b[0m\u001b[37m\u001b[0m \u001b[1m23s\u001b[0m 6ms/step - AUC: 0.9005 - Recall: 0.9253 - loss: 0.3682 - val_AUC: 0.8939 - val_Recall: 0.9322 - val_loss: 0.3875\n",
            "Epoch 17/20\n",
            "\u001b[1m4012/4012\u001b[0m \u001b[32m━━━━━━━━━━━━━━━━━━━━\u001b[0m\u001b[37m\u001b[0m \u001b[1m23s\u001b[0m 6ms/step - AUC: 0.9045 - Recall: 0.9274 - loss: 0.3605 - val_AUC: 0.8932 - val_Recall: 0.9311 - val_loss: 0.3867\n",
            "Epoch 18/20\n",
            "\u001b[1m4012/4012\u001b[0m \u001b[32m━━━━━━━━━━━━━━━━━━━━\u001b[0m\u001b[37m\u001b[0m \u001b[1m23s\u001b[0m 6ms/step - AUC: 0.9052 - Recall: 0.9244 - loss: 0.3608 - val_AUC: 0.8942 - val_Recall: 0.9455 - val_loss: 0.3888\n",
            "Epoch 19/20\n",
            "\u001b[1m4012/4012\u001b[0m \u001b[32m━━━━━━━━━━━━━━━━━━━━\u001b[0m\u001b[37m\u001b[0m \u001b[1m23s\u001b[0m 6ms/step - AUC: 0.9045 - Recall: 0.9253 - loss: 0.3610 - val_AUC: 0.8943 - val_Recall: 0.9205 - val_loss: 0.3843\n",
            "Epoch 20/20\n",
            "\u001b[1m4012/4012\u001b[0m \u001b[32m━━━━━━━━━━━━━━━━━━━━\u001b[0m\u001b[37m\u001b[0m \u001b[1m23s\u001b[0m 6ms/step - AUC: 0.9059 - Recall: 0.9244 - loss: 0.3571 - val_AUC: 0.8946 - val_Recall: 0.9385 - val_loss: 0.3897\n",
            "\u001b[1m1720/1720\u001b[0m \u001b[32m━━━━━━━━━━━━━━━━━━━━\u001b[0m\u001b[37m\u001b[0m \u001b[1m2s\u001b[0m 1ms/step\n",
            "Train AUC: 0.8946334\n",
            "Train Recall: 0.9384800525125812\n",
            "Classification Report:\n",
            "              precision    recall  f1-score   support\n",
            "\n",
            "     Class 0       0.92      0.71      0.80     27595\n",
            "     Class 1       0.76      0.94      0.84     27422\n",
            "\n",
            "    accuracy                           0.82     55017\n",
            "   macro avg       0.84      0.82      0.82     55017\n",
            "weighted avg       0.84      0.82      0.82     55017\n",
            "\n"
          ]
        },
        {
          "output_type": "display_data",
          "data": {
            "text/plain": [
              "<Figure size 1000x600 with 1 Axes>"
            ],
            "image/png": "[encoded data removed]"
          },
          "metadata": {}
        },
        {
          "output_type": "display_data",
          "data": {
            "text/plain": [
              "<Figure size 800x600 with 2 Axes>"
            ],
            "image/png": "[encoded data removed]"
          },
          "metadata": {}
        },
        {
          "output_type": "display_data",
          "data": {
            "text/plain": [
              "<Figure size 1000x600 with 1 Axes>"
            ],
            "image/png": "[encoded data removed]"
          },
          "metadata": {}
        }
      ],
      "source": [
        "# train and evaluate\n",
        "# \"train\" consists of applying PCA, applying resampling, creating train/test split,\n",
        "# and ultimately training the model\n",
        "model_fit = bin_model.train(X, y)"
      ]
    },
    {
      "cell_type": "markdown",
      "source": [
        "## Running the Multi-label LSTM Model"
      ],
      "metadata": {
        "id": "AIyY_-_RGlPi"
      },
      "id": "AIyY_-_RGlPi"
    },
    {
      "cell_type": "code",
      "source": [
        "timesteps = 2\n",
        "loss_function='binary_crossentropy'\n",
        "pca_components = 200\n",
        "num_labels = 3\n",
        "class_names=y_multi_names\n",
        "multi_model = MultilabelMIMICLSTM(timesteps, num_labels, loss_function, class_names,\n",
        "                                  test_size=0.3,\n",
        "                            pca_components=pca_components)"
      ],
      "metadata": {
        "id": "eLWeuwhhGoB5"
      },
      "id": "eLWeuwhhGoB5",
      "execution_count": 40,
      "outputs": []
    },
    {
      "cell_type": "code",
      "source": [
        "y_multi.shape"
      ],
      "metadata": {
        "colab": {
          "base_uri": "https://localhost:8080/"
        },
        "id": "jts_XbPb5oJn",
        "outputId": "92336bef-6aec-4c46-95c2-fb0d41cdadae"
      },
      "id": "jts_XbPb5oJn",
      "execution_count": 41,
      "outputs": [
        {
          "output_type": "execute_result",
          "data": {
            "text/plain": [
              "(106764, 3)"
            ]
          },
          "metadata": {},
          "execution_count": 41
        }
      ]
    },
    {
      "cell_type": "code",
      "source": [
        "# train and evaluate\n",
        "# \"train\" consists of applying PCA, applying resampling, creating train/test split,\n",
        "# and ultimately training the model\n",
        "model_fit = multi_model.train(X_multi, y_multi)"
      ],
      "metadata": {
        "colab": {
          "base_uri": "https://localhost:8080/",
          "height": 1000
        },
        "id": "VvZicMYnL17I",
        "outputId": "7ffb091d-71b3-4fea-ca95-a0d0e3912ce1"
      },
      "id": "VvZicMYnL17I",
      "execution_count": null,
      "outputs": [
        {
          "output_type": "stream",
          "name": "stdout",
          "text": [
            "Reduced from 106764 columns to 200 PCA components\n",
            "Validating fold...\n",
            "about to compute weights\n",
            "weights created\n",
            "{0: {0: 0.5210720255743866, 1: 12.364070642733063}, 1: {0: 0.5254638743970863, 1: 10.317830393814932}, 2: {0: 0.5448241988160849, 1: 6.077344528248186}}\n"
          ]
        },
        {
          "output_type": "stream",
          "name": "stderr",
          "text": [
            "/usr/local/lib/python3.10/dist-packages/keras/src/layers/rnn/rnn.py:204: UserWarning: Do not pass an `input_shape`/`input_dim` argument to a layer. When using Sequential models, prefer using an `Input(shape)` object as the first layer in the model instead.\n",
            "  super().__init__(**kwargs)\n"
          ]
        },
        {
          "output_type": "display_data",
          "data": {
            "text/plain": [
              "\u001b[1mModel: \"sequential_7\"\u001b[0m\n"
            ],
            "text/html": [
              "<pre style=\"white-space:pre;overflow-x:auto;line-height:normal;font-family:Menlo,'DejaVu Sans Mono',consolas,'Courier New',monospace\"><span style=\"font-weight: bold\">Model: \"sequential_7\"</span>\n",
              "</pre>\n"
            ]
          },
          "metadata": {}
        },
        {
          "output_type": "display_data",
          "data": {
            "text/plain": [
              "┏━━━━━━━━━━━━━━━━━━━━━━━━━━━━━━━━━━━━━━┳━━━━━━━━━━━━━━━━━━━━━━━━━━━━━┳━━━━━━━━━━━━━━━━━┓\n",
              "┃\u001b[1m \u001b[0m\u001b[1mLayer (type)                        \u001b[0m\u001b[1m \u001b[0m┃\u001b[1m \u001b[0m\u001b[1mOutput Shape               \u001b[0m\u001b[1m \u001b[0m┃\u001b[1m \u001b[0m\u001b[1m        Param #\u001b[0m\u001b[1m \u001b[0m┃\n",
              "┡━━━━━━━━━━━━━━━━━━━━━━━━━━━━━━━━━━━━━━╇━━━━━━━━━━━━━━━━━━━━━━━━━━━━━╇━━━━━━━━━━━━━━━━━┩\n",
              "│ lstm_7 (\u001b[38;5;33mLSTM\u001b[0m)                        │ (\u001b[38;5;45mNone\u001b[0m, \u001b[38;5;34m16\u001b[0m)                  │          \u001b[38;5;34m13,888\u001b[0m │\n",
              "├──────────────────────────────────────┼─────────────────────────────┼─────────────────┤\n",
              "│ dropout_7 (\u001b[38;5;33mDropout\u001b[0m)                  │ (\u001b[38;5;45mNone\u001b[0m, \u001b[38;5;34m16\u001b[0m)                  │               \u001b[38;5;34m0\u001b[0m │\n",
              "├──────────────────────────────────────┼─────────────────────────────┼─────────────────┤\n",
              "│ dense_14 (\u001b[38;5;33mDense\u001b[0m)                     │ (\u001b[38;5;45mNone\u001b[0m, \u001b[38;5;34m32\u001b[0m)                  │             \u001b[38;5;34m544\u001b[0m │\n",
              "├──────────────────────────────────────┼─────────────────────────────┼─────────────────┤\n",
              "│ dense_15 (\u001b[38;5;33mDense\u001b[0m)                     │ (\u001b[38;5;45mNone\u001b[0m, \u001b[38;5;34m3\u001b[0m)                   │              \u001b[38;5;34m99\u001b[0m │\n",
              "└──────────────────────────────────────┴─────────────────────────────┴─────────────────┘\n"
            ],
            "text/html": [
              "<pre style=\"white-space:pre;overflow-x:auto;line-height:normal;font-family:Menlo,'DejaVu Sans Mono',consolas,'Courier New',monospace\">┏━━━━━━━━━━━━━━━━━━━━━━━━━━━━━━━━━━━━━━┳━━━━━━━━━━━━━━━━━━━━━━━━━━━━━┳━━━━━━━━━━━━━━━━━┓\n",
              "┃<span style=\"font-weight: bold\"> Layer (type)                         </span>┃<span style=\"font-weight: bold\"> Output Shape                </span>┃<span style=\"font-weight: bold\">         Param # </span>┃\n",
              "┡━━━━━━━━━━━━━━━━━━━━━━━━━━━━━━━━━━━━━━╇━━━━━━━━━━━━━━━━━━━━━━━━━━━━━╇━━━━━━━━━━━━━━━━━┩\n",
              "│ lstm_7 (<span style=\"color: #0087ff; text-decoration-color: #0087ff\">LSTM</span>)                        │ (<span style=\"color: #00d7ff; text-decoration-color: #00d7ff\">None</span>, <span style=\"color: #00af00; text-decoration-color: #00af00\">16</span>)                  │          <span style=\"color: #00af00; text-decoration-color: #00af00\">13,888</span> │\n",
              "├──────────────────────────────────────┼─────────────────────────────┼─────────────────┤\n",
              "│ dropout_7 (<span style=\"color: #0087ff; text-decoration-color: #0087ff\">Dropout</span>)                  │ (<span style=\"color: #00d7ff; text-decoration-color: #00d7ff\">None</span>, <span style=\"color: #00af00; text-decoration-color: #00af00\">16</span>)                  │               <span style=\"color: #00af00; text-decoration-color: #00af00\">0</span> │\n",
              "├──────────────────────────────────────┼─────────────────────────────┼─────────────────┤\n",
              "│ dense_14 (<span style=\"color: #0087ff; text-decoration-color: #0087ff\">Dense</span>)                     │ (<span style=\"color: #00d7ff; text-decoration-color: #00d7ff\">None</span>, <span style=\"color: #00af00; text-decoration-color: #00af00\">32</span>)                  │             <span style=\"color: #00af00; text-decoration-color: #00af00\">544</span> │\n",
              "├──────────────────────────────────────┼─────────────────────────────┼─────────────────┤\n",
              "│ dense_15 (<span style=\"color: #0087ff; text-decoration-color: #0087ff\">Dense</span>)                     │ (<span style=\"color: #00d7ff; text-decoration-color: #00d7ff\">None</span>, <span style=\"color: #00af00; text-decoration-color: #00af00\">3</span>)                   │              <span style=\"color: #00af00; text-decoration-color: #00af00\">99</span> │\n",
              "└──────────────────────────────────────┴─────────────────────────────┴─────────────────┘\n",
              "</pre>\n"
            ]
          },
          "metadata": {}
        },
        {
          "output_type": "display_data",
          "data": {
            "text/plain": [
              "\u001b[1m Total params: \u001b[0m\u001b[38;5;34m14,531\u001b[0m (56.76 KB)\n"
            ],
            "text/html": [
              "<pre style=\"white-space:pre;overflow-x:auto;line-height:normal;font-family:Menlo,'DejaVu Sans Mono',consolas,'Courier New',monospace\"><span style=\"font-weight: bold\"> Total params: </span><span style=\"color: #00af00; text-decoration-color: #00af00\">14,531</span> (56.76 KB)\n",
              "</pre>\n"
            ]
          },
          "metadata": {}
        },
        {
          "output_type": "display_data",
          "data": {
            "text/plain": [
              "\u001b[1m Trainable params: \u001b[0m\u001b[38;5;34m14,531\u001b[0m (56.76 KB)\n"
            ],
            "text/html": [
              "<pre style=\"white-space:pre;overflow-x:auto;line-height:normal;font-family:Menlo,'DejaVu Sans Mono',consolas,'Courier New',monospace\"><span style=\"font-weight: bold\"> Trainable params: </span><span style=\"color: #00af00; text-decoration-color: #00af00\">14,531</span> (56.76 KB)\n",
              "</pre>\n"
            ]
          },
          "metadata": {}
        },
        {
          "output_type": "display_data",
          "data": {
            "text/plain": [
              "\u001b[1m Non-trainable params: \u001b[0m\u001b[38;5;34m0\u001b[0m (0.00 B)\n"
            ],
            "text/html": [
              "<pre style=\"white-space:pre;overflow-x:auto;line-height:normal;font-family:Menlo,'DejaVu Sans Mono',consolas,'Courier New',monospace\"><span style=\"font-weight: bold\"> Non-trainable params: </span><span style=\"color: #00af00; text-decoration-color: #00af00\">0</span> (0.00 B)\n",
              "</pre>\n"
            ]
          },
          "metadata": {}
        },
        {
          "output_type": "stream",
          "name": "stdout",
          "text": [
            "Epoch 1/10\n",
            "\u001b[1m2670/2670\u001b[0m \u001b[32m━━━━━━━━━━━━━━━━━━━━\u001b[0m\u001b[37m\u001b[0m \u001b[1m16s\u001b[0m 5ms/step - AUC: 0.5279 - Recall: 7.5773e-05 - loss: 3.6569 - val_AUC: 0.5060 - val_Recall: 0.0000e+00 - val_loss: 0.6135\n",
            "Epoch 2/10\n",
            "\u001b[1m2670/2670\u001b[0m \u001b[32m━━━━━━━━━━━━━━━━━━━━\u001b[0m\u001b[37m\u001b[0m \u001b[1m14s\u001b[0m 5ms/step - AUC: 0.5059 - Recall: 0.0029 - loss: 3.3307 - val_AUC: 0.5642 - val_Recall: 0.0038 - val_loss: 0.5350\n",
            "Epoch 3/10\n",
            "\u001b[1m2670/2670\u001b[0m \u001b[32m━━━━━━━━━━━━━━━━━━━━\u001b[0m\u001b[37m\u001b[0m \u001b[1m14s\u001b[0m 5ms/step - AUC: 0.5375 - Recall: 0.0314 - loss: 3.2519 - val_AUC: 0.5566 - val_Recall: 0.0546 - val_loss: 0.5105\n",
            "Epoch 4/10\n",
            "\u001b[1m2670/2670\u001b[0m \u001b[32m━━━━━━━━━━━━━━━━━━━━\u001b[0m\u001b[37m\u001b[0m \u001b[1m14s\u001b[0m 5ms/step - AUC: 0.5464 - Recall: 0.0786 - loss: 3.0589 - val_AUC: 0.5423 - val_Recall: 0.0722 - val_loss: 0.4888\n",
            "Epoch 5/10\n",
            "\u001b[1m2670/2670\u001b[0m \u001b[32m━━━━━━━━━━━━━━━━━━━━\u001b[0m\u001b[37m\u001b[0m \u001b[1m14s\u001b[0m 5ms/step - AUC: 0.5361 - Recall: 0.0899 - loss: 3.0356 - val_AUC: 0.5386 - val_Recall: 0.0660 - val_loss: 0.5482\n",
            "Epoch 6/10\n",
            "\u001b[1m2670/2670\u001b[0m \u001b[32m━━━━━━━━━━━━━━━━━━━━\u001b[0m\u001b[37m\u001b[0m \u001b[1m14s\u001b[0m 5ms/step - AUC: 0.5466 - Recall: 0.1097 - loss: 2.9210 - val_AUC: 0.5452 - val_Recall: 0.1208 - val_loss: 0.5012\n",
            "Epoch 7/10\n",
            "\u001b[1m2670/2670\u001b[0m \u001b[32m━━━━━━━━━━━━━━━━━━━━\u001b[0m\u001b[37m\u001b[0m \u001b[1m14s\u001b[0m 5ms/step - AUC: 0.5402 - Recall: 0.1162 - loss: 2.9329 - val_AUC: 0.5269 - val_Recall: 0.1119 - val_loss: 0.4909\n",
            "Epoch 8/10\n",
            "\u001b[1m2670/2670\u001b[0m \u001b[32m━━━━━━━━━━━━━━━━━━━━\u001b[0m\u001b[37m\u001b[0m \u001b[1m14s\u001b[0m 5ms/step - AUC: 0.5496 - Recall: 0.1421 - loss: 2.9185 - val_AUC: 0.5459 - val_Recall: 0.1287 - val_loss: 0.4625\n",
            "Epoch 9/10\n",
            "\u001b[1m2670/2670\u001b[0m \u001b[32m━━━━━━━━━━━━━━━━━━━━\u001b[0m\u001b[37m\u001b[0m \u001b[1m14s\u001b[0m 5ms/step - AUC: 0.5588 - Recall: 0.1457 - loss: 2.8589 - val_AUC: 0.5719 - val_Recall: 0.1641 - val_loss: 0.4723\n",
            "Epoch 10/10\n",
            "\u001b[1m2670/2670\u001b[0m \u001b[32m━━━━━━━━━━━━━━━━━━━━\u001b[0m\u001b[37m\u001b[0m \u001b[1m14s\u001b[0m 5ms/step - AUC: 0.5733 - Recall: 0.1734 - loss: 2.7086 - val_AUC: 0.5474 - val_Recall: 0.1338 - val_loss: 0.4792\n",
            "\u001b[1m668/668\u001b[0m \u001b[32m━━━━━━━━━━━━━━━━━━━━\u001b[0m\u001b[37m\u001b[0m \u001b[1m1s\u001b[0m 1ms/step\n",
            "Validating fold...\n",
            "about to compute weights\n",
            "weights created\n",
            "{0: {0: 0.5206146606687879, 1: 12.627291543465406}, 1: {0: 0.5256967354374907, 1: 10.228862275449101}, 2: {0: 0.5450884537819416, 1: 6.044656758669498}}\n"
          ]
        },
        {
          "output_type": "stream",
          "name": "stderr",
          "text": [
            "/usr/local/lib/python3.10/dist-packages/keras/src/layers/rnn/rnn.py:204: UserWarning: Do not pass an `input_shape`/`input_dim` argument to a layer. When using Sequential models, prefer using an `Input(shape)` object as the first layer in the model instead.\n",
            "  super().__init__(**kwargs)\n"
          ]
        },
        {
          "output_type": "display_data",
          "data": {
            "text/plain": [
              "\u001b[1mModel: \"sequential_8\"\u001b[0m\n"
            ],
            "text/html": [
              "<pre style=\"white-space:pre;overflow-x:auto;line-height:normal;font-family:Menlo,'DejaVu Sans Mono',consolas,'Courier New',monospace\"><span style=\"font-weight: bold\">Model: \"sequential_8\"</span>\n",
              "</pre>\n"
            ]
          },
          "metadata": {}
        },
        {
          "output_type": "display_data",
          "data": {
            "text/plain": [
              "┏━━━━━━━━━━━━━━━━━━━━━━━━━━━━━━━━━━━━━━┳━━━━━━━━━━━━━━━━━━━━━━━━━━━━━┳━━━━━━━━━━━━━━━━━┓\n",
              "┃\u001b[1m \u001b[0m\u001b[1mLayer (type)                        \u001b[0m\u001b[1m \u001b[0m┃\u001b[1m \u001b[0m\u001b[1mOutput Shape               \u001b[0m\u001b[1m \u001b[0m┃\u001b[1m \u001b[0m\u001b[1m        Param #\u001b[0m\u001b[1m \u001b[0m┃\n",
              "┡━━━━━━━━━━━━━━━━━━━━━━━━━━━━━━━━━━━━━━╇━━━━━━━━━━━━━━━━━━━━━━━━━━━━━╇━━━━━━━━━━━━━━━━━┩\n",
              "│ lstm_8 (\u001b[38;5;33mLSTM\u001b[0m)                        │ (\u001b[38;5;45mNone\u001b[0m, \u001b[38;5;34m16\u001b[0m)                  │          \u001b[38;5;34m13,888\u001b[0m │\n",
              "├──────────────────────────────────────┼─────────────────────────────┼─────────────────┤\n",
              "│ dropout_8 (\u001b[38;5;33mDropout\u001b[0m)                  │ (\u001b[38;5;45mNone\u001b[0m, \u001b[38;5;34m16\u001b[0m)                  │               \u001b[38;5;34m0\u001b[0m │\n",
              "├──────────────────────────────────────┼─────────────────────────────┼─────────────────┤\n",
              "│ dense_16 (\u001b[38;5;33mDense\u001b[0m)                     │ (\u001b[38;5;45mNone\u001b[0m, \u001b[38;5;34m32\u001b[0m)                  │             \u001b[38;5;34m544\u001b[0m │\n",
              "├──────────────────────────────────────┼─────────────────────────────┼─────────────────┤\n",
              "│ dense_17 (\u001b[38;5;33mDense\u001b[0m)                     │ (\u001b[38;5;45mNone\u001b[0m, \u001b[38;5;34m3\u001b[0m)                   │              \u001b[38;5;34m99\u001b[0m │\n",
              "└──────────────────────────────────────┴─────────────────────────────┴─────────────────┘\n"
            ],
            "text/html": [
              "<pre style=\"white-space:pre;overflow-x:auto;line-height:normal;font-family:Menlo,'DejaVu Sans Mono',consolas,'Courier New',monospace\">┏━━━━━━━━━━━━━━━━━━━━━━━━━━━━━━━━━━━━━━┳━━━━━━━━━━━━━━━━━━━━━━━━━━━━━┳━━━━━━━━━━━━━━━━━┓\n",
              "┃<span style=\"font-weight: bold\"> Layer (type)                         </span>┃<span style=\"font-weight: bold\"> Output Shape                </span>┃<span style=\"font-weight: bold\">         Param # </span>┃\n",
              "┡━━━━━━━━━━━━━━━━━━━━━━━━━━━━━━━━━━━━━━╇━━━━━━━━━━━━━━━━━━━━━━━━━━━━━╇━━━━━━━━━━━━━━━━━┩\n",
              "│ lstm_8 (<span style=\"color: #0087ff; text-decoration-color: #0087ff\">LSTM</span>)                        │ (<span style=\"color: #00d7ff; text-decoration-color: #00d7ff\">None</span>, <span style=\"color: #00af00; text-decoration-color: #00af00\">16</span>)                  │          <span style=\"color: #00af00; text-decoration-color: #00af00\">13,888</span> │\n",
              "├──────────────────────────────────────┼─────────────────────────────┼─────────────────┤\n",
              "│ dropout_8 (<span style=\"color: #0087ff; text-decoration-color: #0087ff\">Dropout</span>)                  │ (<span style=\"color: #00d7ff; text-decoration-color: #00d7ff\">None</span>, <span style=\"color: #00af00; text-decoration-color: #00af00\">16</span>)                  │               <span style=\"color: #00af00; text-decoration-color: #00af00\">0</span> │\n",
              "├──────────────────────────────────────┼─────────────────────────────┼─────────────────┤\n",
              "│ dense_16 (<span style=\"color: #0087ff; text-decoration-color: #0087ff\">Dense</span>)                     │ (<span style=\"color: #00d7ff; text-decoration-color: #00d7ff\">None</span>, <span style=\"color: #00af00; text-decoration-color: #00af00\">32</span>)                  │             <span style=\"color: #00af00; text-decoration-color: #00af00\">544</span> │\n",
              "├──────────────────────────────────────┼─────────────────────────────┼─────────────────┤\n",
              "│ dense_17 (<span style=\"color: #0087ff; text-decoration-color: #0087ff\">Dense</span>)                     │ (<span style=\"color: #00d7ff; text-decoration-color: #00d7ff\">None</span>, <span style=\"color: #00af00; text-decoration-color: #00af00\">3</span>)                   │              <span style=\"color: #00af00; text-decoration-color: #00af00\">99</span> │\n",
              "└──────────────────────────────────────┴─────────────────────────────┴─────────────────┘\n",
              "</pre>\n"
            ]
          },
          "metadata": {}
        },
        {
          "output_type": "display_data",
          "data": {
            "text/plain": [
              "\u001b[1m Total params: \u001b[0m\u001b[38;5;34m14,531\u001b[0m (56.76 KB)\n"
            ],
            "text/html": [
              "<pre style=\"white-space:pre;overflow-x:auto;line-height:normal;font-family:Menlo,'DejaVu Sans Mono',consolas,'Courier New',monospace\"><span style=\"font-weight: bold\"> Total params: </span><span style=\"color: #00af00; text-decoration-color: #00af00\">14,531</span> (56.76 KB)\n",
              "</pre>\n"
            ]
          },
          "metadata": {}
        },
        {
          "output_type": "display_data",
          "data": {
            "text/plain": [
              "\u001b[1m Trainable params: \u001b[0m\u001b[38;5;34m14,531\u001b[0m (56.76 KB)\n"
            ],
            "text/html": [
              "<pre style=\"white-space:pre;overflow-x:auto;line-height:normal;font-family:Menlo,'DejaVu Sans Mono',consolas,'Courier New',monospace\"><span style=\"font-weight: bold\"> Trainable params: </span><span style=\"color: #00af00; text-decoration-color: #00af00\">14,531</span> (56.76 KB)\n",
              "</pre>\n"
            ]
          },
          "metadata": {}
        },
        {
          "output_type": "display_data",
          "data": {
            "text/plain": [
              "\u001b[1m Non-trainable params: \u001b[0m\u001b[38;5;34m0\u001b[0m (0.00 B)\n"
            ],
            "text/html": [
              "<pre style=\"white-space:pre;overflow-x:auto;line-height:normal;font-family:Menlo,'DejaVu Sans Mono',consolas,'Courier New',monospace\"><span style=\"font-weight: bold\"> Non-trainable params: </span><span style=\"color: #00af00; text-decoration-color: #00af00\">0</span> (0.00 B)\n",
              "</pre>\n"
            ]
          },
          "metadata": {}
        },
        {
          "output_type": "stream",
          "name": "stdout",
          "text": [
            "Epoch 1/10\n",
            "\u001b[1m2670/2670\u001b[0m \u001b[32m━━━━━━━━━━━━━━━━━━━━\u001b[0m\u001b[37m\u001b[0m \u001b[1m16s\u001b[0m 5ms/step - AUC: 0.5257 - Recall: 0.0000e+00 - loss: 3.6658 - val_AUC: 0.4762 - val_Recall: 0.0000e+00 - val_loss: 0.5780\n",
            "Epoch 2/10\n",
            "\u001b[1m2670/2670\u001b[0m \u001b[32m━━━━━━━━━━━━━━━━━━━━\u001b[0m\u001b[37m\u001b[0m \u001b[1m14s\u001b[0m 5ms/step - AUC: 0.5213 - Recall: 0.0013 - loss: 3.2426 - val_AUC: 0.5247 - val_Recall: 0.0089 - val_loss: 0.5911\n",
            "Epoch 3/10\n",
            "\u001b[1m2670/2670\u001b[0m \u001b[32m━━━━━━━━━━━━━━━━━━━━\u001b[0m\u001b[37m\u001b[0m \u001b[1m14s\u001b[0m 5ms/step - AUC: 0.5445 - Recall: 0.0467 - loss: 3.1947 - val_AUC: 0.5440 - val_Recall: 0.0441 - val_loss: 0.5599\n",
            "Epoch 4/10\n",
            "\u001b[1m2670/2670\u001b[0m \u001b[32m━━━━━━━━━━━━━━━━━━━━\u001b[0m\u001b[37m\u001b[0m \u001b[1m14s\u001b[0m 5ms/step - AUC: 0.5496 - Recall: 0.0659 - loss: 3.1700 - val_AUC: 0.5338 - val_Recall: 0.0571 - val_loss: 0.5384\n",
            "Epoch 5/10\n",
            "\u001b[1m2670/2670\u001b[0m \u001b[32m━━━━━━━━━━━━━━━━━━━━\u001b[0m\u001b[37m\u001b[0m \u001b[1m14s\u001b[0m 5ms/step - AUC: 0.5440 - Recall: 0.1020 - loss: 3.0934 - val_AUC: 0.5382 - val_Recall: 0.0803 - val_loss: 0.5425\n",
            "Epoch 6/10\n",
            "\u001b[1m2670/2670\u001b[0m \u001b[32m━━━━━━━━━━━━━━━━━━━━\u001b[0m\u001b[37m\u001b[0m \u001b[1m14s\u001b[0m 5ms/step - AUC: 0.5555 - Recall: 0.1238 - loss: 2.9205 - val_AUC: 0.5481 - val_Recall: 0.1079 - val_loss: 0.4593\n",
            "Epoch 7/10\n",
            "\u001b[1m2670/2670\u001b[0m \u001b[32m━━━━━━━━━━━━━━━━━━━━\u001b[0m\u001b[37m\u001b[0m \u001b[1m14s\u001b[0m 5ms/step - AUC: 0.5596 - Recall: 0.1444 - loss: 2.9188 - val_AUC: 0.5505 - val_Recall: 0.1388 - val_loss: 0.4839\n",
            "Epoch 8/10\n",
            "\u001b[1m2670/2670\u001b[0m \u001b[32m━━━━━━━━━━━━━━━━━━━━\u001b[0m\u001b[37m\u001b[0m \u001b[1m14s\u001b[0m 5ms/step - AUC: 0.5648 - Recall: 0.1695 - loss: 2.9240 - val_AUC: 0.5389 - val_Recall: 0.1228 - val_loss: 0.4715\n",
            "Epoch 9/10\n",
            "\u001b[1m2670/2670\u001b[0m \u001b[32m━━━━━━━━━━━━━━━━━━━━\u001b[0m\u001b[37m\u001b[0m \u001b[1m14s\u001b[0m 5ms/step - AUC: 0.5651 - Recall: 0.1675 - loss: 2.8251 - val_AUC: 0.5558 - val_Recall: 0.1607 - val_loss: 0.4670\n",
            "Epoch 10/10\n",
            "\u001b[1m2670/2670\u001b[0m \u001b[32m━━━━━━━━━━━━━━━━━━━━\u001b[0m\u001b[37m\u001b[0m \u001b[1m14s\u001b[0m 5ms/step - AUC: 0.5665 - Recall: 0.1805 - loss: 2.7536 - val_AUC: 0.5471 - val_Recall: 0.1466 - val_loss: 0.4643\n",
            "\u001b[1m668/668\u001b[0m \u001b[32m━━━━━━━━━━━━━━━━━━━━\u001b[0m\u001b[37m\u001b[0m \u001b[1m1s\u001b[0m 1ms/step\n",
            "Validating fold...\n",
            "about to compute weights\n",
            "weights created\n",
            "{0: {0: 0.5207606760480941, 1: 12.541997063142437}, 1: {0: 0.5258456158496793, 1: 10.17282039066222}, 2: {0: 0.5445879772501211, 1: 6.106892606892607}}\n"
          ]
        },
        {
          "output_type": "stream",
          "name": "stderr",
          "text": [
            "/usr/local/lib/python3.10/dist-packages/keras/src/layers/rnn/rnn.py:204: UserWarning: Do not pass an `input_shape`/`input_dim` argument to a layer. When using Sequential models, prefer using an `Input(shape)` object as the first layer in the model instead.\n",
            "  super().__init__(**kwargs)\n"
          ]
        },
        {
          "output_type": "display_data",
          "data": {
            "text/plain": [
              "\u001b[1mModel: \"sequential_9\"\u001b[0m\n"
            ],
            "text/html": [
              "<pre style=\"white-space:pre;overflow-x:auto;line-height:normal;font-family:Menlo,'DejaVu Sans Mono',consolas,'Courier New',monospace\"><span style=\"font-weight: bold\">Model: \"sequential_9\"</span>\n",
              "</pre>\n"
            ]
          },
          "metadata": {}
        },
        {
          "output_type": "display_data",
          "data": {
            "text/plain": [
              "┏━━━━━━━━━━━━━━━━━━━━━━━━━━━━━━━━━━━━━━┳━━━━━━━━━━━━━━━━━━━━━━━━━━━━━┳━━━━━━━━━━━━━━━━━┓\n",
              "┃\u001b[1m \u001b[0m\u001b[1mLayer (type)                        \u001b[0m\u001b[1m \u001b[0m┃\u001b[1m \u001b[0m\u001b[1mOutput Shape               \u001b[0m\u001b[1m \u001b[0m┃\u001b[1m \u001b[0m\u001b[1m        Param #\u001b[0m\u001b[1m \u001b[0m┃\n",
              "┡━━━━━━━━━━━━━━━━━━━━━━━━━━━━━━━━━━━━━━╇━━━━━━━━━━━━━━━━━━━━━━━━━━━━━╇━━━━━━━━━━━━━━━━━┩\n",
              "│ lstm_9 (\u001b[38;5;33mLSTM\u001b[0m)                        │ (\u001b[38;5;45mNone\u001b[0m, \u001b[38;5;34m16\u001b[0m)                  │          \u001b[38;5;34m13,888\u001b[0m │\n",
              "├──────────────────────────────────────┼─────────────────────────────┼─────────────────┤\n",
              "│ dropout_9 (\u001b[38;5;33mDropout\u001b[0m)                  │ (\u001b[38;5;45mNone\u001b[0m, \u001b[38;5;34m16\u001b[0m)                  │               \u001b[38;5;34m0\u001b[0m │\n",
              "├──────────────────────────────────────┼─────────────────────────────┼─────────────────┤\n",
              "│ dense_18 (\u001b[38;5;33mDense\u001b[0m)                     │ (\u001b[38;5;45mNone\u001b[0m, \u001b[38;5;34m32\u001b[0m)                  │             \u001b[38;5;34m544\u001b[0m │\n",
              "├──────────────────────────────────────┼─────────────────────────────┼─────────────────┤\n",
              "│ dense_19 (\u001b[38;5;33mDense\u001b[0m)                     │ (\u001b[38;5;45mNone\u001b[0m, \u001b[38;5;34m3\u001b[0m)                   │              \u001b[38;5;34m99\u001b[0m │\n",
              "└──────────────────────────────────────┴─────────────────────────────┴─────────────────┘\n"
            ],
            "text/html": [
              "<pre style=\"white-space:pre;overflow-x:auto;line-height:normal;font-family:Menlo,'DejaVu Sans Mono',consolas,'Courier New',monospace\">┏━━━━━━━━━━━━━━━━━━━━━━━━━━━━━━━━━━━━━━┳━━━━━━━━━━━━━━━━━━━━━━━━━━━━━┳━━━━━━━━━━━━━━━━━┓\n",
              "┃<span style=\"font-weight: bold\"> Layer (type)                         </span>┃<span style=\"font-weight: bold\"> Output Shape                </span>┃<span style=\"font-weight: bold\">         Param # </span>┃\n",
              "┡━━━━━━━━━━━━━━━━━━━━━━━━━━━━━━━━━━━━━━╇━━━━━━━━━━━━━━━━━━━━━━━━━━━━━╇━━━━━━━━━━━━━━━━━┩\n",
              "│ lstm_9 (<span style=\"color: #0087ff; text-decoration-color: #0087ff\">LSTM</span>)                        │ (<span style=\"color: #00d7ff; text-decoration-color: #00d7ff\">None</span>, <span style=\"color: #00af00; text-decoration-color: #00af00\">16</span>)                  │          <span style=\"color: #00af00; text-decoration-color: #00af00\">13,888</span> │\n",
              "├──────────────────────────────────────┼─────────────────────────────┼─────────────────┤\n",
              "│ dropout_9 (<span style=\"color: #0087ff; text-decoration-color: #0087ff\">Dropout</span>)                  │ (<span style=\"color: #00d7ff; text-decoration-color: #00d7ff\">None</span>, <span style=\"color: #00af00; text-decoration-color: #00af00\">16</span>)                  │               <span style=\"color: #00af00; text-decoration-color: #00af00\">0</span> │\n",
              "├──────────────────────────────────────┼─────────────────────────────┼─────────────────┤\n",
              "│ dense_18 (<span style=\"color: #0087ff; text-decoration-color: #0087ff\">Dense</span>)                     │ (<span style=\"color: #00d7ff; text-decoration-color: #00d7ff\">None</span>, <span style=\"color: #00af00; text-decoration-color: #00af00\">32</span>)                  │             <span style=\"color: #00af00; text-decoration-color: #00af00\">544</span> │\n",
              "├──────────────────────────────────────┼─────────────────────────────┼─────────────────┤\n",
              "│ dense_19 (<span style=\"color: #0087ff; text-decoration-color: #0087ff\">Dense</span>)                     │ (<span style=\"color: #00d7ff; text-decoration-color: #00d7ff\">None</span>, <span style=\"color: #00af00; text-decoration-color: #00af00\">3</span>)                   │              <span style=\"color: #00af00; text-decoration-color: #00af00\">99</span> │\n",
              "└──────────────────────────────────────┴─────────────────────────────┴─────────────────┘\n",
              "</pre>\n"
            ]
          },
          "metadata": {}
        },
        {
          "output_type": "display_data",
          "data": {
            "text/plain": [
              "\u001b[1m Total params: \u001b[0m\u001b[38;5;34m14,531\u001b[0m (56.76 KB)\n"
            ],
            "text/html": [
              "<pre style=\"white-space:pre;overflow-x:auto;line-height:normal;font-family:Menlo,'DejaVu Sans Mono',consolas,'Courier New',monospace\"><span style=\"font-weight: bold\"> Total params: </span><span style=\"color: #00af00; text-decoration-color: #00af00\">14,531</span> (56.76 KB)\n",
              "</pre>\n"
            ]
          },
          "metadata": {}
        },
        {
          "output_type": "display_data",
          "data": {
            "text/plain": [
              "\u001b[1m Trainable params: \u001b[0m\u001b[38;5;34m14,531\u001b[0m (56.76 KB)\n"
            ],
            "text/html": [
              "<pre style=\"white-space:pre;overflow-x:auto;line-height:normal;font-family:Menlo,'DejaVu Sans Mono',consolas,'Courier New',monospace\"><span style=\"font-weight: bold\"> Trainable params: </span><span style=\"color: #00af00; text-decoration-color: #00af00\">14,531</span> (56.76 KB)\n",
              "</pre>\n"
            ]
          },
          "metadata": {}
        },
        {
          "output_type": "display_data",
          "data": {
            "text/plain": [
              "\u001b[1m Non-trainable params: \u001b[0m\u001b[38;5;34m0\u001b[0m (0.00 B)\n"
            ],
            "text/html": [
              "<pre style=\"white-space:pre;overflow-x:auto;line-height:normal;font-family:Menlo,'DejaVu Sans Mono',consolas,'Courier New',monospace\"><span style=\"font-weight: bold\"> Non-trainable params: </span><span style=\"color: #00af00; text-decoration-color: #00af00\">0</span> (0.00 B)\n",
              "</pre>\n"
            ]
          },
          "metadata": {}
        },
        {
          "output_type": "stream",
          "name": "stdout",
          "text": [
            "Epoch 1/10\n",
            "\u001b[1m2670/2670\u001b[0m \u001b[32m━━━━━━━━━━━━━━━━━━━━\u001b[0m\u001b[37m\u001b[0m \u001b[1m16s\u001b[0m 5ms/step - AUC: 0.4929 - Recall: 0.0000e+00 - loss: 3.7703 - val_AUC: 0.5537 - val_Recall: 0.0000e+00 - val_loss: 0.5726\n",
            "Epoch 2/10\n",
            "\u001b[1m2670/2670\u001b[0m \u001b[32m━━━━━━━━━━━━━━━━━━━━\u001b[0m\u001b[37m\u001b[0m \u001b[1m14s\u001b[0m 5ms/step - AUC: 0.5296 - Recall: 2.9298e-05 - loss: 3.3235 - val_AUC: 0.5897 - val_Recall: 0.0000e+00 - val_loss: 0.5174\n",
            "Epoch 3/10\n",
            "\u001b[1m2670/2670\u001b[0m \u001b[32m━━━━━━━━━━━━━━━━━━━━\u001b[0m\u001b[37m\u001b[0m \u001b[1m14s\u001b[0m 5ms/step - AUC: 0.5358 - Recall: 0.0023 - loss: 3.3070 - val_AUC: 0.5339 - val_Recall: 2.6860e-04 - val_loss: 0.5126\n",
            "Epoch 4/10\n",
            "\u001b[1m2670/2670\u001b[0m \u001b[32m━━━━━━━━━━━━━━━━━━━━\u001b[0m\u001b[37m\u001b[0m \u001b[1m14s\u001b[0m 5ms/step - AUC: 0.5295 - Recall: 0.0269 - loss: 3.0524 - val_AUC: 0.5451 - val_Recall: 0.0392 - val_loss: 0.4998\n",
            "Epoch 5/10\n",
            "\u001b[1m2670/2670\u001b[0m \u001b[32m━━━━━━━━━━━━━━━━━━━━\u001b[0m\u001b[37m\u001b[0m \u001b[1m14s\u001b[0m 5ms/step - AUC: 0.5401 - Recall: 0.0703 - loss: 3.1147 - val_AUC: 0.5345 - val_Recall: 0.0672 - val_loss: 0.5132\n",
            "Epoch 6/10\n",
            "\u001b[1m2670/2670\u001b[0m \u001b[32m━━━━━━━━━━━━━━━━━━━━\u001b[0m\u001b[37m\u001b[0m \u001b[1m14s\u001b[0m 5ms/step - AUC: 0.5438 - Recall: 0.1019 - loss: 2.8897 - val_AUC: 0.5596 - val_Recall: 0.0822 - val_loss: 0.4938\n",
            "Epoch 7/10\n",
            "\u001b[1m2670/2670\u001b[0m \u001b[32m━━━━━━━━━━━━━━━━━━━━\u001b[0m\u001b[37m\u001b[0m \u001b[1m14s\u001b[0m 5ms/step - AUC: 0.5536 - Recall: 0.1079 - loss: 2.9433 - val_AUC: 0.5604 - val_Recall: 0.1131 - val_loss: 0.4859\n",
            "Epoch 8/10\n",
            "\u001b[1m2670/2670\u001b[0m \u001b[32m━━━━━━━━━━━━━━━━━━━━\u001b[0m\u001b[37m\u001b[0m \u001b[1m14s\u001b[0m 5ms/step - AUC: 0.5487 - Recall: 0.1288 - loss: 2.8811 - val_AUC: 0.5718 - val_Recall: 0.1273 - val_loss: 0.4664\n",
            "Epoch 9/10\n",
            "\u001b[1m2670/2670\u001b[0m \u001b[32m━━━━━━━━━━━━━━━━━━━━\u001b[0m\u001b[37m\u001b[0m \u001b[1m14s\u001b[0m 5ms/step - AUC: 0.5678 - Recall: 0.1529 - loss: 2.8055 - val_AUC: 0.5594 - val_Recall: 0.1168 - val_loss: 0.5142\n",
            "Epoch 10/10\n",
            "\u001b[1m2670/2670\u001b[0m \u001b[32m━━━━━━━━━━━━━━━━━━━━\u001b[0m\u001b[37m\u001b[0m \u001b[1m14s\u001b[0m 5ms/step - AUC: 0.5647 - Recall: 0.1505 - loss: 2.6745 - val_AUC: 0.5507 - val_Recall: 0.1279 - val_loss: 0.4653\n",
            "\u001b[1m668/668\u001b[0m \u001b[32m━━━━━━━━━━━━━━━━━━━━\u001b[0m\u001b[37m\u001b[0m \u001b[1m2s\u001b[0m 1ms/step\n",
            "Validating fold...\n",
            "about to compute weights\n",
            "weights created\n",
            "{0: {0: 0.5211801318037589, 1: 12.303514837222702}, 1: {0: 0.5256385008308203, 1: 10.25096015362458}, 2: {0: 0.5451093269341231, 1: 6.042091114883984}}\n"
          ]
        },
        {
          "output_type": "stream",
          "name": "stderr",
          "text": [
            "/usr/local/lib/python3.10/dist-packages/keras/src/layers/rnn/rnn.py:204: UserWarning: Do not pass an `input_shape`/`input_dim` argument to a layer. When using Sequential models, prefer using an `Input(shape)` object as the first layer in the model instead.\n",
            "  super().__init__(**kwargs)\n"
          ]
        },
        {
          "output_type": "display_data",
          "data": {
            "text/plain": [
              "\u001b[1mModel: \"sequential_10\"\u001b[0m\n"
            ],
            "text/html": [
              "<pre style=\"white-space:pre;overflow-x:auto;line-height:normal;font-family:Menlo,'DejaVu Sans Mono',consolas,'Courier New',monospace\"><span style=\"font-weight: bold\">Model: \"sequential_10\"</span>\n",
              "</pre>\n"
            ]
          },
          "metadata": {}
        },
        {
          "output_type": "display_data",
          "data": {
            "text/plain": [
              "┏━━━━━━━━━━━━━━━━━━━━━━━━━━━━━━━━━━━━━━┳━━━━━━━━━━━━━━━━━━━━━━━━━━━━━┳━━━━━━━━━━━━━━━━━┓\n",
              "┃\u001b[1m \u001b[0m\u001b[1mLayer (type)                        \u001b[0m\u001b[1m \u001b[0m┃\u001b[1m \u001b[0m\u001b[1mOutput Shape               \u001b[0m\u001b[1m \u001b[0m┃\u001b[1m \u001b[0m\u001b[1m        Param #\u001b[0m\u001b[1m \u001b[0m┃\n",
              "┡━━━━━━━━━━━━━━━━━━━━━━━━━━━━━━━━━━━━━━╇━━━━━━━━━━━━━━━━━━━━━━━━━━━━━╇━━━━━━━━━━━━━━━━━┩\n",
              "│ lstm_10 (\u001b[38;5;33mLSTM\u001b[0m)                       │ (\u001b[38;5;45mNone\u001b[0m, \u001b[38;5;34m16\u001b[0m)                  │          \u001b[38;5;34m13,888\u001b[0m │\n",
              "├──────────────────────────────────────┼─────────────────────────────┼─────────────────┤\n",
              "│ dropout_10 (\u001b[38;5;33mDropout\u001b[0m)                 │ (\u001b[38;5;45mNone\u001b[0m, \u001b[38;5;34m16\u001b[0m)                  │               \u001b[38;5;34m0\u001b[0m │\n",
              "├──────────────────────────────────────┼─────────────────────────────┼─────────────────┤\n",
              "│ dense_20 (\u001b[38;5;33mDense\u001b[0m)                     │ (\u001b[38;5;45mNone\u001b[0m, \u001b[38;5;34m32\u001b[0m)                  │             \u001b[38;5;34m544\u001b[0m │\n",
              "├──────────────────────────────────────┼─────────────────────────────┼─────────────────┤\n",
              "│ dense_21 (\u001b[38;5;33mDense\u001b[0m)                     │ (\u001b[38;5;45mNone\u001b[0m, \u001b[38;5;34m3\u001b[0m)                   │              \u001b[38;5;34m99\u001b[0m │\n",
              "└──────────────────────────────────────┴─────────────────────────────┴─────────────────┘\n"
            ],
            "text/html": [
              "<pre style=\"white-space:pre;overflow-x:auto;line-height:normal;font-family:Menlo,'DejaVu Sans Mono',consolas,'Courier New',monospace\">┏━━━━━━━━━━━━━━━━━━━━━━━━━━━━━━━━━━━━━━┳━━━━━━━━━━━━━━━━━━━━━━━━━━━━━┳━━━━━━━━━━━━━━━━━┓\n",
              "┃<span style=\"font-weight: bold\"> Layer (type)                         </span>┃<span style=\"font-weight: bold\"> Output Shape                </span>┃<span style=\"font-weight: bold\">         Param # </span>┃\n",
              "┡━━━━━━━━━━━━━━━━━━━━━━━━━━━━━━━━━━━━━━╇━━━━━━━━━━━━━━━━━━━━━━━━━━━━━╇━━━━━━━━━━━━━━━━━┩\n",
              "│ lstm_10 (<span style=\"color: #0087ff; text-decoration-color: #0087ff\">LSTM</span>)                       │ (<span style=\"color: #00d7ff; text-decoration-color: #00d7ff\">None</span>, <span style=\"color: #00af00; text-decoration-color: #00af00\">16</span>)                  │          <span style=\"color: #00af00; text-decoration-color: #00af00\">13,888</span> │\n",
              "├──────────────────────────────────────┼─────────────────────────────┼─────────────────┤\n",
              "│ dropout_10 (<span style=\"color: #0087ff; text-decoration-color: #0087ff\">Dropout</span>)                 │ (<span style=\"color: #00d7ff; text-decoration-color: #00d7ff\">None</span>, <span style=\"color: #00af00; text-decoration-color: #00af00\">16</span>)                  │               <span style=\"color: #00af00; text-decoration-color: #00af00\">0</span> │\n",
              "├──────────────────────────────────────┼─────────────────────────────┼─────────────────┤\n",
              "│ dense_20 (<span style=\"color: #0087ff; text-decoration-color: #0087ff\">Dense</span>)                     │ (<span style=\"color: #00d7ff; text-decoration-color: #00d7ff\">None</span>, <span style=\"color: #00af00; text-decoration-color: #00af00\">32</span>)                  │             <span style=\"color: #00af00; text-decoration-color: #00af00\">544</span> │\n",
              "├──────────────────────────────────────┼─────────────────────────────┼─────────────────┤\n",
              "│ dense_21 (<span style=\"color: #0087ff; text-decoration-color: #0087ff\">Dense</span>)                     │ (<span style=\"color: #00d7ff; text-decoration-color: #00d7ff\">None</span>, <span style=\"color: #00af00; text-decoration-color: #00af00\">3</span>)                   │              <span style=\"color: #00af00; text-decoration-color: #00af00\">99</span> │\n",
              "└──────────────────────────────────────┴─────────────────────────────┴─────────────────┘\n",
              "</pre>\n"
            ]
          },
          "metadata": {}
        },
        {
          "output_type": "display_data",
          "data": {
            "text/plain": [
              "\u001b[1m Total params: \u001b[0m\u001b[38;5;34m14,531\u001b[0m (56.76 KB)\n"
            ],
            "text/html": [
              "<pre style=\"white-space:pre;overflow-x:auto;line-height:normal;font-family:Menlo,'DejaVu Sans Mono',consolas,'Courier New',monospace\"><span style=\"font-weight: bold\"> Total params: </span><span style=\"color: #00af00; text-decoration-color: #00af00\">14,531</span> (56.76 KB)\n",
              "</pre>\n"
            ]
          },
          "metadata": {}
        },
        {
          "output_type": "display_data",
          "data": {
            "text/plain": [
              "\u001b[1m Trainable params: \u001b[0m\u001b[38;5;34m14,531\u001b[0m (56.76 KB)\n"
            ],
            "text/html": [
              "<pre style=\"white-space:pre;overflow-x:auto;line-height:normal;font-family:Menlo,'DejaVu Sans Mono',consolas,'Courier New',monospace\"><span style=\"font-weight: bold\"> Trainable params: </span><span style=\"color: #00af00; text-decoration-color: #00af00\">14,531</span> (56.76 KB)\n",
              "</pre>\n"
            ]
          },
          "metadata": {}
        },
        {
          "output_type": "display_data",
          "data": {
            "text/plain": [
              "\u001b[1m Non-trainable params: \u001b[0m\u001b[38;5;34m0\u001b[0m (0.00 B)\n"
            ],
            "text/html": [
              "<pre style=\"white-space:pre;overflow-x:auto;line-height:normal;font-family:Menlo,'DejaVu Sans Mono',consolas,'Courier New',monospace\"><span style=\"font-weight: bold\"> Non-trainable params: </span><span style=\"color: #00af00; text-decoration-color: #00af00\">0</span> (0.00 B)\n",
              "</pre>\n"
            ]
          },
          "metadata": {}
        },
        {
          "output_type": "stream",
          "name": "stdout",
          "text": [
            "Epoch 1/10\n",
            "\u001b[1m2670/2670\u001b[0m \u001b[32m━━━━━━━━━━━━━━━━━━━━\u001b[0m\u001b[37m\u001b[0m \u001b[1m17s\u001b[0m 6ms/step - AUC: 0.5080 - Recall: 0.0000e+00 - loss: 3.6558 - val_AUC: 0.5044 - val_Recall: 0.0000e+00 - val_loss: 0.6264\n",
            "Epoch 2/10\n",
            "\u001b[1m2670/2670\u001b[0m \u001b[32m━━━━━━━━━━━━━━━━━━━━\u001b[0m\u001b[37m\u001b[0m \u001b[1m14s\u001b[0m 5ms/step - AUC: 0.5157 - Recall: 8.5440e-04 - loss: 3.3534 - val_AUC: 0.4774 - val_Recall: 0.0030 - val_loss: 0.5475\n",
            "Epoch 3/10\n",
            "\u001b[1m2670/2670\u001b[0m \u001b[32m━━━━━━━━━━━━━━━━━━━━\u001b[0m\u001b[37m\u001b[0m \u001b[1m14s\u001b[0m 5ms/step - AUC: 0.5090 - Recall: 0.0115 - loss: 3.3214 - val_AUC: 0.5503 - val_Recall: 0.0125 - val_loss: 0.5309\n",
            "Epoch 4/10\n",
            "\u001b[1m2670/2670\u001b[0m \u001b[32m━━━━━━━━━━━━━━━━━━━━\u001b[0m\u001b[37m\u001b[0m \u001b[1m14s\u001b[0m 5ms/step - AUC: 0.5490 - Recall: 0.0352 - loss: 3.0522 - val_AUC: 0.5371 - val_Recall: 0.0232 - val_loss: 0.5881\n",
            "Epoch 5/10\n",
            "\u001b[1m2670/2670\u001b[0m \u001b[32m━━━━━━━━━━━━━━━━━━━━\u001b[0m\u001b[37m\u001b[0m \u001b[1m14s\u001b[0m 5ms/step - AUC: 0.5482 - Recall: 0.0556 - loss: 3.0780 - val_AUC: 0.5534 - val_Recall: 0.0661 - val_loss: 0.5389\n",
            "Epoch 6/10\n",
            "\u001b[1m2670/2670\u001b[0m \u001b[32m━━━━━━━━━━━━━━━━━━━━\u001b[0m\u001b[37m\u001b[0m \u001b[1m14s\u001b[0m 5ms/step - AUC: 0.5542 - Recall: 0.0971 - loss: 3.0003 - val_AUC: 0.5368 - val_Recall: 0.0825 - val_loss: 0.5361\n",
            "Epoch 7/10\n",
            "\u001b[1m2670/2670\u001b[0m \u001b[32m━━━━━━━━━━━━━━━━━━━━\u001b[0m\u001b[37m\u001b[0m \u001b[1m15s\u001b[0m 5ms/step - AUC: 0.5496 - Recall: 0.1248 - loss: 2.8201 - val_AUC: 0.5601 - val_Recall: 0.1146 - val_loss: 0.5511\n",
            "Epoch 8/10\n",
            "\u001b[1m2670/2670\u001b[0m \u001b[32m━━━━━━━━━━━━━━━━━━━━\u001b[0m\u001b[37m\u001b[0m \u001b[1m14s\u001b[0m 5ms/step - AUC: 0.5653 - Recall: 0.1348 - loss: 2.8423 - val_AUC: 0.5488 - val_Recall: 0.1209 - val_loss: 0.5314\n",
            "Epoch 9/10\n",
            "\u001b[1m2670/2670\u001b[0m \u001b[32m━━━━━━━━━━━━━━━━━━━━\u001b[0m\u001b[37m\u001b[0m \u001b[1m14s\u001b[0m 5ms/step - AUC: 0.5694 - Recall: 0.1557 - loss: 2.7947 - val_AUC: 0.5562 - val_Recall: 0.1154 - val_loss: 0.4779\n",
            "Epoch 10/10\n",
            "\u001b[1m2670/2670\u001b[0m \u001b[32m━━━━━━━━━━━━━━━━━━━━\u001b[0m\u001b[37m\u001b[0m \u001b[1m14s\u001b[0m 5ms/step - AUC: 0.5684 - Recall: 0.1567 - loss: 2.7524 - val_AUC: 0.5540 - val_Recall: 0.1478 - val_loss: 0.4856\n",
            "\u001b[1m668/668\u001b[0m \u001b[32m━━━━━━━━━━━━━━━━━━━━\u001b[0m\u001b[37m\u001b[0m \u001b[1m1s\u001b[0m 1ms/step\n",
            "Validating fold...\n",
            "about to compute weights\n",
            "weights created\n",
            "{0: {0: 0.5209319346181995, 1: 12.443473193473194}, 1: {0: 0.525923006822492, 1: 10.14394299287411}, 2: {0: 0.5452688295603989, 1: 6.022563813284445}}\n"
          ]
        },
        {
          "output_type": "stream",
          "name": "stderr",
          "text": [
            "/usr/local/lib/python3.10/dist-packages/keras/src/layers/rnn/rnn.py:204: UserWarning: Do not pass an `input_shape`/`input_dim` argument to a layer. When using Sequential models, prefer using an `Input(shape)` object as the first layer in the model instead.\n",
            "  super().__init__(**kwargs)\n"
          ]
        },
        {
          "output_type": "display_data",
          "data": {
            "text/plain": [
              "\u001b[1mModel: \"sequential_11\"\u001b[0m\n"
            ],
            "text/html": [
              "<pre style=\"white-space:pre;overflow-x:auto;line-height:normal;font-family:Menlo,'DejaVu Sans Mono',consolas,'Courier New',monospace\"><span style=\"font-weight: bold\">Model: \"sequential_11\"</span>\n",
              "</pre>\n"
            ]
          },
          "metadata": {}
        },
        {
          "output_type": "display_data",
          "data": {
            "text/plain": [
              "┏━━━━━━━━━━━━━━━━━━━━━━━━━━━━━━━━━━━━━━┳━━━━━━━━━━━━━━━━━━━━━━━━━━━━━┳━━━━━━━━━━━━━━━━━┓\n",
              "┃\u001b[1m \u001b[0m\u001b[1mLayer (type)                        \u001b[0m\u001b[1m \u001b[0m┃\u001b[1m \u001b[0m\u001b[1mOutput Shape               \u001b[0m\u001b[1m \u001b[0m┃\u001b[1m \u001b[0m\u001b[1m        Param #\u001b[0m\u001b[1m \u001b[0m┃\n",
              "┡━━━━━━━━━━━━━━━━━━━━━━━━━━━━━━━━━━━━━━╇━━━━━━━━━━━━━━━━━━━━━━━━━━━━━╇━━━━━━━━━━━━━━━━━┩\n",
              "│ lstm_11 (\u001b[38;5;33mLSTM\u001b[0m)                       │ (\u001b[38;5;45mNone\u001b[0m, \u001b[38;5;34m16\u001b[0m)                  │          \u001b[38;5;34m13,888\u001b[0m │\n",
              "├──────────────────────────────────────┼─────────────────────────────┼─────────────────┤\n",
              "│ dropout_11 (\u001b[38;5;33mDropout\u001b[0m)                 │ (\u001b[38;5;45mNone\u001b[0m, \u001b[38;5;34m16\u001b[0m)                  │               \u001b[38;5;34m0\u001b[0m │\n",
              "├──────────────────────────────────────┼─────────────────────────────┼─────────────────┤\n",
              "│ dense_22 (\u001b[38;5;33mDense\u001b[0m)                     │ (\u001b[38;5;45mNone\u001b[0m, \u001b[38;5;34m32\u001b[0m)                  │             \u001b[38;5;34m544\u001b[0m │\n",
              "├──────────────────────────────────────┼─────────────────────────────┼─────────────────┤\n",
              "│ dense_23 (\u001b[38;5;33mDense\u001b[0m)                     │ (\u001b[38;5;45mNone\u001b[0m, \u001b[38;5;34m3\u001b[0m)                   │              \u001b[38;5;34m99\u001b[0m │\n",
              "└──────────────────────────────────────┴─────────────────────────────┴─────────────────┘\n"
            ],
            "text/html": [
              "<pre style=\"white-space:pre;overflow-x:auto;line-height:normal;font-family:Menlo,'DejaVu Sans Mono',consolas,'Courier New',monospace\">┏━━━━━━━━━━━━━━━━━━━━━━━━━━━━━━━━━━━━━━┳━━━━━━━━━━━━━━━━━━━━━━━━━━━━━┳━━━━━━━━━━━━━━━━━┓\n",
              "┃<span style=\"font-weight: bold\"> Layer (type)                         </span>┃<span style=\"font-weight: bold\"> Output Shape                </span>┃<span style=\"font-weight: bold\">         Param # </span>┃\n",
              "┡━━━━━━━━━━━━━━━━━━━━━━━━━━━━━━━━━━━━━━╇━━━━━━━━━━━━━━━━━━━━━━━━━━━━━╇━━━━━━━━━━━━━━━━━┩\n",
              "│ lstm_11 (<span style=\"color: #0087ff; text-decoration-color: #0087ff\">LSTM</span>)                       │ (<span style=\"color: #00d7ff; text-decoration-color: #00d7ff\">None</span>, <span style=\"color: #00af00; text-decoration-color: #00af00\">16</span>)                  │          <span style=\"color: #00af00; text-decoration-color: #00af00\">13,888</span> │\n",
              "├──────────────────────────────────────┼─────────────────────────────┼─────────────────┤\n",
              "│ dropout_11 (<span style=\"color: #0087ff; text-decoration-color: #0087ff\">Dropout</span>)                 │ (<span style=\"color: #00d7ff; text-decoration-color: #00d7ff\">None</span>, <span style=\"color: #00af00; text-decoration-color: #00af00\">16</span>)                  │               <span style=\"color: #00af00; text-decoration-color: #00af00\">0</span> │\n",
              "├──────────────────────────────────────┼─────────────────────────────┼─────────────────┤\n",
              "│ dense_22 (<span style=\"color: #0087ff; text-decoration-color: #0087ff\">Dense</span>)                     │ (<span style=\"color: #00d7ff; text-decoration-color: #00d7ff\">None</span>, <span style=\"color: #00af00; text-decoration-color: #00af00\">32</span>)                  │             <span style=\"color: #00af00; text-decoration-color: #00af00\">544</span> │\n",
              "├──────────────────────────────────────┼─────────────────────────────┼─────────────────┤\n",
              "│ dense_23 (<span style=\"color: #0087ff; text-decoration-color: #0087ff\">Dense</span>)                     │ (<span style=\"color: #00d7ff; text-decoration-color: #00d7ff\">None</span>, <span style=\"color: #00af00; text-decoration-color: #00af00\">3</span>)                   │              <span style=\"color: #00af00; text-decoration-color: #00af00\">99</span> │\n",
              "└──────────────────────────────────────┴─────────────────────────────┴─────────────────┘\n",
              "</pre>\n"
            ]
          },
          "metadata": {}
        },
        {
          "output_type": "display_data",
          "data": {
            "text/plain": [
              "\u001b[1m Total params: \u001b[0m\u001b[38;5;34m14,531\u001b[0m (56.76 KB)\n"
            ],
            "text/html": [
              "<pre style=\"white-space:pre;overflow-x:auto;line-height:normal;font-family:Menlo,'DejaVu Sans Mono',consolas,'Courier New',monospace\"><span style=\"font-weight: bold\"> Total params: </span><span style=\"color: #00af00; text-decoration-color: #00af00\">14,531</span> (56.76 KB)\n",
              "</pre>\n"
            ]
          },
          "metadata": {}
        },
        {
          "output_type": "display_data",
          "data": {
            "text/plain": [
              "\u001b[1m Trainable params: \u001b[0m\u001b[38;5;34m14,531\u001b[0m (56.76 KB)\n"
            ],
            "text/html": [
              "<pre style=\"white-space:pre;overflow-x:auto;line-height:normal;font-family:Menlo,'DejaVu Sans Mono',consolas,'Courier New',monospace\"><span style=\"font-weight: bold\"> Trainable params: </span><span style=\"color: #00af00; text-decoration-color: #00af00\">14,531</span> (56.76 KB)\n",
              "</pre>\n"
            ]
          },
          "metadata": {}
        },
        {
          "output_type": "display_data",
          "data": {
            "text/plain": [
              "\u001b[1m Non-trainable params: \u001b[0m\u001b[38;5;34m0\u001b[0m (0.00 B)\n"
            ],
            "text/html": [
              "<pre style=\"white-space:pre;overflow-x:auto;line-height:normal;font-family:Menlo,'DejaVu Sans Mono',consolas,'Courier New',monospace\"><span style=\"font-weight: bold\"> Non-trainable params: </span><span style=\"color: #00af00; text-decoration-color: #00af00\">0</span> (0.00 B)\n",
              "</pre>\n"
            ]
          },
          "metadata": {}
        },
        {
          "output_type": "stream",
          "name": "stdout",
          "text": [
            "Epoch 1/10\n",
            "\u001b[1m2670/2670\u001b[0m \u001b[32m━━━━━━━━━━━━━━━━━━━━\u001b[0m\u001b[37m\u001b[0m \u001b[1m16s\u001b[0m 5ms/step - AUC: 0.5111 - Recall: 3.9509e-05 - loss: 3.6715 - val_AUC: 0.4906 - val_Recall: 5.5772e-04 - val_loss: 0.6235\n",
            "Epoch 2/10\n",
            "\u001b[1m2670/2670\u001b[0m \u001b[32m━━━━━━━━━━━━━━━━━━━━\u001b[0m\u001b[37m\u001b[0m \u001b[1m14s\u001b[0m 5ms/step - AUC: 0.5195 - Recall: 0.0074 - loss: 3.3034 - val_AUC: 0.5294 - val_Recall: 0.0123 - val_loss: 0.5558\n",
            "Epoch 3/10\n",
            "\u001b[1m2670/2670\u001b[0m \u001b[32m━━━━━━━━━━━━━━━━━━━━\u001b[0m\u001b[37m\u001b[0m \u001b[1m14s\u001b[0m 5ms/step - AUC: 0.5288 - Recall: 0.0428 - loss: 3.2437 - val_AUC: 0.5301 - val_Recall: 0.0641 - val_loss: 0.5251\n",
            "Epoch 4/10\n",
            "\u001b[1m2670/2670\u001b[0m \u001b[32m━━━━━━━━━━━━━━━━━━━━\u001b[0m\u001b[37m\u001b[0m \u001b[1m14s\u001b[0m 5ms/step - AUC: 0.5422 - Recall: 0.0899 - loss: 3.1020 - val_AUC: 0.5311 - val_Recall: 0.0636 - val_loss: 0.5323\n",
            "Epoch 5/10\n",
            "\u001b[1m2670/2670\u001b[0m \u001b[32m━━━━━━━━━━━━━━━━━━━━\u001b[0m\u001b[37m\u001b[0m \u001b[1m14s\u001b[0m 5ms/step - AUC: 0.5436 - Recall: 0.0956 - loss: 3.0936 - val_AUC: 0.5467 - val_Recall: 0.0976 - val_loss: 0.5102\n",
            "Epoch 6/10\n",
            "\u001b[1m2670/2670\u001b[0m \u001b[32m━━━━━━━━━━━━━━━━━━━━\u001b[0m\u001b[37m\u001b[0m \u001b[1m14s\u001b[0m 5ms/step - AUC: 0.5619 - Recall: 0.1482 - loss: 3.0207 - val_AUC: 0.5620 - val_Recall: 0.1408 - val_loss: 0.4877\n",
            "Epoch 7/10\n",
            "\u001b[1m2670/2670\u001b[0m \u001b[32m━━━━━━━━━━━━━━━━━━━━\u001b[0m\u001b[37m\u001b[0m \u001b[1m14s\u001b[0m 5ms/step - AUC: 0.5623 - Recall: 0.1607 - loss: 2.9331 - val_AUC: 0.5364 - val_Recall: 0.1160 - val_loss: 0.5318\n",
            "Epoch 8/10\n",
            "\u001b[1m2670/2670\u001b[0m \u001b[32m━━━━━━━━━━━━━━━━━━━━\u001b[0m\u001b[37m\u001b[0m \u001b[1m14s\u001b[0m 5ms/step - AUC: 0.5660 - Recall: 0.1679 - loss: 2.9336 - val_AUC: 0.5494 - val_Recall: 0.1684 - val_loss: 0.5413\n",
            "Epoch 9/10\n",
            "\u001b[1m2670/2670\u001b[0m \u001b[32m━━━━━━━━━━━━━━━━━━━━\u001b[0m\u001b[37m\u001b[0m \u001b[1m14s\u001b[0m 5ms/step - AUC: 0.5728 - Recall: 0.1965 - loss: 2.7520 - val_AUC: 0.5530 - val_Recall: 0.1634 - val_loss: 0.5131\n",
            "Epoch 10/10\n",
            "\u001b[1m2670/2670\u001b[0m \u001b[32m━━━━━━━━━━━━━━━━━━━━\u001b[0m\u001b[37m\u001b[0m \u001b[1m14s\u001b[0m 5ms/step - AUC: 0.5707 - Recall: 0.1928 - loss: 2.8123 - val_AUC: 0.5795 - val_Recall: 0.2072 - val_loss: 0.4910\n",
            "\u001b[1m668/668\u001b[0m \u001b[32m━━━━━━━━━━━━━━━━━━━━\u001b[0m\u001b[37m\u001b[0m \u001b[1m1s\u001b[0m 1ms/step\n",
            "Mean AUC scores across folds: 0.5451838730799634\n",
            "Mean Recall scores across folds: 0.62307875963134\n",
            "about to compute weights\n",
            "weights created\n",
            "{0: {0: 0.5209323723355314, 1: 12.443223443223443}, 1: {0: 0.5254225371917095, 1: 10.33379424778761}, 2: {0: 0.5450262543757293, 1: 6.052316164561063}}\n"
          ]
        },
        {
          "output_type": "stream",
          "name": "stderr",
          "text": [
            "/usr/local/lib/python3.10/dist-packages/keras/src/layers/rnn/rnn.py:204: UserWarning: Do not pass an `input_shape`/`input_dim` argument to a layer. When using Sequential models, prefer using an `Input(shape)` object as the first layer in the model instead.\n",
            "  super().__init__(**kwargs)\n"
          ]
        },
        {
          "output_type": "display_data",
          "data": {
            "text/plain": [
              "\u001b[1mModel: \"sequential_12\"\u001b[0m\n"
            ],
            "text/html": [
              "<pre style=\"white-space:pre;overflow-x:auto;line-height:normal;font-family:Menlo,'DejaVu Sans Mono',consolas,'Courier New',monospace\"><span style=\"font-weight: bold\">Model: \"sequential_12\"</span>\n",
              "</pre>\n"
            ]
          },
          "metadata": {}
        },
        {
          "output_type": "display_data",
          "data": {
            "text/plain": [
              "┏━━━━━━━━━━━━━━━━━━━━━━━━━━━━━━━━━━━━━━┳━━━━━━━━━━━━━━━━━━━━━━━━━━━━━┳━━━━━━━━━━━━━━━━━┓\n",
              "┃\u001b[1m \u001b[0m\u001b[1mLayer (type)                        \u001b[0m\u001b[1m \u001b[0m┃\u001b[1m \u001b[0m\u001b[1mOutput Shape               \u001b[0m\u001b[1m \u001b[0m┃\u001b[1m \u001b[0m\u001b[1m        Param #\u001b[0m\u001b[1m \u001b[0m┃\n",
              "┡━━━━━━━━━━━━━━━━━━━━━━━━━━━━━━━━━━━━━━╇━━━━━━━━━━━━━━━━━━━━━━━━━━━━━╇━━━━━━━━━━━━━━━━━┩\n",
              "│ lstm_12 (\u001b[38;5;33mLSTM\u001b[0m)                       │ (\u001b[38;5;45mNone\u001b[0m, \u001b[38;5;34m16\u001b[0m)                  │          \u001b[38;5;34m13,888\u001b[0m │\n",
              "├──────────────────────────────────────┼─────────────────────────────┼─────────────────┤\n",
              "│ dropout_12 (\u001b[38;5;33mDropout\u001b[0m)                 │ (\u001b[38;5;45mNone\u001b[0m, \u001b[38;5;34m16\u001b[0m)                  │               \u001b[38;5;34m0\u001b[0m │\n",
              "├──────────────────────────────────────┼─────────────────────────────┼─────────────────┤\n",
              "│ dense_24 (\u001b[38;5;33mDense\u001b[0m)                     │ (\u001b[38;5;45mNone\u001b[0m, \u001b[38;5;34m32\u001b[0m)                  │             \u001b[38;5;34m544\u001b[0m │\n",
              "├──────────────────────────────────────┼─────────────────────────────┼─────────────────┤\n",
              "│ dense_25 (\u001b[38;5;33mDense\u001b[0m)                     │ (\u001b[38;5;45mNone\u001b[0m, \u001b[38;5;34m3\u001b[0m)                   │              \u001b[38;5;34m99\u001b[0m │\n",
              "└──────────────────────────────────────┴─────────────────────────────┴─────────────────┘\n"
            ],
            "text/html": [
              "<pre style=\"white-space:pre;overflow-x:auto;line-height:normal;font-family:Menlo,'DejaVu Sans Mono',consolas,'Courier New',monospace\">┏━━━━━━━━━━━━━━━━━━━━━━━━━━━━━━━━━━━━━━┳━━━━━━━━━━━━━━━━━━━━━━━━━━━━━┳━━━━━━━━━━━━━━━━━┓\n",
              "┃<span style=\"font-weight: bold\"> Layer (type)                         </span>┃<span style=\"font-weight: bold\"> Output Shape                </span>┃<span style=\"font-weight: bold\">         Param # </span>┃\n",
              "┡━━━━━━━━━━━━━━━━━━━━━━━━━━━━━━━━━━━━━━╇━━━━━━━━━━━━━━━━━━━━━━━━━━━━━╇━━━━━━━━━━━━━━━━━┩\n",
              "│ lstm_12 (<span style=\"color: #0087ff; text-decoration-color: #0087ff\">LSTM</span>)                       │ (<span style=\"color: #00d7ff; text-decoration-color: #00d7ff\">None</span>, <span style=\"color: #00af00; text-decoration-color: #00af00\">16</span>)                  │          <span style=\"color: #00af00; text-decoration-color: #00af00\">13,888</span> │\n",
              "├──────────────────────────────────────┼─────────────────────────────┼─────────────────┤\n",
              "│ dropout_12 (<span style=\"color: #0087ff; text-decoration-color: #0087ff\">Dropout</span>)                 │ (<span style=\"color: #00d7ff; text-decoration-color: #00d7ff\">None</span>, <span style=\"color: #00af00; text-decoration-color: #00af00\">16</span>)                  │               <span style=\"color: #00af00; text-decoration-color: #00af00\">0</span> │\n",
              "├──────────────────────────────────────┼─────────────────────────────┼─────────────────┤\n",
              "│ dense_24 (<span style=\"color: #0087ff; text-decoration-color: #0087ff\">Dense</span>)                     │ (<span style=\"color: #00d7ff; text-decoration-color: #00d7ff\">None</span>, <span style=\"color: #00af00; text-decoration-color: #00af00\">32</span>)                  │             <span style=\"color: #00af00; text-decoration-color: #00af00\">544</span> │\n",
              "├──────────────────────────────────────┼─────────────────────────────┼─────────────────┤\n",
              "│ dense_25 (<span style=\"color: #0087ff; text-decoration-color: #0087ff\">Dense</span>)                     │ (<span style=\"color: #00d7ff; text-decoration-color: #00d7ff\">None</span>, <span style=\"color: #00af00; text-decoration-color: #00af00\">3</span>)                   │              <span style=\"color: #00af00; text-decoration-color: #00af00\">99</span> │\n",
              "└──────────────────────────────────────┴─────────────────────────────┴─────────────────┘\n",
              "</pre>\n"
            ]
          },
          "metadata": {}
        },
        {
          "output_type": "display_data",
          "data": {
            "text/plain": [
              "\u001b[1m Total params: \u001b[0m\u001b[38;5;34m14,531\u001b[0m (56.76 KB)\n"
            ],
            "text/html": [
              "<pre style=\"white-space:pre;overflow-x:auto;line-height:normal;font-family:Menlo,'DejaVu Sans Mono',consolas,'Courier New',monospace\"><span style=\"font-weight: bold\"> Total params: </span><span style=\"color: #00af00; text-decoration-color: #00af00\">14,531</span> (56.76 KB)\n",
              "</pre>\n"
            ]
          },
          "metadata": {}
        },
        {
          "output_type": "display_data",
          "data": {
            "text/plain": [
              "\u001b[1m Trainable params: \u001b[0m\u001b[38;5;34m14,531\u001b[0m (56.76 KB)\n"
            ],
            "text/html": [
              "<pre style=\"white-space:pre;overflow-x:auto;line-height:normal;font-family:Menlo,'DejaVu Sans Mono',consolas,'Courier New',monospace\"><span style=\"font-weight: bold\"> Trainable params: </span><span style=\"color: #00af00; text-decoration-color: #00af00\">14,531</span> (56.76 KB)\n",
              "</pre>\n"
            ]
          },
          "metadata": {}
        },
        {
          "output_type": "display_data",
          "data": {
            "text/plain": [
              "\u001b[1m Non-trainable params: \u001b[0m\u001b[38;5;34m0\u001b[0m (0.00 B)\n"
            ],
            "text/html": [
              "<pre style=\"white-space:pre;overflow-x:auto;line-height:normal;font-family:Menlo,'DejaVu Sans Mono',consolas,'Courier New',monospace\"><span style=\"font-weight: bold\"> Non-trainable params: </span><span style=\"color: #00af00; text-decoration-color: #00af00\">0</span> (0.00 B)\n",
              "</pre>\n"
            ]
          },
          "metadata": {}
        },
        {
          "output_type": "stream",
          "name": "stdout",
          "text": [
            "Epoch 1/10\n",
            "\u001b[1m2336/2336\u001b[0m \u001b[32m━━━━━━━━━━━━━━━━━━━━\u001b[0m\u001b[37m\u001b[0m \u001b[1m16s\u001b[0m 6ms/step - AUC: 0.5170 - Recall: 0.0000e+00 - loss: 3.7904 - val_AUC: 0.4575 - val_Recall: 0.0000e+00 - val_loss: 0.5703\n",
            "Epoch 2/10\n",
            "\u001b[1m2336/2336\u001b[0m \u001b[32m━━━━━━━━━━━━━━━━━━━━\u001b[0m\u001b[37m\u001b[0m \u001b[1m13s\u001b[0m 6ms/step - AUC: 0.5060 - Recall: 5.0961e-04 - loss: 3.3254 - val_AUC: 0.5363 - val_Recall: 0.0000e+00 - val_loss: 0.5878\n",
            "Epoch 3/10\n",
            "\u001b[1m2336/2336\u001b[0m \u001b[32m━━━━━━━━━━━━━━━━━━━━\u001b[0m\u001b[37m\u001b[0m \u001b[1m13s\u001b[0m 6ms/step - AUC: 0.5133 - Recall: 0.0023 - loss: 3.1435 - val_AUC: 0.5421 - val_Recall: 0.0232 - val_loss: 0.5667\n",
            "Epoch 4/10\n",
            "\u001b[1m2336/2336\u001b[0m \u001b[32m━━━━━━━━━━━━━━━━━━━━\u001b[0m\u001b[37m\u001b[0m \u001b[1m13s\u001b[0m 6ms/step - AUC: 0.5259 - Recall: 0.0222 - loss: 3.2337 - val_AUC: 0.5262 - val_Recall: 0.0387 - val_loss: 0.5268\n",
            "Epoch 5/10\n",
            "\u001b[1m2336/2336\u001b[0m \u001b[32m━━━━━━━━━━━━━━━━━━━━\u001b[0m\u001b[37m\u001b[0m \u001b[1m13s\u001b[0m 6ms/step - AUC: 0.5298 - Recall: 0.0763 - loss: 3.0749 - val_AUC: 0.5373 - val_Recall: 0.0579 - val_loss: 0.5083\n",
            "Epoch 6/10\n",
            "\u001b[1m2336/2336\u001b[0m \u001b[32m━━━━━━━━━━━━━━━━━━━━\u001b[0m\u001b[37m\u001b[0m \u001b[1m13s\u001b[0m 6ms/step - AUC: 0.5511 - Recall: 0.0968 - loss: 3.0958 - val_AUC: 0.5569 - val_Recall: 0.0899 - val_loss: 0.5366\n",
            "Epoch 7/10\n",
            "\u001b[1m2336/2336\u001b[0m \u001b[32m━━━━━━━━━━━━━━━━━━━━\u001b[0m\u001b[37m\u001b[0m \u001b[1m13s\u001b[0m 6ms/step - AUC: 0.5583 - Recall: 0.1106 - loss: 2.9717 - val_AUC: 0.5498 - val_Recall: 0.1169 - val_loss: 0.5306\n",
            "Epoch 8/10\n",
            "\u001b[1m 150/2336\u001b[0m \u001b[32m━\u001b[0m\u001b[37m━━━━━━━━━━━━━━━━━━━\u001b[0m \u001b[1m10s\u001b[0m 5ms/step - AUC: 0.5661 - Recall: 0.1339 - loss: 2.6457"
          ]
        }
      ]
    }
  ],
  "metadata": {
    "kernelspec": {
      "display_name": "Python 3",
      "name": "python3"
    },
    "language_info": {
      "codemirror_mode": {
        "name": "ipython",
        "version": 3
      },
      "file_extension": ".py",
      "mimetype": "text/x-python",
      "name": "python",
      "nbconvert_exporter": "python",
      "pygments_lexer": "ipython3",
      "version": "3.11.5"
    },
    "colab": {
      "provenance": [],
      "gpuType": "L4",
      "machine_shape": "hm"
    },
    "accelerator": "GPU"
  },
  "nbformat": 4,
  "nbformat_minor": 5
}