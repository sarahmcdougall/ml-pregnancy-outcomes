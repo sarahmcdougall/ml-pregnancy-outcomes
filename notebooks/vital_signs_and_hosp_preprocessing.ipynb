{
 "cells": [
  {
   "cell_type": "markdown",
   "id": "49541374-51f9-4bc1-8289-185e3779af16",
   "metadata": {},
   "source": [
    "# Vital signs and Hospital Preprocessing\n",
    "This notebook applies feature engineering to select fields within the MIMIC-IV dataset's \"hosp\" module. This notebook also applies preprocessing to vital signs data by reverse-mapping the vitals signs labels to their MIMIC-IV itemids, and then filtering the vital signs to those specific labels."
   ]
  },
  {
   "cell_type": "code",
   "execution_count": 1,
   "id": "9858d349-cec4-4142-a955-49c136a3c244",
   "metadata": {},
   "outputs": [
    {
     "name": "stdout",
     "output_type": "stream",
     "text": [
      "Connected to db: smcdougall\n",
      "The Postgres database version is: ('PostgreSQL 14.5 on aarch64-apple-darwin20.6.0, compiled by Apple clang version 12.0.5 (clang-1205.0.22.9), 64-bit',)\n",
      "Postgres connection has been closed.\n"
     ]
    }
   ],
   "source": [
    "import psycopg2\n",
    "from psycopg2 import OperationalError, DatabaseError, sql\n",
    "import pandas as pd\n",
    "import csv\n",
    "import numpy as np\n",
    "import seaborn as sns\n",
    "# for fuzzy matching on the item ids\n",
    "from fuzzywuzzy import process\n",
    "import os\n",
    "\n",
    "### Environment Variables for Connection ###\n",
    "DB_NAME = 'smcdougall'\n",
    "USERNAME = 'postgres'\n",
    "PASSWORD = 'postgres'\n",
    "HOST = 'localhost'\n",
    "PORT = 5432 \n",
    "\n",
    "def connect_to_postgres(db_name, username, password, host, port):\n",
    "    connection = None\n",
    "    try:\n",
    "        connection = psycopg2.connect(\n",
    "            dbname=db_name,\n",
    "            user=username,\n",
    "            password=password,\n",
    "            host=host,\n",
    "            port=port\n",
    "        )\n",
    "        print('Connected to db:', db_name)\n",
    "        return connection\n",
    "    except OperationalError as e:\n",
    "        print('Received the following error:', e)\n",
    "        return None\n",
    "\n",
    "def verify_postgres_connection(connection):\n",
    "    if connection is not None:\n",
    "        try:\n",
    "            cur = connection.cursor()\n",
    "            cur.execute('SELECT version();')\n",
    "            db_version = cur.fetchone()\n",
    "            print('The Postgres database version is:', db_version)\n",
    "            cur.close()\n",
    "        except DatabaseError as e:\n",
    "            print('Received the following error:', e)\n",
    "    else:\n",
    "        print('Connection to Postgres failed.')\n",
    "\n",
    "def close_connection(connection):\n",
    "    if connection is not None:\n",
    "        connection.close()\n",
    "        print('Postgres connection has been closed.')\n",
    "\n",
    "connection = connect_to_postgres(DB_NAME, USERNAME, PASSWORD, HOST, PORT)\n",
    "verify_postgres_connection(connection)\n",
    "close_connection(connection)"
   ]
  },
  {
   "cell_type": "code",
   "execution_count": 2,
   "id": "36a2f979-4044-44aa-bd68-0be8f3f8ad40",
   "metadata": {},
   "outputs": [],
   "source": [
    "\"\"\"\n",
    "General function for loading data from an existing SQL table that retrieves all of the fields\n",
    "for the table.\n",
    "\"\"\"\n",
    "def load_table(connection, table_name):\n",
    "    cur = connection.cursor()\n",
    "    query = f'SELECT * FROM \"{table_name}\"'\n",
    "    cur.execute(query)\n",
    "    rows = cur.fetchall()\n",
    "    cur.close()\n",
    "    \n",
    "    # get column names\n",
    "    columns = [desc[0] for desc in cur.description]\n",
    "    # use column names retrieved from the cursor\n",
    "    df = pd.DataFrame(rows, columns=columns)\n",
    "    return df"
   ]
  },
  {
   "cell_type": "code",
   "execution_count": 3,
   "id": "32afacc1-34f7-4f8c-bb11-1074559a9593",
   "metadata": {},
   "outputs": [],
   "source": [
    "\"\"\"\n",
    "Saves pandas DataFrame as a CSV file.\n",
    "\"\"\"\n",
    "def save_df_as_csv(df, csv_name, directory='dataframes'):\n",
    "    if not os.path.exists(directory):\n",
    "        os.makedirs(directory)\n",
    "\n",
    "    file_path = os.path.join(directory, csv_name)\n",
    "    df.to_csv(file_path, index=False)\n",
    "\n",
    "    print(f'DataFrame has been saved as {file_path}')"
   ]
  },
  {
   "cell_type": "markdown",
   "id": "d5f180dc-8f5d-439f-8f7e-f8ede9f2b974",
   "metadata": {},
   "source": [
    "## Vital Signs Data"
   ]
  },
  {
   "cell_type": "markdown",
   "id": "f1074aa8-4b59-4ce6-a260-109cc108c47d",
   "metadata": {},
   "source": [
    "The vital signs below originate from Appendix A of [MIMIC-Extract](https://arxiv.org/pdf/1907.08322) - these vital sign strings refer to the labels in the dataset."
   ]
  },
  {
   "cell_type": "code",
   "execution_count": 182,
   "id": "09b95b45-6dc3-4bd8-b179-40606d9ffe56",
   "metadata": {},
   "outputs": [],
   "source": [
    "mimic_extract_vital_signs = [\n",
    "    'alanine aminotransferase', 'albumin', 'albumin ascites', 'albumin pleural', 'albumin urine', 'alkaline phosphate', \n",
    "    'anion gap', 'asparate aminotransferase', 'basophils', 'bicarbonate', 'bilirubin', 'blood urea nitrogen', 'calcium',\n",
    "    'calcium ionized', 'calcium urine', 'cardiac index', 'cardiac output fick', 'cardiac output thermodilution',\n",
    "    'central venous pressure', 'chloride', 'chloride urine', 'cholesterol', 'cholesterol hdl', 'cholesterol ldl', 'co2',\n",
    "    'co2 (etco2, pco2, etc.)', 'creatinine', 'creatinine ascites', 'creatinine body fluid', 'creatinine pleural',\n",
    "    'creatinine urine', 'diastolic blood pressure', 'eosinophils', 'fibrinogen', 'fraction inspired oxygen', \n",
    "    'fraction inspired oxygen set', 'glascow coma scale total', 'glucose', 'heart rate', 'height', 'hematocrit', \n",
    "    'hemoglobin', 'lactate', 'lactate dehydrogenase', 'lactate dehydrogenase pleural', 'lactic acid', 'lymphocytes',\n",
    "    'lymphocytes ascites', 'lymphocytes atypical', 'lymphocytes atypical csl', 'lymphocytes body fluid',\n",
    "    'lymphocytes percent', 'lymphocytes pleural', 'magnesium', 'mean blood pressure', 'mean corpuscular hemoglobin',\n",
    "    'mean corpuscular hemoglobin concentration', 'mean corpuscular volume', 'monocytes', 'monocytes csl', 'neutrophils',\n",
    "    'oxygen saturation', 'partial pressure of carbon dioxide', 'partial pressure of oxygen',\n",
    "    'partial thromboplastin time', 'peak inspiratory pressure', 'ph', 'ph urine', 'phosphate', 'phosphorous',\n",
    "    'plateau pressure', 'platelets', 'positive end-expiratory pressure', 'positive end-expiratory pressure set',\n",
    "    'post void residual', 'potassium', 'potassium serum', 'prothrombin time inr', 'prothrombin time pt',\n",
    "    'pulmonary artery pressure mean', 'pulmonary artery pressure systolic', 'pulmonary capillary wedge pressure',\n",
    "    'red blood cell count', 'red blood cell count ascites', 'red blood cell count csf', 'red blood cell count pleural',\n",
    "    'red blood cell count urine', 'respiratory rate', 'respiratory rate set', 'sodium', 'systemic vascular resistance',\n",
    "    'systolic blood pressure', 'temperature', 'tidal volume observed', 'tidal volume set', 'tidal volume spontaneous',\n",
    "    'total protein', 'total protein urine', 'troponin-i', 'troponin-t', 'venous pvo2', 'weight', 'white blood cell count', \n",
    "    'white blood cell count urine'\n",
    "]"
   ]
  },
  {
   "cell_type": "code",
   "execution_count": 183,
   "id": "c7a881bf-bce8-47b5-9b95-2b46d04ea134",
   "metadata": {},
   "outputs": [
    {
     "data": {
      "text/plain": [
       "104"
      ]
     },
     "execution_count": 183,
     "metadata": {},
     "output_type": "execute_result"
    }
   ],
   "source": [
    "len(mimic_extract_vital_signs)"
   ]
  },
  {
   "cell_type": "markdown",
   "id": "09456952-fa53-4d8d-8b48-d4bfff63bb76",
   "metadata": {},
   "source": [
    "The additional vital signs originate from personal research on vital signs that are commonly measured during pregnancy."
   ]
  },
  {
   "cell_type": "code",
   "execution_count": 184,
   "id": "dcc8fe5d-d6eb-4389-b576-6cf951eae83c",
   "metadata": {},
   "outputs": [],
   "source": [
    "additional_vital_signs = [\n",
    "    'leukocyte',\n",
    "    'blood glucose level',\n",
    "    'proteineuria',\n",
    "    'fetal heart rate',\n",
    "    'amniotic fluid',\n",
    "    'umbilical artery doppler'\n",
    "]"
   ]
  },
  {
   "cell_type": "markdown",
   "id": "2fde3364-4236-40e4-ae31-f89f245efd15",
   "metadata": {},
   "source": [
    "#### Definitions of the additional vital signs (and how they relate to pregnancy)\n",
    "- Leukocyte - type of white blood cell (deemed useful feature in related works, couldn’t find a direct blood cell mapping from MIMIC-III to MIMIC-IV - can help detect infection)\n",
    "- Blood glucose level - concentration of glucose in blood, important to track for detection of gestational diabetes or other complications (preterm birth, preeclampsia)\n",
    "- Proteinuria - presence of abnormal amounts of protein in urine, could indicate preeclampsia\n",
    "- Amniotic fluid - fluid that surrounds fetus during pregnancy, abnormal amounts can be indicative of fetal abnormalities or pregnancy complications\n",
    "- Umbilical artery doppler - ultrasound technique to assess blood flow in the umbilical artery, abnormalities may indicate complications with growing the fetus\n"
   ]
  },
  {
   "cell_type": "markdown",
   "id": "965453bc-4deb-4628-a616-5b039ea567a7",
   "metadata": {},
   "source": [
    "For each of the above vital signs, try mapping them to an item_id from the `hosp.d_labitems` table:"
   ]
  },
  {
   "cell_type": "code",
   "execution_count": 4,
   "id": "98c610d2-7656-43da-b93f-b9c0028441b4",
   "metadata": {},
   "outputs": [],
   "source": [
    "def load_lab_items_table(connection):\n",
    "    cur = connection.cursor()\n",
    "    cur.execute(\"\"\"\n",
    "        SELECT itemid, label\n",
    "        FROM mimiciv_hosp.d_labitems\n",
    "    \"\"\")\n",
    "    rows = cur.fetchall()\n",
    "    cur.close()\n",
    "    df = pd.DataFrame(rows, columns=[\"itemid\", \"label\"])\n",
    "    return df"
   ]
  },
  {
   "cell_type": "code",
   "execution_count": 5,
   "id": "670a8aa0-6d39-4c32-bb2b-9b9c2a7f4202",
   "metadata": {},
   "outputs": [
    {
     "name": "stdout",
     "output_type": "stream",
     "text": [
      "Connected to db: smcdougall\n"
     ]
    },
    {
     "data": {
      "text/html": [
       "<div>\n",
       "<style scoped>\n",
       "    .dataframe tbody tr th:only-of-type {\n",
       "        vertical-align: middle;\n",
       "    }\n",
       "\n",
       "    .dataframe tbody tr th {\n",
       "        vertical-align: top;\n",
       "    }\n",
       "\n",
       "    .dataframe thead th {\n",
       "        text-align: right;\n",
       "    }\n",
       "</style>\n",
       "<table border=\"1\" class=\"dataframe\">\n",
       "  <thead>\n",
       "    <tr style=\"text-align: right;\">\n",
       "      <th></th>\n",
       "      <th>itemid</th>\n",
       "      <th>label</th>\n",
       "    </tr>\n",
       "  </thead>\n",
       "  <tbody>\n",
       "    <tr>\n",
       "      <th>0</th>\n",
       "      <td>50801</td>\n",
       "      <td>Alveolar-arterial Gradient</td>\n",
       "    </tr>\n",
       "    <tr>\n",
       "      <th>1</th>\n",
       "      <td>50802</td>\n",
       "      <td>Base Excess</td>\n",
       "    </tr>\n",
       "    <tr>\n",
       "      <th>2</th>\n",
       "      <td>50803</td>\n",
       "      <td>Calculated Bicarbonate, Whole Blood</td>\n",
       "    </tr>\n",
       "    <tr>\n",
       "      <th>3</th>\n",
       "      <td>50804</td>\n",
       "      <td>Calculated Total CO2</td>\n",
       "    </tr>\n",
       "    <tr>\n",
       "      <th>4</th>\n",
       "      <td>50805</td>\n",
       "      <td>Carboxyhemoglobin</td>\n",
       "    </tr>\n",
       "  </tbody>\n",
       "</table>\n",
       "</div>"
      ],
      "text/plain": [
       "   itemid                                label\n",
       "0   50801           Alveolar-arterial Gradient\n",
       "1   50802                          Base Excess\n",
       "2   50803  Calculated Bicarbonate, Whole Blood\n",
       "3   50804                 Calculated Total CO2\n",
       "4   50805                    Carboxyhemoglobin"
      ]
     },
     "execution_count": 5,
     "metadata": {},
     "output_type": "execute_result"
    }
   ],
   "source": [
    "connection = connect_to_postgres(DB_NAME, USERNAME, PASSWORD, HOST, PORT)\n",
    "lab_item_df = load_lab_items_table(connection)\n",
    "lab_item_df.head()"
   ]
  },
  {
   "cell_type": "code",
   "execution_count": 7,
   "id": "88811c07-a54c-46df-a236-253cee6b909f",
   "metadata": {},
   "outputs": [
    {
     "name": "stdout",
     "output_type": "stream",
     "text": [
      "(1622, 2)\n"
     ]
    }
   ],
   "source": [
    "print(lab_item_df.shape)"
   ]
  },
  {
   "cell_type": "code",
   "execution_count": 187,
   "id": "284be7be-c7f3-4250-be2a-3632c2ded8f2",
   "metadata": {},
   "outputs": [],
   "source": [
    "# drop the three NA rows from the dataframe\n",
    "lab_item_df = lab_item_df.dropna()"
   ]
  },
  {
   "cell_type": "code",
   "execution_count": 188,
   "id": "d33e2ed9-cbd1-483e-bf9c-dd22f78d1cfa",
   "metadata": {},
   "outputs": [
    {
     "name": "stderr",
     "output_type": "stream",
     "text": [
      "/var/folders/rx/lz7wbpjx6_vb_gjscr4qnw5r0000gn/T/ipykernel_10912/3127267815.py:5: UserWarning: This pattern is interpreted as a regular expression, and has match groups. To actually get the groups, use str.extract.\n",
      "  match = lab_item_df[lab_item_df['label'].str.contains(label, case=False)]\n"
     ]
    },
    {
     "name": "stdout",
     "output_type": "stream",
     "text": [
      "('Alanine Aminotransferase', 100, 1558)\n",
      "('Albumin', 100, 60)\n",
      "('Albumin, Ascites', 97, 33)\n",
      "('Albumin, Pleural', 97, 234)\n",
      "('Albumin, Urine', 96, 257)\n",
      "('Alkaline Phosphatase', 95, 61)\n",
      "('Anion Gap', 100, 66)\n",
      "('Asparate Aminotransferase', 100, 1562)\n",
      "('Basophils', 100, 300)\n",
      "('Bicarbonate', 100, 80)\n",
      "('Bilirubin', 100, 624)\n",
      "('Urea Nitrogen', 95, 202)\n",
      "('Free Calcium', 90, 6)\n",
      "('% Ionized Calcium', 95, 1122)\n",
      "('Calcium, Urine', 96, 265)\n",
      "('Calculated Thyroxine (T4) Index', 86, 94)\n",
      "('I', 60, 144)\n",
      "('Other', 72, 311)\n",
      "('Cben', 68, 1063)\n",
      "('Chloride', 100, 100)\n",
      "('Chloride, Urine', 97, 266)\n",
      "('Cholesterol, HDL', 95, 102)\n",
      "('Cholesterol, HDL', 97, 102)\n",
      "('Cholesterol, HDL', 90, 102)\n",
      "('Calculated Total CO2', 90, 3)\n",
      "('pCO2', 90, 16)\n",
      "('Creatinine', 100, 110)\n",
      "('Creatinine, Ascites', 97, 39)\n",
      "('Creatinine, Body Fluid', 98, 220)\n",
      "('Creatinine, Pleural', 97, 240)\n",
      "('Creatinine, Urine', 97, 270)\n",
      "('Blood', 90, 626)\n",
      "('Eosinophils', 100, 302)\n",
      "('Fibrinogen', 100, 745)\n",
      "('Oxygen', 90, 14)\n",
      "('Oxygen', 90, 14)\n",
      "('Bilirubin, Total', 86, 83)\n",
      "('Glucose', 100, 7)\n",
      "('Ventilation Rate', 86, 25)\n",
      "('H', 90, 132)\n",
      "('Hematocrit', 100, 406)\n",
      "('Hemoglobin', 100, 9)\n",
      "('Lactate', 100, 11)\n",
      "('Lactate Dehydrogenase, Ascites', 95, 41)\n",
      "('Lactate Dehydrogenase, Pleural', 98, 242)\n",
      "('Acid Phosphatase, Non-Prostatic', 86, 57)\n",
      "('Lymphocytes', 100, 304)\n",
      "('Lymphocytes', 90, 304)\n",
      "('Atypical Lymphocytes', 95, 298)\n",
      "('Atypical Lymphocytes', 95, 298)\n",
      "('Lymphocytes', 90, 304)\n",
      "('Lymphocytes, Percent', 97, 430)\n",
      "('Lymphocytes', 90, 304)\n",
      "('Magnesium', 100, 157)\n",
      "('Blood', 90, 626)\n",
      "('Hemoglobin', 90, 9)\n",
      "('Hemoglobin', 90, 9)\n",
      "('Tidal Volume', 86, 24)\n",
      "('Monocytes', 100, 308)\n",
      "('Monocytes', 95, 308)\n",
      "('Neutrophils', 100, 441)\n",
      "('Oxygen Saturation', 100, 15)\n",
      "('P50 of Hemoglobin', 86, 1125)\n",
      "('Oxygen', 90, 14)\n",
      "('Bleeding Time', 86, 336)\n",
      "('Park', 68, 823)\n",
      "('pH', 100, 18)\n",
      "('pH, Urine', 95, 1138)\n",
      "('Phosphate', 100, 167)\n",
      "('pH', 90, 18)\n",
      "('GATE', 68, 1511)\n",
      "('Large Platelets', 90, 425)\n",
      "('Dr. X', 64, 735)\n",
      "('reuse', 72, 1001)\n",
      "('pO2', 60, 19)\n",
      "('Potassium', 100, 31)\n",
      "('Potassium', 90, 31)\n",
      "('Thrombin', 90, 482)\n",
      "('Thrombin', 90, 482)\n",
      "('Mean Platelet Volume', 86, 1234)\n",
      "('I', 60, 144)\n",
      "('LE Prep', 64, 1231)\n",
      "('Blood', 90, 626)\n",
      "('Blood', 90, 626)\n",
      "('Blood', 90, 626)\n",
      "('Blood', 90, 626)\n",
      "('Blood', 90, 626)\n",
      "('Rapid Respiratory Syncytial Virus', 86, 1580)\n",
      "('Rapid Respiratory Syncytial Virus', 86, 1580)\n",
      "('Sodium', 100, 180)\n",
      "('Stat', 68, 181)\n",
      "('Blood', 90, 626)\n",
      "('Temperature', 100, 23)\n",
      "('Tidal Volume', 90, 24)\n",
      "('Tidal Volume', 95, 24)\n",
      "('Tidal Volume', 90, 24)\n",
      "('Protein, Total', 95, 173)\n",
      "('Total Protein, Urine', 97, 290)\n",
      "('Troponin I', 100, 198)\n",
      "('Troponin T', 100, 199)\n",
      "('pCO2', 68, 16)\n",
      "('H', 90, 132)\n",
      "('Blood', 90, 626)\n",
      "('Blood', 90, 626)\n",
      "[('alanine aminotransferase', 50861), ('albumin', 50835), ('albumin ascites', None), ('albumin pleural', None), ('albumin urine', None), ('alkaline phosphate', None), ('anion gap', 50868), ('asparate aminotransferase', 50878), ('basophils', 51112), ('bicarbonate', 50803), ('bilirubin', 50838), ('blood urea nitrogen', None), ('calcium', 50808), ('calcium ionized', None), ('calcium urine', None), ('cardiac index', None), ('cardiac output fick', None), ('cardiac output thermodilution', None), ('central venous pressure', None), ('chloride', 50806), ('chloride urine', None), ('cholesterol', 50840), ('cholesterol hdl', None), ('cholesterol ldl', None), ('co2', 50804), ('co2 (etco2, pco2, etc.)', None), ('creatinine', 50841), ('creatinine ascites', None), ('creatinine body fluid', None), ('creatinine pleural', None), ('creatinine urine', None), ('diastolic blood pressure', None), ('eosinophils', 51114), ('fibrinogen', 51214), ('fraction inspired oxygen', None), ('fraction inspired oxygen set', None), ('glascow coma scale total', None), ('glucose', 50809), ('heart rate', None), ('height', None), ('hematocrit', 50810), ('hemoglobin', 50805), ('lactate', 50813), ('lactate dehydrogenase', 50843), ('lactate dehydrogenase pleural', None), ('lactic acid', None), ('lymphocytes', 51110), ('lymphocytes ascites', None), ('lymphocytes atypical', None), ('lymphocytes atypical csl', None), ('lymphocytes body fluid', None), ('lymphocytes percent', None), ('lymphocytes pleural', None), ('magnesium', 50960), ('mean blood pressure', None), ('mean corpuscular hemoglobin', None), ('mean corpuscular hemoglobin concentration', None), ('mean corpuscular volume', None), ('monocytes', 51120), ('monocytes csl', None), ('neutrophils', 51232), ('oxygen saturation', 50817), ('partial pressure of carbon dioxide', None), ('partial pressure of oxygen', None), ('partial thromboplastin time', None), ('peak inspiratory pressure', None), ('ph', 50820), ('ph urine', None), ('phosphate', 50970), ('phosphorous', None), ('plateau pressure', None), ('platelets', 51240), ('positive end-expiratory pressure', None), ('positive end-expiratory pressure set', None), ('post void residual', None), ('potassium', 50822), ('potassium serum', None), ('prothrombin time inr', None), ('prothrombin time pt', None), ('pulmonary artery pressure mean', None), ('pulmonary artery pressure systolic', None), ('pulmonary capillary wedge pressure', None), ('red blood cell count', None), ('red blood cell count ascites', None), ('red blood cell count csf', None), ('red blood cell count pleural', None), ('red blood cell count urine', None), ('respiratory rate', None), ('respiratory rate set', None), ('sodium', 50824), ('systemic vascular resistance', None), ('systolic blood pressure', None), ('temperature', 50825), ('tidal volume observed', None), ('tidal volume set', None), ('tidal volume spontaneous', None), ('total protein', 50849), ('total protein urine', None), ('troponin-i', None), ('troponin-t', None), ('venous pvo2', None), ('weight', None), ('white blood cell count', None), ('white blood cell count urine', None)]\n",
      "[('alanine aminotransferase', 53084), ('albumin', 50862), ('albumin ascites', 50835), ('albumin pleural', 51046), ('albumin urine', 51069), ('alkaline phosphate', 50863), ('anion gap', 50868), ('asparate aminotransferase', 53088), ('basophils', 51112), ('bicarbonate', 50882), ('bilirubin', 51464), ('blood urea nitrogen', 51006), ('calcium', 50808), ('calcium ionized', 52029), ('calcium urine', 51077), ('cardiac index', 50896), ('cardiac output fick', None), ('cardiac output thermodilution', None), ('central venous pressure', None), ('chloride', 50902), ('chloride urine', 51078), ('cholesterol', 50904), ('cholesterol hdl', 50904), ('cholesterol ldl', 50904), ('co2', 50804), ('co2 (etco2, pco2, etc.)', 50818), ('creatinine', 50912), ('creatinine ascites', 50841), ('creatinine body fluid', 51032), ('creatinine pleural', 51052), ('creatinine urine', 51082), ('diastolic blood pressure', 51466), ('eosinophils', 51114), ('fibrinogen', 51623), ('fraction inspired oxygen', 50816), ('fraction inspired oxygen set', 50816), ('glascow coma scale total', 50885), ('glucose', 50809), ('heart rate', 50827), ('height', 50934), ('hematocrit', 51221), ('hemoglobin', 50811), ('lactate', 50813), ('lactate dehydrogenase', 50843), ('lactate dehydrogenase pleural', 51054), ('lactic acid', 50859), ('lymphocytes', 51116), ('lymphocytes ascites', 51116), ('lymphocytes atypical', 51110), ('lymphocytes atypical csl', 51110), ('lymphocytes body fluid', 51116), ('lymphocytes percent', 51245), ('lymphocytes pleural', 51116), ('magnesium', 50960), ('mean blood pressure', 51466), ('mean corpuscular hemoglobin', 50811), ('mean corpuscular hemoglobin concentration', 50811), ('mean corpuscular volume', 50826), ('monocytes', 51120), ('monocytes csl', 51120), ('neutrophils', 51256), ('oxygen saturation', 50817), ('partial pressure of carbon dioxide', 52032), ('partial pressure of oxygen', 50816), ('partial thromboplastin time', 51149), ('peak inspiratory pressure', None), ('ph', 50820), ('ph urine', 52045), ('phosphate', 50970), ('phosphorous', 50820), ('plateau pressure', None), ('platelets', 51240), ('positive end-expiratory pressure', None), ('positive end-expiratory pressure set', None), ('post void residual', None), ('potassium', 50833), ('potassium serum', 50833), ('prothrombin time inr', 51297), ('prothrombin time pt', 51297), ('pulmonary artery pressure mean', 52142), ('pulmonary artery pressure systolic', None), ('pulmonary capillary wedge pressure', None), ('red blood cell count', 51466), ('red blood cell count ascites', 51466), ('red blood cell count csf', 51466), ('red blood cell count pleural', 51466), ('red blood cell count urine', 51466), ('respiratory rate', 53113), ('respiratory rate set', 53113), ('sodium', 50983), ('systemic vascular resistance', None), ('systolic blood pressure', 51466), ('temperature', 50825), ('tidal volume observed', 50826), ('tidal volume set', 50826), ('tidal volume spontaneous', 50826), ('total protein', 50976), ('total protein urine', 51102), ('troponin-i', 51002), ('troponin-t', 51003), ('venous pvo2', None), ('weight', 50934), ('white blood cell count', 51466), ('white blood cell count urine', 51466)]\n"
     ]
    }
   ],
   "source": [
    "# use fuzzy matching to find close matches when matching the lists of vital signs to their labels (and item ids)\n",
    "# try matching against the exact term\n",
    "matched_labels = []\n",
    "for label in mimic_extract_vital_signs:\n",
    "    match = lab_item_df[lab_item_df['label'].str.contains(label, case=False)]\n",
    "    if not match.empty:\n",
    "        matched_labels.append((label, match.iloc[0]['itemid']))\n",
    "    else:\n",
    "        matched_labels.append((label, None))  # handle unmatched labels\n",
    "\n",
    "# try using fuzzy matching for better accuracy\n",
    "fuzzy_matched_labels = []\n",
    "for label in mimic_extract_vital_signs:\n",
    "    print(process.extractOne(label, lab_item_df['label']))\n",
    "    match, score, _ = process.extractOne(label, lab_item_df['label'])\n",
    "    if score >= 80:  # threshold set at 80\n",
    "        fuzzy_matched_labels.append((label, lab_item_df[lab_item_df['label'] == match]['itemid'].iloc[0]))\n",
    "    else:\n",
    "        fuzzy_matched_labels.append((label, None))\n",
    "print(matched_labels)\n",
    "print(fuzzy_matched_labels)"
   ]
  },
  {
   "cell_type": "code",
   "execution_count": 189,
   "id": "5698fe0b-c184-4e67-8490-bf9003a2fba3",
   "metadata": {},
   "outputs": [
    {
     "name": "stderr",
     "output_type": "stream",
     "text": [
      "/var/folders/rx/lz7wbpjx6_vb_gjscr4qnw5r0000gn/T/ipykernel_10912/75183319.py:4: UserWarning: This pattern is interpreted as a regular expression, and has match groups. To actually get the groups, use str.extract.\n",
      "  match = lab_item_df[lab_item_df['label'].str.contains(label, case=False)]\n"
     ]
    }
   ],
   "source": [
    "# Exact matching\n",
    "matched_labels = []\n",
    "for label in mimic_extract_vital_signs:\n",
    "    match = lab_item_df[lab_item_df['label'].str.contains(label, case=False)]\n",
    "    if not match.empty:\n",
    "        matched_labels.append((label, match.iloc[0]['label'], match.iloc[0]['itemid']))\n",
    "    else:\n",
    "        matched_labels.append((label, None, None))  # handle unmatched labels\n",
    "\n",
    "# Fuzzy matching\n",
    "fuzzy_matched_labels = []\n",
    "for label in mimic_extract_vital_signs:\n",
    "    match, score, _ = process.extractOne(label, lab_item_df['label'])\n",
    "    if score >= 80:  # threshold set at 80\n",
    "        fuzzy_matched_labels.append((label, match, lab_item_df[lab_item_df['label'] == match]['itemid'].iloc[0]))\n",
    "    else:\n",
    "        fuzzy_matched_labels.append((label, None, None))\n",
    "\n",
    "# Merge the two lists based on the original labels\n",
    "merged_labels = []\n",
    "for exact, fuzzy in zip(matched_labels, fuzzy_matched_labels):\n",
    "    original_label = exact[0]\n",
    "    exact_label = exact[1]\n",
    "    exact_id = exact[2]\n",
    "    fuzzy_label = fuzzy[1]\n",
    "    fuzzy_id = fuzzy[2]\n",
    "    \n",
    "    # Prefer fuzzy match results if available\n",
    "    if fuzzy_label:\n",
    "        matched_label = fuzzy_label\n",
    "        matched_id = fuzzy_id\n",
    "    else:\n",
    "        matched_label = exact_label\n",
    "        matched_id = exact_id\n",
    "    \n",
    "    merged_labels.append({\n",
    "        \"original_label\": original_label,\n",
    "        \"matched_label\": matched_label,\n",
    "        \"id\": matched_id,\n",
    "        \"table_name\": \"mimiciv_hosp.d_labitems\"\n",
    "    })"
   ]
  },
  {
   "cell_type": "markdown",
   "id": "6665f516-ffd6-4740-9d40-b3b4adc517b9",
   "metadata": {},
   "source": [
    "## Observations\n",
    "- the item id's don't match the item id's for MIMIC-III, so we can't use the existing mapping\n",
    "- \"These raw ItemIDs are not robust to changes in software or human data entry practices. For example, “HeartRate” may be recorded under ItemID 211 (using CareVue EHR systems before 2008) or under ItemID 220045 (using MetaVision EHR software after 2008).\"\n",
    "- the MIMIC Extract paper developed a manually curated clinical taxonomy designed to group semantically equivalent ItemIDs together into more robust “clinical aggregate” features\n",
    "- also note that the paper used the ICU items table and not the hospital one -- so look at that one as well"
   ]
  },
  {
   "cell_type": "code",
   "execution_count": 190,
   "id": "353894aa-e6b8-4045-8485-76f8a78e3337",
   "metadata": {},
   "outputs": [
    {
     "data": {
      "text/html": [
       "<div>\n",
       "<style scoped>\n",
       "    .dataframe tbody tr th:only-of-type {\n",
       "        vertical-align: middle;\n",
       "    }\n",
       "\n",
       "    .dataframe tbody tr th {\n",
       "        vertical-align: top;\n",
       "    }\n",
       "\n",
       "    .dataframe thead th {\n",
       "        text-align: right;\n",
       "    }\n",
       "</style>\n",
       "<table border=\"1\" class=\"dataframe\">\n",
       "  <thead>\n",
       "    <tr style=\"text-align: right;\">\n",
       "      <th></th>\n",
       "      <th>itemid</th>\n",
       "      <th>label</th>\n",
       "    </tr>\n",
       "  </thead>\n",
       "  <tbody>\n",
       "    <tr>\n",
       "      <th>0</th>\n",
       "      <td>50801</td>\n",
       "      <td>Alveolar-arterial Gradient</td>\n",
       "    </tr>\n",
       "    <tr>\n",
       "      <th>1</th>\n",
       "      <td>50802</td>\n",
       "      <td>Base Excess</td>\n",
       "    </tr>\n",
       "    <tr>\n",
       "      <th>2</th>\n",
       "      <td>50803</td>\n",
       "      <td>Calculated Bicarbonate, Whole Blood</td>\n",
       "    </tr>\n",
       "    <tr>\n",
       "      <th>3</th>\n",
       "      <td>50804</td>\n",
       "      <td>Calculated Total CO2</td>\n",
       "    </tr>\n",
       "    <tr>\n",
       "      <th>4</th>\n",
       "      <td>50805</td>\n",
       "      <td>Carboxyhemoglobin</td>\n",
       "    </tr>\n",
       "  </tbody>\n",
       "</table>\n",
       "</div>"
      ],
      "text/plain": [
       "   itemid                                label\n",
       "0   50801           Alveolar-arterial Gradient\n",
       "1   50802                          Base Excess\n",
       "2   50803  Calculated Bicarbonate, Whole Blood\n",
       "3   50804                 Calculated Total CO2\n",
       "4   50805                    Carboxyhemoglobin"
      ]
     },
     "execution_count": 190,
     "metadata": {},
     "output_type": "execute_result"
    }
   ],
   "source": [
    "lab_item_df.head()"
   ]
  },
  {
   "cell_type": "markdown",
   "id": "02cb07a2-8dee-4866-902e-6593c13df441",
   "metadata": {},
   "source": [
    "From here:\n",
    "- Inspect all of the above and reset to None if the match doesn't seem right\n",
    "- Compile all of the matches that are 'None' and see if I can search for them in the csv file from github (maybe download it from github and do a search that way)\n",
    "- Repeat the same for the second list of vital signs"
   ]
  },
  {
   "cell_type": "code",
   "execution_count": 191,
   "id": "65edaee5-419d-44f1-bf9e-d084e2a76889",
   "metadata": {},
   "outputs": [
    {
     "name": "stdout",
     "output_type": "stream",
     "text": [
      "12\n"
     ]
    }
   ],
   "source": [
    "none_labels = [label for label in merged_labels if label['matched_label'] is None]\n",
    "print(len(none_labels))"
   ]
  },
  {
   "cell_type": "markdown",
   "id": "d2fdb76b-55b0-42e8-bb58-7c6f986aa73d",
   "metadata": {},
   "source": [
    "The following labels do not have a strong enough match and will be re-matched using the ICU labitems table, which contains additional lab values."
   ]
  },
  {
   "cell_type": "code",
   "execution_count": 193,
   "id": "23bab229-11cd-4de7-89da-7b6c449de429",
   "metadata": {},
   "outputs": [],
   "source": [
    "labels_to_reset = [\n",
    "    'cardiac index',\n",
    "    'cholesterol',\n",
    "    'cholesterol hdl',\n",
    "    'cholesterol ldl',\n",
    "    'diastolic blood pressure',\n",
    "    'fraction inspired oxygen',\n",
    "    'fraction inspired oxygen set',\n",
    "    'glascow coma scale total',\n",
    "    'lactic acid',\n",
    "    'lymphocytes atypical csl',\n",
    "    'lymphocytes body fluid',\n",
    "    'lymphocytes pleural',\n",
    "    'mean blood pressure',\n",
    "    'mean corpuscular hemoglobin',\n",
    "    'mean corpuscular hemoglobin concentration',\n",
    "    'mean corpuscular volume',\n",
    "    'monocytes csl',\n",
    "    'partial pressure of carbon dioxide',\n",
    "    'partial thromboplastin time',\n",
    "    'phosphorous',\n",
    "    'potassium serum',\n",
    "    'prothrombin time inr',\n",
    "    'prothrombin time pt',\n",
    "    'red blood cell count',\n",
    "    'red blood cell count ascites',\n",
    "    'red blood cell count csf',\n",
    "    'red blood cell count pleural',\n",
    "    'red blood cell count urine',\n",
    "    'respiratory rate',\n",
    "    'respiratory rate set',\n",
    "    'systolic blood pressure',\n",
    "    'tidal volume observed',\n",
    "    'tidal volume set',\n",
    "    'tidal volume spontaneous',\n",
    "    'weight',\n",
    "    'white blood cell count',\n",
    "    'white blood cell count urine'\n",
    "]"
   ]
  },
  {
   "cell_type": "code",
   "execution_count": 194,
   "id": "2aa96205-4718-4880-a545-e16c646099af",
   "metadata": {},
   "outputs": [
    {
     "name": "stdout",
     "output_type": "stream",
     "text": [
      "49\n",
      "[{'original_label': 'cardiac output fick', 'matched_label': None, 'id': None, 'table_name': 'mimiciv_hosp.d_labitems'}, {'original_label': 'cardiac output thermodilution', 'matched_label': None, 'id': None, 'table_name': 'mimiciv_hosp.d_labitems'}, {'original_label': 'central venous pressure', 'matched_label': None, 'id': None, 'table_name': 'mimiciv_hosp.d_labitems'}, {'original_label': 'peak inspiratory pressure', 'matched_label': None, 'id': None, 'table_name': 'mimiciv_hosp.d_labitems'}, {'original_label': 'plateau pressure', 'matched_label': None, 'id': None, 'table_name': 'mimiciv_hosp.d_labitems'}]\n"
     ]
    }
   ],
   "source": [
    "for label in labels_to_reset:\n",
    "    found_dict = next((d for d in merged_labels if d['original_label'] == label), None)\n",
    "    found_dict['matched_label'] = None\n",
    "    found_dict['id'] = None\n",
    "    found_dict['table_name'] = None\n",
    "    none_labels.append(found_dict)\n",
    "print(len(none_labels))\n",
    "print(none_labels[:5])"
   ]
  },
  {
   "cell_type": "code",
   "execution_count": 195,
   "id": "6ba86f8f-5b42-43f9-8ecf-e3ac8bbb494e",
   "metadata": {},
   "outputs": [],
   "source": [
    "def load_icu_lab_table(connection):\n",
    "    cur = connection.cursor()\n",
    "    cur.execute(\"\"\"\n",
    "        SELECT itemid, label\n",
    "        FROM mimiciv_icu.d_items\n",
    "    \"\"\")\n",
    "    rows = cur.fetchall()\n",
    "    cur.close()\n",
    "    df = pd.DataFrame(rows, columns=[\"itemid\", \"label\"])\n",
    "    return df"
   ]
  },
  {
   "cell_type": "code",
   "execution_count": 196,
   "id": "52292b62-f2a2-4c0c-b2ca-0472f27b8bc8",
   "metadata": {},
   "outputs": [
    {
     "name": "stdout",
     "output_type": "stream",
     "text": [
      "Connected to db: smcdougall\n",
      "   itemid                    label\n",
      "0  220001             Problem List\n",
      "1  220003       ICU Admission date\n",
      "2  220045               Heart Rate\n",
      "3  220046  Heart rate Alarm - High\n",
      "4  220047   Heart Rate Alarm - Low\n",
      "(4014, 2)\n"
     ]
    }
   ],
   "source": [
    "connection = connect_to_postgres(DB_NAME, USERNAME, PASSWORD, HOST, PORT)\n",
    "item_df = load_icu_lab_table(connection)\n",
    "print(item_df.head())\n",
    "print(item_df.shape)"
   ]
  },
  {
   "cell_type": "code",
   "execution_count": 197,
   "id": "a735cec4-737d-471a-86b8-49d025941dcc",
   "metadata": {},
   "outputs": [
    {
     "name": "stdout",
     "output_type": "stream",
     "text": [
      "['cardiac output fick', 'cardiac output thermodilution', 'central venous pressure', 'peak inspiratory pressure', 'plateau pressure']\n"
     ]
    }
   ],
   "source": [
    "remaining_items = [d['original_label'] for d in none_labels]\n",
    "print(remaining_items[:5])"
   ]
  },
  {
   "cell_type": "code",
   "execution_count": 198,
   "id": "7efa8d2a-50cc-4968-bb35-72d1ffe89342",
   "metadata": {},
   "outputs": [],
   "source": [
    "# Exact matching\n",
    "matched_icu_labels = []\n",
    "for label in remaining_items:\n",
    "    match = item_df[item_df['label'].str.contains(label, case=False)]\n",
    "    if not match.empty:\n",
    "        matched_icu_labels.append((label, match.iloc[0]['label'], match.iloc[0]['itemid']))\n",
    "    else:\n",
    "        matched_icu_labels.append((label, None, None))  # handle unmatched labels\n",
    "\n",
    "# Fuzzy matching\n",
    "fuzzy_matched_icu_labels = []\n",
    "for label in remaining_items:\n",
    "    match, score, _ = process.extractOne(label, item_df['label'])\n",
    "    if score >= 80:  # threshold set at 80\n",
    "        fuzzy_matched_icu_labels.append((label, match, item_df[item_df['label'] == match]['itemid'].iloc[0]))\n",
    "    else:\n",
    "        fuzzy_matched_icu_labels.append((label, None, None))\n",
    "\n",
    "# Merge the two lists based on the original labels\n",
    "merged_icu_labels = []\n",
    "for exact, fuzzy in zip(matched_icu_labels, fuzzy_matched_icu_labels):\n",
    "    original_label = exact[0]\n",
    "    exact_label = exact[1]\n",
    "    exact_id = exact[2]\n",
    "    fuzzy_label = fuzzy[1]\n",
    "    fuzzy_id = fuzzy[2]\n",
    "    \n",
    "    # Prefer fuzzy match results if available\n",
    "    if fuzzy_label:\n",
    "        matched_label = fuzzy_label\n",
    "        matched_id = fuzzy_id\n",
    "    else:\n",
    "        matched_label = exact_label\n",
    "        matched_id = exact_id\n",
    "    \n",
    "    merged_icu_labels.append({\n",
    "        \"original_label\": original_label,\n",
    "        \"matched_label\": matched_label,\n",
    "        \"id\": matched_id,\n",
    "        \"table_name\": \"mimiciv_icu.d_items\"\n",
    "    })"
   ]
  },
  {
   "cell_type": "code",
   "execution_count": 199,
   "id": "59e894e8-22f9-49da-8fd7-c349a6d9d57d",
   "metadata": {},
   "outputs": [],
   "source": [
    "# for label in merged_icu_labels:\n",
    "#     print(label)"
   ]
  },
  {
   "cell_type": "markdown",
   "id": "c33cb1b4-0d50-4b8b-829e-801db72774ba",
   "metadata": {},
   "source": [
    "- Keep \"Cardiac Output Fick\" and \"Cardiac Output (thermodilution)\" as synonymous\n",
    "- Keep 'pulmonary capillary wedge pressure' and 'Left Artrial Pressure' as synonymous\n",
    "- HDL considered \"good cholesterol,\" LDL considered \"bad cholesterol\", MIMIC Extract study had both measured separately but we only have a general \"Cholesterol\" label, so use that\n",
    "- Assume 'mean corpuscular hemoglobin concentration' and 'Hemoglobin' mean the same thing"
   ]
  },
  {
   "cell_type": "code",
   "execution_count": 201,
   "id": "c35952c6-c9f4-4cce-9ec4-037ae80665bd",
   "metadata": {},
   "outputs": [
    {
     "data": {
      "text/html": [
       "<div>\n",
       "<style scoped>\n",
       "    .dataframe tbody tr th:only-of-type {\n",
       "        vertical-align: middle;\n",
       "    }\n",
       "\n",
       "    .dataframe tbody tr th {\n",
       "        vertical-align: top;\n",
       "    }\n",
       "\n",
       "    .dataframe thead th {\n",
       "        text-align: right;\n",
       "    }\n",
       "</style>\n",
       "<table border=\"1\" class=\"dataframe\">\n",
       "  <thead>\n",
       "    <tr style=\"text-align: right;\">\n",
       "      <th></th>\n",
       "      <th>itemid</th>\n",
       "      <th>label</th>\n",
       "    </tr>\n",
       "  </thead>\n",
       "  <tbody>\n",
       "    <tr>\n",
       "      <th>1878</th>\n",
       "      <td>226560</td>\n",
       "      <td>Void</td>\n",
       "    </tr>\n",
       "    <tr>\n",
       "      <th>1942</th>\n",
       "      <td>226713</td>\n",
       "      <td>Incontinent/voids (estimate)</td>\n",
       "    </tr>\n",
       "  </tbody>\n",
       "</table>\n",
       "</div>"
      ],
      "text/plain": [
       "      itemid                         label\n",
       "1878  226560                          Void\n",
       "1942  226713  Incontinent/voids (estimate)"
      ]
     },
     "execution_count": 201,
     "metadata": {},
     "output_type": "execute_result"
    }
   ],
   "source": [
    "item_df[item_df['label'].str.lower().str.contains('void')]"
   ]
  },
  {
   "cell_type": "code",
   "execution_count": 202,
   "id": "6e54f847-8ab9-4411-b670-f675f5a3af8f",
   "metadata": {},
   "outputs": [
    {
     "name": "stdout",
     "output_type": "stream",
     "text": [
      "['Problem List' 'ICU Admission date' 'Heart Rate' ...\n",
      " 'Documented on DC Summary (Thora)' 'Replacement Fluid (Pre-Filter)'\n",
      " 'Replacement Fluid (Post-Filter)']\n"
     ]
    }
   ],
   "source": [
    "print(item_df['label'].unique())"
   ]
  },
  {
   "cell_type": "code",
   "execution_count": 203,
   "id": "89362e25-c392-48f3-b6a3-da3bb3f456ac",
   "metadata": {},
   "outputs": [],
   "source": [
    "# these labels do not have strong enough matches across either of the itemid-related tables\n",
    "labels_to_remove = [\n",
    "    'peak inspiratory pressure',\n",
    "    'positive end-expiratory pressure',\n",
    "    'positive end-expiratory pressure set',\n",
    "    'post void residual',\n",
    "    'venous pvo2',\n",
    "    'cholesterol ldl',\n",
    "    'glascow coma scale total',\n",
    "    'lymphocytes atypical csl',\n",
    "    'lymphocytes body fluid',\n",
    "    'monocytes csl',\n",
    "    'mean corpuscular volume',\n",
    "    'partial pressure of carbon dioxide',\n",
    "    'red blood cell count',\n",
    "    'red blood cell count ascites',\n",
    "    'red blood cell count csf',\n",
    "    'red blood cell count pleural',\n",
    "    'red blood cell count urine',\n",
    "     'white blood cell count',\n",
    "    'white blood cell count urine'\n",
    "]"
   ]
  },
  {
   "cell_type": "code",
   "execution_count": 204,
   "id": "f2266ee0-2129-41ef-9b88-1ee62e336999",
   "metadata": {
    "scrolled": true
   },
   "outputs": [
    {
     "name": "stdout",
     "output_type": "stream",
     "text": [
      "49\n",
      "30\n"
     ]
    }
   ],
   "source": [
    "print(len(merged_icu_labels))\n",
    "for label in labels_to_remove:\n",
    "    for index, d in enumerate(merged_icu_labels):\n",
    "        if d.get('original_label') == label:\n",
    "            del merged_icu_labels[index]\n",
    "\n",
    "for label in labels_to_remove:\n",
    "    for index, d in enumerate(merged_labels):\n",
    "        if d.get('original_label') == label:\n",
    "            del merged_labels[index]\n",
    "\n",
    "print(len(merged_icu_labels))"
   ]
  },
  {
   "cell_type": "code",
   "execution_count": 205,
   "id": "ca4094e5-4388-4d10-9198-722e745dd90e",
   "metadata": {},
   "outputs": [
    {
     "name": "stdout",
     "output_type": "stream",
     "text": [
      "115\n"
     ]
    }
   ],
   "source": [
    "# merge the two together\n",
    "merged_labels.extend(merged_icu_labels)\n",
    "print(len(merged_labels))"
   ]
  },
  {
   "cell_type": "code",
   "execution_count": 206,
   "id": "f0245bea-483c-483c-bf08-b524bb616cdc",
   "metadata": {},
   "outputs": [
    {
     "name": "stdout",
     "output_type": "stream",
     "text": [
      "85\n"
     ]
    }
   ],
   "source": [
    "for label in merged_labels:\n",
    "    for index, d in enumerate(merged_labels):\n",
    "        if d.get('matched_label') == None:\n",
    "            del merged_labels[index]\n",
    "print(len(merged_labels))"
   ]
  },
  {
   "cell_type": "markdown",
   "id": "1bf8efc2-78fc-4667-be65-1229ef8353e6",
   "metadata": {},
   "source": [
    "List of pregnancy-related vital signs to try including:"
   ]
  },
  {
   "cell_type": "code",
   "execution_count": 207,
   "id": "95019284-4b61-4f62-aa29-e03b112442ab",
   "metadata": {},
   "outputs": [],
   "source": [
    "preg_vital_signs = [\n",
    "    'fetal heart rate', # can't find any that match :(\n",
    "    'uterine contractions', # can't find any that match :(\n",
    "    'amniotic fluid levels',\n",
    "    'umbilical artery doppler'\n",
    "    'Fetal Fibronectin (fFN)' # used for predicting preterm labor,\n",
    "    'FETAL LUNG MATURITY - LBC' # used to predict timing of delivery\n",
    "]"
   ]
  },
  {
   "cell_type": "code",
   "execution_count": 208,
   "id": "a012d878-25a1-4c8c-8801-82ba2eb725b9",
   "metadata": {},
   "outputs": [
    {
     "data": {
      "text/html": [
       "<div>\n",
       "<style scoped>\n",
       "    .dataframe tbody tr th:only-of-type {\n",
       "        vertical-align: middle;\n",
       "    }\n",
       "\n",
       "    .dataframe tbody tr th {\n",
       "        vertical-align: top;\n",
       "    }\n",
       "\n",
       "    .dataframe thead th {\n",
       "        text-align: right;\n",
       "    }\n",
       "</style>\n",
       "<table border=\"1\" class=\"dataframe\">\n",
       "  <thead>\n",
       "    <tr style=\"text-align: right;\">\n",
       "      <th></th>\n",
       "      <th>itemid</th>\n",
       "      <th>label</th>\n",
       "    </tr>\n",
       "  </thead>\n",
       "  <tbody>\n",
       "  </tbody>\n",
       "</table>\n",
       "</div>"
      ],
      "text/plain": [
       "Empty DataFrame\n",
       "Columns: [itemid, label]\n",
       "Index: []"
      ]
     },
     "execution_count": 208,
     "metadata": {},
     "output_type": "execute_result"
    }
   ],
   "source": [
    "item_df[item_df['label'].str.lower().str.contains('maternal')]"
   ]
  },
  {
   "cell_type": "code",
   "execution_count": 209,
   "id": "7e8db951-9aaa-4bfe-bf07-bc4baa8a3754",
   "metadata": {},
   "outputs": [
    {
     "data": {
      "text/html": [
       "<div>\n",
       "<style scoped>\n",
       "    .dataframe tbody tr th:only-of-type {\n",
       "        vertical-align: middle;\n",
       "    }\n",
       "\n",
       "    .dataframe tbody tr th {\n",
       "        vertical-align: top;\n",
       "    }\n",
       "\n",
       "    .dataframe thead th {\n",
       "        text-align: right;\n",
       "    }\n",
       "</style>\n",
       "<table border=\"1\" class=\"dataframe\">\n",
       "  <thead>\n",
       "    <tr style=\"text-align: right;\">\n",
       "      <th></th>\n",
       "      <th>itemid</th>\n",
       "      <th>label</th>\n",
       "    </tr>\n",
       "  </thead>\n",
       "  <tbody>\n",
       "    <tr>\n",
       "      <th>58</th>\n",
       "      <td>50860</td>\n",
       "      <td>AFP, Maternal Screen</td>\n",
       "    </tr>\n",
       "    <tr>\n",
       "      <th>134</th>\n",
       "      <td>50936</td>\n",
       "      <td>HCG, Maternal Screen</td>\n",
       "    </tr>\n",
       "    <tr>\n",
       "      <th>200</th>\n",
       "      <td>51004</td>\n",
       "      <td>UE3, Maternal Screen</td>\n",
       "    </tr>\n",
       "    <tr>\n",
       "      <th>730</th>\n",
       "      <td>51607</td>\n",
       "      <td>Dimeric Inhibin A, Maternal Screen</td>\n",
       "    </tr>\n",
       "  </tbody>\n",
       "</table>\n",
       "</div>"
      ],
      "text/plain": [
       "     itemid                               label\n",
       "58    50860                AFP, Maternal Screen\n",
       "134   50936                HCG, Maternal Screen\n",
       "200   51004                UE3, Maternal Screen\n",
       "730   51607  Dimeric Inhibin A, Maternal Screen"
      ]
     },
     "execution_count": 209,
     "metadata": {},
     "output_type": "execute_result"
    }
   ],
   "source": [
    "lab_item_df[lab_item_df['label'].str.lower().str.contains('maternal')]"
   ]
  },
  {
   "cell_type": "code",
   "execution_count": 210,
   "id": "513d44e7-21ff-478d-921b-2a87eb9e0ada",
   "metadata": {},
   "outputs": [
    {
     "data": {
      "text/html": [
       "<div>\n",
       "<style scoped>\n",
       "    .dataframe tbody tr th:only-of-type {\n",
       "        vertical-align: middle;\n",
       "    }\n",
       "\n",
       "    .dataframe tbody tr th {\n",
       "        vertical-align: top;\n",
       "    }\n",
       "\n",
       "    .dataframe thead th {\n",
       "        text-align: right;\n",
       "    }\n",
       "</style>\n",
       "<table border=\"1\" class=\"dataframe\">\n",
       "  <thead>\n",
       "    <tr style=\"text-align: right;\">\n",
       "      <th></th>\n",
       "      <th>itemid</th>\n",
       "      <th>label</th>\n",
       "    </tr>\n",
       "  </thead>\n",
       "  <tbody>\n",
       "    <tr>\n",
       "      <th>979</th>\n",
       "      <td>51876</td>\n",
       "      <td>L/S Ratio, Amniotic Fluid</td>\n",
       "    </tr>\n",
       "  </tbody>\n",
       "</table>\n",
       "</div>"
      ],
      "text/plain": [
       "     itemid                      label\n",
       "979   51876  L/S Ratio, Amniotic Fluid"
      ]
     },
     "execution_count": 210,
     "metadata": {},
     "output_type": "execute_result"
    }
   ],
   "source": [
    "lab_item_df[lab_item_df['itemid'] == 51876]"
   ]
  },
  {
   "cell_type": "code",
   "execution_count": 211,
   "id": "46c2de43-851e-4320-8f9f-1c8273e435b0",
   "metadata": {},
   "outputs": [],
   "source": [
    "preg_labels = [\n",
    "    {'original_label': 'FetalFN', 'matched_label': 'FetalFN', 'id': 51033, 'table_name': 'mimiciv_hosp.d_labitems'},\n",
    "    {'original_label': 'FETAL LUNG MATURITY - LBC', 'matched_label': 'FETAL LUNG MATURITY - LBC', 'id': 52352, \n",
    "     'table_name': 'mimiciv_hosp.d_labitems'},\n",
    "    {'original_label': 'AFP, Amniotic Fluid', 'matched_label': 'AFP, Amniotic Fluid', 'id': 51833, 'table_name': 'mimiciv_hosp.d_labitems'},\n",
    "    {'original_label': 'DSPC, Amniotic Fluid', 'matched_label': 'DSPC, Amniotic Fluid', 'id': 51855, 'table_name': 'mimiciv_hosp.d_labitems'},\n",
    "    {'original_label': 'L/S Ratio, Amniotic Fluid', 'matched_label': 'L/S Ratio, Amniotic Fluid', 'id': 51876,\n",
    "    'table_name': 'mimiciv_hosp.d_labitems'}\n",
    "]"
   ]
  },
  {
   "cell_type": "code",
   "execution_count": 212,
   "id": "259f4dd2-e129-4735-97aa-01369da1fbdc",
   "metadata": {},
   "outputs": [
    {
     "name": "stdout",
     "output_type": "stream",
     "text": [
      "90\n"
     ]
    }
   ],
   "source": [
    "merged_labels.extend(preg_labels)\n",
    "print(len(merged_labels))"
   ]
  },
  {
   "cell_type": "code",
   "execution_count": 213,
   "id": "0d896cdb-3aa1-49d1-8dd2-2ee909414fee",
   "metadata": {},
   "outputs": [],
   "source": [
    "# save as JSON file so these labels can be used for determining outliers based on variable ranges\n",
    "import json\n",
    "\n",
    "mimiciv_labels = {str(d['id']): d['matched_label'] for d in merged_labels}\n",
    "with open('mimiciv_vitalsigns_labels.json', 'w') as file:\n",
    "    json.dump(mimiciv_labels, file, indent=4)"
   ]
  },
  {
   "cell_type": "code",
   "execution_count": 214,
   "id": "ce6d58d3-3158-42c3-a500-25cd513181cb",
   "metadata": {},
   "outputs": [
    {
     "name": "stdout",
     "output_type": "stream",
     "text": [
      "84\n"
     ]
    }
   ],
   "source": [
    "print(len(mimiciv_labels))"
   ]
  },
  {
   "cell_type": "markdown",
   "id": "f667faa0-bd8d-4b09-8bab-bb5a8a5153ff",
   "metadata": {},
   "source": [
    "From here:\n",
    "- filter the relevant tables according to these ids\n",
    "- match up the measurements with the admissions\n",
    "\n",
    "### Relevant Tables:\n",
    "- `hosp.labevents` (on `itemid`)\n",
    "- `icu.chartevents`\n",
    "- `icu.datetimeevents`\n",
    "- `icu.inputevents`\n",
    "- `icu.outputevents`\n",
    "- `icu.procedureevents` (need to look into this one some more)"
   ]
  },
  {
   "cell_type": "code",
   "execution_count": 35,
   "id": "380e330c-8273-477a-b514-d4f118cc292f",
   "metadata": {},
   "outputs": [],
   "source": [
    "vital_signs_tables = [\n",
    "    'mimiciv_hosp.filtered_labevents',\n",
    "    'mimiciv_icu.filtered_chartevents',\n",
    "    'mimiciv_icu.filtered_datetimeevents',\n",
    "    'mimiciv_icu.filtered_inputevents',\n",
    "    'mimiciv_icu.filtered_outputevents'\n",
    "]"
   ]
  },
  {
   "cell_type": "code",
   "execution_count": 36,
   "id": "e028b366-eac1-4f55-b001-bc21f02e5d51",
   "metadata": {},
   "outputs": [
    {
     "name": "stdout",
     "output_type": "stream",
     "text": [
      "[53084, 50862, 50835, 51046, 51069]\n"
     ]
    }
   ],
   "source": [
    "# compile the item ids into a list\n",
    "relevant_item_ids = [d['id'] for d in merged_labels]\n",
    "relevant_item_ids = [int(itemid) for itemid in relevant_item_ids]\n",
    "\n",
    "print(relevant_item_ids[:5])"
   ]
  },
  {
   "cell_type": "code",
   "execution_count": 37,
   "id": "b8b2beec-7229-458b-8dd1-f44897ba7a3c",
   "metadata": {},
   "outputs": [],
   "source": [
    "\"\"\"\n",
    "General function for loading data from an existing SQL table that retrieves all of the fields\n",
    "for the table and filters on the itemid field.\n",
    "\"\"\"\n",
    "def filter_vital_signs_table(connection, table_name, relevant_item_ids):\n",
    "    cur = connection.cursor()\n",
    "    sql_query = f'SELECT * FROM \"{table_name}\" WHERE itemid IN %s'\n",
    "    cur.execute(sql_query, (tuple(relevant_item_ids),))\n",
    "    rows = cur.fetchall()\n",
    "    cur.close()\n",
    "    \n",
    "    # get column names\n",
    "    columns = [desc[0] for desc in cur.description]\n",
    "    # use column names retrieved from the cursor\n",
    "    df = pd.DataFrame(rows, columns=columns)\n",
    "    return df"
   ]
  },
  {
   "cell_type": "markdown",
   "id": "53875b44-090a-4a73-93e2-4856fb12fff7",
   "metadata": {},
   "source": [
    "### Filtering the hospital labevents table (mimiciv_hosp.filtered_labevents):"
   ]
  },
  {
   "cell_type": "code",
   "execution_count": 38,
   "id": "1b483d2c-159d-430e-85ab-f56c780e21be",
   "metadata": {},
   "outputs": [
    {
     "name": "stdout",
     "output_type": "stream",
     "text": [
      "Connected to db: smcdougall\n"
     ]
    }
   ],
   "source": [
    "connection = connect_to_postgres(DB_NAME, USERNAME, PASSWORD, HOST, PORT)\n",
    "filtered_labevents = filter_vital_signs_table(connection, 'mimiciv_hosp.filtered_labevents', relevant_item_ids)"
   ]
  },
  {
   "cell_type": "code",
   "execution_count": 39,
   "id": "288d3aa8-c67e-4694-93e2-77c1c8cc732e",
   "metadata": {},
   "outputs": [
    {
     "data": {
      "text/html": [
       "<div>\n",
       "<style scoped>\n",
       "    .dataframe tbody tr th:only-of-type {\n",
       "        vertical-align: middle;\n",
       "    }\n",
       "\n",
       "    .dataframe tbody tr th {\n",
       "        vertical-align: top;\n",
       "    }\n",
       "\n",
       "    .dataframe thead th {\n",
       "        text-align: right;\n",
       "    }\n",
       "</style>\n",
       "<table border=\"1\" class=\"dataframe\">\n",
       "  <thead>\n",
       "    <tr style=\"text-align: right;\">\n",
       "      <th></th>\n",
       "      <th>labevent_id</th>\n",
       "      <th>subject_id</th>\n",
       "      <th>hadm_id</th>\n",
       "      <th>specimen_id</th>\n",
       "      <th>itemid</th>\n",
       "      <th>order_provider_id</th>\n",
       "      <th>charttime</th>\n",
       "      <th>storetime</th>\n",
       "      <th>value</th>\n",
       "      <th>valuenum</th>\n",
       "      <th>valueuom</th>\n",
       "      <th>ref_range_lower</th>\n",
       "      <th>ref_range_upper</th>\n",
       "      <th>flag</th>\n",
       "      <th>priority</th>\n",
       "      <th>comments</th>\n",
       "    </tr>\n",
       "  </thead>\n",
       "  <tbody>\n",
       "    <tr>\n",
       "      <th>0</th>\n",
       "      <td>2437</td>\n",
       "      <td>10000719</td>\n",
       "      <td>NaN</td>\n",
       "      <td>70783909</td>\n",
       "      <td>51221</td>\n",
       "      <td>P30FVI</td>\n",
       "      <td>2139-09-14 15:10:00</td>\n",
       "      <td>2139-09-14 20:08:00</td>\n",
       "      <td>32.1</td>\n",
       "      <td>32.1</td>\n",
       "      <td>%</td>\n",
       "      <td>36.0</td>\n",
       "      <td>48.0</td>\n",
       "      <td>abnormal</td>\n",
       "      <td>ROUTINE</td>\n",
       "      <td>None</td>\n",
       "    </tr>\n",
       "    <tr>\n",
       "      <th>1</th>\n",
       "      <td>2444</td>\n",
       "      <td>10000719</td>\n",
       "      <td>NaN</td>\n",
       "      <td>70783909</td>\n",
       "      <td>51256</td>\n",
       "      <td>P30FVI</td>\n",
       "      <td>2139-09-14 15:10:00</td>\n",
       "      <td>2139-09-14 20:08:00</td>\n",
       "      <td>75.6</td>\n",
       "      <td>75.6</td>\n",
       "      <td>%</td>\n",
       "      <td>50.0</td>\n",
       "      <td>70.0</td>\n",
       "      <td>abnormal</td>\n",
       "      <td>ROUTINE</td>\n",
       "      <td>None</td>\n",
       "    </tr>\n",
       "    <tr>\n",
       "      <th>2</th>\n",
       "      <td>2449</td>\n",
       "      <td>10000719</td>\n",
       "      <td>24558333.0</td>\n",
       "      <td>9035511</td>\n",
       "      <td>51221</td>\n",
       "      <td>None</td>\n",
       "      <td>2140-04-15 00:22:00</td>\n",
       "      <td>2140-04-15 01:01:00</td>\n",
       "      <td>31.4</td>\n",
       "      <td>31.4</td>\n",
       "      <td>%</td>\n",
       "      <td>36.0</td>\n",
       "      <td>48.0</td>\n",
       "      <td>abnormal</td>\n",
       "      <td>STAT</td>\n",
       "      <td>None</td>\n",
       "    </tr>\n",
       "    <tr>\n",
       "      <th>3</th>\n",
       "      <td>2458</td>\n",
       "      <td>10000719</td>\n",
       "      <td>24558333.0</td>\n",
       "      <td>93908058</td>\n",
       "      <td>51221</td>\n",
       "      <td>None</td>\n",
       "      <td>2140-04-16 06:40:00</td>\n",
       "      <td>2140-04-16 07:54:00</td>\n",
       "      <td>32.6</td>\n",
       "      <td>32.6</td>\n",
       "      <td>%</td>\n",
       "      <td>36.0</td>\n",
       "      <td>48.0</td>\n",
       "      <td>abnormal</td>\n",
       "      <td>ROUTINE</td>\n",
       "      <td>None</td>\n",
       "    </tr>\n",
       "    <tr>\n",
       "      <th>4</th>\n",
       "      <td>2464</td>\n",
       "      <td>10000719</td>\n",
       "      <td>NaN</td>\n",
       "      <td>99456512</td>\n",
       "      <td>51221</td>\n",
       "      <td>P484YY</td>\n",
       "      <td>2140-11-14 17:08:00</td>\n",
       "      <td>2140-11-14 20:01:00</td>\n",
       "      <td>35.4</td>\n",
       "      <td>35.4</td>\n",
       "      <td>%</td>\n",
       "      <td>36.0</td>\n",
       "      <td>48.0</td>\n",
       "      <td>abnormal</td>\n",
       "      <td>ROUTINE</td>\n",
       "      <td>None</td>\n",
       "    </tr>\n",
       "  </tbody>\n",
       "</table>\n",
       "</div>"
      ],
      "text/plain": [
       "   labevent_id  subject_id     hadm_id  specimen_id  itemid order_provider_id  \\\n",
       "0         2437    10000719         NaN     70783909   51221            P30FVI   \n",
       "1         2444    10000719         NaN     70783909   51256            P30FVI   \n",
       "2         2449    10000719  24558333.0      9035511   51221              None   \n",
       "3         2458    10000719  24558333.0     93908058   51221              None   \n",
       "4         2464    10000719         NaN     99456512   51221            P484YY   \n",
       "\n",
       "            charttime           storetime value  valuenum valueuom  \\\n",
       "0 2139-09-14 15:10:00 2139-09-14 20:08:00  32.1      32.1        %   \n",
       "1 2139-09-14 15:10:00 2139-09-14 20:08:00  75.6      75.6        %   \n",
       "2 2140-04-15 00:22:00 2140-04-15 01:01:00  31.4      31.4        %   \n",
       "3 2140-04-16 06:40:00 2140-04-16 07:54:00  32.6      32.6        %   \n",
       "4 2140-11-14 17:08:00 2140-11-14 20:01:00  35.4      35.4        %   \n",
       "\n",
       "   ref_range_lower  ref_range_upper      flag priority comments  \n",
       "0             36.0             48.0  abnormal  ROUTINE     None  \n",
       "1             50.0             70.0  abnormal  ROUTINE     None  \n",
       "2             36.0             48.0  abnormal     STAT     None  \n",
       "3             36.0             48.0  abnormal  ROUTINE     None  \n",
       "4             36.0             48.0  abnormal  ROUTINE     None  "
      ]
     },
     "execution_count": 39,
     "metadata": {},
     "output_type": "execute_result"
    }
   ],
   "source": [
    "filtered_labevents.head()"
   ]
  },
  {
   "cell_type": "code",
   "execution_count": 40,
   "id": "8ebf41dc-2683-474a-9f7d-5a8290d6dfab",
   "metadata": {},
   "outputs": [
    {
     "name": "stdout",
     "output_type": "stream",
     "text": [
      "3533581\n"
     ]
    }
   ],
   "source": [
    "print(len(filtered_labevents))"
   ]
  },
  {
   "cell_type": "code",
   "execution_count": 41,
   "id": "f296b13c-441d-4186-ba24-5bbb6deca7f3",
   "metadata": {
    "scrolled": true
   },
   "outputs": [
    {
     "data": {
      "text/html": [
       "<div>\n",
       "<style scoped>\n",
       "    .dataframe tbody tr th:only-of-type {\n",
       "        vertical-align: middle;\n",
       "    }\n",
       "\n",
       "    .dataframe tbody tr th {\n",
       "        vertical-align: top;\n",
       "    }\n",
       "\n",
       "    .dataframe thead th {\n",
       "        text-align: right;\n",
       "    }\n",
       "</style>\n",
       "<table border=\"1\" class=\"dataframe\">\n",
       "  <thead>\n",
       "    <tr style=\"text-align: right;\">\n",
       "      <th></th>\n",
       "      <th>labevent_id</th>\n",
       "      <th>subject_id</th>\n",
       "      <th>hadm_id</th>\n",
       "      <th>specimen_id</th>\n",
       "      <th>itemid</th>\n",
       "      <th>order_provider_id</th>\n",
       "      <th>charttime</th>\n",
       "      <th>storetime</th>\n",
       "      <th>value</th>\n",
       "      <th>valuenum</th>\n",
       "      <th>valueuom</th>\n",
       "      <th>ref_range_lower</th>\n",
       "      <th>ref_range_upper</th>\n",
       "      <th>flag</th>\n",
       "      <th>priority</th>\n",
       "      <th>comments</th>\n",
       "    </tr>\n",
       "  </thead>\n",
       "  <tbody>\n",
       "    <tr>\n",
       "      <th>0</th>\n",
       "      <td>2437</td>\n",
       "      <td>10000719</td>\n",
       "      <td>NaN</td>\n",
       "      <td>70783909</td>\n",
       "      <td>51221</td>\n",
       "      <td>P30FVI</td>\n",
       "      <td>2139-09-14 15:10:00</td>\n",
       "      <td>2139-09-14 20:08:00</td>\n",
       "      <td>32.1</td>\n",
       "      <td>32.1</td>\n",
       "      <td>%</td>\n",
       "      <td>36.0</td>\n",
       "      <td>48.0</td>\n",
       "      <td>abnormal</td>\n",
       "      <td>ROUTINE</td>\n",
       "      <td>None</td>\n",
       "    </tr>\n",
       "    <tr>\n",
       "      <th>1</th>\n",
       "      <td>2444</td>\n",
       "      <td>10000719</td>\n",
       "      <td>NaN</td>\n",
       "      <td>70783909</td>\n",
       "      <td>51256</td>\n",
       "      <td>P30FVI</td>\n",
       "      <td>2139-09-14 15:10:00</td>\n",
       "      <td>2139-09-14 20:08:00</td>\n",
       "      <td>75.6</td>\n",
       "      <td>75.6</td>\n",
       "      <td>%</td>\n",
       "      <td>50.0</td>\n",
       "      <td>70.0</td>\n",
       "      <td>abnormal</td>\n",
       "      <td>ROUTINE</td>\n",
       "      <td>None</td>\n",
       "    </tr>\n",
       "    <tr>\n",
       "      <th>2</th>\n",
       "      <td>2449</td>\n",
       "      <td>10000719</td>\n",
       "      <td>24558333.0</td>\n",
       "      <td>9035511</td>\n",
       "      <td>51221</td>\n",
       "      <td>None</td>\n",
       "      <td>2140-04-15 00:22:00</td>\n",
       "      <td>2140-04-15 01:01:00</td>\n",
       "      <td>31.4</td>\n",
       "      <td>31.4</td>\n",
       "      <td>%</td>\n",
       "      <td>36.0</td>\n",
       "      <td>48.0</td>\n",
       "      <td>abnormal</td>\n",
       "      <td>STAT</td>\n",
       "      <td>None</td>\n",
       "    </tr>\n",
       "    <tr>\n",
       "      <th>3</th>\n",
       "      <td>2458</td>\n",
       "      <td>10000719</td>\n",
       "      <td>24558333.0</td>\n",
       "      <td>93908058</td>\n",
       "      <td>51221</td>\n",
       "      <td>None</td>\n",
       "      <td>2140-04-16 06:40:00</td>\n",
       "      <td>2140-04-16 07:54:00</td>\n",
       "      <td>32.6</td>\n",
       "      <td>32.6</td>\n",
       "      <td>%</td>\n",
       "      <td>36.0</td>\n",
       "      <td>48.0</td>\n",
       "      <td>abnormal</td>\n",
       "      <td>ROUTINE</td>\n",
       "      <td>None</td>\n",
       "    </tr>\n",
       "    <tr>\n",
       "      <th>4</th>\n",
       "      <td>2464</td>\n",
       "      <td>10000719</td>\n",
       "      <td>NaN</td>\n",
       "      <td>99456512</td>\n",
       "      <td>51221</td>\n",
       "      <td>P484YY</td>\n",
       "      <td>2140-11-14 17:08:00</td>\n",
       "      <td>2140-11-14 20:01:00</td>\n",
       "      <td>35.4</td>\n",
       "      <td>35.4</td>\n",
       "      <td>%</td>\n",
       "      <td>36.0</td>\n",
       "      <td>48.0</td>\n",
       "      <td>abnormal</td>\n",
       "      <td>ROUTINE</td>\n",
       "      <td>None</td>\n",
       "    </tr>\n",
       "  </tbody>\n",
       "</table>\n",
       "</div>"
      ],
      "text/plain": [
       "   labevent_id  subject_id     hadm_id  specimen_id  itemid order_provider_id  \\\n",
       "0         2437    10000719         NaN     70783909   51221            P30FVI   \n",
       "1         2444    10000719         NaN     70783909   51256            P30FVI   \n",
       "2         2449    10000719  24558333.0      9035511   51221              None   \n",
       "3         2458    10000719  24558333.0     93908058   51221              None   \n",
       "4         2464    10000719         NaN     99456512   51221            P484YY   \n",
       "\n",
       "            charttime           storetime value  valuenum valueuom  \\\n",
       "0 2139-09-14 15:10:00 2139-09-14 20:08:00  32.1      32.1        %   \n",
       "1 2139-09-14 15:10:00 2139-09-14 20:08:00  75.6      75.6        %   \n",
       "2 2140-04-15 00:22:00 2140-04-15 01:01:00  31.4      31.4        %   \n",
       "3 2140-04-16 06:40:00 2140-04-16 07:54:00  32.6      32.6        %   \n",
       "4 2140-11-14 17:08:00 2140-11-14 20:01:00  35.4      35.4        %   \n",
       "\n",
       "   ref_range_lower  ref_range_upper      flag priority comments  \n",
       "0             36.0             48.0  abnormal  ROUTINE     None  \n",
       "1             50.0             70.0  abnormal  ROUTINE     None  \n",
       "2             36.0             48.0  abnormal     STAT     None  \n",
       "3             36.0             48.0  abnormal  ROUTINE     None  \n",
       "4             36.0             48.0  abnormal  ROUTINE     None  "
      ]
     },
     "execution_count": 41,
     "metadata": {},
     "output_type": "execute_result"
    }
   ],
   "source": [
    "filtered_labevents = filtered_labevents[['labevent_id', 'subject_id', 'hadm_id', 'specimen_id', 'itemid', 'order_provider_id', \n",
    "                                    'charttime', 'storetime', 'value', 'valuenum', 'valueuom', 'ref_range_lower',\n",
    "                                    'ref_range_upper', 'flag', 'priority', 'comments']]\n",
    "filtered_labevents.head()"
   ]
  },
  {
   "cell_type": "code",
   "execution_count": 61,
   "id": "5559e6d6-6d0d-408e-9730-4596c40823b1",
   "metadata": {},
   "outputs": [
    {
     "name": "stdout",
     "output_type": "stream",
     "text": [
      "DataFrame has been saved as dataframes/hosp_labevents.csv\n"
     ]
    }
   ],
   "source": [
    "save_df_as_csv(filtered_labevents, 'hosp_labevents.csv')"
   ]
  },
  {
   "cell_type": "markdown",
   "id": "05ba57e8-064c-42ad-98ce-24469a8bb2e4",
   "metadata": {},
   "source": [
    "### chartevents\n",
    "ventilator settings, lab values, code status, mental status\n",
    "- sometimes lab values from labevents are duplicated here\n",
    "- need to see if there are specific values worth keeping aside from the labevent ones - ventilator maybe?"
   ]
  },
  {
   "cell_type": "code",
   "execution_count": 42,
   "id": "c545ae5e-0d17-4d4c-ac86-7ea6e03d609d",
   "metadata": {},
   "outputs": [
    {
     "name": "stdout",
     "output_type": "stream",
     "text": [
      "Connected to db: smcdougall\n",
      "(994991, 11)\n"
     ]
    },
    {
     "data": {
      "text/html": [
       "<div>\n",
       "<style scoped>\n",
       "    .dataframe tbody tr th:only-of-type {\n",
       "        vertical-align: middle;\n",
       "    }\n",
       "\n",
       "    .dataframe tbody tr th {\n",
       "        vertical-align: top;\n",
       "    }\n",
       "\n",
       "    .dataframe thead th {\n",
       "        text-align: right;\n",
       "    }\n",
       "</style>\n",
       "<table border=\"1\" class=\"dataframe\">\n",
       "  <thead>\n",
       "    <tr style=\"text-align: right;\">\n",
       "      <th></th>\n",
       "      <th>subject_id</th>\n",
       "      <th>hadm_id</th>\n",
       "      <th>stay_id</th>\n",
       "      <th>caregiver_id</th>\n",
       "      <th>charttime</th>\n",
       "      <th>storetime</th>\n",
       "      <th>itemid</th>\n",
       "      <th>value</th>\n",
       "      <th>valuenum</th>\n",
       "      <th>valueuom</th>\n",
       "      <th>warning</th>\n",
       "    </tr>\n",
       "  </thead>\n",
       "  <tbody>\n",
       "    <tr>\n",
       "      <th>0</th>\n",
       "      <td>10001884</td>\n",
       "      <td>26184834</td>\n",
       "      <td>37510196</td>\n",
       "      <td>10221.0</td>\n",
       "      <td>2131-01-18 19:00:00</td>\n",
       "      <td>2131-01-18 21:05:00</td>\n",
       "      <td>220210</td>\n",
       "      <td>17</td>\n",
       "      <td>17.0</td>\n",
       "      <td>insp/min</td>\n",
       "      <td>0</td>\n",
       "    </tr>\n",
       "    <tr>\n",
       "      <th>1</th>\n",
       "      <td>10001884</td>\n",
       "      <td>26184834</td>\n",
       "      <td>37510196</td>\n",
       "      <td>10221.0</td>\n",
       "      <td>2131-01-18 20:00:00</td>\n",
       "      <td>2131-01-18 21:05:00</td>\n",
       "      <td>220210</td>\n",
       "      <td>16</td>\n",
       "      <td>16.0</td>\n",
       "      <td>insp/min</td>\n",
       "      <td>0</td>\n",
       "    </tr>\n",
       "    <tr>\n",
       "      <th>2</th>\n",
       "      <td>10001884</td>\n",
       "      <td>26184834</td>\n",
       "      <td>37510196</td>\n",
       "      <td>10221.0</td>\n",
       "      <td>2131-01-18 21:00:00</td>\n",
       "      <td>2131-01-18 21:05:00</td>\n",
       "      <td>220210</td>\n",
       "      <td>15</td>\n",
       "      <td>15.0</td>\n",
       "      <td>insp/min</td>\n",
       "      <td>0</td>\n",
       "    </tr>\n",
       "    <tr>\n",
       "      <th>3</th>\n",
       "      <td>10001884</td>\n",
       "      <td>26184834</td>\n",
       "      <td>37510196</td>\n",
       "      <td>10221.0</td>\n",
       "      <td>2131-01-18 22:00:00</td>\n",
       "      <td>2131-01-19 00:36:00</td>\n",
       "      <td>220210</td>\n",
       "      <td>13</td>\n",
       "      <td>13.0</td>\n",
       "      <td>insp/min</td>\n",
       "      <td>0</td>\n",
       "    </tr>\n",
       "    <tr>\n",
       "      <th>4</th>\n",
       "      <td>10001884</td>\n",
       "      <td>26184834</td>\n",
       "      <td>37510196</td>\n",
       "      <td>10221.0</td>\n",
       "      <td>2131-01-18 23:00:00</td>\n",
       "      <td>2131-01-19 00:36:00</td>\n",
       "      <td>220210</td>\n",
       "      <td>12</td>\n",
       "      <td>12.0</td>\n",
       "      <td>insp/min</td>\n",
       "      <td>0</td>\n",
       "    </tr>\n",
       "  </tbody>\n",
       "</table>\n",
       "</div>"
      ],
      "text/plain": [
       "   subject_id   hadm_id   stay_id  caregiver_id           charttime  \\\n",
       "0    10001884  26184834  37510196       10221.0 2131-01-18 19:00:00   \n",
       "1    10001884  26184834  37510196       10221.0 2131-01-18 20:00:00   \n",
       "2    10001884  26184834  37510196       10221.0 2131-01-18 21:00:00   \n",
       "3    10001884  26184834  37510196       10221.0 2131-01-18 22:00:00   \n",
       "4    10001884  26184834  37510196       10221.0 2131-01-18 23:00:00   \n",
       "\n",
       "            storetime  itemid value  valuenum  valueuom  warning  \n",
       "0 2131-01-18 21:05:00  220210    17      17.0  insp/min        0  \n",
       "1 2131-01-18 21:05:00  220210    16      16.0  insp/min        0  \n",
       "2 2131-01-18 21:05:00  220210    15      15.0  insp/min        0  \n",
       "3 2131-01-19 00:36:00  220210    13      13.0  insp/min        0  \n",
       "4 2131-01-19 00:36:00  220210    12      12.0  insp/min        0  "
      ]
     },
     "execution_count": 42,
     "metadata": {},
     "output_type": "execute_result"
    }
   ],
   "source": [
    "connection = connect_to_postgres(DB_NAME, USERNAME, PASSWORD, HOST, PORT)\n",
    "filtered_chartevents = filter_vital_signs_table(connection, 'mimiciv_icu.filtered_chartevents', relevant_item_ids)\n",
    "print(filtered_chartevents.shape)\n",
    "filtered_chartevents.head()"
   ]
  },
  {
   "cell_type": "code",
   "execution_count": 47,
   "id": "2684c413-3f06-43e0-aafa-0d0594a6fbf6",
   "metadata": {
    "scrolled": true
   },
   "outputs": [
    {
     "ename": "KeyError",
     "evalue": "\"['caregiver_id', 'storetime', 'warning'] not found in axis\"",
     "output_type": "error",
     "traceback": [
      "\u001b[0;31m---------------------------------------------------------------------------\u001b[0m",
      "\u001b[0;31mKeyError\u001b[0m                                  Traceback (most recent call last)",
      "Cell \u001b[0;32mIn[47], line 1\u001b[0m\n\u001b[0;32m----> 1\u001b[0m filtered_chartevents \u001b[38;5;241m=\u001b[39m filtered_chartevents\u001b[38;5;241m.\u001b[39mdrop(columns\u001b[38;5;241m=\u001b[39m[\u001b[38;5;124m'\u001b[39m\u001b[38;5;124mcaregiver_id\u001b[39m\u001b[38;5;124m'\u001b[39m, \u001b[38;5;124m'\u001b[39m\u001b[38;5;124mstoretime\u001b[39m\u001b[38;5;124m'\u001b[39m, \u001b[38;5;124m'\u001b[39m\u001b[38;5;124mwarning\u001b[39m\u001b[38;5;124m'\u001b[39m])\n\u001b[1;32m      2\u001b[0m filtered_chartevents\u001b[38;5;241m.\u001b[39mhead()\n",
      "File \u001b[0;32m~/anaconda3/envs/capstone/lib/python3.12/site-packages/pandas/core/frame.py:5568\u001b[0m, in \u001b[0;36mDataFrame.drop\u001b[0;34m(self, labels, axis, index, columns, level, inplace, errors)\u001b[0m\n\u001b[1;32m   5420\u001b[0m \u001b[38;5;28;01mdef\u001b[39;00m \u001b[38;5;21mdrop\u001b[39m(\n\u001b[1;32m   5421\u001b[0m     \u001b[38;5;28mself\u001b[39m,\n\u001b[1;32m   5422\u001b[0m     labels: IndexLabel \u001b[38;5;241m|\u001b[39m \u001b[38;5;28;01mNone\u001b[39;00m \u001b[38;5;241m=\u001b[39m \u001b[38;5;28;01mNone\u001b[39;00m,\n\u001b[0;32m   (...)\u001b[0m\n\u001b[1;32m   5429\u001b[0m     errors: IgnoreRaise \u001b[38;5;241m=\u001b[39m \u001b[38;5;124m\"\u001b[39m\u001b[38;5;124mraise\u001b[39m\u001b[38;5;124m\"\u001b[39m,\n\u001b[1;32m   5430\u001b[0m ) \u001b[38;5;241m-\u001b[39m\u001b[38;5;241m>\u001b[39m DataFrame \u001b[38;5;241m|\u001b[39m \u001b[38;5;28;01mNone\u001b[39;00m:\n\u001b[1;32m   5431\u001b[0m \u001b[38;5;250m    \u001b[39m\u001b[38;5;124;03m\"\"\"\u001b[39;00m\n\u001b[1;32m   5432\u001b[0m \u001b[38;5;124;03m    Drop specified labels from rows or columns.\u001b[39;00m\n\u001b[1;32m   5433\u001b[0m \n\u001b[0;32m   (...)\u001b[0m\n\u001b[1;32m   5566\u001b[0m \u001b[38;5;124;03m            weight  1.0     0.8\u001b[39;00m\n\u001b[1;32m   5567\u001b[0m \u001b[38;5;124;03m    \"\"\"\u001b[39;00m\n\u001b[0;32m-> 5568\u001b[0m     \u001b[38;5;28;01mreturn\u001b[39;00m \u001b[38;5;28msuper\u001b[39m()\u001b[38;5;241m.\u001b[39mdrop(\n\u001b[1;32m   5569\u001b[0m         labels\u001b[38;5;241m=\u001b[39mlabels,\n\u001b[1;32m   5570\u001b[0m         axis\u001b[38;5;241m=\u001b[39maxis,\n\u001b[1;32m   5571\u001b[0m         index\u001b[38;5;241m=\u001b[39mindex,\n\u001b[1;32m   5572\u001b[0m         columns\u001b[38;5;241m=\u001b[39mcolumns,\n\u001b[1;32m   5573\u001b[0m         level\u001b[38;5;241m=\u001b[39mlevel,\n\u001b[1;32m   5574\u001b[0m         inplace\u001b[38;5;241m=\u001b[39minplace,\n\u001b[1;32m   5575\u001b[0m         errors\u001b[38;5;241m=\u001b[39merrors,\n\u001b[1;32m   5576\u001b[0m     )\n",
      "File \u001b[0;32m~/anaconda3/envs/capstone/lib/python3.12/site-packages/pandas/core/generic.py:4785\u001b[0m, in \u001b[0;36mNDFrame.drop\u001b[0;34m(self, labels, axis, index, columns, level, inplace, errors)\u001b[0m\n\u001b[1;32m   4783\u001b[0m \u001b[38;5;28;01mfor\u001b[39;00m axis, labels \u001b[38;5;129;01min\u001b[39;00m axes\u001b[38;5;241m.\u001b[39mitems():\n\u001b[1;32m   4784\u001b[0m     \u001b[38;5;28;01mif\u001b[39;00m labels \u001b[38;5;129;01mis\u001b[39;00m \u001b[38;5;129;01mnot\u001b[39;00m \u001b[38;5;28;01mNone\u001b[39;00m:\n\u001b[0;32m-> 4785\u001b[0m         obj \u001b[38;5;241m=\u001b[39m obj\u001b[38;5;241m.\u001b[39m_drop_axis(labels, axis, level\u001b[38;5;241m=\u001b[39mlevel, errors\u001b[38;5;241m=\u001b[39merrors)\n\u001b[1;32m   4787\u001b[0m \u001b[38;5;28;01mif\u001b[39;00m inplace:\n\u001b[1;32m   4788\u001b[0m     \u001b[38;5;28mself\u001b[39m\u001b[38;5;241m.\u001b[39m_update_inplace(obj)\n",
      "File \u001b[0;32m~/anaconda3/envs/capstone/lib/python3.12/site-packages/pandas/core/generic.py:4827\u001b[0m, in \u001b[0;36mNDFrame._drop_axis\u001b[0;34m(self, labels, axis, level, errors, only_slice)\u001b[0m\n\u001b[1;32m   4825\u001b[0m         new_axis \u001b[38;5;241m=\u001b[39m axis\u001b[38;5;241m.\u001b[39mdrop(labels, level\u001b[38;5;241m=\u001b[39mlevel, errors\u001b[38;5;241m=\u001b[39merrors)\n\u001b[1;32m   4826\u001b[0m     \u001b[38;5;28;01melse\u001b[39;00m:\n\u001b[0;32m-> 4827\u001b[0m         new_axis \u001b[38;5;241m=\u001b[39m axis\u001b[38;5;241m.\u001b[39mdrop(labels, errors\u001b[38;5;241m=\u001b[39merrors)\n\u001b[1;32m   4828\u001b[0m     indexer \u001b[38;5;241m=\u001b[39m axis\u001b[38;5;241m.\u001b[39mget_indexer(new_axis)\n\u001b[1;32m   4830\u001b[0m \u001b[38;5;66;03m# Case for non-unique axis\u001b[39;00m\n\u001b[1;32m   4831\u001b[0m \u001b[38;5;28;01melse\u001b[39;00m:\n",
      "File \u001b[0;32m~/anaconda3/envs/capstone/lib/python3.12/site-packages/pandas/core/indexes/base.py:7070\u001b[0m, in \u001b[0;36mIndex.drop\u001b[0;34m(self, labels, errors)\u001b[0m\n\u001b[1;32m   7068\u001b[0m \u001b[38;5;28;01mif\u001b[39;00m mask\u001b[38;5;241m.\u001b[39many():\n\u001b[1;32m   7069\u001b[0m     \u001b[38;5;28;01mif\u001b[39;00m errors \u001b[38;5;241m!=\u001b[39m \u001b[38;5;124m\"\u001b[39m\u001b[38;5;124mignore\u001b[39m\u001b[38;5;124m\"\u001b[39m:\n\u001b[0;32m-> 7070\u001b[0m         \u001b[38;5;28;01mraise\u001b[39;00m \u001b[38;5;167;01mKeyError\u001b[39;00m(\u001b[38;5;124mf\u001b[39m\u001b[38;5;124m\"\u001b[39m\u001b[38;5;132;01m{\u001b[39;00mlabels[mask]\u001b[38;5;241m.\u001b[39mtolist()\u001b[38;5;132;01m}\u001b[39;00m\u001b[38;5;124m not found in axis\u001b[39m\u001b[38;5;124m\"\u001b[39m)\n\u001b[1;32m   7071\u001b[0m     indexer \u001b[38;5;241m=\u001b[39m indexer[\u001b[38;5;241m~\u001b[39mmask]\n\u001b[1;32m   7072\u001b[0m \u001b[38;5;28;01mreturn\u001b[39;00m \u001b[38;5;28mself\u001b[39m\u001b[38;5;241m.\u001b[39mdelete(indexer)\n",
      "\u001b[0;31mKeyError\u001b[0m: \"['caregiver_id', 'storetime', 'warning'] not found in axis\""
     ]
    }
   ],
   "source": [
    "filtered_chartevents = filtered_chartevents.drop(columns=['caregiver_id', 'storetime', 'warning'])\n",
    "filtered_chartevents.head()"
   ]
  },
  {
   "cell_type": "code",
   "execution_count": 62,
   "id": "99d6f170-3a21-4f1c-b928-e8702699e2b0",
   "metadata": {},
   "outputs": [
    {
     "name": "stdout",
     "output_type": "stream",
     "text": [
      "DataFrame has been saved as dataframes/icu_chartevents.csv\n"
     ]
    }
   ],
   "source": [
    "save_df_as_csv(filtered_chartevents, 'icu_chartevents.csv')"
   ]
  },
  {
   "cell_type": "markdown",
   "id": "e9b2bccf-b864-4752-a3b5-ce4a1b574cef",
   "metadata": {},
   "source": [
    "### datetimeevents\n",
    "- also needs filtering on itemid"
   ]
  },
  {
   "cell_type": "code",
   "execution_count": 45,
   "id": "91556eea-3a79-4629-986b-674bf8597308",
   "metadata": {},
   "outputs": [
    {
     "name": "stdout",
     "output_type": "stream",
     "text": [
      "Connected to db: smcdougall\n",
      "(0, 10)\n"
     ]
    },
    {
     "data": {
      "text/html": [
       "<div>\n",
       "<style scoped>\n",
       "    .dataframe tbody tr th:only-of-type {\n",
       "        vertical-align: middle;\n",
       "    }\n",
       "\n",
       "    .dataframe tbody tr th {\n",
       "        vertical-align: top;\n",
       "    }\n",
       "\n",
       "    .dataframe thead th {\n",
       "        text-align: right;\n",
       "    }\n",
       "</style>\n",
       "<table border=\"1\" class=\"dataframe\">\n",
       "  <thead>\n",
       "    <tr style=\"text-align: right;\">\n",
       "      <th></th>\n",
       "      <th>subject_id</th>\n",
       "      <th>hadm_id</th>\n",
       "      <th>stay_id</th>\n",
       "      <th>caregiver_id</th>\n",
       "      <th>charttime</th>\n",
       "      <th>storetime</th>\n",
       "      <th>itemid</th>\n",
       "      <th>value</th>\n",
       "      <th>valueuom</th>\n",
       "      <th>warning</th>\n",
       "    </tr>\n",
       "  </thead>\n",
       "  <tbody>\n",
       "  </tbody>\n",
       "</table>\n",
       "</div>"
      ],
      "text/plain": [
       "Empty DataFrame\n",
       "Columns: [subject_id, hadm_id, stay_id, caregiver_id, charttime, storetime, itemid, value, valueuom, warning]\n",
       "Index: []"
      ]
     },
     "execution_count": 45,
     "metadata": {},
     "output_type": "execute_result"
    }
   ],
   "source": [
    "connection = connect_to_postgres(DB_NAME, USERNAME, PASSWORD, HOST, PORT)\n",
    "filtered_dateevents = filter_vital_signs_table(connection, 'mimiciv_icu.filtered_datetimeevents', relevant_item_ids)\n",
    "print(filtered_dateevents.shape)\n",
    "filtered_dateevents.head()"
   ]
  },
  {
   "cell_type": "markdown",
   "id": "44a85db0-9167-4d5b-b2c1-ab4b3348e4c0",
   "metadata": {},
   "source": [
    "Consensus - do not include datetimeevents table - also looking at the itemid mapping from MIMIC-Extract, a lot of the datetime events are not specific to our pregnancy study and (based on my subjective opinion) would not yield substantial results. Examples of datetime events include: cap change, tubing change, catheter change, catheter dressing change"
   ]
  },
  {
   "cell_type": "markdown",
   "id": "f5cdb165-d292-498f-abad-bb864050b46a",
   "metadata": {},
   "source": [
    "### inputevents\n",
    "- MIMIC extract - has inputevents listed in `itemid_to_variable` map\n",
    "- same with outputevents"
   ]
  },
  {
   "cell_type": "code",
   "execution_count": 48,
   "id": "582b08a4-38af-439e-ab1a-f419124a88a8",
   "metadata": {
    "scrolled": true
   },
   "outputs": [
    {
     "name": "stdout",
     "output_type": "stream",
     "text": [
      "Connected to db: smcdougall\n",
      "(0, 26)\n"
     ]
    },
    {
     "data": {
      "text/html": [
       "<div>\n",
       "<style scoped>\n",
       "    .dataframe tbody tr th:only-of-type {\n",
       "        vertical-align: middle;\n",
       "    }\n",
       "\n",
       "    .dataframe tbody tr th {\n",
       "        vertical-align: top;\n",
       "    }\n",
       "\n",
       "    .dataframe thead th {\n",
       "        text-align: right;\n",
       "    }\n",
       "</style>\n",
       "<table border=\"1\" class=\"dataframe\">\n",
       "  <thead>\n",
       "    <tr style=\"text-align: right;\">\n",
       "      <th></th>\n",
       "      <th>subject_id</th>\n",
       "      <th>hadm_id</th>\n",
       "      <th>stay_id</th>\n",
       "      <th>caregiver_id</th>\n",
       "      <th>starttime</th>\n",
       "      <th>endtime</th>\n",
       "      <th>storetime</th>\n",
       "      <th>itemid</th>\n",
       "      <th>amount</th>\n",
       "      <th>amountuom</th>\n",
       "      <th>...</th>\n",
       "      <th>ordercomponenttypedescription</th>\n",
       "      <th>ordercategorydescription</th>\n",
       "      <th>patientweight</th>\n",
       "      <th>totalamount</th>\n",
       "      <th>totalamountuom</th>\n",
       "      <th>isopenbag</th>\n",
       "      <th>continueinnextdept</th>\n",
       "      <th>statusdescription</th>\n",
       "      <th>originalamount</th>\n",
       "      <th>originalrate</th>\n",
       "    </tr>\n",
       "  </thead>\n",
       "  <tbody>\n",
       "  </tbody>\n",
       "</table>\n",
       "<p>0 rows × 26 columns</p>\n",
       "</div>"
      ],
      "text/plain": [
       "Empty DataFrame\n",
       "Columns: [subject_id, hadm_id, stay_id, caregiver_id, starttime, endtime, storetime, itemid, amount, amountuom, rate, rateuom, orderid, linkorderid, ordercategoryname, secondaryordercategoryname, ordercomponenttypedescription, ordercategorydescription, patientweight, totalamount, totalamountuom, isopenbag, continueinnextdept, statusdescription, originalamount, originalrate]\n",
       "Index: []\n",
       "\n",
       "[0 rows x 26 columns]"
      ]
     },
     "execution_count": 48,
     "metadata": {},
     "output_type": "execute_result"
    }
   ],
   "source": [
    "connection = connect_to_postgres(DB_NAME, USERNAME, PASSWORD, HOST, PORT)\n",
    "filtered_inputevents = filter_vital_signs_table(connection, 'mimiciv_icu.filtered_inputevents', relevant_item_ids)\n",
    "print(filtered_inputevents.shape)\n",
    "filtered_inputevents.head()"
   ]
  },
  {
   "cell_type": "markdown",
   "id": "a22a1858-9273-4bfe-a59b-70dc54939887",
   "metadata": {},
   "source": [
    "Same consensus as datetimevents - no results. The MIMIC-Extract mapping shows the following examples of inputevents: insulin drop, vitamin K, magnesium, IV Fluid. For a first pass at the model, so not include this table."
   ]
  },
  {
   "cell_type": "markdown",
   "id": "5edecc81-0b93-4fa5-a123-33b5cefaff02",
   "metadata": {},
   "source": [
    "### outputevents"
   ]
  },
  {
   "cell_type": "code",
   "execution_count": 49,
   "id": "89351172-f36f-4030-8bd5-8a2c55c61867",
   "metadata": {},
   "outputs": [
    {
     "name": "stdout",
     "output_type": "stream",
     "text": [
      "Connected to db: smcdougall\n",
      "(338, 9)\n"
     ]
    },
    {
     "data": {
      "text/html": [
       "<div>\n",
       "<style scoped>\n",
       "    .dataframe tbody tr th:only-of-type {\n",
       "        vertical-align: middle;\n",
       "    }\n",
       "\n",
       "    .dataframe tbody tr th {\n",
       "        vertical-align: top;\n",
       "    }\n",
       "\n",
       "    .dataframe thead th {\n",
       "        text-align: right;\n",
       "    }\n",
       "</style>\n",
       "<table border=\"1\" class=\"dataframe\">\n",
       "  <thead>\n",
       "    <tr style=\"text-align: right;\">\n",
       "      <th></th>\n",
       "      <th>subject_id</th>\n",
       "      <th>hadm_id</th>\n",
       "      <th>stay_id</th>\n",
       "      <th>caregiver_id</th>\n",
       "      <th>charttime</th>\n",
       "      <th>storetime</th>\n",
       "      <th>itemid</th>\n",
       "      <th>value</th>\n",
       "      <th>valueuom</th>\n",
       "    </tr>\n",
       "  </thead>\n",
       "  <tbody>\n",
       "    <tr>\n",
       "      <th>0</th>\n",
       "      <td>10553084</td>\n",
       "      <td>28481755</td>\n",
       "      <td>35401987</td>\n",
       "      <td>72655</td>\n",
       "      <td>2199-10-17 20:06:00</td>\n",
       "      <td>2199-10-18 00:06:00</td>\n",
       "      <td>226590</td>\n",
       "      <td>400.0</td>\n",
       "      <td>ml</td>\n",
       "    </tr>\n",
       "    <tr>\n",
       "      <th>1</th>\n",
       "      <td>10553084</td>\n",
       "      <td>28481755</td>\n",
       "      <td>35401987</td>\n",
       "      <td>72655</td>\n",
       "      <td>2199-10-17 22:00:00</td>\n",
       "      <td>2199-10-18 05:08:00</td>\n",
       "      <td>226590</td>\n",
       "      <td>450.0</td>\n",
       "      <td>ml</td>\n",
       "    </tr>\n",
       "    <tr>\n",
       "      <th>2</th>\n",
       "      <td>10553084</td>\n",
       "      <td>28481755</td>\n",
       "      <td>35401987</td>\n",
       "      <td>72655</td>\n",
       "      <td>2199-10-18 04:00:00</td>\n",
       "      <td>2199-10-18 05:08:00</td>\n",
       "      <td>226590</td>\n",
       "      <td>50.0</td>\n",
       "      <td>ml</td>\n",
       "    </tr>\n",
       "    <tr>\n",
       "      <th>3</th>\n",
       "      <td>10553084</td>\n",
       "      <td>28481755</td>\n",
       "      <td>35401987</td>\n",
       "      <td>72655</td>\n",
       "      <td>2199-10-18 06:00:00</td>\n",
       "      <td>2199-10-18 06:41:00</td>\n",
       "      <td>226590</td>\n",
       "      <td>100.0</td>\n",
       "      <td>ml</td>\n",
       "    </tr>\n",
       "    <tr>\n",
       "      <th>4</th>\n",
       "      <td>10553084</td>\n",
       "      <td>28481755</td>\n",
       "      <td>35401987</td>\n",
       "      <td>72687</td>\n",
       "      <td>2199-10-18 12:00:00</td>\n",
       "      <td>2199-10-18 12:50:00</td>\n",
       "      <td>226590</td>\n",
       "      <td>100.0</td>\n",
       "      <td>ml</td>\n",
       "    </tr>\n",
       "  </tbody>\n",
       "</table>\n",
       "</div>"
      ],
      "text/plain": [
       "   subject_id   hadm_id   stay_id  caregiver_id           charttime  \\\n",
       "0    10553084  28481755  35401987         72655 2199-10-17 20:06:00   \n",
       "1    10553084  28481755  35401987         72655 2199-10-17 22:00:00   \n",
       "2    10553084  28481755  35401987         72655 2199-10-18 04:00:00   \n",
       "3    10553084  28481755  35401987         72655 2199-10-18 06:00:00   \n",
       "4    10553084  28481755  35401987         72687 2199-10-18 12:00:00   \n",
       "\n",
       "            storetime  itemid  value valueuom  \n",
       "0 2199-10-18 00:06:00  226590  400.0       ml  \n",
       "1 2199-10-18 05:08:00  226590  450.0       ml  \n",
       "2 2199-10-18 05:08:00  226590   50.0       ml  \n",
       "3 2199-10-18 06:41:00  226590  100.0       ml  \n",
       "4 2199-10-18 12:50:00  226590  100.0       ml  "
      ]
     },
     "execution_count": 49,
     "metadata": {},
     "output_type": "execute_result"
    }
   ],
   "source": [
    "connection = connect_to_postgres(DB_NAME, USERNAME, PASSWORD, HOST, PORT)\n",
    "filtered_outputevents = filter_vital_signs_table(connection, 'mimiciv_icu.filtered_outputevents', relevant_item_ids)\n",
    "print(filtered_outputevents.shape)\n",
    "filtered_outputevents.head()"
   ]
  },
  {
   "cell_type": "code",
   "execution_count": 51,
   "id": "e134c4cb-9a3e-47cb-aaf8-531f18ce1239",
   "metadata": {},
   "outputs": [
    {
     "data": {
      "text/plain": [
       "25"
      ]
     },
     "execution_count": 51,
     "metadata": {},
     "output_type": "execute_result"
    }
   ],
   "source": [
    "filtered_outputevents['subject_id'].nunique()"
   ]
  },
  {
   "cell_type": "code",
   "execution_count": 52,
   "id": "231a6813-b125-4712-8228-0d22f1a53ab0",
   "metadata": {},
   "outputs": [
    {
     "data": {
      "text/plain": [
       "1"
      ]
     },
     "execution_count": 52,
     "metadata": {},
     "output_type": "execute_result"
    }
   ],
   "source": [
    "filtered_outputevents['itemid'].nunique()"
   ]
  },
  {
   "cell_type": "code",
   "execution_count": 53,
   "id": "d239a81f-8e30-466d-968d-e62456779544",
   "metadata": {},
   "outputs": [
    {
     "data": {
      "text/html": [
       "<div>\n",
       "<style scoped>\n",
       "    .dataframe tbody tr th:only-of-type {\n",
       "        vertical-align: middle;\n",
       "    }\n",
       "\n",
       "    .dataframe tbody tr th {\n",
       "        vertical-align: top;\n",
       "    }\n",
       "\n",
       "    .dataframe thead th {\n",
       "        text-align: right;\n",
       "    }\n",
       "</style>\n",
       "<table border=\"1\" class=\"dataframe\">\n",
       "  <thead>\n",
       "    <tr style=\"text-align: right;\">\n",
       "      <th></th>\n",
       "      <th>itemid</th>\n",
       "      <th>label</th>\n",
       "    </tr>\n",
       "  </thead>\n",
       "  <tbody>\n",
       "    <tr>\n",
       "      <th>1901</th>\n",
       "      <td>226590</td>\n",
       "      <td>L Pleural #1</td>\n",
       "    </tr>\n",
       "  </tbody>\n",
       "</table>\n",
       "</div>"
      ],
      "text/plain": [
       "      itemid         label\n",
       "1901  226590  L Pleural #1"
      ]
     },
     "execution_count": 53,
     "metadata": {},
     "output_type": "execute_result"
    }
   ],
   "source": [
    "item_df[item_df['itemid'] == 226590]"
   ]
  },
  {
   "cell_type": "code",
   "execution_count": 56,
   "id": "f8b75e63-f0d0-45a5-9640-d3bc7cd64122",
   "metadata": {},
   "outputs": [],
   "source": [
    "filtered_outputevents = filtered_outputevents.drop(columns=['caregiver_id', 'storetime'])"
   ]
  },
  {
   "cell_type": "code",
   "execution_count": 162,
   "id": "4b8b39f0-7bbe-4120-87a6-91f92f0fd114",
   "metadata": {},
   "outputs": [
    {
     "name": "stdout",
     "output_type": "stream",
     "text": [
      "DataFrame has been saved as dataframes/icu_outputevents.csv\n"
     ]
    }
   ],
   "source": [
    "save_df_as_csv(filtered_outputevents, 'icu_outputevents.csv')"
   ]
  },
  {
   "cell_type": "markdown",
   "id": "29069df7-ab58-40ee-a8b6-c95a4a16bd99",
   "metadata": {},
   "source": [
    "We could decide to include this in the final table... only tracks a single item - L Pleural #1"
   ]
  },
  {
   "cell_type": "markdown",
   "id": "1efb39aa-9921-4a46-88bd-ce556368ce36",
   "metadata": {},
   "source": [
    "# OMR Table Preprocessing"
   ]
  },
  {
   "cell_type": "code",
   "execution_count": 217,
   "id": "0d7ecc97-6d6d-4ca9-80e4-1e148ef680e7",
   "metadata": {},
   "outputs": [],
   "source": [
    "def load_omr_table(connection):\n",
    "    cur = connection.cursor()\n",
    "    cur.execute(\"\"\"\n",
    "        SELECT *\n",
    "        FROM \"mimiciv_hosp.filtered_omr\"\n",
    "    \"\"\")\n",
    "    rows = cur.fetchall()\n",
    "    cur.close()\n",
    "    df = pd.DataFrame(rows, columns=[\"subject_id\", \"chartdate\", \"seq_num\", \"result_name\", \"result_value\"])\n",
    "    return df"
   ]
  },
  {
   "cell_type": "code",
   "execution_count": 218,
   "id": "51d52e2b-0b8d-4967-a889-4efb36d62db0",
   "metadata": {},
   "outputs": [
    {
     "name": "stdout",
     "output_type": "stream",
     "text": [
      "Connected to db: smcdougall\n"
     ]
    },
    {
     "data": {
      "text/html": [
       "<div>\n",
       "<style scoped>\n",
       "    .dataframe tbody tr th:only-of-type {\n",
       "        vertical-align: middle;\n",
       "    }\n",
       "\n",
       "    .dataframe tbody tr th {\n",
       "        vertical-align: top;\n",
       "    }\n",
       "\n",
       "    .dataframe thead th {\n",
       "        text-align: right;\n",
       "    }\n",
       "</style>\n",
       "<table border=\"1\" class=\"dataframe\">\n",
       "  <thead>\n",
       "    <tr style=\"text-align: right;\">\n",
       "      <th></th>\n",
       "      <th>subject_id</th>\n",
       "      <th>chartdate</th>\n",
       "      <th>seq_num</th>\n",
       "      <th>result_name</th>\n",
       "      <th>result_value</th>\n",
       "    </tr>\n",
       "  </thead>\n",
       "  <tbody>\n",
       "    <tr>\n",
       "      <th>0</th>\n",
       "      <td>10000719</td>\n",
       "      <td>2140-11-14</td>\n",
       "      <td>1</td>\n",
       "      <td>Blood Pressure</td>\n",
       "      <td>144/88</td>\n",
       "    </tr>\n",
       "    <tr>\n",
       "      <th>1</th>\n",
       "      <td>10000719</td>\n",
       "      <td>2140-11-14</td>\n",
       "      <td>1</td>\n",
       "      <td>BMI (kg/m2)</td>\n",
       "      <td>37.0</td>\n",
       "    </tr>\n",
       "    <tr>\n",
       "      <th>2</th>\n",
       "      <td>10000719</td>\n",
       "      <td>2140-11-14</td>\n",
       "      <td>1</td>\n",
       "      <td>Height (Inches)</td>\n",
       "      <td>67</td>\n",
       "    </tr>\n",
       "    <tr>\n",
       "      <th>3</th>\n",
       "      <td>10000719</td>\n",
       "      <td>2140-11-14</td>\n",
       "      <td>1</td>\n",
       "      <td>Weight (Lbs)</td>\n",
       "      <td>236</td>\n",
       "    </tr>\n",
       "    <tr>\n",
       "      <th>4</th>\n",
       "      <td>10001472</td>\n",
       "      <td>2185-10-13</td>\n",
       "      <td>1</td>\n",
       "      <td>Blood Pressure</td>\n",
       "      <td>130/72</td>\n",
       "    </tr>\n",
       "  </tbody>\n",
       "</table>\n",
       "</div>"
      ],
      "text/plain": [
       "   subject_id   chartdate  seq_num      result_name result_value\n",
       "0    10000719  2140-11-14        1   Blood Pressure       144/88\n",
       "1    10000719  2140-11-14        1      BMI (kg/m2)         37.0\n",
       "2    10000719  2140-11-14        1  Height (Inches)           67\n",
       "3    10000719  2140-11-14        1     Weight (Lbs)          236\n",
       "4    10001472  2185-10-13        1   Blood Pressure       130/72"
      ]
     },
     "execution_count": 218,
     "metadata": {},
     "output_type": "execute_result"
    }
   ],
   "source": [
    "connection = connect_to_postgres(DB_NAME, USERNAME, PASSWORD, HOST, PORT)\n",
    "omr_df = load_omr_table(connection)\n",
    "omr_df.head()"
   ]
  },
  {
   "cell_type": "code",
   "execution_count": 219,
   "id": "f6ec383d-34ed-48a6-9064-f525027a6fcf",
   "metadata": {},
   "outputs": [
    {
     "data": {
      "text/plain": [
       "result_name\n",
       "Blood Pressure                      339041\n",
       "Weight (Lbs)                        307525\n",
       "BMI (kg/m2)                         253243\n",
       "Height (Inches)                      77958\n",
       "Blood Pressure Sitting                 276\n",
       "Blood Pressure Lying                   242\n",
       "Blood Pressure Standing (1 min)        230\n",
       "BMI                                     71\n",
       "Blood Pressure Standing (3 mins)        58\n",
       "Weight                                  45\n",
       "Blood Pressure Standing                 42\n",
       "eGFR                                    24\n",
       "Height                                   1\n",
       "Name: count, dtype: int64"
      ]
     },
     "execution_count": 219,
     "metadata": {},
     "output_type": "execute_result"
    }
   ],
   "source": [
    "omr_df['result_name'].value_counts()"
   ]
  },
  {
   "cell_type": "markdown",
   "id": "fe88d246-f77f-41f4-9908-1b800300b113",
   "metadata": {},
   "source": [
    "Relevant values to keep:\n",
    "- Blood Pressure\n",
    "- Weight (Lbs)\n",
    "- BMI (kg/m2)\n",
    "- BMI\n",
    "- Weight\n",
    "\n",
    "Rename \"Weight\" to \"Weight (Lbs)\" and \"BMI\" to \"BMI (kg/m2)\""
   ]
  },
  {
   "cell_type": "code",
   "execution_count": 220,
   "id": "fcd09470-b0a8-4db3-ab5c-cb0253924253",
   "metadata": {},
   "outputs": [
    {
     "data": {
      "text/plain": [
       "result_name\n",
       "Blood Pressure                      339041\n",
       "Weight (Lbs)                        307570\n",
       "BMI (kg/m2)                         253314\n",
       "Height (Inches)                      77958\n",
       "Blood Pressure Sitting                 276\n",
       "Blood Pressure Lying                   242\n",
       "Blood Pressure Standing (1 min)        230\n",
       "Blood Pressure Standing (3 mins)        58\n",
       "Blood Pressure Standing                 42\n",
       "eGFR                                    24\n",
       "Height                                   1\n",
       "Name: count, dtype: int64"
      ]
     },
     "execution_count": 220,
     "metadata": {},
     "output_type": "execute_result"
    }
   ],
   "source": [
    "omr_df['result_name'] = omr_df['result_name'].replace('BMI', 'BMI (kg/m2)')\n",
    "omr_df['result_name'] = omr_df['result_name'].replace('Weight', 'Weight (Lbs)')\n",
    "omr_df['result_name'].value_counts()"
   ]
  },
  {
   "cell_type": "code",
   "execution_count": 221,
   "id": "21328dc5-92b0-40b7-a8b6-d7818c825162",
   "metadata": {},
   "outputs": [
    {
     "name": "stdout",
     "output_type": "stream",
     "text": [
      "978756\n",
      "899925\n"
     ]
    }
   ],
   "source": [
    "print(len(omr_df))\n",
    "relevant_result_names = ['Blood Pressure', 'Weight (Lbs)', 'BMI (kg/m2)']\n",
    "filtered_omr_df = omr_df[omr_df['result_name'].isin(relevant_result_names)]\n",
    "print(len(filtered_omr_df))"
   ]
  },
  {
   "cell_type": "code",
   "execution_count": 222,
   "id": "ab9ac145-989e-4022-b11b-ef9af398036e",
   "metadata": {},
   "outputs": [
    {
     "name": "stdout",
     "output_type": "stream",
     "text": [
      "DataFrame has been saved as dataframes/hosp_omr.csv\n"
     ]
    }
   ],
   "source": [
    "save_df_as_csv(filtered_omr_df, 'hosp_omr.csv')"
   ]
  },
  {
   "cell_type": "markdown",
   "id": "728cf73d-1a10-4408-930c-3259297f403e",
   "metadata": {},
   "source": [
    "## Services Table"
   ]
  },
  {
   "cell_type": "code",
   "execution_count": 71,
   "id": "a38cd0c6-b742-4196-9459-f20656179154",
   "metadata": {},
   "outputs": [],
   "source": [
    "def load_services_table(connection):\n",
    "    cur = connection.cursor()\n",
    "    cur.execute(\"\"\"\n",
    "        SELECT *\n",
    "        FROM \"mimiciv_hosp.filtered_services\"\n",
    "    \"\"\")\n",
    "    rows = cur.fetchall()\n",
    "    cur.close()\n",
    "    df = pd.DataFrame(rows, columns=[\"subject_id\", \"hadm_id\", \"transfertime\", \"prev service\", \"curr_service\"])\n",
    "    return df"
   ]
  },
  {
   "cell_type": "code",
   "execution_count": 72,
   "id": "554902a1-6b62-446c-abdc-6cc1af82714f",
   "metadata": {},
   "outputs": [
    {
     "name": "stdout",
     "output_type": "stream",
     "text": [
      "Connected to db: smcdougall\n"
     ]
    },
    {
     "data": {
      "text/html": [
       "<div>\n",
       "<style scoped>\n",
       "    .dataframe tbody tr th:only-of-type {\n",
       "        vertical-align: middle;\n",
       "    }\n",
       "\n",
       "    .dataframe tbody tr th {\n",
       "        vertical-align: top;\n",
       "    }\n",
       "\n",
       "    .dataframe thead th {\n",
       "        text-align: right;\n",
       "    }\n",
       "</style>\n",
       "<table border=\"1\" class=\"dataframe\">\n",
       "  <thead>\n",
       "    <tr style=\"text-align: right;\">\n",
       "      <th></th>\n",
       "      <th>subject_id</th>\n",
       "      <th>hadm_id</th>\n",
       "      <th>transfertime</th>\n",
       "      <th>prev service</th>\n",
       "      <th>curr_service</th>\n",
       "    </tr>\n",
       "  </thead>\n",
       "  <tbody>\n",
       "    <tr>\n",
       "      <th>0</th>\n",
       "      <td>10000719</td>\n",
       "      <td>24558333</td>\n",
       "      <td>2140-04-15 00:15:12</td>\n",
       "      <td>None</td>\n",
       "      <td>OBS</td>\n",
       "    </tr>\n",
       "    <tr>\n",
       "      <th>1</th>\n",
       "      <td>10001319</td>\n",
       "      <td>23005466</td>\n",
       "      <td>2135-07-20 03:53:25</td>\n",
       "      <td>None</td>\n",
       "      <td>OBS</td>\n",
       "    </tr>\n",
       "    <tr>\n",
       "      <th>2</th>\n",
       "      <td>10001319</td>\n",
       "      <td>24591241</td>\n",
       "      <td>2138-11-09 20:30:59</td>\n",
       "      <td>None</td>\n",
       "      <td>OBS</td>\n",
       "    </tr>\n",
       "    <tr>\n",
       "      <th>3</th>\n",
       "      <td>10001319</td>\n",
       "      <td>29230609</td>\n",
       "      <td>2134-04-15 08:01:20</td>\n",
       "      <td>None</td>\n",
       "      <td>OBS</td>\n",
       "    </tr>\n",
       "    <tr>\n",
       "      <th>4</th>\n",
       "      <td>10001472</td>\n",
       "      <td>23506139</td>\n",
       "      <td>2186-01-10 00:26:41</td>\n",
       "      <td>None</td>\n",
       "      <td>OBS</td>\n",
       "    </tr>\n",
       "  </tbody>\n",
       "</table>\n",
       "</div>"
      ],
      "text/plain": [
       "   subject_id   hadm_id        transfertime prev service curr_service\n",
       "0    10000719  24558333 2140-04-15 00:15:12         None          OBS\n",
       "1    10001319  23005466 2135-07-20 03:53:25         None          OBS\n",
       "2    10001319  24591241 2138-11-09 20:30:59         None          OBS\n",
       "3    10001319  29230609 2134-04-15 08:01:20         None          OBS\n",
       "4    10001472  23506139 2186-01-10 00:26:41         None          OBS"
      ]
     },
     "execution_count": 72,
     "metadata": {},
     "output_type": "execute_result"
    }
   ],
   "source": [
    "connection = connect_to_postgres(DB_NAME, USERNAME, PASSWORD, HOST, PORT)\n",
    "services_df = load_services_table(connection)\n",
    "services_df.head()"
   ]
  },
  {
   "cell_type": "code",
   "execution_count": 73,
   "id": "53a7f8fb-8d48-4171-af7d-5256fdfae485",
   "metadata": {},
   "outputs": [
    {
     "data": {
      "text/plain": [
       "subject_id          0\n",
       "hadm_id             0\n",
       "transfertime        0\n",
       "prev service    56712\n",
       "curr_service        0\n",
       "dtype: int64"
      ]
     },
     "execution_count": 73,
     "metadata": {},
     "output_type": "execute_result"
    }
   ],
   "source": [
    "services_df.isna().sum()"
   ]
  },
  {
   "cell_type": "code",
   "execution_count": 74,
   "id": "ef5314b9-ba9c-4937-afc8-3e49794f22aa",
   "metadata": {},
   "outputs": [
    {
     "data": {
      "text/plain": [
       "(60107, 5)"
      ]
     },
     "execution_count": 74,
     "metadata": {},
     "output_type": "execute_result"
    }
   ],
   "source": [
    "services_df.shape"
   ]
  },
  {
   "cell_type": "code",
   "execution_count": 75,
   "id": "27822090-f335-4429-9376-075f4a468b5b",
   "metadata": {},
   "outputs": [
    {
     "data": {
      "text/plain": [
       "curr_service\n",
       "MED      24983\n",
       "OBS      19239\n",
       "SURG      4130\n",
       "OMED      3030\n",
       "CMED      2325\n",
       "GYN       1652\n",
       "ORTHO     1006\n",
       "NMED       959\n",
       "VSURG      848\n",
       "PSYCH      371\n",
       "PSURG      335\n",
       "NSURG      326\n",
       "TRAUM      252\n",
       "CSURG      236\n",
       "TSURG      194\n",
       "GU         165\n",
       "ENT         54\n",
       "EYE          1\n",
       "DENT         1\n",
       "Name: count, dtype: int64"
      ]
     },
     "execution_count": 75,
     "metadata": {},
     "output_type": "execute_result"
    }
   ],
   "source": [
    "services_df['curr_service'].value_counts()"
   ]
  },
  {
   "cell_type": "code",
   "execution_count": 76,
   "id": "8292c5bf-0980-4e9c-b188-e411bec7a7f1",
   "metadata": {},
   "outputs": [
    {
     "data": {
      "text/plain": [
       "prev service\n",
       "MED      1571\n",
       "SURG      404\n",
       "OMED      313\n",
       "CMED      224\n",
       "OBS       209\n",
       "GYN       160\n",
       "ORTHO     141\n",
       "NMED      104\n",
       "VSURG      65\n",
       "NSURG      48\n",
       "TRAUM      46\n",
       "TSURG      33\n",
       "CSURG      31\n",
       "PSURG      22\n",
       "GU         15\n",
       "ENT         8\n",
       "EYE         1\n",
       "Name: count, dtype: int64"
      ]
     },
     "execution_count": 76,
     "metadata": {},
     "output_type": "execute_result"
    }
   ],
   "source": [
    "services_df['prev service'].value_counts()"
   ]
  },
  {
   "cell_type": "markdown",
   "id": "635cca47-4425-4960-a078-e59c3b0b5bf1",
   "metadata": {},
   "source": [
    "There are so many different categories - see if we can narrow them down at all\n",
    "- Previous service is null for so many of them - can make binary for whether patient came from another service or not\n",
    "- We can make the assumption that if previous service is null, there really is no previous service -- so make it it's own categorical variable"
   ]
  },
  {
   "cell_type": "code",
   "execution_count": 77,
   "id": "e680ec61-fe7d-49f1-9bc2-ae96fdd9ab2b",
   "metadata": {},
   "outputs": [],
   "source": [
    "services_df = services_df.fillna('None')"
   ]
  },
  {
   "cell_type": "code",
   "execution_count": 78,
   "id": "c40e28b0-cea2-4cdb-afde-6f44aa431745",
   "metadata": {},
   "outputs": [
    {
     "name": "stdout",
     "output_type": "stream",
     "text": [
      "DataFrame has been saved as dataframes/hosp_services.csv\n"
     ]
    }
   ],
   "source": [
    "save_df_as_csv(services_df, 'hosp_services.csv')"
   ]
  },
  {
   "cell_type": "markdown",
   "id": "08b4d24a-3b8d-4ab2-b9b5-fee3779b9e15",
   "metadata": {},
   "source": [
    "## Transfers"
   ]
  },
  {
   "cell_type": "code",
   "execution_count": 79,
   "id": "04b6a5fb-29a0-4d5d-a0e3-7cc692181ad3",
   "metadata": {},
   "outputs": [],
   "source": [
    "def load_transfers_table(connection):\n",
    "    cur = connection.cursor()\n",
    "    cur.execute(\"\"\"\n",
    "        SELECT *\n",
    "        FROM \"mimiciv_hosp.filtered_transfers\"\n",
    "    \"\"\")\n",
    "    rows = cur.fetchall()\n",
    "    cur.close()\n",
    "    df = pd.DataFrame(rows, columns=[\"subject_id\", \"hadm_id\", \"transfer_id\", \"eventtype\", \"careunit\", \"intime\", \"outtime\"])\n",
    "    return df"
   ]
  },
  {
   "cell_type": "code",
   "execution_count": 80,
   "id": "9a63de8d-850d-4e1f-93b4-c71ff1190c69",
   "metadata": {},
   "outputs": [
    {
     "name": "stdout",
     "output_type": "stream",
     "text": [
      "Connected to db: smcdougall\n"
     ]
    },
    {
     "data": {
      "text/html": [
       "<div>\n",
       "<style scoped>\n",
       "    .dataframe tbody tr th:only-of-type {\n",
       "        vertical-align: middle;\n",
       "    }\n",
       "\n",
       "    .dataframe tbody tr th {\n",
       "        vertical-align: top;\n",
       "    }\n",
       "\n",
       "    .dataframe thead th {\n",
       "        text-align: right;\n",
       "    }\n",
       "</style>\n",
       "<table border=\"1\" class=\"dataframe\">\n",
       "  <thead>\n",
       "    <tr style=\"text-align: right;\">\n",
       "      <th></th>\n",
       "      <th>subject_id</th>\n",
       "      <th>hadm_id</th>\n",
       "      <th>transfer_id</th>\n",
       "      <th>eventtype</th>\n",
       "      <th>careunit</th>\n",
       "      <th>intime</th>\n",
       "      <th>outtime</th>\n",
       "    </tr>\n",
       "  </thead>\n",
       "  <tbody>\n",
       "    <tr>\n",
       "      <th>0</th>\n",
       "      <td>10000719</td>\n",
       "      <td>24558333.0</td>\n",
       "      <td>31719052</td>\n",
       "      <td>discharge</td>\n",
       "      <td>None</td>\n",
       "      <td>2140-04-18 12:41:26</td>\n",
       "      <td>NaT</td>\n",
       "    </tr>\n",
       "    <tr>\n",
       "      <th>1</th>\n",
       "      <td>10000719</td>\n",
       "      <td>24558333.0</td>\n",
       "      <td>32323060</td>\n",
       "      <td>admit</td>\n",
       "      <td>Labor &amp; Delivery</td>\n",
       "      <td>2140-04-15 00:15:12</td>\n",
       "      <td>2140-04-16 02:43:48</td>\n",
       "    </tr>\n",
       "    <tr>\n",
       "      <th>2</th>\n",
       "      <td>10000719</td>\n",
       "      <td>24558333.0</td>\n",
       "      <td>35042205</td>\n",
       "      <td>transfer</td>\n",
       "      <td>Obstetrics (Postpartum &amp; Antepartum)</td>\n",
       "      <td>2140-04-16 02:43:48</td>\n",
       "      <td>2140-04-18 12:41:26</td>\n",
       "    </tr>\n",
       "    <tr>\n",
       "      <th>3</th>\n",
       "      <td>10001319</td>\n",
       "      <td>23005466.0</td>\n",
       "      <td>32828864</td>\n",
       "      <td>admit</td>\n",
       "      <td>Labor &amp; Delivery</td>\n",
       "      <td>2135-07-20 03:53:25</td>\n",
       "      <td>2135-07-20 11:26:28</td>\n",
       "    </tr>\n",
       "    <tr>\n",
       "      <th>4</th>\n",
       "      <td>10001319</td>\n",
       "      <td>23005466.0</td>\n",
       "      <td>33014199</td>\n",
       "      <td>transfer</td>\n",
       "      <td>Obstetrics (Postpartum &amp; Antepartum)</td>\n",
       "      <td>2135-07-20 11:26:28</td>\n",
       "      <td>2135-07-22 11:44:16</td>\n",
       "    </tr>\n",
       "  </tbody>\n",
       "</table>\n",
       "</div>"
      ],
      "text/plain": [
       "   subject_id     hadm_id  transfer_id  eventtype  \\\n",
       "0    10000719  24558333.0     31719052  discharge   \n",
       "1    10000719  24558333.0     32323060      admit   \n",
       "2    10000719  24558333.0     35042205   transfer   \n",
       "3    10001319  23005466.0     32828864      admit   \n",
       "4    10001319  23005466.0     33014199   transfer   \n",
       "\n",
       "                               careunit              intime  \\\n",
       "0                                  None 2140-04-18 12:41:26   \n",
       "1                      Labor & Delivery 2140-04-15 00:15:12   \n",
       "2  Obstetrics (Postpartum & Antepartum) 2140-04-16 02:43:48   \n",
       "3                      Labor & Delivery 2135-07-20 03:53:25   \n",
       "4  Obstetrics (Postpartum & Antepartum) 2135-07-20 11:26:28   \n",
       "\n",
       "              outtime  \n",
       "0                 NaT  \n",
       "1 2140-04-16 02:43:48  \n",
       "2 2140-04-18 12:41:26  \n",
       "3 2135-07-20 11:26:28  \n",
       "4 2135-07-22 11:44:16  "
      ]
     },
     "execution_count": 80,
     "metadata": {},
     "output_type": "execute_result"
    }
   ],
   "source": [
    "connection = connect_to_postgres(DB_NAME, USERNAME, PASSWORD, HOST, PORT)\n",
    "transfers_df = load_transfers_table(connection)\n",
    "transfers_df.head()"
   ]
  },
  {
   "cell_type": "code",
   "execution_count": 81,
   "id": "75f1c5c0-0f0f-455c-9165-4739da91386e",
   "metadata": {},
   "outputs": [
    {
     "data": {
      "text/plain": [
       "subject_id         0\n",
       "hadm_id        32865\n",
       "transfer_id        0\n",
       "eventtype          0\n",
       "careunit       56822\n",
       "intime             0\n",
       "outtime        56821\n",
       "dtype: int64"
      ]
     },
     "execution_count": 81,
     "metadata": {},
     "output_type": "execute_result"
    }
   ],
   "source": [
    "transfers_df.isna().sum()"
   ]
  },
  {
   "cell_type": "code",
   "execution_count": 82,
   "id": "99fb8549-a392-4b49-9c91-48d623c4ab34",
   "metadata": {},
   "outputs": [
    {
     "data": {
      "text/plain": [
       "(234354, 7)"
      ]
     },
     "execution_count": 82,
     "metadata": {},
     "output_type": "execute_result"
    }
   ],
   "source": [
    "transfers_df.shape"
   ]
  },
  {
   "cell_type": "markdown",
   "id": "7e95cbd0-12d9-4cd4-bdfc-f31428e8aa71",
   "metadata": {},
   "source": [
    "### Some observations on the transfers table\n",
    "- `icustays` table is derived from the transfers table\n",
    "- the `stay_id` in `icustays` corresponds to the entire stay, and is **equal to the `transfer_id`** of the furst physical locaqtion\n",
    "- note: a stay could have multiple `transfer_id`'s for each physical location\n",
    "- `transfer_id` is unique to a patient physical location\n"
   ]
  },
  {
   "cell_type": "code",
   "execution_count": 83,
   "id": "afcd109f-cc81-41e9-b436-c15e1c2b0068",
   "metadata": {},
   "outputs": [
    {
     "data": {
      "text/plain": [
       "careunit\n",
       "Emergency Department                                63638\n",
       "Labor & Delivery                                    21649\n",
       "Medicine                                            19392\n",
       "Obstetrics (Postpartum & Antepartum)                15838\n",
       "Emergency Department Observation                     5706\n",
       "Med/Surg                                             5503\n",
       "Obstetrics Postpartum                                4275\n",
       "Hematology/Oncology                                  4018\n",
       "Discharge Lounge                                     3719\n",
       "Transplant                                           3665\n",
       "Med/Surg/GYN                                         3300\n",
       "Vascular                                             3030\n",
       "Medicine/Cardiology                                  2639\n",
       "Medical Intensive Care Unit (MICU)                   2222\n",
       "Neurology                                            1907\n",
       "Medical/Surgical Intensive Care Unit (MICU/SICU)     1860\n",
       "Med/Surg/Trauma                                      1678\n",
       "PACU                                                 1471\n",
       "Obstetrics Antepartum                                1425\n",
       "Medical/Surgical (Gynecology)                        1207\n",
       "Hematology/Oncology Intermediate                     1199\n",
       "Surgery/Trauma                                       1084\n",
       "Surgery                                               931\n",
       "Surgery/Pancreatic/Biliary/Bariatric                  907\n",
       "Surgical Intensive Care Unit (SICU)                   831\n",
       "Cardiac Surgery                                       621\n",
       "Psychiatry                                            611\n",
       "Coronary Care Unit (CCU)                              603\n",
       "Trauma SICU (TSICU)                                   514\n",
       "Cardiac Vascular Intensive Care Unit (CVICU)          474\n",
       "Medicine/Cardiology Intermediate                      465\n",
       "Observation                                           403\n",
       "Thoracic Surgery                                      298\n",
       "Cardiology                                            130\n",
       "Cardiology Surgery Intermediate                       112\n",
       "Neuro Intermediate                                     80\n",
       "Neuro Surgical Intensive Care Unit (Neuro SICU)        72\n",
       "Neuro Stepdown                                         48\n",
       "Unknown                                                 7\n",
       "Name: count, dtype: int64"
      ]
     },
     "execution_count": 83,
     "metadata": {},
     "output_type": "execute_result"
    }
   ],
   "source": [
    "transfers_df['careunit'].value_counts()"
   ]
  },
  {
   "cell_type": "code",
   "execution_count": 84,
   "id": "3a89940c-df49-4bb6-ad93-42a93338ad93",
   "metadata": {},
   "outputs": [
    {
     "data": {
      "text/plain": [
       "array([None, 'Labor & Delivery', 'Obstetrics (Postpartum & Antepartum)',\n",
       "       'Emergency Department', 'Emergency Department Observation',\n",
       "       'Medicine', 'Med/Surg', 'Medicine/Cardiology', 'Transplant',\n",
       "       'Medical Intensive Care Unit (MICU)', 'Vascular',\n",
       "       'Discharge Lounge', 'Obstetrics Postpartum',\n",
       "       'Surgical Intensive Care Unit (SICU)', 'Med/Surg/GYN', 'Neurology',\n",
       "       'Obstetrics Antepartum', 'PACU', 'Surgery/Trauma',\n",
       "       'Cardiac Surgery',\n",
       "       'Medical/Surgical Intensive Care Unit (MICU/SICU)',\n",
       "       'Hematology/Oncology', 'Coronary Care Unit (CCU)',\n",
       "       'Med/Surg/Trauma', 'Medical/Surgical (Gynecology)',\n",
       "       'Hematology/Oncology Intermediate',\n",
       "       'Neuro Surgical Intensive Care Unit (Neuro SICU)',\n",
       "       'Neuro Stepdown', 'Surgery/Pancreatic/Biliary/Bariatric',\n",
       "       'Cardiology Surgery Intermediate',\n",
       "       'Medicine/Cardiology Intermediate', 'Trauma SICU (TSICU)',\n",
       "       'Neuro Intermediate', 'Psychiatry', 'Surgery', 'Cardiology',\n",
       "       'Cardiac Vascular Intensive Care Unit (CVICU)', 'Observation',\n",
       "       'Thoracic Surgery', 'Unknown'], dtype=object)"
      ]
     },
     "execution_count": 84,
     "metadata": {},
     "output_type": "execute_result"
    }
   ],
   "source": [
    "transfers_df['careunit'].unique()"
   ]
  },
  {
   "cell_type": "markdown",
   "id": "2d512bd2-537a-4d54-b884-091b98c5ac58",
   "metadata": {},
   "source": [
    "Will likely need to further narrow this down... to reduce dimensionality and improve model interpretability\n",
    "\n",
    "** Narrow down into specific categories:\n",
    "- Labor and Delivery\n",
    "- Emergency\n",
    "- General Medicine and Surgery\n",
    "- Intensive Care Units\n",
    "- Specialized Units (Neuro, Psychiatry, Transplant, etc.)"
   ]
  },
  {
   "cell_type": "code",
   "execution_count": 85,
   "id": "d590de80-0727-42d6-8e1b-e2e65f486db4",
   "metadata": {},
   "outputs": [],
   "source": [
    "transfers_df['careunit'] = transfers_df['careunit'].fillna('Unknown')"
   ]
  },
  {
   "cell_type": "code",
   "execution_count": 86,
   "id": "d23513ff-165d-42e0-847e-ea6cbd3d8fc9",
   "metadata": {},
   "outputs": [],
   "source": [
    "care_unit_mappings = {\n",
    "    'Labor & Delivery': ['Labor & Delivery', 'Obstetrics (Postpartum & Antepartum)', 'Obstetrics Postpartum', 'Obstetrics Antepartum'],\n",
    "    'Emergency': ['Emergency Department', 'Emergency Department Observation', 'PACU', 'Observation'],\n",
    "    'General Medical/Surgical Units': ['Medicine', 'Med/Surg', 'Med/Surg/GYN', 'Med/Surg/Trauma', 'Med/Surg/Gynecology', 'Surgery/Trauma', 'Surgery/Pancreatic/Biliary/Bariatric', 'Surgery'],\n",
    "    'Intensive Care Units': ['Medical Intensive Care Unit (MICU)', 'Surgical Intensive Care Unit (SICU)', 'Neuro Surgical Intensive Care Unit (Neuro SICU)', 'Trauma SICU (TSICU)', 'Medical/Surgical Intensive Care Unit (MICU/SICU)', 'Cardiac Vascular Intensive Care Unit (CVICU)', 'Coronary Care Unit (CCU)', 'Neurology'],\n",
    "    'Specialized Units': ['Transplant', 'Vascular', 'Cardiac Surgery', 'Cardiology Surgery Intermediate', 'Medicine/Cardiology', 'Medicine/Cardiology Intermediate', 'Hematology/Oncology', 'Hematology/Oncology Intermediate', 'Thoracic Surgery', 'Neuro Stepdown', 'Neuro Intermediate', 'Psychiatry'],\n",
    "    'Discharged': ['Discharge Lounge'],\n",
    "    'Unknown': ['Unknown']\n",
    "}\n",
    "transfers_df['care_unit_group'] = transfers_df['careunit'].apply(lambda x: next((k for k, v in care_unit_mappings.items() if x in v), 'Unknown'))\n",
    "transfers_df = transfers_df.drop('careunit', axis=1)"
   ]
  },
  {
   "cell_type": "code",
   "execution_count": 87,
   "id": "25c1d0e5-fa0b-449b-b022-4a1c45c5d66e",
   "metadata": {},
   "outputs": [
    {
     "data": {
      "text/html": [
       "<div>\n",
       "<style scoped>\n",
       "    .dataframe tbody tr th:only-of-type {\n",
       "        vertical-align: middle;\n",
       "    }\n",
       "\n",
       "    .dataframe tbody tr th {\n",
       "        vertical-align: top;\n",
       "    }\n",
       "\n",
       "    .dataframe thead th {\n",
       "        text-align: right;\n",
       "    }\n",
       "</style>\n",
       "<table border=\"1\" class=\"dataframe\">\n",
       "  <thead>\n",
       "    <tr style=\"text-align: right;\">\n",
       "      <th></th>\n",
       "      <th>subject_id</th>\n",
       "      <th>hadm_id</th>\n",
       "      <th>transfer_id</th>\n",
       "      <th>eventtype</th>\n",
       "      <th>intime</th>\n",
       "      <th>outtime</th>\n",
       "      <th>care_unit_group</th>\n",
       "    </tr>\n",
       "  </thead>\n",
       "  <tbody>\n",
       "    <tr>\n",
       "      <th>0</th>\n",
       "      <td>10000719</td>\n",
       "      <td>24558333.0</td>\n",
       "      <td>31719052</td>\n",
       "      <td>discharge</td>\n",
       "      <td>2140-04-18 12:41:26</td>\n",
       "      <td>NaT</td>\n",
       "      <td>Unknown</td>\n",
       "    </tr>\n",
       "    <tr>\n",
       "      <th>1</th>\n",
       "      <td>10000719</td>\n",
       "      <td>24558333.0</td>\n",
       "      <td>32323060</td>\n",
       "      <td>admit</td>\n",
       "      <td>2140-04-15 00:15:12</td>\n",
       "      <td>2140-04-16 02:43:48</td>\n",
       "      <td>Labor &amp; Delivery</td>\n",
       "    </tr>\n",
       "    <tr>\n",
       "      <th>2</th>\n",
       "      <td>10000719</td>\n",
       "      <td>24558333.0</td>\n",
       "      <td>35042205</td>\n",
       "      <td>transfer</td>\n",
       "      <td>2140-04-16 02:43:48</td>\n",
       "      <td>2140-04-18 12:41:26</td>\n",
       "      <td>Labor &amp; Delivery</td>\n",
       "    </tr>\n",
       "    <tr>\n",
       "      <th>3</th>\n",
       "      <td>10001319</td>\n",
       "      <td>23005466.0</td>\n",
       "      <td>32828864</td>\n",
       "      <td>admit</td>\n",
       "      <td>2135-07-20 03:53:25</td>\n",
       "      <td>2135-07-20 11:26:28</td>\n",
       "      <td>Labor &amp; Delivery</td>\n",
       "    </tr>\n",
       "    <tr>\n",
       "      <th>4</th>\n",
       "      <td>10001319</td>\n",
       "      <td>23005466.0</td>\n",
       "      <td>33014199</td>\n",
       "      <td>transfer</td>\n",
       "      <td>2135-07-20 11:26:28</td>\n",
       "      <td>2135-07-22 11:44:16</td>\n",
       "      <td>Labor &amp; Delivery</td>\n",
       "    </tr>\n",
       "  </tbody>\n",
       "</table>\n",
       "</div>"
      ],
      "text/plain": [
       "   subject_id     hadm_id  transfer_id  eventtype              intime  \\\n",
       "0    10000719  24558333.0     31719052  discharge 2140-04-18 12:41:26   \n",
       "1    10000719  24558333.0     32323060      admit 2140-04-15 00:15:12   \n",
       "2    10000719  24558333.0     35042205   transfer 2140-04-16 02:43:48   \n",
       "3    10001319  23005466.0     32828864      admit 2135-07-20 03:53:25   \n",
       "4    10001319  23005466.0     33014199   transfer 2135-07-20 11:26:28   \n",
       "\n",
       "              outtime   care_unit_group  \n",
       "0                 NaT           Unknown  \n",
       "1 2140-04-16 02:43:48  Labor & Delivery  \n",
       "2 2140-04-18 12:41:26  Labor & Delivery  \n",
       "3 2135-07-20 11:26:28  Labor & Delivery  \n",
       "4 2135-07-22 11:44:16  Labor & Delivery  "
      ]
     },
     "execution_count": 87,
     "metadata": {},
     "output_type": "execute_result"
    }
   ],
   "source": [
    "transfers_df.head()"
   ]
  },
  {
   "cell_type": "code",
   "execution_count": 88,
   "id": "3e05e79d-7ecf-44ca-974f-df7dbbc904d2",
   "metadata": {},
   "outputs": [
    {
     "data": {
      "text/plain": [
       "eventtype\n",
       "ED           63638\n",
       "transfer     57070\n",
       "admit        56824\n",
       "discharge    56822\n",
       "Name: count, dtype: int64"
      ]
     },
     "execution_count": 88,
     "metadata": {},
     "output_type": "execute_result"
    }
   ],
   "source": [
    "transfers_df['eventtype'].value_counts()"
   ]
  },
  {
   "cell_type": "code",
   "execution_count": 89,
   "id": "c0020c63-90c2-460a-a42b-d439de227a7e",
   "metadata": {},
   "outputs": [
    {
     "name": "stdout",
     "output_type": "stream",
     "text": [
      "DataFrame has been saved as dataframes/hosp_transfers.csv\n"
     ]
    }
   ],
   "source": [
    "save_df_as_csv(transfers_df, 'hosp_transfers.csv')"
   ]
  },
  {
   "cell_type": "markdown",
   "id": "c60c67b2-f7be-42db-8a85-84a66e2c3a0d",
   "metadata": {},
   "source": [
    "## Admissions"
   ]
  },
  {
   "cell_type": "code",
   "execution_count": 90,
   "id": "6e3982ad-322e-48ae-b4f4-b24dbc0c8178",
   "metadata": {
    "scrolled": true
   },
   "outputs": [
    {
     "name": "stdout",
     "output_type": "stream",
     "text": [
      "Connected to db: smcdougall\n"
     ]
    },
    {
     "data": {
      "text/html": [
       "<div>\n",
       "<style scoped>\n",
       "    .dataframe tbody tr th:only-of-type {\n",
       "        vertical-align: middle;\n",
       "    }\n",
       "\n",
       "    .dataframe tbody tr th {\n",
       "        vertical-align: top;\n",
       "    }\n",
       "\n",
       "    .dataframe thead th {\n",
       "        text-align: right;\n",
       "    }\n",
       "</style>\n",
       "<table border=\"1\" class=\"dataframe\">\n",
       "  <thead>\n",
       "    <tr style=\"text-align: right;\">\n",
       "      <th></th>\n",
       "      <th>subject_id</th>\n",
       "      <th>hadm_id</th>\n",
       "      <th>admittime</th>\n",
       "      <th>dischtime</th>\n",
       "      <th>deathtime</th>\n",
       "      <th>admission_type</th>\n",
       "      <th>admit_provider_id</th>\n",
       "      <th>admission_location</th>\n",
       "      <th>discharge_location</th>\n",
       "      <th>insurance</th>\n",
       "      <th>language</th>\n",
       "      <th>marital_status</th>\n",
       "      <th>race</th>\n",
       "      <th>edregtime</th>\n",
       "      <th>edouttime</th>\n",
       "      <th>hospital_expire_flag</th>\n",
       "    </tr>\n",
       "  </thead>\n",
       "  <tbody>\n",
       "    <tr>\n",
       "      <th>0</th>\n",
       "      <td>10000719</td>\n",
       "      <td>24558333</td>\n",
       "      <td>2140-04-15 00:14:00</td>\n",
       "      <td>2140-04-18 12:29:00</td>\n",
       "      <td>NaT</td>\n",
       "      <td>URGENT</td>\n",
       "      <td>P65T9Y</td>\n",
       "      <td>PHYSICIAN REFERRAL</td>\n",
       "      <td>HOME</td>\n",
       "      <td>Other</td>\n",
       "      <td>ENGLISH</td>\n",
       "      <td>SINGLE</td>\n",
       "      <td>WHITE</td>\n",
       "      <td>NaT</td>\n",
       "      <td>NaT</td>\n",
       "      <td>0</td>\n",
       "    </tr>\n",
       "    <tr>\n",
       "      <th>1</th>\n",
       "      <td>10001319</td>\n",
       "      <td>23005466</td>\n",
       "      <td>2135-07-20 03:45:00</td>\n",
       "      <td>2135-07-22 11:38:00</td>\n",
       "      <td>NaT</td>\n",
       "      <td>URGENT</td>\n",
       "      <td>P09WS1</td>\n",
       "      <td>PHYSICIAN REFERRAL</td>\n",
       "      <td>HOME</td>\n",
       "      <td>Other</td>\n",
       "      <td>ENGLISH</td>\n",
       "      <td>MARRIED</td>\n",
       "      <td>WHITE</td>\n",
       "      <td>NaT</td>\n",
       "      <td>NaT</td>\n",
       "      <td>0</td>\n",
       "    </tr>\n",
       "    <tr>\n",
       "      <th>2</th>\n",
       "      <td>10001319</td>\n",
       "      <td>24591241</td>\n",
       "      <td>2138-11-09 20:00:00</td>\n",
       "      <td>2138-11-12 10:40:00</td>\n",
       "      <td>NaT</td>\n",
       "      <td>URGENT</td>\n",
       "      <td>P09WS1</td>\n",
       "      <td>PHYSICIAN REFERRAL</td>\n",
       "      <td>HOME</td>\n",
       "      <td>Other</td>\n",
       "      <td>ENGLISH</td>\n",
       "      <td>MARRIED</td>\n",
       "      <td>WHITE</td>\n",
       "      <td>NaT</td>\n",
       "      <td>NaT</td>\n",
       "      <td>0</td>\n",
       "    </tr>\n",
       "    <tr>\n",
       "      <th>3</th>\n",
       "      <td>10001319</td>\n",
       "      <td>29230609</td>\n",
       "      <td>2134-04-15 07:59:00</td>\n",
       "      <td>2134-04-17 13:23:00</td>\n",
       "      <td>NaT</td>\n",
       "      <td>URGENT</td>\n",
       "      <td>P09WS1</td>\n",
       "      <td>PHYSICIAN REFERRAL</td>\n",
       "      <td>HOME</td>\n",
       "      <td>Other</td>\n",
       "      <td>ENGLISH</td>\n",
       "      <td>MARRIED</td>\n",
       "      <td>WHITE</td>\n",
       "      <td>NaT</td>\n",
       "      <td>NaT</td>\n",
       "      <td>0</td>\n",
       "    </tr>\n",
       "    <tr>\n",
       "      <th>4</th>\n",
       "      <td>10001472</td>\n",
       "      <td>23506139</td>\n",
       "      <td>2186-01-10 00:00:00</td>\n",
       "      <td>2186-01-13 15:02:00</td>\n",
       "      <td>NaT</td>\n",
       "      <td>URGENT</td>\n",
       "      <td>P36D2C</td>\n",
       "      <td>PHYSICIAN REFERRAL</td>\n",
       "      <td>HOME</td>\n",
       "      <td>Other</td>\n",
       "      <td>ENGLISH</td>\n",
       "      <td>MARRIED</td>\n",
       "      <td>WHITE</td>\n",
       "      <td>NaT</td>\n",
       "      <td>NaT</td>\n",
       "      <td>0</td>\n",
       "    </tr>\n",
       "  </tbody>\n",
       "</table>\n",
       "</div>"
      ],
      "text/plain": [
       "   subject_id   hadm_id           admittime           dischtime deathtime  \\\n",
       "0    10000719  24558333 2140-04-15 00:14:00 2140-04-18 12:29:00       NaT   \n",
       "1    10001319  23005466 2135-07-20 03:45:00 2135-07-22 11:38:00       NaT   \n",
       "2    10001319  24591241 2138-11-09 20:00:00 2138-11-12 10:40:00       NaT   \n",
       "3    10001319  29230609 2134-04-15 07:59:00 2134-04-17 13:23:00       NaT   \n",
       "4    10001472  23506139 2186-01-10 00:00:00 2186-01-13 15:02:00       NaT   \n",
       "\n",
       "  admission_type admit_provider_id  admission_location discharge_location  \\\n",
       "0         URGENT            P65T9Y  PHYSICIAN REFERRAL               HOME   \n",
       "1         URGENT            P09WS1  PHYSICIAN REFERRAL               HOME   \n",
       "2         URGENT            P09WS1  PHYSICIAN REFERRAL               HOME   \n",
       "3         URGENT            P09WS1  PHYSICIAN REFERRAL               HOME   \n",
       "4         URGENT            P36D2C  PHYSICIAN REFERRAL               HOME   \n",
       "\n",
       "  insurance language marital_status   race edregtime edouttime  \\\n",
       "0     Other  ENGLISH         SINGLE  WHITE       NaT       NaT   \n",
       "1     Other  ENGLISH        MARRIED  WHITE       NaT       NaT   \n",
       "2     Other  ENGLISH        MARRIED  WHITE       NaT       NaT   \n",
       "3     Other  ENGLISH        MARRIED  WHITE       NaT       NaT   \n",
       "4     Other  ENGLISH        MARRIED  WHITE       NaT       NaT   \n",
       "\n",
       "   hospital_expire_flag  \n",
       "0                     0  \n",
       "1                     0  \n",
       "2                     0  \n",
       "3                     0  \n",
       "4                     0  "
      ]
     },
     "execution_count": 90,
     "metadata": {},
     "output_type": "execute_result"
    }
   ],
   "source": [
    "connection = connect_to_postgres(DB_NAME, USERNAME, PASSWORD, HOST, PORT)\n",
    "admissions_df = load_table(connection, 'mimiciv_hosp.filtered_admissions')\n",
    "admissions_df.head()"
   ]
  },
  {
   "cell_type": "markdown",
   "id": "bbdec9e6-fafa-4358-8a2b-d2f1a43a5398",
   "metadata": {},
   "source": [
    "Preprocessing decisions:\n",
    "1. Group admission types based on urgency and similarity - (1) urgent/emergency, (2)observation/outpatient admissions, (3) elective admissions (since they are not urgent)\n",
    "2. Create new categorical variables to reduce dimensionality - `is urgent`, `is observation`, `is elective` (or something similar)\n",
    "3. Can encode as ordinal variables since there is a ranking of urgency within the admission types\n",
    "\n",
    "Ultimately what we will do: do an ordinal mapping of a grouping of the admission types (for a simpler model)"
   ]
  },
  {
   "cell_type": "code",
   "execution_count": 91,
   "id": "587f79ff-4829-447e-9ff5-83a089097c07",
   "metadata": {},
   "outputs": [],
   "source": [
    "admission_type_map = {\n",
    "    'Urgent': ['URGENT', 'EW EMER.', 'DIRECT EMER.'],\n",
    "    'Observation': ['EU OBSERVATION', 'OBSERVATION ADMIT', 'DIRECT OBSERVATION', 'SURGICAL SAME DAY ADMISSION', 'AMBULATORY OBSERVATION'],\n",
    "    'Elective': ['ELECTIVE']\n",
    "}\n",
    "admissions_df['admission_type'] = admissions_df['admission_type'].apply(lambda x: next((k for k, v in admission_type_map.items() if x in v), 'Unknown'))\n"
   ]
  },
  {
   "cell_type": "code",
   "execution_count": 92,
   "id": "1204c2cd-4817-4253-83e7-bf1fd7b86d7e",
   "metadata": {},
   "outputs": [
    {
     "data": {
      "text/plain": [
       "array(['Urgent', 'Observation', 'Elective'], dtype=object)"
      ]
     },
     "execution_count": 92,
     "metadata": {},
     "output_type": "execute_result"
    }
   ],
   "source": [
    "admissions_df['admission_type'].unique()"
   ]
  },
  {
   "cell_type": "code",
   "execution_count": 93,
   "id": "7e311840-8430-4fe8-b0f6-2fce683c77f3",
   "metadata": {},
   "outputs": [
    {
     "data": {
      "text/plain": [
       "admission_type\n",
       "Urgent         38026\n",
       "Observation    18185\n",
       "Elective         611\n",
       "Name: count, dtype: int64"
      ]
     },
     "execution_count": 93,
     "metadata": {},
     "output_type": "execute_result"
    }
   ],
   "source": [
    "admissions_df['admission_type'].value_counts()"
   ]
  },
  {
   "cell_type": "code",
   "execution_count": 94,
   "id": "38c326a5-b476-47b3-8a40-e4cfe7a8d553",
   "metadata": {},
   "outputs": [],
   "source": [
    "ordinal_mapping = {\n",
    "    'Elective': 0,\n",
    "    'Observation': 1,\n",
    "    'Urgent': 2,\n",
    "}\n",
    "\n",
    "# apply ordinal encoding\n",
    "admissions_df['admission_type_ordinal'] = admissions_df['admission_type'].map(ordinal_mapping)\n",
    "admissions_df = admissions_df.drop('admission_type', axis=1)"
   ]
  },
  {
   "cell_type": "code",
   "execution_count": 95,
   "id": "4c4faf1c-cfbe-4ec6-b2ee-6af290e9e825",
   "metadata": {},
   "outputs": [
    {
     "data": {
      "text/plain": [
       "subject_id                    0\n",
       "hadm_id                       0\n",
       "admittime                     0\n",
       "dischtime                     0\n",
       "deathtime                 56369\n",
       "admit_provider_id             0\n",
       "admission_location            0\n",
       "discharge_location        10100\n",
       "insurance                     0\n",
       "language                      0\n",
       "marital_status              540\n",
       "race                          0\n",
       "edregtime                 25944\n",
       "edouttime                 25944\n",
       "hospital_expire_flag          0\n",
       "admission_type_ordinal        0\n",
       "dtype: int64"
      ]
     },
     "execution_count": 95,
     "metadata": {},
     "output_type": "execute_result"
    }
   ],
   "source": [
    "admissions_df.isna().sum()"
   ]
  },
  {
   "cell_type": "code",
   "execution_count": 96,
   "id": "f8eb67a9-bdad-416b-9e7e-2378244fae88",
   "metadata": {},
   "outputs": [
    {
     "data": {
      "text/plain": [
       "discharge_location\n",
       "HOME                            29572\n",
       "HOME HEALTH CARE                 9816\n",
       "SKILLED NURSING FACILITY         4636\n",
       "CHRONIC/LONG TERM ACUTE CARE      715\n",
       "REHAB                             522\n",
       "DIED                              456\n",
       "HOSPICE                           354\n",
       "AGAINST ADVICE                    302\n",
       "PSYCH FACILITY                    139\n",
       "ACUTE HOSPITAL                    106\n",
       "ASSISTED LIVING                    62\n",
       "OTHER FACILITY                     42\n",
       "Name: count, dtype: int64"
      ]
     },
     "execution_count": 96,
     "metadata": {},
     "output_type": "execute_result"
    }
   ],
   "source": [
    "admissions_df['discharge_location'].value_counts()"
   ]
  },
  {
   "cell_type": "code",
   "execution_count": 97,
   "id": "4d444d1e-14fd-48a1-8c5a-9f3a54592dd0",
   "metadata": {},
   "outputs": [
    {
     "data": {
      "text/plain": [
       "array(['HOME', None, 'HOME HEALTH CARE', 'SKILLED NURSING FACILITY',\n",
       "       'DIED', 'CHRONIC/LONG TERM ACUTE CARE', 'REHAB', 'ASSISTED LIVING',\n",
       "       'AGAINST ADVICE', 'HOSPICE', 'PSYCH FACILITY', 'ACUTE HOSPITAL',\n",
       "       'OTHER FACILITY'], dtype=object)"
      ]
     },
     "execution_count": 97,
     "metadata": {},
     "output_type": "execute_result"
    }
   ],
   "source": [
    "admissions_df['discharge_location'].unique()"
   ]
  },
  {
   "cell_type": "markdown",
   "id": "1edc996b-139b-4348-a823-ae849e50928f",
   "metadata": {},
   "source": [
    "Mappings for discharge location:\n",
    "- Home or home health care\n",
    "- Facility care\n",
    "- Another Medical/Healthcare facility\n",
    "- Died\n",
    "- left against advice\n",
    "- Unknown"
   ]
  },
  {
   "cell_type": "code",
   "execution_count": 98,
   "id": "023b5a24-9992-48e5-aa2d-48d36c313394",
   "metadata": {},
   "outputs": [],
   "source": [
    "admissions_df['discharge_location'] = admissions_df['discharge_location'].fillna('UNKNOWN')"
   ]
  },
  {
   "cell_type": "code",
   "execution_count": 99,
   "id": "0c3a972b-e84c-4709-ac08-b0223859e173",
   "metadata": {},
   "outputs": [],
   "source": [
    "admission_discharge_location_map = {\n",
    "    \"Home/Home Health Care\": [\"HOME\", 'HOME HEALTH CARE' ],\n",
    "    \"Facility Care\": ['SKILLED NURSING FACILITY', 'CHRONIC/LONG TERM ACUTE CARE', 'REHAB',\n",
    "                     'ASSISTED LIVING', 'HOSPICE'],\n",
    "    \"Another Medical/Healthcare Facility\": ['PSYCH FACILITY', 'ACUTE HOSPITAL', 'OTHER FACILITY'],\n",
    "    \"Died\": ['DIED'],\n",
    "    \"Left against Medical Advice\": ['AGAINST ADVICE'],\n",
    "    \"Unknown\": [\"UNKNOWN\"]\n",
    "}"
   ]
  },
  {
   "cell_type": "code",
   "execution_count": 100,
   "id": "9c8e7de4-5b3b-410e-9a0d-d65cc25f9002",
   "metadata": {},
   "outputs": [
    {
     "data": {
      "text/plain": [
       "discharge_location\n",
       "Home/Home Health Care                  39388\n",
       "Unknown                                10100\n",
       "Facility Care                           6289\n",
       "Died                                     456\n",
       "Left against Medical Advice              302\n",
       "Another Medical/Healthcare Facility      287\n",
       "Name: count, dtype: int64"
      ]
     },
     "execution_count": 100,
     "metadata": {},
     "output_type": "execute_result"
    }
   ],
   "source": [
    "admissions_df['discharge_location'] = admissions_df['discharge_location'].apply(lambda x: next((k for k,\n",
    "                                                                                                v in admission_discharge_location_map.items()\n",
    "                                                                                                if x in v), 'Unknown'))\n",
    "admissions_df['discharge_location'].value_counts()"
   ]
  },
  {
   "cell_type": "markdown",
   "id": "38522a4b-3ef1-471b-8f02-40479bbc1158",
   "metadata": {},
   "source": [
    "Admission location mappings:\n",
    "- Referrals\n",
    "- Walk-in\n",
    "- Emergency and urgent care\n",
    "- Other/Unknown"
   ]
  },
  {
   "cell_type": "code",
   "execution_count": 101,
   "id": "b1414d94-dd7c-4093-b9af-9f0ac749dcc8",
   "metadata": {},
   "outputs": [
    {
     "data": {
      "text/plain": [
       "array(['PHYSICIAN REFERRAL', 'EMERGENCY ROOM', 'WALK-IN/SELF REFERRAL',\n",
       "       'TRANSFER FROM SKILLED NURSING FACILITY', 'TRANSFER FROM HOSPITAL',\n",
       "       'CLINIC REFERRAL', 'PROCEDURE SITE',\n",
       "       'INTERNAL TRANSFER TO OR FROM PSYCH', 'PACU',\n",
       "       'INFORMATION NOT AVAILABLE', 'AMBULATORY SURGERY TRANSFER'],\n",
       "      dtype=object)"
      ]
     },
     "execution_count": 101,
     "metadata": {},
     "output_type": "execute_result"
    }
   ],
   "source": [
    "admissions_df['admission_location'].unique()"
   ]
  },
  {
   "cell_type": "code",
   "execution_count": 102,
   "id": "f1040957-06f1-4dbf-9fd1-4d9f9fb4d471",
   "metadata": {},
   "outputs": [],
   "source": [
    "admission_location_map = {\n",
    "    'Referral': ['PHYSICIAN REFERRAL', 'CLINIC REFERRAL'],\n",
    "    'Walk-in': ['WALK-IN/SELF REFERRAL'],\n",
    "    'Emergency/Urgent Care': ['EMERGENCY ROOM', 'TRANSFER FROM SKILLED NURSING FACILITY',\n",
    "                             'TRANSFER FROM HOSPITAL', 'INTERNAL TRANSFER TO OR FROM PSYCH',\n",
    "                             'PACU', 'AMBULATORY SURGERY TRANSFER'],\n",
    "    'Unknown': ['INFORMATION NOT AVAILABLE'],\n",
    "    'Procedure Site': ['PROCEDURE SITE']\n",
    "}"
   ]
  },
  {
   "cell_type": "code",
   "execution_count": 103,
   "id": "1b2361df-a225-4b89-bef2-37593cf59f86",
   "metadata": {},
   "outputs": [
    {
     "data": {
      "text/plain": [
       "admission_location\n",
       "Emergency/Urgent Care    27674\n",
       "Referral                 26762\n",
       "Walk-in                   1748\n",
       "Procedure Site             605\n",
       "Unknown                     33\n",
       "Name: count, dtype: int64"
      ]
     },
     "execution_count": 103,
     "metadata": {},
     "output_type": "execute_result"
    }
   ],
   "source": [
    "admissions_df['admission_location'] = admissions_df['admission_location'].apply(lambda x: next((k for k,\n",
    "                                                                                                v in admission_location_map.items()\n",
    "                                                                                                if x in v), 'Unknown'))\n",
    "admissions_df['admission_location'].value_counts()"
   ]
  },
  {
   "cell_type": "code",
   "execution_count": 104,
   "id": "ef741270-bd35-4917-9dfc-c57db7066986",
   "metadata": {},
   "outputs": [
    {
     "data": {
      "text/plain": [
       "25944"
      ]
     },
     "execution_count": 104,
     "metadata": {},
     "output_type": "execute_result"
    }
   ],
   "source": [
    "admissions_df['edregtime'].isna().sum()"
   ]
  },
  {
   "cell_type": "markdown",
   "id": "c903b5d0-1426-47db-b4d9-3f16d2d8a9ed",
   "metadata": {},
   "source": [
    "### TODO: figure out how to manage missing ED in/out times"
   ]
  },
  {
   "cell_type": "markdown",
   "id": "e7d7a17a-f4a5-4064-ad34-f1637a71f993",
   "metadata": {},
   "source": [
    "### Columns to remove:\n",
    "Could run into multicollinearity if including both the `deathtime` and `hospital_expire_flag` fields since they capture very similar information.\n",
    "\n",
    "Pros/cons of including `deathtime` over `hospital_expire_flag`:\n",
    "- pro - more granular information - good for time-to-event analysis\n",
    "- con - requires more preprocessing for handling missing values and capturing time since admission\n",
    "- con - introduces more noise/complexity to the model\n",
    "\n",
    "Pros/cons of including `hospital_expire_flag` over `deathtime`:\n",
    "- pro - simple for interpretation\n",
    "- con - removes information from the model\n",
    "\n",
    "Since we are not specifically measuring mortality during hospitalization, the binary flag is likely preferred for this scenario.\n",
    "\n",
    "### Columns to remove:\n",
    "- deathtime\n",
    "- admit_provider_id\n",
    "- insurance, language, marital_status, race (captured in previous notebook on patient demographics)"
   ]
  },
  {
   "cell_type": "code",
   "execution_count": 105,
   "id": "afcde7a6-a1ee-428b-a3ee-0f160b44aef8",
   "metadata": {},
   "outputs": [],
   "source": [
    "columns_to_drop = ['deathtime', 'admit_provider_id', 'insurance', 'language', 'marital_status', 'race']\n",
    "admissions_df.drop(columns=columns_to_drop, inplace=True)"
   ]
  },
  {
   "cell_type": "code",
   "execution_count": 106,
   "id": "0bdeaebc-e573-49e3-a4c5-13426acbf007",
   "metadata": {
    "scrolled": true
   },
   "outputs": [
    {
     "data": {
      "text/html": [
       "<div>\n",
       "<style scoped>\n",
       "    .dataframe tbody tr th:only-of-type {\n",
       "        vertical-align: middle;\n",
       "    }\n",
       "\n",
       "    .dataframe tbody tr th {\n",
       "        vertical-align: top;\n",
       "    }\n",
       "\n",
       "    .dataframe thead th {\n",
       "        text-align: right;\n",
       "    }\n",
       "</style>\n",
       "<table border=\"1\" class=\"dataframe\">\n",
       "  <thead>\n",
       "    <tr style=\"text-align: right;\">\n",
       "      <th></th>\n",
       "      <th>subject_id</th>\n",
       "      <th>hadm_id</th>\n",
       "      <th>admittime</th>\n",
       "      <th>dischtime</th>\n",
       "      <th>admission_location</th>\n",
       "      <th>discharge_location</th>\n",
       "      <th>edregtime</th>\n",
       "      <th>edouttime</th>\n",
       "      <th>hospital_expire_flag</th>\n",
       "      <th>admission_type_ordinal</th>\n",
       "    </tr>\n",
       "  </thead>\n",
       "  <tbody>\n",
       "    <tr>\n",
       "      <th>0</th>\n",
       "      <td>10000719</td>\n",
       "      <td>24558333</td>\n",
       "      <td>2140-04-15 00:14:00</td>\n",
       "      <td>2140-04-18 12:29:00</td>\n",
       "      <td>Referral</td>\n",
       "      <td>Home/Home Health Care</td>\n",
       "      <td>NaT</td>\n",
       "      <td>NaT</td>\n",
       "      <td>0</td>\n",
       "      <td>2</td>\n",
       "    </tr>\n",
       "    <tr>\n",
       "      <th>1</th>\n",
       "      <td>10001319</td>\n",
       "      <td>23005466</td>\n",
       "      <td>2135-07-20 03:45:00</td>\n",
       "      <td>2135-07-22 11:38:00</td>\n",
       "      <td>Referral</td>\n",
       "      <td>Home/Home Health Care</td>\n",
       "      <td>NaT</td>\n",
       "      <td>NaT</td>\n",
       "      <td>0</td>\n",
       "      <td>2</td>\n",
       "    </tr>\n",
       "    <tr>\n",
       "      <th>2</th>\n",
       "      <td>10001319</td>\n",
       "      <td>24591241</td>\n",
       "      <td>2138-11-09 20:00:00</td>\n",
       "      <td>2138-11-12 10:40:00</td>\n",
       "      <td>Referral</td>\n",
       "      <td>Home/Home Health Care</td>\n",
       "      <td>NaT</td>\n",
       "      <td>NaT</td>\n",
       "      <td>0</td>\n",
       "      <td>2</td>\n",
       "    </tr>\n",
       "    <tr>\n",
       "      <th>3</th>\n",
       "      <td>10001319</td>\n",
       "      <td>29230609</td>\n",
       "      <td>2134-04-15 07:59:00</td>\n",
       "      <td>2134-04-17 13:23:00</td>\n",
       "      <td>Referral</td>\n",
       "      <td>Home/Home Health Care</td>\n",
       "      <td>NaT</td>\n",
       "      <td>NaT</td>\n",
       "      <td>0</td>\n",
       "      <td>2</td>\n",
       "    </tr>\n",
       "    <tr>\n",
       "      <th>4</th>\n",
       "      <td>10001472</td>\n",
       "      <td>23506139</td>\n",
       "      <td>2186-01-10 00:00:00</td>\n",
       "      <td>2186-01-13 15:02:00</td>\n",
       "      <td>Referral</td>\n",
       "      <td>Home/Home Health Care</td>\n",
       "      <td>NaT</td>\n",
       "      <td>NaT</td>\n",
       "      <td>0</td>\n",
       "      <td>2</td>\n",
       "    </tr>\n",
       "  </tbody>\n",
       "</table>\n",
       "</div>"
      ],
      "text/plain": [
       "   subject_id   hadm_id           admittime           dischtime  \\\n",
       "0    10000719  24558333 2140-04-15 00:14:00 2140-04-18 12:29:00   \n",
       "1    10001319  23005466 2135-07-20 03:45:00 2135-07-22 11:38:00   \n",
       "2    10001319  24591241 2138-11-09 20:00:00 2138-11-12 10:40:00   \n",
       "3    10001319  29230609 2134-04-15 07:59:00 2134-04-17 13:23:00   \n",
       "4    10001472  23506139 2186-01-10 00:00:00 2186-01-13 15:02:00   \n",
       "\n",
       "  admission_location     discharge_location edregtime edouttime  \\\n",
       "0           Referral  Home/Home Health Care       NaT       NaT   \n",
       "1           Referral  Home/Home Health Care       NaT       NaT   \n",
       "2           Referral  Home/Home Health Care       NaT       NaT   \n",
       "3           Referral  Home/Home Health Care       NaT       NaT   \n",
       "4           Referral  Home/Home Health Care       NaT       NaT   \n",
       "\n",
       "   hospital_expire_flag  admission_type_ordinal  \n",
       "0                     0                       2  \n",
       "1                     0                       2  \n",
       "2                     0                       2  \n",
       "3                     0                       2  \n",
       "4                     0                       2  "
      ]
     },
     "execution_count": 106,
     "metadata": {},
     "output_type": "execute_result"
    }
   ],
   "source": [
    "admissions_df.head()"
   ]
  },
  {
   "cell_type": "code",
   "execution_count": 107,
   "id": "18a7359f-4f54-440f-b647-5ba781e59acd",
   "metadata": {},
   "outputs": [
    {
     "name": "stdout",
     "output_type": "stream",
     "text": [
      "DataFrame has been saved as dataframes/hosp_admissions.csv\n"
     ]
    }
   ],
   "source": [
    "save_df_as_csv(admissions_df, 'hosp_admissions.csv')"
   ]
  },
  {
   "cell_type": "markdown",
   "id": "f3cd7b54-1211-4f04-b506-c4b866b26129",
   "metadata": {},
   "source": [
    "## Diagnoses_ICD"
   ]
  },
  {
   "cell_type": "code",
   "execution_count": 108,
   "id": "791baebb-3044-4f05-92ce-295b6fbeca92",
   "metadata": {},
   "outputs": [
    {
     "name": "stdout",
     "output_type": "stream",
     "text": [
      "Connected to db: smcdougall\n"
     ]
    },
    {
     "data": {
      "text/html": [
       "<div>\n",
       "<style scoped>\n",
       "    .dataframe tbody tr th:only-of-type {\n",
       "        vertical-align: middle;\n",
       "    }\n",
       "\n",
       "    .dataframe tbody tr th {\n",
       "        vertical-align: top;\n",
       "    }\n",
       "\n",
       "    .dataframe thead th {\n",
       "        text-align: right;\n",
       "    }\n",
       "</style>\n",
       "<table border=\"1\" class=\"dataframe\">\n",
       "  <thead>\n",
       "    <tr style=\"text-align: right;\">\n",
       "      <th></th>\n",
       "      <th>subject_id</th>\n",
       "      <th>hadm_id</th>\n",
       "      <th>seq_num</th>\n",
       "      <th>icd_code</th>\n",
       "      <th>icd_version</th>\n",
       "    </tr>\n",
       "  </thead>\n",
       "  <tbody>\n",
       "    <tr>\n",
       "      <th>0</th>\n",
       "      <td>10000719</td>\n",
       "      <td>24558333</td>\n",
       "      <td>1</td>\n",
       "      <td>66401</td>\n",
       "      <td>9</td>\n",
       "    </tr>\n",
       "    <tr>\n",
       "      <th>1</th>\n",
       "      <td>10000719</td>\n",
       "      <td>24558333</td>\n",
       "      <td>2</td>\n",
       "      <td>65951</td>\n",
       "      <td>9</td>\n",
       "    </tr>\n",
       "    <tr>\n",
       "      <th>2</th>\n",
       "      <td>10000719</td>\n",
       "      <td>24558333</td>\n",
       "      <td>3</td>\n",
       "      <td>64891</td>\n",
       "      <td>9</td>\n",
       "    </tr>\n",
       "    <tr>\n",
       "      <th>3</th>\n",
       "      <td>10000719</td>\n",
       "      <td>24558333</td>\n",
       "      <td>4</td>\n",
       "      <td>V270</td>\n",
       "      <td>9</td>\n",
       "    </tr>\n",
       "    <tr>\n",
       "      <th>4</th>\n",
       "      <td>10000719</td>\n",
       "      <td>24558333</td>\n",
       "      <td>5</td>\n",
       "      <td>V0251</td>\n",
       "      <td>9</td>\n",
       "    </tr>\n",
       "  </tbody>\n",
       "</table>\n",
       "</div>"
      ],
      "text/plain": [
       "   subject_id   hadm_id  seq_num icd_code  icd_version\n",
       "0    10000719  24558333        1  66401              9\n",
       "1    10000719  24558333        2  65951              9\n",
       "2    10000719  24558333        3  64891              9\n",
       "3    10000719  24558333        4  V270               9\n",
       "4    10000719  24558333        5  V0251              9"
      ]
     },
     "execution_count": 108,
     "metadata": {},
     "output_type": "execute_result"
    }
   ],
   "source": [
    "connection = connect_to_postgres(DB_NAME, USERNAME, PASSWORD, HOST, PORT)\n",
    "diagnoses_df = load_table(connection, 'mimiciv_hosp.filtered_diagnoses_icd')\n",
    "diagnoses_df.head()"
   ]
  },
  {
   "cell_type": "markdown",
   "id": "9310decb-9851-44f7-99c4-a431170faf19",
   "metadata": {},
   "source": [
    "### Diagnosis Filtering Approach\n",
    "- use the general process outlined in \"An Extensive Data Processing Pipeline for MIMIC-IV\" (the \"feature extraction\" step)\n",
    "- look at `disease_cohort.py`\n",
    "- approach used by the paper: use first 3 digits to group the dx codes\n",
    "- need to also map ICD9 to ICD10 - they have a .txt file to do this\n",
    "\n",
    "My approach:\n",
    "- see how many ICD-9 codes I'm working with and whether I can use the .txt file for mapping\n",
    "- apply mapping conversion logic to non-pregnancy codes -- find necessary prefixes for the exclusion. The idea is to not restrict the pregnancy codes because then we lose useful information\n",
    "- For non-pregnancy codes, restrict to first three digits when reducing dimensionality"
   ]
  },
  {
   "cell_type": "code",
   "execution_count": 109,
   "id": "f404d8db-6d94-4400-91d7-b6874952e96b",
   "metadata": {},
   "outputs": [
    {
     "data": {
      "text/plain": [
       "12966"
      ]
     },
     "execution_count": 109,
     "metadata": {},
     "output_type": "execute_result"
    }
   ],
   "source": [
    "# number of unique diagnoses that we are starting with\n",
    "diagnoses_df['icd_code'].nunique()"
   ]
  },
  {
   "cell_type": "code",
   "execution_count": 110,
   "id": "f5a4d0b6-faa0-4ed9-90b3-51845436e60b",
   "metadata": {},
   "outputs": [
    {
     "data": {
      "text/html": [
       "<div>\n",
       "<style scoped>\n",
       "    .dataframe tbody tr th:only-of-type {\n",
       "        vertical-align: middle;\n",
       "    }\n",
       "\n",
       "    .dataframe tbody tr th {\n",
       "        vertical-align: top;\n",
       "    }\n",
       "\n",
       "    .dataframe thead th {\n",
       "        text-align: right;\n",
       "    }\n",
       "</style>\n",
       "<table border=\"1\" class=\"dataframe\">\n",
       "  <thead>\n",
       "    <tr style=\"text-align: right;\">\n",
       "      <th></th>\n",
       "      <th>subject_id</th>\n",
       "      <th>hadm_id</th>\n",
       "      <th>seq_num</th>\n",
       "      <th>icd_code</th>\n",
       "      <th>icd_version</th>\n",
       "    </tr>\n",
       "  </thead>\n",
       "  <tbody>\n",
       "    <tr>\n",
       "      <th>277</th>\n",
       "      <td>10002266</td>\n",
       "      <td>24160398</td>\n",
       "      <td>1</td>\n",
       "      <td>O4202</td>\n",
       "      <td>10</td>\n",
       "    </tr>\n",
       "    <tr>\n",
       "      <th>278</th>\n",
       "      <td>10002266</td>\n",
       "      <td>24160398</td>\n",
       "      <td>2</td>\n",
       "      <td>O411230</td>\n",
       "      <td>10</td>\n",
       "    </tr>\n",
       "    <tr>\n",
       "      <th>280</th>\n",
       "      <td>10002266</td>\n",
       "      <td>24160398</td>\n",
       "      <td>4</td>\n",
       "      <td>O621</td>\n",
       "      <td>10</td>\n",
       "    </tr>\n",
       "    <tr>\n",
       "      <th>281</th>\n",
       "      <td>10002266</td>\n",
       "      <td>24160398</td>\n",
       "      <td>5</td>\n",
       "      <td>O631</td>\n",
       "      <td>10</td>\n",
       "    </tr>\n",
       "    <tr>\n",
       "      <th>285</th>\n",
       "      <td>10002266</td>\n",
       "      <td>24160398</td>\n",
       "      <td>9</td>\n",
       "      <td>O99284</td>\n",
       "      <td>10</td>\n",
       "    </tr>\n",
       "    <tr>\n",
       "      <th>...</th>\n",
       "      <td>...</td>\n",
       "      <td>...</td>\n",
       "      <td>...</td>\n",
       "      <td>...</td>\n",
       "      <td>...</td>\n",
       "    </tr>\n",
       "    <tr>\n",
       "      <th>608975</th>\n",
       "      <td>19999043</td>\n",
       "      <td>23037011</td>\n",
       "      <td>6</td>\n",
       "      <td>O09522</td>\n",
       "      <td>10</td>\n",
       "    </tr>\n",
       "    <tr>\n",
       "      <th>608977</th>\n",
       "      <td>19999043</td>\n",
       "      <td>23037011</td>\n",
       "      <td>8</td>\n",
       "      <td>O09812</td>\n",
       "      <td>10</td>\n",
       "    </tr>\n",
       "    <tr>\n",
       "      <th>608979</th>\n",
       "      <td>19999043</td>\n",
       "      <td>23037011</td>\n",
       "      <td>10</td>\n",
       "      <td>O359XX2</td>\n",
       "      <td>10</td>\n",
       "    </tr>\n",
       "    <tr>\n",
       "      <th>608981</th>\n",
       "      <td>19999043</td>\n",
       "      <td>24799384</td>\n",
       "      <td>1</td>\n",
       "      <td>O046</td>\n",
       "      <td>10</td>\n",
       "    </tr>\n",
       "    <tr>\n",
       "      <th>608986</th>\n",
       "      <td>19999043</td>\n",
       "      <td>24799384</td>\n",
       "      <td>6</td>\n",
       "      <td>O021</td>\n",
       "      <td>10</td>\n",
       "    </tr>\n",
       "  </tbody>\n",
       "</table>\n",
       "<p>28648 rows × 5 columns</p>\n",
       "</div>"
      ],
      "text/plain": [
       "        subject_id   hadm_id  seq_num icd_code  icd_version\n",
       "277       10002266  24160398        1  O4202             10\n",
       "278       10002266  24160398        2  O411230           10\n",
       "280       10002266  24160398        4  O621              10\n",
       "281       10002266  24160398        5  O631              10\n",
       "285       10002266  24160398        9  O99284            10\n",
       "...            ...       ...      ...      ...          ...\n",
       "608975    19999043  23037011        6  O09522            10\n",
       "608977    19999043  23037011        8  O09812            10\n",
       "608979    19999043  23037011       10  O359XX2           10\n",
       "608981    19999043  24799384        1  O046              10\n",
       "608986    19999043  24799384        6  O021              10\n",
       "\n",
       "[28648 rows x 5 columns]"
      ]
     },
     "execution_count": 110,
     "metadata": {},
     "output_type": "execute_result"
    }
   ],
   "source": [
    "diagnoses_df[diagnoses_df['icd_code'].str.startswith('O')]"
   ]
  },
  {
   "cell_type": "code",
   "execution_count": 111,
   "id": "327861aa-c81e-4d98-bd3c-a21b94370a94",
   "metadata": {},
   "outputs": [],
   "source": [
    "PREG_ICD9_PREFIXES = ['V22', 'V23', 'V24', 'V27', 'V28', '63', '64', '65', '66', '67', '7651', '7650']\n",
    "PREG_ICD10_PREFIXES = ['Z33', 'Z34', 'Z3A', 'O0', 'O1', 'O2', 'O3', 'O4', 'O5', 'O6', 'O7', 'O8', 'O9']\n",
    "\n",
    "def does_not_start_with_prefixes(string, prefixes):\n",
    "    for prefix in prefixes:\n",
    "        if string.startswith(prefix):\n",
    "            return False\n",
    "    return True\n"
   ]
  },
  {
   "cell_type": "code",
   "execution_count": 112,
   "id": "9eb62752-0a7a-49bc-a044-da81e7a46e84",
   "metadata": {},
   "outputs": [],
   "source": [
    "mapping_file = 'ICD9_to_ICD10_mapping.txt'\n",
    "\n",
    "### NOTE: The following functions come from https://github.com/healthylaife/MIMIC-IV-Data-Pipeline ###\n",
    "def read_icd_mapping(map_path: str) -> pd.DataFrame:\n",
    "    \"\"\"Reads in mapping table for converting ICD9 to ICD10 codes\"\"\"\n",
    "\n",
    "    mapping = pd.read_csv(map_path, header=0, delimiter=\"\\t\")\n",
    "    mapping.diagnosis_description = mapping.diagnosis_description.apply(str.lower)\n",
    "    return mapping\n",
    "\n",
    "def standardize_icd(\n",
    "    mapping: pd.DataFrame, diag: pd.DataFrame, map_code_col=\"diagnosis_code\", root=True\n",
    ") -> str:\n",
    "    \"\"\"Takes an ICD9 -> ICD10 mapping table and a diagnosis dataframe;\n",
    "    adds column with converted ICD10 column\"\"\"\n",
    "\n",
    "    count = 0\n",
    "    code_cols = mapping.columns\n",
    "    errors = []\n",
    "\n",
    "    def icd_9to10(icd):\n",
    "        \"\"\"Function use to apply over the diag DataFrame for ICD9->ICD10 conversion\"\"\"\n",
    "        # If root is true, only map an ICD 9 -> 10 according to the\n",
    "        # ICD9's root (first 3 digits)\n",
    "\n",
    "        # NOTE - modified from the original code\n",
    "        # if root AND not a pregnancy-related code\n",
    "        if root and does_not_start_with_prefixes(icd, PREG_ICD9_PREFIXES):\n",
    "            icd = icd[:3]\n",
    "\n",
    "        if map_code_col not in code_cols:\n",
    "            errors.append(f\"ICD NOT FOUND: {icd}\")\n",
    "            return np.nan\n",
    "\n",
    "        matches = mapping.loc[mapping[map_code_col] == icd]\n",
    "        if matches.shape[0] == 0:\n",
    "            errors.append(f\"ICD NOT FOUND: {icd}\")\n",
    "            return np.nan\n",
    "\n",
    "        return mapping.loc[mapping[map_code_col] == icd].icd10cm.iloc[0]\n",
    "\n",
    "    # Create new column with original codes as default\n",
    "    col_name = \"root_icd10_convert\"\n",
    "    diag[col_name] = diag[\"icd_code\"].values\n",
    "\n",
    "    # Group identical ICD9 codes, then convert all ICD9 codes within\n",
    "    # a group to ICD10\n",
    "    for code, group in diag.loc[diag.icd_version == 9].groupby(by=\"icd_code\"):\n",
    "        new_code = icd_9to10(code)\n",
    "        for idx in group.index.values:\n",
    "            # Modify values of original df at the indexes in the groups\n",
    "            diag.at[idx, col_name] = new_code\n",
    "\n",
    "        count += group.shape[0]\n",
    "        #print(f\"{count}/{diag.shape[0]} rows processed\")\n",
    "\n",
    "    # Column for just the roots of the converted ICD10 column\n",
    "    diag[\"root\"] = diag[col_name].apply(lambda x: x[:3] if type(x) is str and does_not_start_with_prefixes(x, PREG_ICD10_PREFIXES)\n",
    "                                        else x if type(x)\n",
    "                                        else np.nan)\n",
    "\n",
    "def preproc_icd_module(h_ids,\n",
    "    module_path: str, ICD10_code: str, icd_map_path: str\n",
    ") -> tuple:\n",
    "    \"\"\"Takes an module dataset with ICD codes and puts it in long_format,\n",
    "    mapping ICD-codes by a mapping table path\"\"\"\n",
    "\n",
    "    diag = get_diagnosis_icd(module_path)\n",
    "    icd_map = read_icd_mapping(icd_map_path)\n",
    "\n",
    "    standardize_icd(icd_map, diag, root=True)\n",
    "\n",
    "    # patient ids that have at least 1 record of the given ICD10 code category\n",
    "    diag.dropna(subset=[\"root\"], inplace=True)\n",
    "    pos_ids = pd.DataFrame(\n",
    "        diag.loc[diag.root.str.contains(ICD10_code)].hadm_id.unique(),\n",
    "        columns=[\"hadm_id\"]\n",
    "    )\n",
    "    return pos_ids"
   ]
  },
  {
   "cell_type": "code",
   "execution_count": 113,
   "id": "d2a4506a-602b-4102-a017-e1bd43377587",
   "metadata": {},
   "outputs": [],
   "source": [
    "icd_mapping = read_icd_mapping(mapping_file)"
   ]
  },
  {
   "cell_type": "code",
   "execution_count": 114,
   "id": "148483e3-fd30-42a0-8a5b-c5bd6972761d",
   "metadata": {},
   "outputs": [
    {
     "data": {
      "text/html": [
       "<div>\n",
       "<style scoped>\n",
       "    .dataframe tbody tr th:only-of-type {\n",
       "        vertical-align: middle;\n",
       "    }\n",
       "\n",
       "    .dataframe tbody tr th {\n",
       "        vertical-align: top;\n",
       "    }\n",
       "\n",
       "    .dataframe thead th {\n",
       "        text-align: right;\n",
       "    }\n",
       "</style>\n",
       "<table border=\"1\" class=\"dataframe\">\n",
       "  <thead>\n",
       "    <tr style=\"text-align: right;\">\n",
       "      <th></th>\n",
       "      <th>diagnosis_type</th>\n",
       "      <th>diagnosis_code</th>\n",
       "      <th>diagnosis_description</th>\n",
       "      <th>icd9cm</th>\n",
       "      <th>icd10cm</th>\n",
       "      <th>flags</th>\n",
       "    </tr>\n",
       "  </thead>\n",
       "  <tbody>\n",
       "    <tr>\n",
       "      <th>0</th>\n",
       "      <td>ICD9</td>\n",
       "      <td>996.76</td>\n",
       "      <td>other complications due to genitourinary devic...</td>\n",
       "      <td>99676</td>\n",
       "      <td>T8384XA</td>\n",
       "      <td>10000</td>\n",
       "    </tr>\n",
       "    <tr>\n",
       "      <th>1</th>\n",
       "      <td>ICD9</td>\n",
       "      <td>V54.12</td>\n",
       "      <td>aftercare for healing traumatic fracture of lo...</td>\n",
       "      <td>V5412</td>\n",
       "      <td>S52602D</td>\n",
       "      <td>10000</td>\n",
       "    </tr>\n",
       "    <tr>\n",
       "      <th>2</th>\n",
       "      <td>ICD9</td>\n",
       "      <td>730.06</td>\n",
       "      <td>acute osteomyelitis involving lower leg</td>\n",
       "      <td>73006</td>\n",
       "      <td>M86169</td>\n",
       "      <td>10000</td>\n",
       "    </tr>\n",
       "    <tr>\n",
       "      <th>3</th>\n",
       "      <td>ICD9</td>\n",
       "      <td>345.61</td>\n",
       "      <td>infantile spasms, with intractable epilepsy</td>\n",
       "      <td>34561</td>\n",
       "      <td>G40824</td>\n",
       "      <td>10000</td>\n",
       "    </tr>\n",
       "    <tr>\n",
       "      <th>4</th>\n",
       "      <td>ICD9</td>\n",
       "      <td>989.5</td>\n",
       "      <td>toxic effect of venom</td>\n",
       "      <td>9895</td>\n",
       "      <td>T63421A</td>\n",
       "      <td>10000</td>\n",
       "    </tr>\n",
       "  </tbody>\n",
       "</table>\n",
       "</div>"
      ],
      "text/plain": [
       "  diagnosis_type diagnosis_code  \\\n",
       "0           ICD9         996.76   \n",
       "1           ICD9         V54.12   \n",
       "2           ICD9         730.06   \n",
       "3           ICD9         345.61   \n",
       "4           ICD9          989.5   \n",
       "\n",
       "                               diagnosis_description icd9cm  icd10cm  flags  \n",
       "0  other complications due to genitourinary devic...  99676  T8384XA  10000  \n",
       "1  aftercare for healing traumatic fracture of lo...  V5412  S52602D  10000  \n",
       "2            acute osteomyelitis involving lower leg  73006   M86169  10000  \n",
       "3        infantile spasms, with intractable epilepsy  34561   G40824  10000  \n",
       "4                              toxic effect of venom   9895  T63421A  10000  "
      ]
     },
     "execution_count": 114,
     "metadata": {},
     "output_type": "execute_result"
    }
   ],
   "source": [
    "icd_mapping.head()"
   ]
  },
  {
   "cell_type": "markdown",
   "id": "ca0b2892-5806-4c4c-9828-774f31571986",
   "metadata": {},
   "source": [
    "The plan:\n",
    "- first try filtering codes to the first 3 digits unless it is pregnancy-related (used in Data Filtering jupyter notebook)\n",
    "- if too large or can't map appropriately, default instead to the first 3 digits\n",
    "- the `icd_mapping` object is not restricted to the first three characters\n",
    "\n",
    "ICD-9 Codes related to pregnancy:\n",
    "['V22', 'V23', 'V24', 'V27', 'V28', '63', '64', '65', '66', '67', '7651', '7650']\n",
    "\n",
    "- preeclampsia - 64\n",
    "- preterm - 7651, 7650\n",
    "- hemorrhage - 64, 66"
   ]
  },
  {
   "cell_type": "code",
   "execution_count": 116,
   "id": "b02d6ed4-2739-4853-b618-cc90a8217c9e",
   "metadata": {},
   "outputs": [],
   "source": [
    "standardize_icd(icd_mapping, diagnoses_df, root=True)\n",
    "\n",
    "# patient ids that have at least 1 record of the given ICD10 code category\n",
    "diagnoses_df.dropna(subset=[\"root\"], inplace=True)"
   ]
  },
  {
   "cell_type": "markdown",
   "id": "c6fc0e27-d05d-4152-bc7d-70ed2c3e81cc",
   "metadata": {},
   "source": [
    "diagnoses_df[diagnoses_df['root'].str.startswith('O')]"
   ]
  },
  {
   "cell_type": "code",
   "execution_count": 117,
   "id": "e0d95e8f-fefa-4c5e-80ce-debb4491ae3c",
   "metadata": {},
   "outputs": [
    {
     "data": {
      "text/plain": [
       "2072"
      ]
     },
     "execution_count": 117,
     "metadata": {},
     "output_type": "execute_result"
    }
   ],
   "source": [
    "diagnoses_df['root'].nunique()"
   ]
  },
  {
   "cell_type": "code",
   "execution_count": 118,
   "id": "f4f7784f-d666-465d-b79d-ea84bf4c70f4",
   "metadata": {},
   "outputs": [
    {
     "data": {
      "text/html": [
       "<div>\n",
       "<style scoped>\n",
       "    .dataframe tbody tr th:only-of-type {\n",
       "        vertical-align: middle;\n",
       "    }\n",
       "\n",
       "    .dataframe tbody tr th {\n",
       "        vertical-align: top;\n",
       "    }\n",
       "\n",
       "    .dataframe thead th {\n",
       "        text-align: right;\n",
       "    }\n",
       "</style>\n",
       "<table border=\"1\" class=\"dataframe\">\n",
       "  <thead>\n",
       "    <tr style=\"text-align: right;\">\n",
       "      <th></th>\n",
       "      <th>subject_id</th>\n",
       "      <th>hadm_id</th>\n",
       "      <th>seq_num</th>\n",
       "      <th>icd_code</th>\n",
       "    </tr>\n",
       "  </thead>\n",
       "  <tbody>\n",
       "    <tr>\n",
       "      <th>14</th>\n",
       "      <td>10001472</td>\n",
       "      <td>23506139</td>\n",
       "      <td>4</td>\n",
       "      <td>E89</td>\n",
       "    </tr>\n",
       "    <tr>\n",
       "      <th>17</th>\n",
       "      <td>10001472</td>\n",
       "      <td>23506139</td>\n",
       "      <td>7</td>\n",
       "      <td>D25</td>\n",
       "    </tr>\n",
       "    <tr>\n",
       "      <th>19</th>\n",
       "      <td>10001472</td>\n",
       "      <td>23506139</td>\n",
       "      <td>9</td>\n",
       "      <td>M48</td>\n",
       "    </tr>\n",
       "    <tr>\n",
       "      <th>22</th>\n",
       "      <td>10001884</td>\n",
       "      <td>21192799</td>\n",
       "      <td>1</td>\n",
       "      <td>J44</td>\n",
       "    </tr>\n",
       "    <tr>\n",
       "      <th>23</th>\n",
       "      <td>10001884</td>\n",
       "      <td>21192799</td>\n",
       "      <td>2</td>\n",
       "      <td>R09</td>\n",
       "    </tr>\n",
       "  </tbody>\n",
       "</table>\n",
       "</div>"
      ],
      "text/plain": [
       "    subject_id   hadm_id  seq_num icd_code\n",
       "14    10001472  23506139        4      E89\n",
       "17    10001472  23506139        7      D25\n",
       "19    10001472  23506139        9      M48\n",
       "22    10001884  21192799        1      J44\n",
       "23    10001884  21192799        2      R09"
      ]
     },
     "execution_count": 118,
     "metadata": {},
     "output_type": "execute_result"
    }
   ],
   "source": [
    "diagnoses_df = diagnoses_df.assign(icd_code=diagnoses_df['root']).drop(columns=['root_icd10_convert', 'root', 'icd_version'])\n",
    "diagnoses_df.head()"
   ]
  },
  {
   "cell_type": "markdown",
   "id": "f291a2b7-49bd-4117-afe4-b4324b0c0b80",
   "metadata": {},
   "source": [
    "Reduced from 12966 to 2072!"
   ]
  },
  {
   "cell_type": "code",
   "execution_count": 119,
   "id": "78349ab8-a10e-4762-bc1c-62e34d321cec",
   "metadata": {},
   "outputs": [
    {
     "data": {
      "text/plain": [
       "subject_id    0\n",
       "hadm_id       0\n",
       "seq_num       0\n",
       "icd_code      0\n",
       "dtype: int64"
      ]
     },
     "execution_count": 119,
     "metadata": {},
     "output_type": "execute_result"
    }
   ],
   "source": [
    "diagnoses_df.isna().sum()"
   ]
  },
  {
   "cell_type": "code",
   "execution_count": 120,
   "id": "c27d251e-8ad2-4620-8ac9-ceeeec146b2d",
   "metadata": {},
   "outputs": [
    {
     "name": "stdout",
     "output_type": "stream",
     "text": [
      "DataFrame has been saved as dataframes/hosp_diagnoses.csv\n"
     ]
    }
   ],
   "source": [
    "save_df_as_csv(diagnoses_df, 'hosp_diagnoses.csv')"
   ]
  },
  {
   "cell_type": "markdown",
   "id": "1ebc9fd8-4f65-4133-a986-c7494f0ab0a7",
   "metadata": {},
   "source": [
    "## DRG Codes"
   ]
  },
  {
   "cell_type": "markdown",
   "id": "0ef55e99-38bf-48fa-9cb8-c9cb05890698",
   "metadata": {},
   "source": [
    "Deciding whether it's worth including DRG Codes...\n",
    "- could introduce redundancy if giving the same level of information as the diagnosis codes\n",
    "- could use feature importance analysis\n",
    "\n",
    "- my opinion: the table has columns for DRG Severity and DRG Mortality that could be useful... but otherwise we have categorized the ICD codes down to 2000 unique codes, which I feel should be enough information to convery diagnoses within the model\n",
    "- **skip DRG Codes table**"
   ]
  },
  {
   "cell_type": "markdown",
   "id": "3bcd6316-49c9-4abd-bfcc-fa3e552353db",
   "metadata": {},
   "source": [
    "## EMAR and EMAR Detail\n",
    "Skip because according to https://mimic.mit.edu/docs/iv/modules/hosp/emar/, EMAR system was implemented during 2011-2013 and is not available for all patients, which makes it difficult to include in an analysis of this nature."
   ]
  },
  {
   "cell_type": "markdown",
   "id": "0e25513c-ea20-4da2-a199-a28031961a60",
   "metadata": {},
   "source": [
    "## Microbiology Events"
   ]
  },
  {
   "cell_type": "markdown",
   "id": "093fe3f2-4510-4e5b-b27d-c01c810f92b0",
   "metadata": {},
   "source": [
    "Pros/cons of including microbiology events:\n",
    "- good for conveying information about infections during pregnancy -- known risk factor for preterm birth\n",
    "- could capture STIs...\n",
    "- could enhance predictive power of the model because you are including more data to paint the picture\n",
    "- should use feature engineering techniques\n",
    "- do EDA to understand distribution and relevance\n",
    "- may require some domain expertise\n",
    "\n",
    "Example infections to include that are related to maternal health:\n",
    "- UTIs\n",
    "- Group B Streptococcus (GBS)\n",
    "- STIs\n",
    "- BV\n",
    "- TORCH Infections - group of infections that could be transmitted from mother to fetus (noted in more detail below)\n",
    "- Toxoplasmosis\n",
    "- \"Other\" (e.g. syphilis)\n",
    "- Rubella\n",
    "- Cytomegalovirus (CMV)\n",
    "- Herpes Simplex Virus (HSV)\n",
    "- Flu, RSV\n",
    "- Mastitis\n",
    "\n",
    "Next steps:\n",
    "- should look at the different values of `spec_type_dec`\n",
    "- should look at `org_name`, which corresponds to each organism from the bacteria if the bacteria is found"
   ]
  },
  {
   "cell_type": "code",
   "execution_count": 121,
   "id": "4209ba27-e382-4d6c-ae38-857537fcecd6",
   "metadata": {},
   "outputs": [
    {
     "name": "stdout",
     "output_type": "stream",
     "text": [
      "Connected to db: smcdougall\n"
     ]
    },
    {
     "data": {
      "text/html": [
       "<div>\n",
       "<style scoped>\n",
       "    .dataframe tbody tr th:only-of-type {\n",
       "        vertical-align: middle;\n",
       "    }\n",
       "\n",
       "    .dataframe tbody tr th {\n",
       "        vertical-align: top;\n",
       "    }\n",
       "\n",
       "    .dataframe thead th {\n",
       "        text-align: right;\n",
       "    }\n",
       "</style>\n",
       "<table border=\"1\" class=\"dataframe\">\n",
       "  <thead>\n",
       "    <tr style=\"text-align: right;\">\n",
       "      <th></th>\n",
       "      <th>microevent_id</th>\n",
       "      <th>subject_id</th>\n",
       "      <th>hadm_id</th>\n",
       "      <th>micro_specimen_id</th>\n",
       "      <th>order_provider_id</th>\n",
       "      <th>chartdate</th>\n",
       "      <th>charttime</th>\n",
       "      <th>spec_itemid</th>\n",
       "      <th>spec_type_desc</th>\n",
       "      <th>test_seq</th>\n",
       "      <th>...</th>\n",
       "      <th>org_name</th>\n",
       "      <th>isolate_num</th>\n",
       "      <th>quantity</th>\n",
       "      <th>ab_itemid</th>\n",
       "      <th>ab_name</th>\n",
       "      <th>dilution_text</th>\n",
       "      <th>dilution_comparison</th>\n",
       "      <th>dilution_value</th>\n",
       "      <th>interpretation</th>\n",
       "      <th>comments</th>\n",
       "    </tr>\n",
       "  </thead>\n",
       "  <tbody>\n",
       "    <tr>\n",
       "      <th>0</th>\n",
       "      <td>94</td>\n",
       "      <td>10000719</td>\n",
       "      <td>NaN</td>\n",
       "      <td>2137138</td>\n",
       "      <td>P65T9Y</td>\n",
       "      <td>2139-12-23</td>\n",
       "      <td>NaT</td>\n",
       "      <td>70079</td>\n",
       "      <td>URINE</td>\n",
       "      <td>1</td>\n",
       "      <td>...</td>\n",
       "      <td>None</td>\n",
       "      <td>NaN</td>\n",
       "      <td>None</td>\n",
       "      <td>NaN</td>\n",
       "      <td>None</td>\n",
       "      <td>None</td>\n",
       "      <td>None</td>\n",
       "      <td>NaN</td>\n",
       "      <td>None</td>\n",
       "      <td>MIXED BACTERIAL FLORA ( &gt;= 3 COLONY TYPES), CO...</td>\n",
       "    </tr>\n",
       "    <tr>\n",
       "      <th>1</th>\n",
       "      <td>95</td>\n",
       "      <td>10000719</td>\n",
       "      <td>NaN</td>\n",
       "      <td>4691510</td>\n",
       "      <td>P65T9Y</td>\n",
       "      <td>2140-03-28</td>\n",
       "      <td>NaT</td>\n",
       "      <td>70006</td>\n",
       "      <td>ANORECTAL/VAGINAL</td>\n",
       "      <td>1</td>\n",
       "      <td>...</td>\n",
       "      <td>POSITIVE FOR GROUP B BETA STREPTOCOCCI</td>\n",
       "      <td>1.0</td>\n",
       "      <td>None</td>\n",
       "      <td>NaN</td>\n",
       "      <td>None</td>\n",
       "      <td>None</td>\n",
       "      <td>None</td>\n",
       "      <td>NaN</td>\n",
       "      <td>None</td>\n",
       "      <td>None</td>\n",
       "    </tr>\n",
       "    <tr>\n",
       "      <th>2</th>\n",
       "      <td>610</td>\n",
       "      <td>10001884</td>\n",
       "      <td>NaN</td>\n",
       "      <td>802664</td>\n",
       "      <td>None</td>\n",
       "      <td>2122-02-12</td>\n",
       "      <td>2122-02-12 12:30:00</td>\n",
       "      <td>70012</td>\n",
       "      <td>BLOOD CULTURE</td>\n",
       "      <td>1</td>\n",
       "      <td>...</td>\n",
       "      <td>None</td>\n",
       "      <td>NaN</td>\n",
       "      <td>None</td>\n",
       "      <td>NaN</td>\n",
       "      <td>None</td>\n",
       "      <td>None</td>\n",
       "      <td>None</td>\n",
       "      <td>NaN</td>\n",
       "      <td>None</td>\n",
       "      <td>NO GROWTH.</td>\n",
       "    </tr>\n",
       "    <tr>\n",
       "      <th>3</th>\n",
       "      <td>611</td>\n",
       "      <td>10001884</td>\n",
       "      <td>NaN</td>\n",
       "      <td>802664</td>\n",
       "      <td>None</td>\n",
       "      <td>2122-02-12</td>\n",
       "      <td>2122-02-12 12:30:00</td>\n",
       "      <td>70012</td>\n",
       "      <td>BLOOD CULTURE</td>\n",
       "      <td>2</td>\n",
       "      <td>...</td>\n",
       "      <td>None</td>\n",
       "      <td>NaN</td>\n",
       "      <td>None</td>\n",
       "      <td>NaN</td>\n",
       "      <td>None</td>\n",
       "      <td>None</td>\n",
       "      <td>None</td>\n",
       "      <td>NaN</td>\n",
       "      <td>None</td>\n",
       "      <td>NO GROWTH.</td>\n",
       "    </tr>\n",
       "    <tr>\n",
       "      <th>4</th>\n",
       "      <td>419</td>\n",
       "      <td>10001319</td>\n",
       "      <td>NaN</td>\n",
       "      <td>1253248</td>\n",
       "      <td>P83A4L</td>\n",
       "      <td>2135-06-10</td>\n",
       "      <td>2135-06-10 11:15:00</td>\n",
       "      <td>70091</td>\n",
       "      <td>MRSA SCREEN</td>\n",
       "      <td>1</td>\n",
       "      <td>...</td>\n",
       "      <td>None</td>\n",
       "      <td>NaN</td>\n",
       "      <td>None</td>\n",
       "      <td>NaN</td>\n",
       "      <td>None</td>\n",
       "      <td>None</td>\n",
       "      <td>None</td>\n",
       "      <td>NaN</td>\n",
       "      <td>None</td>\n",
       "      <td>No MRSA isolated.</td>\n",
       "    </tr>\n",
       "  </tbody>\n",
       "</table>\n",
       "<p>5 rows × 25 columns</p>\n",
       "</div>"
      ],
      "text/plain": [
       "   microevent_id  subject_id  hadm_id  micro_specimen_id order_provider_id  \\\n",
       "0             94    10000719      NaN            2137138            P65T9Y   \n",
       "1             95    10000719      NaN            4691510            P65T9Y   \n",
       "2            610    10001884      NaN             802664              None   \n",
       "3            611    10001884      NaN             802664              None   \n",
       "4            419    10001319      NaN            1253248            P83A4L   \n",
       "\n",
       "   chartdate           charttime  spec_itemid     spec_type_desc  test_seq  \\\n",
       "0 2139-12-23                 NaT        70079              URINE         1   \n",
       "1 2140-03-28                 NaT        70006  ANORECTAL/VAGINAL         1   \n",
       "2 2122-02-12 2122-02-12 12:30:00        70012      BLOOD CULTURE         1   \n",
       "3 2122-02-12 2122-02-12 12:30:00        70012      BLOOD CULTURE         2   \n",
       "4 2135-06-10 2135-06-10 11:15:00        70091        MRSA SCREEN         1   \n",
       "\n",
       "   ...                                org_name isolate_num  quantity  \\\n",
       "0  ...                                    None         NaN      None   \n",
       "1  ...  POSITIVE FOR GROUP B BETA STREPTOCOCCI         1.0      None   \n",
       "2  ...                                    None         NaN      None   \n",
       "3  ...                                    None         NaN      None   \n",
       "4  ...                                    None         NaN      None   \n",
       "\n",
       "  ab_itemid  ab_name dilution_text  dilution_comparison dilution_value  \\\n",
       "0       NaN     None          None                 None            NaN   \n",
       "1       NaN     None          None                 None            NaN   \n",
       "2       NaN     None          None                 None            NaN   \n",
       "3       NaN     None          None                 None            NaN   \n",
       "4       NaN     None          None                 None            NaN   \n",
       "\n",
       "   interpretation                                           comments  \n",
       "0            None  MIXED BACTERIAL FLORA ( >= 3 COLONY TYPES), CO...  \n",
       "1            None                                               None  \n",
       "2            None                                       NO GROWTH.    \n",
       "3            None                                       NO GROWTH.    \n",
       "4            None                                No MRSA isolated.    \n",
       "\n",
       "[5 rows x 25 columns]"
      ]
     },
     "execution_count": 121,
     "metadata": {},
     "output_type": "execute_result"
    }
   ],
   "source": [
    "connection = connect_to_postgres(DB_NAME, USERNAME, PASSWORD, HOST, PORT)\n",
    "micro_df = load_table(connection, 'mimiciv_hosp.filtered_microbiologyevents')\n",
    "micro_df.head()"
   ]
  },
  {
   "cell_type": "code",
   "execution_count": 122,
   "id": "f67893ff-8a05-4ef1-9b5a-099b78df018f",
   "metadata": {},
   "outputs": [
    {
     "data": {
      "text/plain": [
       "(506163, 25)"
      ]
     },
     "execution_count": 122,
     "metadata": {},
     "output_type": "execute_result"
    }
   ],
   "source": [
    "micro_df.shape"
   ]
  },
  {
   "cell_type": "code",
   "execution_count": 123,
   "id": "397acc98-d90a-4a29-a697-04841aaa034d",
   "metadata": {},
   "outputs": [
    {
     "data": {
      "text/plain": [
       "337"
      ]
     },
     "execution_count": 123,
     "metadata": {},
     "output_type": "execute_result"
    }
   ],
   "source": [
    "micro_df['org_name'].nunique()"
   ]
  },
  {
   "cell_type": "code",
   "execution_count": 124,
   "id": "b4e13c0f-c197-40b0-8480-b71951e695a6",
   "metadata": {
    "scrolled": true
   },
   "outputs": [
    {
     "data": {
      "text/plain": [
       "spec_type_desc\n",
       "URINE                                   181736\n",
       "SWAB                                     88577\n",
       "BLOOD CULTURE                            73091\n",
       "SEROLOGY/BLOOD                           38661\n",
       "STOOL                                    23472\n",
       "                                         ...  \n",
       "POST-MORTEM VIRAL CULTURE                    2\n",
       "Influenza A/B by DFA - Bronch Lavage         2\n",
       "SWAB, R/O GC                                 2\n",
       "                                             1\n",
       "MICRO PROBLEM PATIENT                        1\n",
       "Name: count, Length: 88, dtype: int64"
      ]
     },
     "execution_count": 124,
     "metadata": {},
     "output_type": "execute_result"
    }
   ],
   "source": [
    "micro_df['spec_type_desc'].value_counts()"
   ]
  },
  {
   "cell_type": "markdown",
   "id": "73a10733-6760-43ff-9c4a-89fcf0d7c403",
   "metadata": {},
   "source": [
    "The specimen type is likely less important than the actual `org_name`..."
   ]
  },
  {
   "cell_type": "code",
   "execution_count": 125,
   "id": "143345aa-be21-476e-b664-f132bd1c0275",
   "metadata": {
    "scrolled": true
   },
   "outputs": [
    {
     "data": {
      "text/plain": [
       "['ESCHERICHIA COLI',\n",
       " 'STAPH AUREUS COAG +',\n",
       " 'KLEBSIELLA PNEUMONIAE',\n",
       " 'PROTEUS MIRABILIS',\n",
       " 'PSEUDOMONAS AERUGINOSA',\n",
       " 'ENTEROCOCCUS SP.',\n",
       " 'STAPHYLOCOCCUS, COAGULASE NEGATIVE',\n",
       " 'GRAM POSITIVE BACTERIA',\n",
       " 'YEAST',\n",
       " 'CANCELLED',\n",
       " 'POSITIVE FOR GROUP B BETA STREPTOCOCCI',\n",
       " 'KLEBSIELLA OXYTOCA',\n",
       " 'ENTEROBACTER CLOACAE COMPLEX',\n",
       " 'STAPHYLOCOCCUS EPIDERMIDIS',\n",
       " 'CITROBACTER FREUNDII COMPLEX',\n",
       " 'CITROBACTER KOSERI',\n",
       " 'BETA STREPTOCOCCUS GROUP B',\n",
       " 'ENTEROBACTER AEROGENES',\n",
       " 'SERRATIA MARCESCENS',\n",
       " 'CLOSTRIDIUM DIFFICILE',\n",
       " 'MIXED BACTERIAL FLORA',\n",
       " 'ENTEROBACTER CLOACAE',\n",
       " 'MORGANELLA MORGANII',\n",
       " 'CORYNEBACTERIUM SPECIES (DIPHTHEROIDS)',\n",
       " 'ENTEROCOCCUS FAECIUM',\n",
       " 'CHLAMYDIA TRACHOMATIS',\n",
       " 'POSITIVE FOR METHICILLIN RESISTANT STAPH AUREUS',\n",
       " 'STREPTOCOCCUS ANGINOSUS (MILLERI) GROUP',\n",
       " 'ENTEROCOCCUS FAECALIS',\n",
       " 'VIRIDANS STREPTOCOCCI',\n",
       " 'PRESUMPTIVE GARDNERELLA VAGINALIS',\n",
       " 'BETA STREPTOCOCCUS GROUP A',\n",
       " 'LACTOBACILLUS SPECIES',\n",
       " 'GRAM NEGATIVE ROD(S)',\n",
       " 'ACINETOBACTER BAUMANNII COMPLEX',\n",
       " 'BACTEROIDES FRAGILIS GROUP',\n",
       " 'BETA STREPTOCOCCI, NOT GROUP A',\n",
       " 'PROTEUS VULGARIS',\n",
       " 'NON-FERMENTER, NOT PSEUDOMONAS AERUGINOSA',\n",
       " 'STREPTOCOCCUS PNEUMONIAE',\n",
       " 'STENOTROPHOMONAS MALTOPHILIA',\n",
       " 'HERPES SIMPLEX VIRUS TYPE 2',\n",
       " 'STAPHYLOCOCCUS, COAGULASE NEGATIVE, PRESUMPTIVELY NOT S. SAPROPHYTICUS',\n",
       " 'STAPHYLOCOCCUS SAPROPHYTICUS, PRESUMPTIVE IDENTIFICATION',\n",
       " 'STAPHYLOCOCCUS LUGDUNENSIS',\n",
       " 'PROVIDENCIA STUARTII',\n",
       " 'CANDIDA ALBICANS',\n",
       " 'CANDIDA ALBICANS, PRESUMPTIVE IDENTIFICATION',\n",
       " 'CITROBACTER AMALONATICUS',\n",
       " 'PSEUDOMONAS PUTIDA ',\n",
       " 'STAPHYLOCOCCUS HOMINIS',\n",
       " 'POSITIVE',\n",
       " 'GRAM POSITIVE COCCUS(COCCI)',\n",
       " 'HERPES SIMPLEX VIRUS TYPE 1',\n",
       " 'ANAEROBIC GRAM POSITIVE COCCUS(I)',\n",
       " 'CANDIDA GLABRATA',\n",
       " 'PREVOTELLA SPECIES',\n",
       " 'GRAM POSITIVE RODS',\n",
       " 'ACHROMOBACTER SP.',\n",
       " 'NEISSERIA GONORRHOEAE',\n",
       " 'YEAST, PRESUMPTIVELY NOT C. ALBICANS',\n",
       " 'GRAM NEGATIVE ROD #2',\n",
       " 'PANTOEA SPECIES',\n",
       " 'PROVIDENCIA RETTGERI',\n",
       " 'POSITIVE FOR INFLUENZA A VIRAL ANTIGEN',\n",
       " 'PROBABLE ENTEROCOCCUS',\n",
       " 'BETA STREPTOCOCCUS GROUP G',\n",
       " 'BACILLUS SPECIES; NOT ANTHRACIS',\n",
       " 'RAOULTELLA PLANTICOLA',\n",
       " 'ACINETOBACTER SP.',\n",
       " 'ENTEROBACTER ASBURIAE',\n",
       " 'HAFNIA ALVEI',\n",
       " 'NEGATIVE',\n",
       " 'STAPHYLOCOCCUS HAEMOLYTICUS',\n",
       " 'PROTEUS HAUSERI',\n",
       " 'CHRYSEOBACTERIUM INDOLOGENES',\n",
       " 'PROPIONIBACTERIUM ACNES',\n",
       " 'BETA STREPTOCOCCUS GROUP C',\n",
       " 'ACINETOBACTER BAUMANNII',\n",
       " 'CAMPYLOBACTER JEJUNI',\n",
       " 'PRESUMPTIVE STREPTOCOCCUS BOVIS',\n",
       " 'PSEUDOMONAS FLUORESCENS',\n",
       " 'STAPHYLOCOCCUS CAPITIS',\n",
       " 'SALMONELLA SPECIES',\n",
       " 'CORYNEBACTERIUM UREALYTICUM SP. NOV.',\n",
       " 'HAEMOPHILUS INFLUENZAE, BETA-LACTAMASE NEGATIVE']"
      ]
     },
     "execution_count": 125,
     "metadata": {},
     "output_type": "execute_result"
    }
   ],
   "source": [
    "value_counts = micro_df['org_name'].value_counts()\n",
    "value_counts[value_counts > 40].index.tolist()"
   ]
  },
  {
   "cell_type": "markdown",
   "id": "e05986ff-bd66-4826-ac20-b005e3702fde",
   "metadata": {},
   "source": [
    "- KLEBSIELLA PNEUMONIAE - can cause UTIs\n",
    "- PROTEUS MIRABILIS - can cause UTIs\n",
    "- GRAM POSITIVE BACTERIA - a broader category that includes GBS\n",
    "- POSITIVE FOR GROUP B BETA STREPTOCOCCI - GBS\n",
    "- ENTEROBACTER CLOACAE COMPLEX - can cause UTIs\n",
    "- CITROBACTER FREUNDII COMPLEX - can cause UTIs\n",
    "- BETA STREPTOCOCCUS GROUP B - (GBS)\n",
    "- ENTEROBACTER AEROGENES - can cause UTIs\n",
    "- SERRATIA MARCESCENS - can cause UTIs\n",
    "- ENTEROBACTER CLOACAE - can cause UTIs\n",
    "- MORGANELLA MORGANII - can cause UTIs\n",
    "- CHLAMYDIA TRACHOMATIS - type of STI\n",
    "- PRESUMPTIVE GARDNERELLA VAGINALIS - often associated with BV\n",
    "- BETA STREPTOCOCCUS GROUP A - can lead to streptococcus toxic shock syndrome (a form of TSS)\n",
    "- LACTOBACILLUS SPECIES - beneficial bacteria often found in urinary and vaginal tract\n",
    "- PROTEUS VULGARIS - can cause UTIs\n",
    "- HERPES SIMPLEX VIRUS TYPE 2 - type of STI\n",
    "- CANDIDA ALBICANS - species of yeast that can cause vaginal infections\n",
    "- NEISSERIA GONORRHOEAE - causes the STI Gonorrhea\n",
    "- POSITIVE FOR INFLUENZA A VIRAL ANTIGEN - the flu"
   ]
  },
  {
   "cell_type": "code",
   "execution_count": 126,
   "id": "3e26d592-72f9-473a-a219-6cba6804de85",
   "metadata": {},
   "outputs": [],
   "source": [
    "RELEVANT_MICROBIOLOGY_EVENTS = [\n",
    "    'KLEBSIELLA PNEUMONIAE',\n",
    "    'PROTEUS MIRABILIS',\n",
    "    'GRAM POSITIVE BACTERIA',\n",
    "    'POSITIVE FOR GROUP B BETA STREPTOCOCCI',\n",
    "    'ENTEROBACTER CLOACAE COMPLEX',\n",
    "    'CITROBACTER FREUNDII COMPLEX',\n",
    "    'BETA STREPTOCOCCUS GROUP B',\n",
    "    'ENTEROBACTER AEROGENES',\n",
    "    'SERRATIA MARCESCENS',\n",
    "    'ENTEROBACTER CLOACAE',\n",
    "    'MORGANELLA MORGANII',\n",
    "    'CHLAMYDIA TRACHOMATIS',\n",
    "    'PRESUMPTIVE GARDNERELLA VAGINALIS',\n",
    "    'BETA STREPTOCOCCUS GROUP A',\n",
    "    'LACTOBACILLUS SPECIES',\n",
    "    'PROTEUS VULGARIS',\n",
    "    'HERPES SIMPLEX VIRUS TYPE 2',\n",
    "    'CANDIDA ALBICANS',\n",
    "    'NEISSERIA GONORRHOEAE',\n",
    "    'POSITIVE FOR INFLUENZA A VIRAL ANTIGEN'\n",
    "]"
   ]
  },
  {
   "cell_type": "code",
   "execution_count": 127,
   "id": "76bdfc56-4bdf-40a3-943e-a54a7b5a744c",
   "metadata": {},
   "outputs": [
    {
     "name": "stdout",
     "output_type": "stream",
     "text": [
      "(47058, 25)\n"
     ]
    },
    {
     "data": {
      "text/html": [
       "<div>\n",
       "<style scoped>\n",
       "    .dataframe tbody tr th:only-of-type {\n",
       "        vertical-align: middle;\n",
       "    }\n",
       "\n",
       "    .dataframe tbody tr th {\n",
       "        vertical-align: top;\n",
       "    }\n",
       "\n",
       "    .dataframe thead th {\n",
       "        text-align: right;\n",
       "    }\n",
       "</style>\n",
       "<table border=\"1\" class=\"dataframe\">\n",
       "  <thead>\n",
       "    <tr style=\"text-align: right;\">\n",
       "      <th></th>\n",
       "      <th>microevent_id</th>\n",
       "      <th>subject_id</th>\n",
       "      <th>hadm_id</th>\n",
       "      <th>micro_specimen_id</th>\n",
       "      <th>order_provider_id</th>\n",
       "      <th>chartdate</th>\n",
       "      <th>charttime</th>\n",
       "      <th>spec_itemid</th>\n",
       "      <th>spec_type_desc</th>\n",
       "      <th>test_seq</th>\n",
       "      <th>...</th>\n",
       "      <th>org_name</th>\n",
       "      <th>isolate_num</th>\n",
       "      <th>quantity</th>\n",
       "      <th>ab_itemid</th>\n",
       "      <th>ab_name</th>\n",
       "      <th>dilution_text</th>\n",
       "      <th>dilution_comparison</th>\n",
       "      <th>dilution_value</th>\n",
       "      <th>interpretation</th>\n",
       "      <th>comments</th>\n",
       "    </tr>\n",
       "  </thead>\n",
       "  <tbody>\n",
       "    <tr>\n",
       "      <th>1</th>\n",
       "      <td>95</td>\n",
       "      <td>10000719</td>\n",
       "      <td>NaN</td>\n",
       "      <td>4691510</td>\n",
       "      <td>P65T9Y</td>\n",
       "      <td>2140-03-28</td>\n",
       "      <td>NaT</td>\n",
       "      <td>70006</td>\n",
       "      <td>ANORECTAL/VAGINAL</td>\n",
       "      <td>1</td>\n",
       "      <td>...</td>\n",
       "      <td>POSITIVE FOR GROUP B BETA STREPTOCOCCI</td>\n",
       "      <td>1.0</td>\n",
       "      <td>None</td>\n",
       "      <td>NaN</td>\n",
       "      <td>None</td>\n",
       "      <td>None</td>\n",
       "      <td>None</td>\n",
       "      <td>NaN</td>\n",
       "      <td>None</td>\n",
       "      <td>None</td>\n",
       "    </tr>\n",
       "    <tr>\n",
       "      <th>5</th>\n",
       "      <td>420</td>\n",
       "      <td>10001319</td>\n",
       "      <td>NaN</td>\n",
       "      <td>2654897</td>\n",
       "      <td>P93OSG</td>\n",
       "      <td>2135-06-10</td>\n",
       "      <td>2135-06-10 11:19:00</td>\n",
       "      <td>70079</td>\n",
       "      <td>URINE</td>\n",
       "      <td>1</td>\n",
       "      <td>...</td>\n",
       "      <td>GRAM POSITIVE BACTERIA</td>\n",
       "      <td>1.0</td>\n",
       "      <td>None</td>\n",
       "      <td>NaN</td>\n",
       "      <td>None</td>\n",
       "      <td>None</td>\n",
       "      <td>None</td>\n",
       "      <td>NaN</td>\n",
       "      <td>None</td>\n",
       "      <td>None</td>\n",
       "    </tr>\n",
       "    <tr>\n",
       "      <th>23</th>\n",
       "      <td>614</td>\n",
       "      <td>10001884</td>\n",
       "      <td>NaN</td>\n",
       "      <td>2893463</td>\n",
       "      <td>None</td>\n",
       "      <td>2125-12-01</td>\n",
       "      <td>NaT</td>\n",
       "      <td>70042</td>\n",
       "      <td>Influenza A/B by DFA</td>\n",
       "      <td>1</td>\n",
       "      <td>...</td>\n",
       "      <td>POSITIVE FOR INFLUENZA A VIRAL ANTIGEN</td>\n",
       "      <td>1.0</td>\n",
       "      <td>None</td>\n",
       "      <td>NaN</td>\n",
       "      <td>None</td>\n",
       "      <td>None</td>\n",
       "      <td>None</td>\n",
       "      <td>NaN</td>\n",
       "      <td>None</td>\n",
       "      <td>None</td>\n",
       "    </tr>\n",
       "    <tr>\n",
       "      <th>64</th>\n",
       "      <td>871</td>\n",
       "      <td>10002266</td>\n",
       "      <td>NaN</td>\n",
       "      <td>3980855</td>\n",
       "      <td>None</td>\n",
       "      <td>2124-08-28</td>\n",
       "      <td>NaT</td>\n",
       "      <td>70079</td>\n",
       "      <td>URINE</td>\n",
       "      <td>1</td>\n",
       "      <td>...</td>\n",
       "      <td>GRAM POSITIVE BACTERIA</td>\n",
       "      <td>1.0</td>\n",
       "      <td>None</td>\n",
       "      <td>NaN</td>\n",
       "      <td>None</td>\n",
       "      <td>None</td>\n",
       "      <td>None</td>\n",
       "      <td>NaN</td>\n",
       "      <td>None</td>\n",
       "      <td>None</td>\n",
       "    </tr>\n",
       "    <tr>\n",
       "      <th>117</th>\n",
       "      <td>927</td>\n",
       "      <td>10002428</td>\n",
       "      <td>NaN</td>\n",
       "      <td>1704201</td>\n",
       "      <td>None</td>\n",
       "      <td>2156-05-11</td>\n",
       "      <td>NaT</td>\n",
       "      <td>70012</td>\n",
       "      <td>BLOOD CULTURE</td>\n",
       "      <td>1</td>\n",
       "      <td>...</td>\n",
       "      <td>LACTOBACILLUS SPECIES</td>\n",
       "      <td>1.0</td>\n",
       "      <td>None</td>\n",
       "      <td>90003.0</td>\n",
       "      <td>PENICILLIN G</td>\n",
       "      <td>0.5</td>\n",
       "      <td>=</td>\n",
       "      <td>0.5</td>\n",
       "      <td>S</td>\n",
       "      <td>None</td>\n",
       "    </tr>\n",
       "  </tbody>\n",
       "</table>\n",
       "<p>5 rows × 25 columns</p>\n",
       "</div>"
      ],
      "text/plain": [
       "     microevent_id  subject_id  hadm_id  micro_specimen_id order_provider_id  \\\n",
       "1               95    10000719      NaN            4691510            P65T9Y   \n",
       "5              420    10001319      NaN            2654897            P93OSG   \n",
       "23             614    10001884      NaN            2893463              None   \n",
       "64             871    10002266      NaN            3980855              None   \n",
       "117            927    10002428      NaN            1704201              None   \n",
       "\n",
       "     chartdate           charttime  spec_itemid        spec_type_desc  \\\n",
       "1   2140-03-28                 NaT        70006     ANORECTAL/VAGINAL   \n",
       "5   2135-06-10 2135-06-10 11:19:00        70079                 URINE   \n",
       "23  2125-12-01                 NaT        70042  Influenza A/B by DFA   \n",
       "64  2124-08-28                 NaT        70079                 URINE   \n",
       "117 2156-05-11                 NaT        70012         BLOOD CULTURE   \n",
       "\n",
       "     test_seq  ...                                org_name isolate_num  \\\n",
       "1           1  ...  POSITIVE FOR GROUP B BETA STREPTOCOCCI         1.0   \n",
       "5           1  ...                  GRAM POSITIVE BACTERIA         1.0   \n",
       "23          1  ...  POSITIVE FOR INFLUENZA A VIRAL ANTIGEN         1.0   \n",
       "64          1  ...                  GRAM POSITIVE BACTERIA         1.0   \n",
       "117         1  ...                   LACTOBACILLUS SPECIES         1.0   \n",
       "\n",
       "     quantity ab_itemid       ab_name dilution_text  dilution_comparison  \\\n",
       "1        None       NaN          None          None                 None   \n",
       "5        None       NaN          None          None                 None   \n",
       "23       None       NaN          None          None                 None   \n",
       "64       None       NaN          None          None                 None   \n",
       "117      None   90003.0  PENICILLIN G           0.5           =            \n",
       "\n",
       "    dilution_value  interpretation comments  \n",
       "1              NaN            None     None  \n",
       "5              NaN            None     None  \n",
       "23             NaN            None     None  \n",
       "64             NaN            None     None  \n",
       "117            0.5               S     None  \n",
       "\n",
       "[5 rows x 25 columns]"
      ]
     },
     "execution_count": 127,
     "metadata": {},
     "output_type": "execute_result"
    }
   ],
   "source": [
    "micro_df = micro_df[micro_df['org_name'].isin(RELEVANT_MICROBIOLOGY_EVENTS)]\n",
    "print(micro_df.shape)\n",
    "micro_df.head()"
   ]
  },
  {
   "cell_type": "code",
   "execution_count": 128,
   "id": "3b0b1c58-5c0c-4a67-a33d-4f094bce90e8",
   "metadata": {},
   "outputs": [
    {
     "data": {
      "text/plain": [
       "Index(['microevent_id', 'subject_id', 'hadm_id', 'micro_specimen_id',\n",
       "       'order_provider_id', 'chartdate', 'charttime', 'spec_itemid',\n",
       "       'spec_type_desc', 'test_seq', 'storedate', 'storetime', 'test_itemid',\n",
       "       'test_name', 'org_itemid', 'org_name', 'isolate_num', 'quantity',\n",
       "       'ab_itemid', 'ab_name', 'dilution_text', 'dilution_comparison',\n",
       "       'dilution_value', 'interpretation', 'comments'],\n",
       "      dtype='object')"
      ]
     },
     "execution_count": 128,
     "metadata": {},
     "output_type": "execute_result"
    }
   ],
   "source": [
    "micro_df.columns"
   ]
  },
  {
   "cell_type": "code",
   "execution_count": 129,
   "id": "4fdb7212-5250-4156-9f3f-57c088d08d89",
   "metadata": {},
   "outputs": [],
   "source": [
    "columns_to_drop = ['order_provider_id', 'charttime', 'spec_itemid', 'spec_type_desc', 'test_seq', 'isolate_num',\n",
    "                  'quantity', 'ab_itemid', 'ab_name', 'dilution_text', 'dilution_comparison', 'dilution_value',\n",
    "                  'interpretation', 'comments', 'storedate', 'storetime', 'test_itemid', 'test_name', 'org_itemid']\n",
    "micro_df = micro_df.drop(columns=columns_to_drop)"
   ]
  },
  {
   "cell_type": "code",
   "execution_count": 130,
   "id": "f3cca6b2-b196-4dbe-b4d0-c06bd63da22a",
   "metadata": {},
   "outputs": [
    {
     "data": {
      "text/html": [
       "<div>\n",
       "<style scoped>\n",
       "    .dataframe tbody tr th:only-of-type {\n",
       "        vertical-align: middle;\n",
       "    }\n",
       "\n",
       "    .dataframe tbody tr th {\n",
       "        vertical-align: top;\n",
       "    }\n",
       "\n",
       "    .dataframe thead th {\n",
       "        text-align: right;\n",
       "    }\n",
       "</style>\n",
       "<table border=\"1\" class=\"dataframe\">\n",
       "  <thead>\n",
       "    <tr style=\"text-align: right;\">\n",
       "      <th></th>\n",
       "      <th>microevent_id</th>\n",
       "      <th>subject_id</th>\n",
       "      <th>hadm_id</th>\n",
       "      <th>micro_specimen_id</th>\n",
       "      <th>chartdate</th>\n",
       "      <th>org_name</th>\n",
       "    </tr>\n",
       "  </thead>\n",
       "  <tbody>\n",
       "    <tr>\n",
       "      <th>1</th>\n",
       "      <td>95</td>\n",
       "      <td>10000719</td>\n",
       "      <td>NaN</td>\n",
       "      <td>4691510</td>\n",
       "      <td>2140-03-28</td>\n",
       "      <td>POSITIVE FOR GROUP B BETA STREPTOCOCCI</td>\n",
       "    </tr>\n",
       "    <tr>\n",
       "      <th>5</th>\n",
       "      <td>420</td>\n",
       "      <td>10001319</td>\n",
       "      <td>NaN</td>\n",
       "      <td>2654897</td>\n",
       "      <td>2135-06-10</td>\n",
       "      <td>GRAM POSITIVE BACTERIA</td>\n",
       "    </tr>\n",
       "    <tr>\n",
       "      <th>23</th>\n",
       "      <td>614</td>\n",
       "      <td>10001884</td>\n",
       "      <td>NaN</td>\n",
       "      <td>2893463</td>\n",
       "      <td>2125-12-01</td>\n",
       "      <td>POSITIVE FOR INFLUENZA A VIRAL ANTIGEN</td>\n",
       "    </tr>\n",
       "    <tr>\n",
       "      <th>64</th>\n",
       "      <td>871</td>\n",
       "      <td>10002266</td>\n",
       "      <td>NaN</td>\n",
       "      <td>3980855</td>\n",
       "      <td>2124-08-28</td>\n",
       "      <td>GRAM POSITIVE BACTERIA</td>\n",
       "    </tr>\n",
       "    <tr>\n",
       "      <th>117</th>\n",
       "      <td>927</td>\n",
       "      <td>10002428</td>\n",
       "      <td>NaN</td>\n",
       "      <td>1704201</td>\n",
       "      <td>2156-05-11</td>\n",
       "      <td>LACTOBACILLUS SPECIES</td>\n",
       "    </tr>\n",
       "  </tbody>\n",
       "</table>\n",
       "</div>"
      ],
      "text/plain": [
       "     microevent_id  subject_id  hadm_id  micro_specimen_id  chartdate  \\\n",
       "1               95    10000719      NaN            4691510 2140-03-28   \n",
       "5              420    10001319      NaN            2654897 2135-06-10   \n",
       "23             614    10001884      NaN            2893463 2125-12-01   \n",
       "64             871    10002266      NaN            3980855 2124-08-28   \n",
       "117            927    10002428      NaN            1704201 2156-05-11   \n",
       "\n",
       "                                   org_name  \n",
       "1    POSITIVE FOR GROUP B BETA STREPTOCOCCI  \n",
       "5                    GRAM POSITIVE BACTERIA  \n",
       "23   POSITIVE FOR INFLUENZA A VIRAL ANTIGEN  \n",
       "64                   GRAM POSITIVE BACTERIA  \n",
       "117                   LACTOBACILLUS SPECIES  "
      ]
     },
     "execution_count": 130,
     "metadata": {},
     "output_type": "execute_result"
    }
   ],
   "source": [
    "micro_df.head()"
   ]
  },
  {
   "cell_type": "code",
   "execution_count": 131,
   "id": "34e3096c-7081-492b-93b6-91e5751d316e",
   "metadata": {},
   "outputs": [
    {
     "name": "stdout",
     "output_type": "stream",
     "text": [
      "DataFrame has been saved as dataframes/hosp_microbiologyevents.csv\n"
     ]
    }
   ],
   "source": [
    "save_df_as_csv(micro_df, 'hosp_microbiologyevents.csv')"
   ]
  },
  {
   "cell_type": "markdown",
   "id": "653ea97a-f9c5-471e-9865-dadf0fa3d481",
   "metadata": {},
   "source": [
    "## Pharmacy"
   ]
  },
  {
   "cell_type": "markdown",
   "id": "07d23d4e-89f5-41a8-a607-342807ef363d",
   "metadata": {},
   "source": [
    "## POE"
   ]
  },
  {
   "cell_type": "markdown",
   "id": "9830f9dc-745f-466a-966f-494f578ae78d",
   "metadata": {},
   "source": [
    "## Prescriptions\n",
    "- EMAR - administration of the medication\n",
    "- POE - provider order of the medication\n",
    "- Pharmacy - info on filled meds prescribed\n",
    "- Prescriptions - similar to pharmacy (?)\n",
    "\n",
    "  The plan - start with prescriptions, and then can try joining with pharmacy table and see if there's other information that could be of use"
   ]
  },
  {
   "cell_type": "code",
   "execution_count": 132,
   "id": "73305c4d-6f83-4a85-8426-77a69f8de84b",
   "metadata": {},
   "outputs": [
    {
     "name": "stdout",
     "output_type": "stream",
     "text": [
      "Connected to db: smcdougall\n"
     ]
    },
    {
     "data": {
      "text/html": [
       "<div>\n",
       "<style scoped>\n",
       "    .dataframe tbody tr th:only-of-type {\n",
       "        vertical-align: middle;\n",
       "    }\n",
       "\n",
       "    .dataframe tbody tr th {\n",
       "        vertical-align: top;\n",
       "    }\n",
       "\n",
       "    .dataframe thead th {\n",
       "        text-align: right;\n",
       "    }\n",
       "</style>\n",
       "<table border=\"1\" class=\"dataframe\">\n",
       "  <thead>\n",
       "    <tr style=\"text-align: right;\">\n",
       "      <th></th>\n",
       "      <th>subject_id</th>\n",
       "      <th>hadm_id</th>\n",
       "      <th>pharmacy_id</th>\n",
       "      <th>poe_id</th>\n",
       "      <th>poe_seq</th>\n",
       "      <th>order_provider_id</th>\n",
       "      <th>starttime</th>\n",
       "      <th>stoptime</th>\n",
       "      <th>drug_type</th>\n",
       "      <th>drug</th>\n",
       "      <th>...</th>\n",
       "      <th>gsn</th>\n",
       "      <th>ndc</th>\n",
       "      <th>prod_strength</th>\n",
       "      <th>form_rx</th>\n",
       "      <th>dose_val_rx</th>\n",
       "      <th>dose_unit_rx</th>\n",
       "      <th>form_val_disp</th>\n",
       "      <th>form_unit_disp</th>\n",
       "      <th>doses_per_24_hrs</th>\n",
       "      <th>route</th>\n",
       "    </tr>\n",
       "  </thead>\n",
       "  <tbody>\n",
       "    <tr>\n",
       "      <th>0</th>\n",
       "      <td>10000719</td>\n",
       "      <td>24558333</td>\n",
       "      <td>17659077</td>\n",
       "      <td>10000719-58</td>\n",
       "      <td>58.0</td>\n",
       "      <td>P40TJE</td>\n",
       "      <td>2140-04-16 10:00:00</td>\n",
       "      <td>2140-04-18 17:00:00</td>\n",
       "      <td>MAIN</td>\n",
       "      <td>Ferrous Sulfate</td>\n",
       "      <td>...</td>\n",
       "      <td>001645</td>\n",
       "      <td>00182402889</td>\n",
       "      <td>325 mg Tablet</td>\n",
       "      <td>None</td>\n",
       "      <td>325</td>\n",
       "      <td>mg</td>\n",
       "      <td>1</td>\n",
       "      <td>TAB</td>\n",
       "      <td>1.0</td>\n",
       "      <td>PO</td>\n",
       "    </tr>\n",
       "    <tr>\n",
       "      <th>1</th>\n",
       "      <td>10000719</td>\n",
       "      <td>24558333</td>\n",
       "      <td>27930529</td>\n",
       "      <td>10000719-48</td>\n",
       "      <td>48.0</td>\n",
       "      <td>P459OQ</td>\n",
       "      <td>2140-04-16 03:00:00</td>\n",
       "      <td>2140-04-18 17:00:00</td>\n",
       "      <td>MAIN</td>\n",
       "      <td>Oxycodone-Acetaminophen</td>\n",
       "      <td>...</td>\n",
       "      <td>004222</td>\n",
       "      <td>00406051262</td>\n",
       "      <td>5mg/325mg Tablet</td>\n",
       "      <td>None</td>\n",
       "      <td>1-2</td>\n",
       "      <td>TAB</td>\n",
       "      <td>1-2</td>\n",
       "      <td>TAB</td>\n",
       "      <td>NaN</td>\n",
       "      <td>PO</td>\n",
       "    </tr>\n",
       "    <tr>\n",
       "      <th>2</th>\n",
       "      <td>10000719</td>\n",
       "      <td>24558333</td>\n",
       "      <td>28367240</td>\n",
       "      <td>10000719-52</td>\n",
       "      <td>52.0</td>\n",
       "      <td>P459OQ</td>\n",
       "      <td>2140-04-16 03:00:00</td>\n",
       "      <td>2140-04-18 17:00:00</td>\n",
       "      <td>MAIN</td>\n",
       "      <td>Bisacodyl</td>\n",
       "      <td>...</td>\n",
       "      <td>002944</td>\n",
       "      <td>00574705050</td>\n",
       "      <td>10mg Suppository</td>\n",
       "      <td>None</td>\n",
       "      <td>10</td>\n",
       "      <td>mg</td>\n",
       "      <td>1</td>\n",
       "      <td>SUPP</td>\n",
       "      <td>NaN</td>\n",
       "      <td>PR</td>\n",
       "    </tr>\n",
       "    <tr>\n",
       "      <th>3</th>\n",
       "      <td>10000719</td>\n",
       "      <td>24558333</td>\n",
       "      <td>30078745</td>\n",
       "      <td>10000719-49</td>\n",
       "      <td>49.0</td>\n",
       "      <td>P459OQ</td>\n",
       "      <td>2140-04-16 03:00:00</td>\n",
       "      <td>2140-04-18 17:00:00</td>\n",
       "      <td>MAIN</td>\n",
       "      <td>Ibuprofen</td>\n",
       "      <td>...</td>\n",
       "      <td>008349</td>\n",
       "      <td>00182181089</td>\n",
       "      <td>600mg Tablet</td>\n",
       "      <td>None</td>\n",
       "      <td>600</td>\n",
       "      <td>mg</td>\n",
       "      <td>1</td>\n",
       "      <td>TAB</td>\n",
       "      <td>NaN</td>\n",
       "      <td>PO</td>\n",
       "    </tr>\n",
       "    <tr>\n",
       "      <th>4</th>\n",
       "      <td>10000719</td>\n",
       "      <td>24558333</td>\n",
       "      <td>31677531</td>\n",
       "      <td>10000719-36</td>\n",
       "      <td>36.0</td>\n",
       "      <td>P459OQ</td>\n",
       "      <td>2140-04-16 03:00:00</td>\n",
       "      <td>2140-04-18 17:00:00</td>\n",
       "      <td>MAIN</td>\n",
       "      <td>Oxytocin</td>\n",
       "      <td>...</td>\n",
       "      <td>003283</td>\n",
       "      <td>63323001201</td>\n",
       "      <td>10 Units/mL Vial</td>\n",
       "      <td>None</td>\n",
       "      <td>20</td>\n",
       "      <td>UNIT</td>\n",
       "      <td>2</td>\n",
       "      <td>VIAL</td>\n",
       "      <td>NaN</td>\n",
       "      <td>IV DRIP</td>\n",
       "    </tr>\n",
       "  </tbody>\n",
       "</table>\n",
       "<p>5 rows × 21 columns</p>\n",
       "</div>"
      ],
      "text/plain": [
       "   subject_id   hadm_id  pharmacy_id       poe_id  poe_seq order_provider_id  \\\n",
       "0    10000719  24558333     17659077  10000719-58     58.0            P40TJE   \n",
       "1    10000719  24558333     27930529  10000719-48     48.0            P459OQ   \n",
       "2    10000719  24558333     28367240  10000719-52     52.0            P459OQ   \n",
       "3    10000719  24558333     30078745  10000719-49     49.0            P459OQ   \n",
       "4    10000719  24558333     31677531  10000719-36     36.0            P459OQ   \n",
       "\n",
       "            starttime            stoptime drug_type                     drug  \\\n",
       "0 2140-04-16 10:00:00 2140-04-18 17:00:00      MAIN          Ferrous Sulfate   \n",
       "1 2140-04-16 03:00:00 2140-04-18 17:00:00      MAIN  Oxycodone-Acetaminophen   \n",
       "2 2140-04-16 03:00:00 2140-04-18 17:00:00      MAIN                Bisacodyl   \n",
       "3 2140-04-16 03:00:00 2140-04-18 17:00:00      MAIN                Ibuprofen   \n",
       "4 2140-04-16 03:00:00 2140-04-18 17:00:00      MAIN                 Oxytocin   \n",
       "\n",
       "   ...     gsn          ndc     prod_strength form_rx dose_val_rx  \\\n",
       "0  ...  001645  00182402889     325 mg Tablet    None         325   \n",
       "1  ...  004222  00406051262  5mg/325mg Tablet    None         1-2   \n",
       "2  ...  002944  00574705050  10mg Suppository    None          10   \n",
       "3  ...  008349  00182181089      600mg Tablet    None         600   \n",
       "4  ...  003283  63323001201  10 Units/mL Vial    None          20   \n",
       "\n",
       "  dose_unit_rx form_val_disp form_unit_disp doses_per_24_hrs    route  \n",
       "0           mg             1            TAB              1.0       PO  \n",
       "1          TAB           1-2            TAB              NaN       PO  \n",
       "2           mg             1           SUPP              NaN       PR  \n",
       "3           mg             1            TAB              NaN       PO  \n",
       "4         UNIT             2           VIAL              NaN  IV DRIP  \n",
       "\n",
       "[5 rows x 21 columns]"
      ]
     },
     "execution_count": 132,
     "metadata": {},
     "output_type": "execute_result"
    }
   ],
   "source": [
    "connection = connect_to_postgres(DB_NAME, USERNAME, PASSWORD, HOST, PORT)\n",
    "prescriptions_df = load_table(connection, 'mimiciv_hosp.filtered_prescriptions')\n",
    "prescriptions_df.head()"
   ]
  },
  {
   "cell_type": "code",
   "execution_count": 133,
   "id": "6cccc587-7a1b-4dc1-8e6a-1b4465fffc56",
   "metadata": {},
   "outputs": [],
   "source": [
    "ndc_mapping = pd.read_csv('ndc_product.txt', header=0, delimiter=\"\\t\", encoding='cp1252')"
   ]
  },
  {
   "cell_type": "code",
   "execution_count": 134,
   "id": "f0dd0ab4-f7ef-446a-8b77-5fc8fb180bc9",
   "metadata": {},
   "outputs": [],
   "source": [
    "##### from MIMIC preprocessing\n",
    "def read_ndc_mapping(map_path):\n",
    "    ndc_map = pd.read_csv(map_path, header=0, delimiter='\\t', encoding='latin1')\n",
    "    ndc_map.NONPROPRIETARYNAME = ndc_map.NONPROPRIETARYNAME.fillna(\"\")\n",
    "    ndc_map.NONPROPRIETARYNAME = ndc_map.NONPROPRIETARYNAME.apply(str.lower)\n",
    "    ndc_map.columns = list(map(str.lower, ndc_map.columns))\n",
    "    return ndc_map\n",
    "\n",
    "def read_prescriptions_table(mimic4_path):\n",
    "    meds = dataframe_from_csv(os.path.join(mimic4_path, 'hosp/prescriptions.csv.gz'))\n",
    "    meds = meds.reset_index()\n",
    "    return meds[['subject_id', 'hadm_id', 'starttime', 'stoptime', 'ndc', 'gsn', 'drug', 'drug_type']]\n",
    "\n",
    "### NOTE - not used anywhere...\n",
    "def get_generic_drugs(mapping, df):\n",
    "    \"\"\"Takes NDC product table and prescriptions dataframe; adds column with NDC table's corresponding generic name\"\"\"\n",
    "\n",
    "    def brand_to_generic(ndc):\n",
    "        # We only want the first 2 sections of the NDC code: xxxx-xxxx-xx\n",
    "        matches = list(re.finditer(r\"-\", ndc))\n",
    "        if len(matches) > 1:\n",
    "            ndc = ndc[:matches[1].start()]\n",
    "        try:\n",
    "            return mapping.loc[mapping.PRODUCTNDC == ndc].NONPROPRIETARYNAME.iloc[0]\n",
    "        except:\n",
    "            print(\"Error: \", ndc)\n",
    "            return np.nan\n",
    "\n",
    "    df['generic_drug_name'] = df['ndc'].apply(brand_to_generic)\n",
    "\n",
    "def preproc_meds(module_path:str, adm_cohort_path:str, mapping:str) -> pd.DataFrame:\n",
    "  \n",
    "    adm = pd.read_csv(adm_cohort_path, usecols=['hadm_id', 'admittime'], parse_dates = ['admittime'])\n",
    "    med = pd.read_csv(module_path, compression='gzip', usecols=['subject_id', 'hadm_id', 'drug', 'starttime', 'stoptime','ndc','dose_val_rx'], parse_dates = ['starttime', 'stoptime'])\n",
    "    med = med.merge(adm, left_on = 'hadm_id', right_on = 'hadm_id', how = 'inner')\n",
    "    med['start_hours_from_admit'] = med['starttime'] - med['admittime']\n",
    "    med['stop_hours_from_admit'] = med['stoptime'] - med['admittime']\n",
    "    \n",
    "    # Normalize drug strings and remove potential duplicates\n",
    "\n",
    "    med.drug = med.drug.fillna(\"\").astype(str)\n",
    "    med.drug = med.drug.apply(lambda x: x.lower().strip().replace(\" \", \"_\") if not \"\" else \"\")\n",
    "    med.drug=med.drug.dropna().apply(lambda x: x.lower().strip())\n",
    "    \n",
    "    #meds.to_csv(output_path, compression='gzip', index=False)\n",
    "    med = ndc_meds(med,mapping)\n",
    "    \n",
    "    print(\"Number of unique type of drug: \", med.drug.nunique())\n",
    "    print(\"Number of unique type of drug (after grouping to use Non propietary names): \", med.nonproprietaryname.nunique())\n",
    "    print(\"Total number of rows: \", med.shape[0])\n",
    "    print(\"# Admissions:  \", med.hadm_id.nunique())\n",
    "    \n",
    "    return med\n",
    "    \n",
    "    \n",
    "def ndc_meds(med, mapping:str) -> pd.DataFrame:\n",
    "    \n",
    "    # Convert any nan values to a dummy value\n",
    "    med.ndc = med.ndc.fillna(-1)\n",
    "\n",
    "    # Ensures the decimal is removed from the ndc col\n",
    "    med.ndc = med.ndc.astype(\"Int64\")\n",
    "    \n",
    "    # The NDC codes in the prescription dataset is the 11-digit NDC code, although codes are missing\n",
    "    # their leading 0's because the column was interpreted as a float then integer; this function restores\n",
    "    # the leading 0's, then obtains only the PRODUCT and MANUFACTUERER parts of the NDC code (first 9 digits)\n",
    "    def to_str(ndc):\n",
    "        if ndc < 0:         # dummy values are < 0\n",
    "            return np.nan\n",
    "        ndc = str(ndc)\n",
    "        return ((\"0\"*(11 - len(ndc))) + ndc)[0:-2]\n",
    "\n",
    "    # The mapping table is ALSO incorrectly formatted for 11 digit NDC codes. An 11 digit NDC is in the\n",
    "    # form of xxxxx-xxxx-xx for manufacturer-product-dosage. The hyphens are in the correct spots, but\n",
    "    # the number of digits within each section may not be 5-4-2, in which case we add leading 0's to each\n",
    "    # to restore the 11 digit format. However, we only take the 5-4 sections, just like the to_str function\n",
    "    def format_ndc_table(ndc):\n",
    "        parts = ndc.split(\"-\")\n",
    "        return (\"0\"*(5 - len(parts[0])) + parts[0]) + (\"0\"*(4 - len(parts[1])) + parts[1])\n",
    "    \n",
    "    def read_ndc_mapping2(map_path):\n",
    "        ndc_map = pd.read_csv(map_path, header=0, delimiter='\\t', encoding = 'latin1')\n",
    "        ndc_map.NONPROPRIETARYNAME = ndc_map.NONPROPRIETARYNAME.fillna(\"\")\n",
    "        ndc_map.NONPROPRIETARYNAME = ndc_map.NONPROPRIETARYNAME.apply(str.lower)\n",
    "        ndc_map.columns = list(map(str.lower, ndc_map.columns))\n",
    "        return ndc_map\n",
    "    \n",
    "    # Read in NDC mapping table\n",
    "    ndc_map = read_ndc_mapping2(mapping)[['productndc', 'nonproprietaryname', 'pharm_classes']]\n",
    "    \n",
    "    # Normalize the NDC codes in the mapping table so that they can be merged\n",
    "    ndc_map['new_ndc'] = ndc_map.productndc.apply(format_ndc_table)\n",
    "    ndc_map.drop_duplicates(subset=['new_ndc', 'nonproprietaryname'], inplace=True)\n",
    "    med['new_ndc'] = med.ndc.apply(to_str)  \n",
    "    \n",
    "    # Left join the med dataset to the mapping information\n",
    "    med = med.merge(ndc_map, how='inner', left_on='new_ndc', right_on='new_ndc')\n",
    "    \n",
    "    # In NDC mapping table, the pharm_class col is structured as a text string, separating different pharm classes from eachother\n",
    "    # This can be [PE], [EPC], and others, but we're interested in EPC. Luckily, between each commas, it states if a phrase is [EPC]\n",
    "    # So, we just string split by commas and keep phrases containing \"[EPC]\"\n",
    "    def get_EPC(s):\n",
    "        \"\"\"Gets the Established Pharmacologic Class (EPC) from the mapping table\"\"\"\n",
    "        if type(s) != str:\n",
    "            return np.nan\n",
    "        words = s.split(\",\")\n",
    "        return [x for x in words if \"[EPC]\" in x]\n",
    "    \n",
    "    # Function generates a list of EPCs, as a drug can have multiple EPCs\n",
    "    med['EPC'] = med.pharm_classes.apply(get_EPC)\n",
    "    \n",
    "    return med"
   ]
  },
  {
   "cell_type": "code",
   "execution_count": 135,
   "id": "dfe0660a-a338-47a6-be3d-c4c7e3530b49",
   "metadata": {},
   "outputs": [
    {
     "name": "stdout",
     "output_type": "stream",
     "text": [
      "Number of unique type of drug:  368\n",
      "Number of unique type of drug (after grouping to use Non propietary names):  289\n",
      "Total number of rows:  92311\n",
      "# Admissions:   24443\n"
     ]
    }
   ],
   "source": [
    "ndc_mapping = read_ndc_mapping('ndc_product.txt')\n",
    "med = prescriptions_df\n",
    "# Normalize drug strings and remove potential duplicates\n",
    "\n",
    "med.dropna(inplace=True)\n",
    "# med.drug = med.drug.fillna(\"\").astype(str)\n",
    "# med.drug = med.drug.apply(lambda x: x.lower().strip().replace(\" \", \"_\") if not \"\" else \"\")\n",
    "# med.drug=med.drug.dropna().apply(lambda x: x.lower().strip())\n",
    "\n",
    "#meds.to_csv(output_path, compression='gzip', index=False)\n",
    "med = ndc_meds(med,'ndc_product.txt')\n",
    "\n",
    "print(\"Number of unique type of drug: \", med.drug.nunique())\n",
    "print(\"Number of unique type of drug (after grouping to use Non propietary names): \", med.nonproprietaryname.nunique())\n",
    "print(\"Total number of rows: \", med.shape[0])\n",
    "print(\"# Admissions:  \", med.hadm_id.nunique())"
   ]
  },
  {
   "cell_type": "code",
   "execution_count": 136,
   "id": "24131de0-0f03-4130-b983-61ca33eb5d4a",
   "metadata": {},
   "outputs": [
    {
     "data": {
      "text/html": [
       "<div>\n",
       "<style scoped>\n",
       "    .dataframe tbody tr th:only-of-type {\n",
       "        vertical-align: middle;\n",
       "    }\n",
       "\n",
       "    .dataframe tbody tr th {\n",
       "        vertical-align: top;\n",
       "    }\n",
       "\n",
       "    .dataframe thead th {\n",
       "        text-align: right;\n",
       "    }\n",
       "</style>\n",
       "<table border=\"1\" class=\"dataframe\">\n",
       "  <thead>\n",
       "    <tr style=\"text-align: right;\">\n",
       "      <th></th>\n",
       "      <th>subject_id</th>\n",
       "      <th>hadm_id</th>\n",
       "      <th>pharmacy_id</th>\n",
       "      <th>poe_id</th>\n",
       "      <th>poe_seq</th>\n",
       "      <th>order_provider_id</th>\n",
       "      <th>starttime</th>\n",
       "      <th>stoptime</th>\n",
       "      <th>drug_type</th>\n",
       "      <th>drug</th>\n",
       "      <th>...</th>\n",
       "      <th>dose_unit_rx</th>\n",
       "      <th>form_val_disp</th>\n",
       "      <th>form_unit_disp</th>\n",
       "      <th>doses_per_24_hrs</th>\n",
       "      <th>route</th>\n",
       "      <th>new_ndc</th>\n",
       "      <th>productndc</th>\n",
       "      <th>nonproprietaryname</th>\n",
       "      <th>pharm_classes</th>\n",
       "      <th>EPC</th>\n",
       "    </tr>\n",
       "  </thead>\n",
       "  <tbody>\n",
       "    <tr>\n",
       "      <th>0</th>\n",
       "      <td>10001884</td>\n",
       "      <td>21268656</td>\n",
       "      <td>20911660</td>\n",
       "      <td>10001884-235</td>\n",
       "      <td>235.0</td>\n",
       "      <td>P71L3J</td>\n",
       "      <td>2125-10-18 23:00:00</td>\n",
       "      <td>2125-10-19 22:00:00</td>\n",
       "      <td>MAIN</td>\n",
       "      <td>Magnesium Sulfate</td>\n",
       "      <td>...</td>\n",
       "      <td>gm</td>\n",
       "      <td>1</td>\n",
       "      <td>BAG</td>\n",
       "      <td>1.0</td>\n",
       "      <td>IV</td>\n",
       "      <td>004096729</td>\n",
       "      <td>0409-6729</td>\n",
       "      <td>magnesium sulfate in water</td>\n",
       "      <td>Calculi Dissolution Agent [EPC],Magnesium Ion ...</td>\n",
       "      <td>[Calculi Dissolution Agent [EPC], Osmotic Laxa...</td>\n",
       "    </tr>\n",
       "    <tr>\n",
       "      <th>1</th>\n",
       "      <td>10001884</td>\n",
       "      <td>21577720</td>\n",
       "      <td>43978059</td>\n",
       "      <td>10001884-379</td>\n",
       "      <td>379.0</td>\n",
       "      <td>P66XA3</td>\n",
       "      <td>2125-12-27 10:00:00</td>\n",
       "      <td>2125-12-27 21:00:00</td>\n",
       "      <td>MAIN</td>\n",
       "      <td>Magnesium Sulfate</td>\n",
       "      <td>...</td>\n",
       "      <td>gm</td>\n",
       "      <td>1</td>\n",
       "      <td>BAG</td>\n",
       "      <td>1.0</td>\n",
       "      <td>IV</td>\n",
       "      <td>004096729</td>\n",
       "      <td>0409-6729</td>\n",
       "      <td>magnesium sulfate in water</td>\n",
       "      <td>Calculi Dissolution Agent [EPC],Magnesium Ion ...</td>\n",
       "      <td>[Calculi Dissolution Agent [EPC], Osmotic Laxa...</td>\n",
       "    </tr>\n",
       "    <tr>\n",
       "      <th>2</th>\n",
       "      <td>10001884</td>\n",
       "      <td>23594368</td>\n",
       "      <td>88623458</td>\n",
       "      <td>10001884-337</td>\n",
       "      <td>337.0</td>\n",
       "      <td>P23RXE</td>\n",
       "      <td>2125-12-03 10:00:00</td>\n",
       "      <td>2125-12-03 19:00:00</td>\n",
       "      <td>MAIN</td>\n",
       "      <td>Magnesium Sulfate</td>\n",
       "      <td>...</td>\n",
       "      <td>gm</td>\n",
       "      <td>1</td>\n",
       "      <td>BAG</td>\n",
       "      <td>1.0</td>\n",
       "      <td>IV</td>\n",
       "      <td>004096729</td>\n",
       "      <td>0409-6729</td>\n",
       "      <td>magnesium sulfate in water</td>\n",
       "      <td>Calculi Dissolution Agent [EPC],Magnesium Ion ...</td>\n",
       "      <td>[Calculi Dissolution Agent [EPC], Osmotic Laxa...</td>\n",
       "    </tr>\n",
       "    <tr>\n",
       "      <th>3</th>\n",
       "      <td>10001884</td>\n",
       "      <td>26170293</td>\n",
       "      <td>8650292</td>\n",
       "      <td>10001884-739</td>\n",
       "      <td>739.0</td>\n",
       "      <td>P063OH</td>\n",
       "      <td>2130-04-17 12:00:00</td>\n",
       "      <td>2130-04-18 11:00:00</td>\n",
       "      <td>MAIN</td>\n",
       "      <td>Magnesium Sulfate</td>\n",
       "      <td>...</td>\n",
       "      <td>gm</td>\n",
       "      <td>1</td>\n",
       "      <td>BAG</td>\n",
       "      <td>1.0</td>\n",
       "      <td>IV</td>\n",
       "      <td>004096729</td>\n",
       "      <td>0409-6729</td>\n",
       "      <td>magnesium sulfate in water</td>\n",
       "      <td>Calculi Dissolution Agent [EPC],Magnesium Ion ...</td>\n",
       "      <td>[Calculi Dissolution Agent [EPC], Osmotic Laxa...</td>\n",
       "    </tr>\n",
       "    <tr>\n",
       "      <th>4</th>\n",
       "      <td>10001884</td>\n",
       "      <td>26184834</td>\n",
       "      <td>3491803</td>\n",
       "      <td>10001884-1794</td>\n",
       "      <td>1794.0</td>\n",
       "      <td>P72T1M</td>\n",
       "      <td>2131-01-14 20:00:00</td>\n",
       "      <td>2131-01-16 07:00:00</td>\n",
       "      <td>MAIN</td>\n",
       "      <td>Vancomycin</td>\n",
       "      <td>...</td>\n",
       "      <td>mg</td>\n",
       "      <td>1</td>\n",
       "      <td>BAG</td>\n",
       "      <td>2.0</td>\n",
       "      <td>IV</td>\n",
       "      <td>003383580</td>\n",
       "      <td>0338-3580</td>\n",
       "      <td>vancomycin hydrochloride</td>\n",
       "      <td>Glycopeptide Antibacterial [EPC],Glycopeptides...</td>\n",
       "      <td>[Glycopeptide Antibacterial [EPC]]</td>\n",
       "    </tr>\n",
       "  </tbody>\n",
       "</table>\n",
       "<p>5 rows × 26 columns</p>\n",
       "</div>"
      ],
      "text/plain": [
       "   subject_id   hadm_id  pharmacy_id         poe_id  poe_seq  \\\n",
       "0    10001884  21268656     20911660   10001884-235    235.0   \n",
       "1    10001884  21577720     43978059   10001884-379    379.0   \n",
       "2    10001884  23594368     88623458   10001884-337    337.0   \n",
       "3    10001884  26170293      8650292   10001884-739    739.0   \n",
       "4    10001884  26184834      3491803  10001884-1794   1794.0   \n",
       "\n",
       "  order_provider_id           starttime            stoptime drug_type  \\\n",
       "0            P71L3J 2125-10-18 23:00:00 2125-10-19 22:00:00      MAIN   \n",
       "1            P66XA3 2125-12-27 10:00:00 2125-12-27 21:00:00      MAIN   \n",
       "2            P23RXE 2125-12-03 10:00:00 2125-12-03 19:00:00      MAIN   \n",
       "3            P063OH 2130-04-17 12:00:00 2130-04-18 11:00:00      MAIN   \n",
       "4            P72T1M 2131-01-14 20:00:00 2131-01-16 07:00:00      MAIN   \n",
       "\n",
       "                drug  ... dose_unit_rx form_val_disp  form_unit_disp  \\\n",
       "0  Magnesium Sulfate  ...           gm             1             BAG   \n",
       "1  Magnesium Sulfate  ...           gm             1             BAG   \n",
       "2  Magnesium Sulfate  ...           gm             1             BAG   \n",
       "3  Magnesium Sulfate  ...           gm             1             BAG   \n",
       "4         Vancomycin  ...           mg             1             BAG   \n",
       "\n",
       "  doses_per_24_hrs route    new_ndc productndc          nonproprietaryname  \\\n",
       "0              1.0    IV  004096729  0409-6729  magnesium sulfate in water   \n",
       "1              1.0    IV  004096729  0409-6729  magnesium sulfate in water   \n",
       "2              1.0    IV  004096729  0409-6729  magnesium sulfate in water   \n",
       "3              1.0    IV  004096729  0409-6729  magnesium sulfate in water   \n",
       "4              2.0    IV  003383580  0338-3580    vancomycin hydrochloride   \n",
       "\n",
       "                                       pharm_classes  \\\n",
       "0  Calculi Dissolution Agent [EPC],Magnesium Ion ...   \n",
       "1  Calculi Dissolution Agent [EPC],Magnesium Ion ...   \n",
       "2  Calculi Dissolution Agent [EPC],Magnesium Ion ...   \n",
       "3  Calculi Dissolution Agent [EPC],Magnesium Ion ...   \n",
       "4  Glycopeptide Antibacterial [EPC],Glycopeptides...   \n",
       "\n",
       "                                                 EPC  \n",
       "0  [Calculi Dissolution Agent [EPC], Osmotic Laxa...  \n",
       "1  [Calculi Dissolution Agent [EPC], Osmotic Laxa...  \n",
       "2  [Calculi Dissolution Agent [EPC], Osmotic Laxa...  \n",
       "3  [Calculi Dissolution Agent [EPC], Osmotic Laxa...  \n",
       "4                 [Glycopeptide Antibacterial [EPC]]  \n",
       "\n",
       "[5 rows x 26 columns]"
      ]
     },
     "execution_count": 136,
     "metadata": {},
     "output_type": "execute_result"
    }
   ],
   "source": [
    "med.head()"
   ]
  },
  {
   "cell_type": "code",
   "execution_count": 137,
   "id": "8dfd47a3-c010-43cf-a4aa-f13378d0d3f2",
   "metadata": {
    "scrolled": true
   },
   "outputs": [
    {
     "data": {
      "text/html": [
       "<div>\n",
       "<style scoped>\n",
       "    .dataframe tbody tr th:only-of-type {\n",
       "        vertical-align: middle;\n",
       "    }\n",
       "\n",
       "    .dataframe tbody tr th {\n",
       "        vertical-align: top;\n",
       "    }\n",
       "\n",
       "    .dataframe thead th {\n",
       "        text-align: right;\n",
       "    }\n",
       "</style>\n",
       "<table border=\"1\" class=\"dataframe\">\n",
       "  <thead>\n",
       "    <tr style=\"text-align: right;\">\n",
       "      <th></th>\n",
       "      <th>subject_id</th>\n",
       "      <th>hadm_id</th>\n",
       "      <th>pharmacy_id</th>\n",
       "      <th>starttime</th>\n",
       "      <th>stoptime</th>\n",
       "      <th>prod_strength</th>\n",
       "      <th>dose_val_rx</th>\n",
       "      <th>dose_unit_rx</th>\n",
       "      <th>doses_per_24_hrs</th>\n",
       "      <th>route</th>\n",
       "      <th>nonproprietaryname</th>\n",
       "    </tr>\n",
       "  </thead>\n",
       "  <tbody>\n",
       "    <tr>\n",
       "      <th>0</th>\n",
       "      <td>10001884</td>\n",
       "      <td>21268656</td>\n",
       "      <td>20911660</td>\n",
       "      <td>2125-10-18 23:00:00</td>\n",
       "      <td>2125-10-19 22:00:00</td>\n",
       "      <td>2 g / 50 mL Premix Bag</td>\n",
       "      <td>2</td>\n",
       "      <td>gm</td>\n",
       "      <td>1.0</td>\n",
       "      <td>IV</td>\n",
       "      <td>magnesium sulfate in water</td>\n",
       "    </tr>\n",
       "    <tr>\n",
       "      <th>1</th>\n",
       "      <td>10001884</td>\n",
       "      <td>21577720</td>\n",
       "      <td>43978059</td>\n",
       "      <td>2125-12-27 10:00:00</td>\n",
       "      <td>2125-12-27 21:00:00</td>\n",
       "      <td>2 g / 50 mL Premix Bag</td>\n",
       "      <td>2</td>\n",
       "      <td>gm</td>\n",
       "      <td>1.0</td>\n",
       "      <td>IV</td>\n",
       "      <td>magnesium sulfate in water</td>\n",
       "    </tr>\n",
       "    <tr>\n",
       "      <th>2</th>\n",
       "      <td>10001884</td>\n",
       "      <td>23594368</td>\n",
       "      <td>88623458</td>\n",
       "      <td>2125-12-03 10:00:00</td>\n",
       "      <td>2125-12-03 19:00:00</td>\n",
       "      <td>2 g / 50 mL Premix Bag</td>\n",
       "      <td>2</td>\n",
       "      <td>gm</td>\n",
       "      <td>1.0</td>\n",
       "      <td>IV</td>\n",
       "      <td>magnesium sulfate in water</td>\n",
       "    </tr>\n",
       "    <tr>\n",
       "      <th>3</th>\n",
       "      <td>10001884</td>\n",
       "      <td>26170293</td>\n",
       "      <td>8650292</td>\n",
       "      <td>2130-04-17 12:00:00</td>\n",
       "      <td>2130-04-18 11:00:00</td>\n",
       "      <td>2 g / 50 mL Premix Bag</td>\n",
       "      <td>2</td>\n",
       "      <td>gm</td>\n",
       "      <td>1.0</td>\n",
       "      <td>IV</td>\n",
       "      <td>magnesium sulfate in water</td>\n",
       "    </tr>\n",
       "    <tr>\n",
       "      <th>4</th>\n",
       "      <td>10001884</td>\n",
       "      <td>26184834</td>\n",
       "      <td>3491803</td>\n",
       "      <td>2131-01-14 20:00:00</td>\n",
       "      <td>2131-01-16 07:00:00</td>\n",
       "      <td>750 mg / 150 mL Premix Bag</td>\n",
       "      <td>750</td>\n",
       "      <td>mg</td>\n",
       "      <td>2.0</td>\n",
       "      <td>IV</td>\n",
       "      <td>vancomycin hydrochloride</td>\n",
       "    </tr>\n",
       "  </tbody>\n",
       "</table>\n",
       "</div>"
      ],
      "text/plain": [
       "   subject_id   hadm_id  pharmacy_id           starttime            stoptime  \\\n",
       "0    10001884  21268656     20911660 2125-10-18 23:00:00 2125-10-19 22:00:00   \n",
       "1    10001884  21577720     43978059 2125-12-27 10:00:00 2125-12-27 21:00:00   \n",
       "2    10001884  23594368     88623458 2125-12-03 10:00:00 2125-12-03 19:00:00   \n",
       "3    10001884  26170293      8650292 2130-04-17 12:00:00 2130-04-18 11:00:00   \n",
       "4    10001884  26184834      3491803 2131-01-14 20:00:00 2131-01-16 07:00:00   \n",
       "\n",
       "                 prod_strength dose_val_rx dose_unit_rx  doses_per_24_hrs  \\\n",
       "0       2 g / 50 mL Premix Bag           2           gm               1.0   \n",
       "1       2 g / 50 mL Premix Bag           2           gm               1.0   \n",
       "2       2 g / 50 mL Premix Bag           2           gm               1.0   \n",
       "3       2 g / 50 mL Premix Bag           2           gm               1.0   \n",
       "4  750 mg / 150 mL Premix Bag          750           mg               2.0   \n",
       "\n",
       "  route          nonproprietaryname  \n",
       "0    IV  magnesium sulfate in water  \n",
       "1    IV  magnesium sulfate in water  \n",
       "2    IV  magnesium sulfate in water  \n",
       "3    IV  magnesium sulfate in water  \n",
       "4    IV    vancomycin hydrochloride  "
      ]
     },
     "execution_count": 137,
     "metadata": {},
     "output_type": "execute_result"
    }
   ],
   "source": [
    "med_cols_to_drop = ['drug_type', 'formulary_drug_cd', 'gsn', 'form_rx', 'poe_id', 'poe_seq', 'order_provider_id',\n",
    "                   'productndc', 'new_ndc', 'pharm_classes', 'EPC', 'form_unit_disp', 'form_val_disp', 'ndc',\n",
    "                   'drug']\n",
    "med = med.drop(columns=med_cols_to_drop)\n",
    "med.head()\n",
    "# columns used in MIMIC preprocessing paper:\n",
    "#'subject_id', 'hadm_id', 'starttime','stoptime','drug','nonproprietaryname', 'start_hours_from_admit', 'stop_hours_from_admit','dose_val_rx"
   ]
  },
  {
   "cell_type": "code",
   "execution_count": 138,
   "id": "bf81acd1-6520-437d-8dd8-a6721bba42ed",
   "metadata": {},
   "outputs": [
    {
     "name": "stdout",
     "output_type": "stream",
     "text": [
      "DataFrame has been saved as dataframes/hosp_prescriptions.csv\n"
     ]
    }
   ],
   "source": [
    "save_df_as_csv(med, 'hosp_prescriptions.csv')"
   ]
  },
  {
   "cell_type": "markdown",
   "id": "ca57de6e-de7f-4365-9d86-0d552f0881af",
   "metadata": {},
   "source": [
    "## Procedures_ICD"
   ]
  },
  {
   "cell_type": "markdown",
   "id": "005a1003-0621-4e43-90b5-2c77dc5cb96b",
   "metadata": {},
   "source": [
    "- Use similar approach that was used in \"An Extensive Data Processing Pipeline for MIMIC-IV\" for diagnoses\n",
    "- Note that the paper filters out ICD9 codes because there is no access to a mapping of ICD-9 to ICD-10 procedures\n",
    "\n",
    "\n",
    "My approach:\n",
    "- read in procedure table\n",
    "- drop unnecessary columns\n",
    "- look at how many ICD-9 codes there are and how to deal with them\n",
    "- convert each of the 3 first digits, then check new shape"
   ]
  },
  {
   "cell_type": "code",
   "execution_count": 139,
   "id": "aceb96aa-5cc6-4e6b-83e9-c51001a52fa1",
   "metadata": {},
   "outputs": [
    {
     "name": "stdout",
     "output_type": "stream",
     "text": [
      "Connected to db: smcdougall\n",
      "(82672, 6)\n"
     ]
    },
    {
     "data": {
      "text/html": [
       "<div>\n",
       "<style scoped>\n",
       "    .dataframe tbody tr th:only-of-type {\n",
       "        vertical-align: middle;\n",
       "    }\n",
       "\n",
       "    .dataframe tbody tr th {\n",
       "        vertical-align: top;\n",
       "    }\n",
       "\n",
       "    .dataframe thead th {\n",
       "        text-align: right;\n",
       "    }\n",
       "</style>\n",
       "<table border=\"1\" class=\"dataframe\">\n",
       "  <thead>\n",
       "    <tr style=\"text-align: right;\">\n",
       "      <th></th>\n",
       "      <th>subject_id</th>\n",
       "      <th>hadm_id</th>\n",
       "      <th>seq_num</th>\n",
       "      <th>chartdate</th>\n",
       "      <th>icd_code</th>\n",
       "      <th>icd_version</th>\n",
       "    </tr>\n",
       "  </thead>\n",
       "  <tbody>\n",
       "    <tr>\n",
       "      <th>0</th>\n",
       "      <td>10000719</td>\n",
       "      <td>24558333</td>\n",
       "      <td>1</td>\n",
       "      <td>2140-04-16</td>\n",
       "      <td>7569</td>\n",
       "      <td>9</td>\n",
       "    </tr>\n",
       "    <tr>\n",
       "      <th>1</th>\n",
       "      <td>10001319</td>\n",
       "      <td>23005466</td>\n",
       "      <td>1</td>\n",
       "      <td>2135-07-20</td>\n",
       "      <td>7359</td>\n",
       "      <td>9</td>\n",
       "    </tr>\n",
       "    <tr>\n",
       "      <th>2</th>\n",
       "      <td>10001319</td>\n",
       "      <td>24591241</td>\n",
       "      <td>1</td>\n",
       "      <td>2138-11-10</td>\n",
       "      <td>7359</td>\n",
       "      <td>9</td>\n",
       "    </tr>\n",
       "    <tr>\n",
       "      <th>3</th>\n",
       "      <td>10001319</td>\n",
       "      <td>29230609</td>\n",
       "      <td>1</td>\n",
       "      <td>2134-04-15</td>\n",
       "      <td>7569</td>\n",
       "      <td>9</td>\n",
       "    </tr>\n",
       "    <tr>\n",
       "      <th>4</th>\n",
       "      <td>10001472</td>\n",
       "      <td>23506139</td>\n",
       "      <td>1</td>\n",
       "      <td>2186-01-11</td>\n",
       "      <td>7569</td>\n",
       "      <td>9</td>\n",
       "    </tr>\n",
       "  </tbody>\n",
       "</table>\n",
       "</div>"
      ],
      "text/plain": [
       "   subject_id   hadm_id  seq_num   chartdate icd_code  icd_version\n",
       "0    10000719  24558333        1  2140-04-16     7569            9\n",
       "1    10001319  23005466        1  2135-07-20     7359            9\n",
       "2    10001319  24591241        1  2138-11-10     7359            9\n",
       "3    10001319  29230609        1  2134-04-15     7569            9\n",
       "4    10001472  23506139        1  2186-01-11     7569            9"
      ]
     },
     "execution_count": 139,
     "metadata": {},
     "output_type": "execute_result"
    }
   ],
   "source": [
    "connection = connect_to_postgres(DB_NAME, USERNAME, PASSWORD, HOST, PORT)\n",
    "proc_df = load_table(connection, 'mimiciv_hosp.filtered_procedures_icd')\n",
    "print(proc_df.shape)\n",
    "proc_df.head()"
   ]
  },
  {
   "cell_type": "code",
   "execution_count": 140,
   "id": "6f83dc4a-ff43-463c-8bd8-458c4353e1dd",
   "metadata": {},
   "outputs": [
    {
     "data": {
      "text/plain": [
       "(53882, 6)"
      ]
     },
     "execution_count": 140,
     "metadata": {},
     "output_type": "execute_result"
    }
   ],
   "source": [
    "proc_df[proc_df['icd_version'] == 9].shape "
   ]
  },
  {
   "cell_type": "markdown",
   "id": "d28e33a7-a835-44b9-9106-e82a2616d077",
   "metadata": {},
   "source": [
    "The majority of the procedures are icd version 9... so it doesn't really make sense in this case to drop them. Maybe start with converting to first 3 digits and then do a manual mapping somehow\n",
    "\n",
    "See https://www.cms.gov/medicare/coding/icd10/downloads/icd-10_gem_fact_sheet.pdf - not sure if CMS actually has an ICD-9 to ICD-10 mapping that is publicly available"
   ]
  },
  {
   "cell_type": "code",
   "execution_count": 141,
   "id": "4d9cf245-1923-41ae-8205-ad4725ffacc9",
   "metadata": {},
   "outputs": [
    {
     "data": {
      "text/plain": [
       "4227"
      ]
     },
     "execution_count": 141,
     "metadata": {},
     "output_type": "execute_result"
    }
   ],
   "source": [
    "proc_df['icd_code'].nunique()"
   ]
  },
  {
   "cell_type": "code",
   "execution_count": 143,
   "id": "c77b9735-e8d6-46d2-8b4b-ef093ee29ef9",
   "metadata": {},
   "outputs": [
    {
     "data": {
      "text/plain": [
       "1416"
      ]
     },
     "execution_count": 143,
     "metadata": {},
     "output_type": "execute_result"
    }
   ],
   "source": [
    "proc_df[proc_df['icd_version'] == 9]['icd_code'].nunique()"
   ]
  },
  {
   "cell_type": "code",
   "execution_count": 144,
   "id": "a8457896-5d66-45f7-9c3f-e81bf801a59c",
   "metadata": {},
   "outputs": [
    {
     "data": {
      "text/plain": [
       "6        5A1945Z\n",
       "7        5A1955Z\n",
       "8        0BH17EZ\n",
       "9        5A1223Z\n",
       "10       5A12012\n",
       "          ...   \n",
       "82664    04LE3DT\n",
       "82665    0U7C7ZZ\n",
       "82666    B41CYZZ\n",
       "82667    0DBN8ZX\n",
       "82668    0DBP8ZX\n",
       "Name: icd_code, Length: 28790, dtype: object"
      ]
     },
     "execution_count": 144,
     "metadata": {},
     "output_type": "execute_result"
    }
   ],
   "source": [
    "proc_df[proc_df['icd_version'] == 10]['icd_code']"
   ]
  },
  {
   "cell_type": "markdown",
   "id": "e8f707a3-b965-4ff4-947f-55f9bc8dde24",
   "metadata": {},
   "source": [
    "- https://www.nber.org/research/data/icd-9-cm-and-icd-10-cm-and-icd-10-pcs-crosswalk-or-general-equivalence-mappings -- look into this and see if I can find a CSV file that can be used for mapping purposes\n",
    "\n",
    "\n",
    "- PCS == Procedure Coding System\n",
    "- use General Equivalence Mappings (GEMs) from CMS for mappings ICD-9 PCS to ICD-10 PCS\n",
    "- then group by root operation -----> first character is broad category (e.g., Medical and Surgical, Obstetrics, Imaging, etc.), fourth character (Root Operation), and sometimes subsequent characters (Body Part, Approach, Device, etc.)\n",
    "- Filter by section and root operation\n",
    "- ICD-9-CM codes consist of up to five alphanumeric characters but ICD-10-PCS codes are much more detailed and specific than ICD-9-CM. They consist of seven alphanumeric characters ((which means we may need to use a different approach for consolidation rather than simply truncating to the first 3 digits...)"
   ]
  },
  {
   "cell_type": "markdown",
   "id": "58f750f7-45e9-4616-84fb-cfe636f9d49f",
   "metadata": {},
   "source": [
    "Source - https://www.cms.gov/medicare/coding/icd10/downloads/2014-pcs-procedure-coding-system.pdf\n",
    "\n",
    "First character represents the \"section\":\n",
    "- 0 - Medical and Surgical\n",
    "- 1 - Obstetrics\n",
    "- 2 - Placement\n",
    "- 3 - Administration\n",
    "- 4 - Measurement and Monitoring\n",
    "- 5 - Extracorporeal Assistance and Performance\n",
    "- 6 - Extracorporeal Therapies\n",
    "- 7 - Osteopathic\n",
    "- 8 - Other Procedures\n",
    "- 9 - Chiropractic\n",
    "- B - Imaging\n",
    "- C - Nuclear Medicine\n",
    "- D - Radiation Oncology\n",
    "- F - Physical Rehabilitation and Diagnostic Audiology\n",
    "- G - Mental Health\n",
    "- H - Substance Abuse Treatment\n",
    "\n",
    "- Character 1 = Section\n",
    "- Character 2 = Body System\n",
    "- Character 3 = Root Operation\n",
    "- Character 4 = Body Part\n",
    "- Character 5 = Approach\n",
    "- Character 6 = Device\n",
    "- Character 7 = Qualifier\n",
    "\n",
    "\n",
    "**Decision**: Only use the first 4 characters. 5 represents approach to reach procedure site. 6 represents whether device was used during procedure. 7 may have specific meaning for a limited range of values. Not super necessary for the analysis."
   ]
  },
  {
   "cell_type": "code",
   "execution_count": 146,
   "id": "1a7b3166-1ddf-4208-a184-d18a71986ae0",
   "metadata": {},
   "outputs": [],
   "source": [
    "# ICD-9-PCS to ICD-10-PCS CSV file from nber.org (link above)\n",
    "procedure_mapping_df = pd.read_csv('icd9toicd10pcsgem.csv')"
   ]
  },
  {
   "cell_type": "code",
   "execution_count": 147,
   "id": "5dffc1c1-01fa-423d-b2d6-80b79ac7a900",
   "metadata": {
    "scrolled": true
   },
   "outputs": [
    {
     "data": {
      "text/html": [
       "<div>\n",
       "<style scoped>\n",
       "    .dataframe tbody tr th:only-of-type {\n",
       "        vertical-align: middle;\n",
       "    }\n",
       "\n",
       "    .dataframe tbody tr th {\n",
       "        vertical-align: top;\n",
       "    }\n",
       "\n",
       "    .dataframe thead th {\n",
       "        text-align: right;\n",
       "    }\n",
       "</style>\n",
       "<table border=\"1\" class=\"dataframe\">\n",
       "  <thead>\n",
       "    <tr style=\"text-align: right;\">\n",
       "      <th></th>\n",
       "      <th>icd9cm</th>\n",
       "      <th>icd10cm</th>\n",
       "      <th>flags</th>\n",
       "      <th>approximate</th>\n",
       "      <th>no_map</th>\n",
       "      <th>combination</th>\n",
       "      <th>scenario</th>\n",
       "      <th>choice_list</th>\n",
       "    </tr>\n",
       "  </thead>\n",
       "  <tbody>\n",
       "    <tr>\n",
       "      <th>69361</th>\n",
       "      <td>9999</td>\n",
       "      <td>0WQLXZZ</td>\n",
       "      <td>10000</td>\n",
       "      <td>1</td>\n",
       "      <td>0</td>\n",
       "      <td>0</td>\n",
       "      <td>0</td>\n",
       "      <td>0</td>\n",
       "    </tr>\n",
       "    <tr>\n",
       "      <th>69362</th>\n",
       "      <td>9999</td>\n",
       "      <td>0XQ6XZZ</td>\n",
       "      <td>10000</td>\n",
       "      <td>1</td>\n",
       "      <td>0</td>\n",
       "      <td>0</td>\n",
       "      <td>0</td>\n",
       "      <td>0</td>\n",
       "    </tr>\n",
       "    <tr>\n",
       "      <th>69363</th>\n",
       "      <td>9999</td>\n",
       "      <td>0XQ7XZZ</td>\n",
       "      <td>10000</td>\n",
       "      <td>1</td>\n",
       "      <td>0</td>\n",
       "      <td>0</td>\n",
       "      <td>0</td>\n",
       "      <td>0</td>\n",
       "    </tr>\n",
       "    <tr>\n",
       "      <th>69364</th>\n",
       "      <td>9999</td>\n",
       "      <td>0YQ9XZZ</td>\n",
       "      <td>10000</td>\n",
       "      <td>1</td>\n",
       "      <td>0</td>\n",
       "      <td>0</td>\n",
       "      <td>0</td>\n",
       "      <td>0</td>\n",
       "    </tr>\n",
       "    <tr>\n",
       "      <th>69365</th>\n",
       "      <td>9999</td>\n",
       "      <td>0YQBXZZ</td>\n",
       "      <td>10000</td>\n",
       "      <td>1</td>\n",
       "      <td>0</td>\n",
       "      <td>0</td>\n",
       "      <td>0</td>\n",
       "      <td>0</td>\n",
       "    </tr>\n",
       "  </tbody>\n",
       "</table>\n",
       "</div>"
      ],
      "text/plain": [
       "       icd9cm  icd10cm  flags  approximate  no_map  combination  scenario  \\\n",
       "69361    9999  0WQLXZZ  10000            1       0            0         0   \n",
       "69362    9999  0XQ6XZZ  10000            1       0            0         0   \n",
       "69363    9999  0XQ7XZZ  10000            1       0            0         0   \n",
       "69364    9999  0YQ9XZZ  10000            1       0            0         0   \n",
       "69365    9999  0YQBXZZ  10000            1       0            0         0   \n",
       "\n",
       "       choice_list  \n",
       "69361            0  \n",
       "69362            0  \n",
       "69363            0  \n",
       "69364            0  \n",
       "69365            0  "
      ]
     },
     "execution_count": 147,
     "metadata": {},
     "output_type": "execute_result"
    }
   ],
   "source": [
    "# captures ICD-9 codes from 0-9999\n",
    "# note 'icd9cm' and 'icd10cm' columns are the same as those references in the diagnosis mapping that was imported\n",
    "procedure_mapping_df.tail()"
   ]
  },
  {
   "cell_type": "code",
   "execution_count": 148,
   "id": "e471a696-e12a-46f5-97f8-41a896146da2",
   "metadata": {},
   "outputs": [],
   "source": [
    "def standardize_icd_procedures(\n",
    "    mapping: pd.DataFrame, proc: pd.DataFrame, map_code_col=\"icd9cm\", root=True\n",
    ") -> str:\n",
    "    \"\"\"Takes an ICD9 -> ICD10 mapping table and a ICD procedures dataframe;\n",
    "    adds column with converted ICD10 column\"\"\"\n",
    "\n",
    "    count = 0\n",
    "    code_cols = mapping.columns\n",
    "    errors = []\n",
    "\n",
    "    def icd_9to10(icd):\n",
    "        \"\"\"Function use to apply over the proc DataFrame for ICD9->ICD10 conversion\"\"\"\n",
    "\n",
    "        # if root and does_not_start_with_prefixes(icd, PREG_ICD9_PREFIXES):\n",
    "        #     icd = icd[:3]\n",
    "\n",
    "        if map_code_col not in code_cols:\n",
    "            errors.append(f\"ICD NOT FOUND: {icd}\")\n",
    "            return np.nan\n",
    "\n",
    "        print(int(icd))\n",
    "        matches = mapping.loc[mapping[map_code_col] == int(icd)]\n",
    "        if matches.shape[0] == 0:\n",
    "            errors.append(f\"ICD NOT FOUND: {icd}\")\n",
    "            return np.nan\n",
    "\n",
    "        return mapping.loc[mapping[map_code_col] == int(icd)].icd10cm.iloc[0]\n",
    "\n",
    "    # Create new column with original codes as default\n",
    "    col_name = \"root_icd10_convert\"\n",
    "    proc[col_name] = proc[\"icd_code\"].values\n",
    "\n",
    "    # Group identical ICD9 codes, then convert all ICD9 codes within\n",
    "    # a group to ICD10\n",
    "    for code, group in proc.loc[proc.icd_version == 9].groupby(by=\"icd_code\"):\n",
    "        new_code = icd_9to10(code)\n",
    "        for idx in group.index.values:\n",
    "            # Modify values of original df at the indexes in the groups\n",
    "            proc.at[idx, col_name] = new_code\n",
    "\n",
    "        count += group.shape[0]\n",
    "\n",
    "    proc[\"root\"] = proc[col_name].apply(lambda x: x[:4] if type(x) is str\n",
    "                                        else np.nan)"
   ]
  },
  {
   "cell_type": "code",
   "execution_count": 150,
   "id": "fae79fee-411a-4074-9441-0b417e52596d",
   "metadata": {},
   "outputs": [
    {
     "data": {
      "text/plain": [
       "3640"
      ]
     },
     "execution_count": 150,
     "metadata": {},
     "output_type": "execute_result"
    }
   ],
   "source": [
    "proc_df['root_icd10_convert'].nunique()"
   ]
  },
  {
   "cell_type": "code",
   "execution_count": 151,
   "id": "9617abc4-8964-4c97-834d-e06681f42844",
   "metadata": {},
   "outputs": [],
   "source": [
    "proc_df.dropna(inplace=True)"
   ]
  },
  {
   "cell_type": "code",
   "execution_count": 152,
   "id": "f96b4cbd-b85f-4a04-907e-37c4f4dc53f9",
   "metadata": {},
   "outputs": [
    {
     "data": {
      "text/plain": [
       "1848"
      ]
     },
     "execution_count": 152,
     "metadata": {},
     "output_type": "execute_result"
    }
   ],
   "source": [
    "proc_df[proc_df['root'].str.startswith('0')]['root'].nunique()"
   ]
  },
  {
   "cell_type": "code",
   "execution_count": 153,
   "id": "0240517e-0641-476a-b5f1-b09a181415a6",
   "metadata": {},
   "outputs": [
    {
     "data": {
      "text/plain": [
       "14"
      ]
     },
     "execution_count": 153,
     "metadata": {},
     "output_type": "execute_result"
    }
   ],
   "source": [
    "proc_df[proc_df['root'].str.startswith('1')]['root'].nunique()"
   ]
  },
  {
   "cell_type": "code",
   "execution_count": 154,
   "id": "e1a7536a-3dda-4875-b889-f7b19c984490",
   "metadata": {},
   "outputs": [],
   "source": [
    "# only keep Medical and Surgical, and Obstetrics procedures\n",
    "filtered_proc_df = proc_df[proc_df['root'].str.startswith(('0', '1'))]"
   ]
  },
  {
   "cell_type": "code",
   "execution_count": 155,
   "id": "502b628b-6d7d-4645-b258-242129f74f86",
   "metadata": {},
   "outputs": [
    {
     "data": {
      "text/plain": [
       "1862"
      ]
     },
     "execution_count": 155,
     "metadata": {},
     "output_type": "execute_result"
    }
   ],
   "source": [
    "filtered_proc_df['root'].nunique()"
   ]
  },
  {
   "cell_type": "code",
   "execution_count": 156,
   "id": "fc3cfb01-005b-495c-b686-87730b5f464e",
   "metadata": {},
   "outputs": [
    {
     "data": {
      "text/plain": [
       "0        0TQD\n",
       "1        10E0\n",
       "2        10E0\n",
       "3        0TQD\n",
       "4        0TQD\n",
       "         ... \n",
       "82665    0U7C\n",
       "82667    0DBN\n",
       "82668    0DBP\n",
       "82670    1090\n",
       "82671    0TQD\n",
       "Name: root, Length: 61667, dtype: object"
      ]
     },
     "execution_count": 156,
     "metadata": {},
     "output_type": "execute_result"
    }
   ],
   "source": [
    "filtered_proc_df['root']"
   ]
  },
  {
   "cell_type": "code",
   "execution_count": 157,
   "id": "7d0c51cd-e3f8-4825-8f3a-e15b9f1d8c05",
   "metadata": {},
   "outputs": [
    {
     "data": {
      "text/html": [
       "<div>\n",
       "<style scoped>\n",
       "    .dataframe tbody tr th:only-of-type {\n",
       "        vertical-align: middle;\n",
       "    }\n",
       "\n",
       "    .dataframe tbody tr th {\n",
       "        vertical-align: top;\n",
       "    }\n",
       "\n",
       "    .dataframe thead th {\n",
       "        text-align: right;\n",
       "    }\n",
       "</style>\n",
       "<table border=\"1\" class=\"dataframe\">\n",
       "  <thead>\n",
       "    <tr style=\"text-align: right;\">\n",
       "      <th></th>\n",
       "      <th>subject_id</th>\n",
       "      <th>hadm_id</th>\n",
       "      <th>seq_num</th>\n",
       "      <th>chartdate</th>\n",
       "      <th>icd_code</th>\n",
       "      <th>icd_version</th>\n",
       "      <th>root_icd10_convert</th>\n",
       "      <th>root</th>\n",
       "    </tr>\n",
       "  </thead>\n",
       "  <tbody>\n",
       "    <tr>\n",
       "      <th>0</th>\n",
       "      <td>10000719</td>\n",
       "      <td>24558333</td>\n",
       "      <td>1</td>\n",
       "      <td>2140-04-16</td>\n",
       "      <td>7569</td>\n",
       "      <td>9</td>\n",
       "      <td>0TQD7ZZ</td>\n",
       "      <td>0TQD</td>\n",
       "    </tr>\n",
       "    <tr>\n",
       "      <th>1</th>\n",
       "      <td>10001319</td>\n",
       "      <td>23005466</td>\n",
       "      <td>1</td>\n",
       "      <td>2135-07-20</td>\n",
       "      <td>7359</td>\n",
       "      <td>9</td>\n",
       "      <td>10E0XZZ</td>\n",
       "      <td>10E0</td>\n",
       "    </tr>\n",
       "    <tr>\n",
       "      <th>2</th>\n",
       "      <td>10001319</td>\n",
       "      <td>24591241</td>\n",
       "      <td>1</td>\n",
       "      <td>2138-11-10</td>\n",
       "      <td>7359</td>\n",
       "      <td>9</td>\n",
       "      <td>10E0XZZ</td>\n",
       "      <td>10E0</td>\n",
       "    </tr>\n",
       "    <tr>\n",
       "      <th>3</th>\n",
       "      <td>10001319</td>\n",
       "      <td>29230609</td>\n",
       "      <td>1</td>\n",
       "      <td>2134-04-15</td>\n",
       "      <td>7569</td>\n",
       "      <td>9</td>\n",
       "      <td>0TQD7ZZ</td>\n",
       "      <td>0TQD</td>\n",
       "    </tr>\n",
       "    <tr>\n",
       "      <th>4</th>\n",
       "      <td>10001472</td>\n",
       "      <td>23506139</td>\n",
       "      <td>1</td>\n",
       "      <td>2186-01-11</td>\n",
       "      <td>7569</td>\n",
       "      <td>9</td>\n",
       "      <td>0TQD7ZZ</td>\n",
       "      <td>0TQD</td>\n",
       "    </tr>\n",
       "    <tr>\n",
       "      <th>...</th>\n",
       "      <td>...</td>\n",
       "      <td>...</td>\n",
       "      <td>...</td>\n",
       "      <td>...</td>\n",
       "      <td>...</td>\n",
       "      <td>...</td>\n",
       "      <td>...</td>\n",
       "      <td>...</td>\n",
       "    </tr>\n",
       "    <tr>\n",
       "      <th>82665</th>\n",
       "      <td>19999043</td>\n",
       "      <td>24799384</td>\n",
       "      <td>4</td>\n",
       "      <td>2164-12-18</td>\n",
       "      <td>0U7C7ZZ</td>\n",
       "      <td>10</td>\n",
       "      <td>0U7C7ZZ</td>\n",
       "      <td>0U7C</td>\n",
       "    </tr>\n",
       "    <tr>\n",
       "      <th>82667</th>\n",
       "      <td>19999464</td>\n",
       "      <td>23033573</td>\n",
       "      <td>1</td>\n",
       "      <td>2171-08-02</td>\n",
       "      <td>0DBN8ZX</td>\n",
       "      <td>10</td>\n",
       "      <td>0DBN8ZX</td>\n",
       "      <td>0DBN</td>\n",
       "    </tr>\n",
       "    <tr>\n",
       "      <th>82668</th>\n",
       "      <td>19999464</td>\n",
       "      <td>23033573</td>\n",
       "      <td>2</td>\n",
       "      <td>2171-08-02</td>\n",
       "      <td>0DBP8ZX</td>\n",
       "      <td>10</td>\n",
       "      <td>0DBP8ZX</td>\n",
       "      <td>0DBP</td>\n",
       "    </tr>\n",
       "    <tr>\n",
       "      <th>82670</th>\n",
       "      <td>19999464</td>\n",
       "      <td>28135642</td>\n",
       "      <td>2</td>\n",
       "      <td>2164-01-19</td>\n",
       "      <td>7309</td>\n",
       "      <td>9</td>\n",
       "      <td>10907ZC</td>\n",
       "      <td>1090</td>\n",
       "    </tr>\n",
       "    <tr>\n",
       "      <th>82671</th>\n",
       "      <td>19999464</td>\n",
       "      <td>28135642</td>\n",
       "      <td>3</td>\n",
       "      <td>2164-01-19</td>\n",
       "      <td>7569</td>\n",
       "      <td>9</td>\n",
       "      <td>0TQD7ZZ</td>\n",
       "      <td>0TQD</td>\n",
       "    </tr>\n",
       "  </tbody>\n",
       "</table>\n",
       "<p>61667 rows × 8 columns</p>\n",
       "</div>"
      ],
      "text/plain": [
       "       subject_id   hadm_id  seq_num   chartdate icd_code  icd_version  \\\n",
       "0        10000719  24558333        1  2140-04-16     7569            9   \n",
       "1        10001319  23005466        1  2135-07-20     7359            9   \n",
       "2        10001319  24591241        1  2138-11-10     7359            9   \n",
       "3        10001319  29230609        1  2134-04-15     7569            9   \n",
       "4        10001472  23506139        1  2186-01-11     7569            9   \n",
       "...           ...       ...      ...         ...      ...          ...   \n",
       "82665    19999043  24799384        4  2164-12-18  0U7C7ZZ           10   \n",
       "82667    19999464  23033573        1  2171-08-02  0DBN8ZX           10   \n",
       "82668    19999464  23033573        2  2171-08-02  0DBP8ZX           10   \n",
       "82670    19999464  28135642        2  2164-01-19     7309            9   \n",
       "82671    19999464  28135642        3  2164-01-19     7569            9   \n",
       "\n",
       "      root_icd10_convert  root  \n",
       "0                0TQD7ZZ  0TQD  \n",
       "1                10E0XZZ  10E0  \n",
       "2                10E0XZZ  10E0  \n",
       "3                0TQD7ZZ  0TQD  \n",
       "4                0TQD7ZZ  0TQD  \n",
       "...                  ...   ...  \n",
       "82665            0U7C7ZZ  0U7C  \n",
       "82667            0DBN8ZX  0DBN  \n",
       "82668            0DBP8ZX  0DBP  \n",
       "82670            10907ZC  1090  \n",
       "82671            0TQD7ZZ  0TQD  \n",
       "\n",
       "[61667 rows x 8 columns]"
      ]
     },
     "execution_count": 157,
     "metadata": {},
     "output_type": "execute_result"
    }
   ],
   "source": [
    "filtered_proc_df"
   ]
  },
  {
   "cell_type": "code",
   "execution_count": 158,
   "id": "0c20c815-5bb5-430a-a338-5b7e6b532bc3",
   "metadata": {},
   "outputs": [
    {
     "data": {
      "text/html": [
       "<div>\n",
       "<style scoped>\n",
       "    .dataframe tbody tr th:only-of-type {\n",
       "        vertical-align: middle;\n",
       "    }\n",
       "\n",
       "    .dataframe tbody tr th {\n",
       "        vertical-align: top;\n",
       "    }\n",
       "\n",
       "    .dataframe thead th {\n",
       "        text-align: right;\n",
       "    }\n",
       "</style>\n",
       "<table border=\"1\" class=\"dataframe\">\n",
       "  <thead>\n",
       "    <tr style=\"text-align: right;\">\n",
       "      <th></th>\n",
       "      <th>subject_id</th>\n",
       "      <th>hadm_id</th>\n",
       "      <th>seq_num</th>\n",
       "      <th>chartdate</th>\n",
       "      <th>icd_code_root</th>\n",
       "    </tr>\n",
       "  </thead>\n",
       "  <tbody>\n",
       "    <tr>\n",
       "      <th>0</th>\n",
       "      <td>10000719</td>\n",
       "      <td>24558333</td>\n",
       "      <td>1</td>\n",
       "      <td>2140-04-16</td>\n",
       "      <td>0TQD</td>\n",
       "    </tr>\n",
       "    <tr>\n",
       "      <th>1</th>\n",
       "      <td>10001319</td>\n",
       "      <td>23005466</td>\n",
       "      <td>1</td>\n",
       "      <td>2135-07-20</td>\n",
       "      <td>10E0</td>\n",
       "    </tr>\n",
       "    <tr>\n",
       "      <th>2</th>\n",
       "      <td>10001319</td>\n",
       "      <td>24591241</td>\n",
       "      <td>1</td>\n",
       "      <td>2138-11-10</td>\n",
       "      <td>10E0</td>\n",
       "    </tr>\n",
       "    <tr>\n",
       "      <th>3</th>\n",
       "      <td>10001319</td>\n",
       "      <td>29230609</td>\n",
       "      <td>1</td>\n",
       "      <td>2134-04-15</td>\n",
       "      <td>0TQD</td>\n",
       "    </tr>\n",
       "    <tr>\n",
       "      <th>4</th>\n",
       "      <td>10001472</td>\n",
       "      <td>23506139</td>\n",
       "      <td>1</td>\n",
       "      <td>2186-01-11</td>\n",
       "      <td>0TQD</td>\n",
       "    </tr>\n",
       "  </tbody>\n",
       "</table>\n",
       "</div>"
      ],
      "text/plain": [
       "   subject_id   hadm_id  seq_num   chartdate icd_code_root\n",
       "0    10000719  24558333        1  2140-04-16          0TQD\n",
       "1    10001319  23005466        1  2135-07-20          10E0\n",
       "2    10001319  24591241        1  2138-11-10          10E0\n",
       "3    10001319  29230609        1  2134-04-15          0TQD\n",
       "4    10001472  23506139        1  2186-01-11          0TQD"
      ]
     },
     "execution_count": 158,
     "metadata": {},
     "output_type": "execute_result"
    }
   ],
   "source": [
    "filtered_proc_df = filtered_proc_df.assign(icd_code_root=filtered_proc_df['root']).drop(columns=['root_icd10_convert', 'root', 'icd_version',\n",
    "                                                                                                'icd_code'])\n",
    "filtered_proc_df.head()"
   ]
  },
  {
   "cell_type": "code",
   "execution_count": 159,
   "id": "24157d1c-4d82-4ded-bc62-bfbdb673a14b",
   "metadata": {},
   "outputs": [
    {
     "data": {
      "text/plain": [
       "(61667, 5)"
      ]
     },
     "execution_count": 159,
     "metadata": {},
     "output_type": "execute_result"
    }
   ],
   "source": [
    "filtered_proc_df.shape"
   ]
  },
  {
   "cell_type": "code",
   "execution_count": 160,
   "id": "074ceee8-b5f0-47ea-a1d5-25d949fdd18e",
   "metadata": {},
   "outputs": [
    {
     "data": {
      "text/plain": [
       "1862"
      ]
     },
     "execution_count": 160,
     "metadata": {},
     "output_type": "execute_result"
    }
   ],
   "source": [
    "filtered_proc_df['icd_code_root'].nunique()"
   ]
  },
  {
   "cell_type": "code",
   "execution_count": 161,
   "id": "0e31469b-ef85-4c00-8dc5-ff6a69bc7d23",
   "metadata": {},
   "outputs": [
    {
     "name": "stdout",
     "output_type": "stream",
     "text": [
      "DataFrame has been saved as dataframes/hosp_procedures.csv\n"
     ]
    }
   ],
   "source": [
    "save_df_as_csv(filtered_proc_df, 'hosp_procedures.csv')"
   ]
  }
 ],
 "metadata": {
  "kernelspec": {
   "display_name": "Python 3 (ipykernel)",
   "language": "python",
   "name": "python3"
  },
  "language_info": {
   "codemirror_mode": {
    "name": "ipython",
    "version": 3
   },
   "file_extension": ".py",
   "mimetype": "text/x-python",
   "name": "python",
   "nbconvert_exporter": "python",
   "pygments_lexer": "ipython3",
   "version": "3.11.5"
  }
 },
 "nbformat": 4,
 "nbformat_minor": 5
}
