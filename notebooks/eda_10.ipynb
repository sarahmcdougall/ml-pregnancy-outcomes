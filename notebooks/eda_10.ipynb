{
  "nbformat": 4,
  "nbformat_minor": 0,
  "metadata": {
    "colab": {
      "provenance": []
    },
    "kernelspec": {
      "name": "python3",
      "display_name": "Python 3"
    },
    "language_info": {
      "name": "python"
    }
  },
  "cells": [
    {
      "cell_type": "code",
      "execution_count": 3,
      "metadata": {
        "id": "x-QCLGAJgvXF",
        "colab": {
          "base_uri": "https://localhost:8080/"
        },
        "outputId": "e42438ba-6984-40d2-fd61-1a46a7ea37d2"
      },
      "outputs": [
        {
          "output_type": "stream",
          "name": "stdout",
          "text": [
            "Mounted at /content/drive\n"
          ]
        }
      ],
      "source": [
        "### COMMENT OUT IF RUNNING LOCALLY (NOT VIA GOOGLE COLAB) ###\n",
        "from google.colab import drive\n",
        "drive.mount('/content/drive')"
      ]
    },
    {
      "cell_type": "code",
      "source": [
        "import numpy as np\n",
        "import pandas as pd\n",
        "import matplotlib.pyplot as plt\n",
        "import seaborn as sns\n",
        "from scipy.sparse import csr_matrix\n",
        "\n",
        "def read_csv(csv_file_path):\n",
        "    # Read the CSV file into a DataFrame\n",
        "    df = pd.read_csv(csv_file_path)\n",
        "    print(csv_file_path)\n",
        "    print('Shape:', df.shape)\n",
        "    print(df.head())\n",
        "    return df"
      ],
      "metadata": {
        "id": "les1WGBkgz-m"
      },
      "execution_count": 4,
      "outputs": []
    },
    {
      "cell_type": "code",
      "source": [
        "input_data = read_csv('/content/drive/MyDrive/final_dfs/final_static_data.csv')"
      ],
      "metadata": {
        "id": "wjJn1cmCg6g7",
        "colab": {
          "base_uri": "https://localhost:8080/"
        },
        "outputId": "51ba0675-64a6-479c-a4b8-efb441359136"
      },
      "execution_count": 5,
      "outputs": [
        {
          "output_type": "stream",
          "name": "stderr",
          "text": [
            "<ipython-input-4-08f417b51748>:9: DtypeWarning: Columns (3) have mixed types. Specify dtype option on import or set low_memory=False.\n",
            "  df = pd.read_csv(csv_file_path)\n"
          ]
        },
        {
          "output_type": "stream",
          "name": "stdout",
          "text": [
            "/content/drive/MyDrive/final_dfs/final_static_data.csv\n",
            "Shape: (109751, 1789)\n",
            "   subject_id            charttime     hadm_id         duration  \\\n",
            "0    16925328  2151-05-25 15:03:00  20000024.0   75120000000000   \n",
            "1    11146739  2190-01-15 14:41:00  20000057.0  255480000000000   \n",
            "2    14546051  2130-12-10 00:00:00  20000069.0  175560000000000   \n",
            "3    13074106  2135-05-20 00:00:00  20000102.0  296880000000000   \n",
            "4    13559141  2174-12-06 00:00:00  20000347.0  177780000000000   \n",
            "\n",
            "     microbiology_orgname curr_service   care_unit_group disposition  \\\n",
            "0                     NaN          MED         Emergency        HOME   \n",
            "1                     NaN          MED         Emergency     UNKNOWN   \n",
            "2  GRAM POSITIVE BACTERIA          OBS  Labor & Delivery        HOME   \n",
            "3                     NaN          OBS  Labor & Delivery        HOME   \n",
            "4     SERRATIA MARCESCENS          MED         Emergency     UNKNOWN   \n",
            "\n",
            "   is_ed_visit  is_urgent_lab_event  ...                       race  \\\n",
            "0            0                    1  ...                    Unknown   \n",
            "1            0                    1  ...                    Unknown   \n",
            "2            0                    0  ...         Hispanic or Latino   \n",
            "3            0                    0  ...  Black or African American   \n",
            "4            0                    0  ...                      White   \n",
            "\n",
            "   dod_binary  procedure_during_admission  transfer_status  \\\n",
            "0         0.0                           0               ED   \n",
            "1         0.0                           0               ED   \n",
            "2         0.0                           0            admit   \n",
            "3         0.0                           0            admit   \n",
            "4         1.0                           0               ED   \n",
            "\n",
            "   triage_heartrate_outside_thresh  triage_sbp_outside_thresh  \\\n",
            "0                   Not applicable             Not applicable   \n",
            "1                   Not applicable             Not applicable   \n",
            "2                   Not applicable             Not applicable   \n",
            "3                   Not applicable             Not applicable   \n",
            "4                   Not applicable             Not applicable   \n",
            "\n",
            "   triage_dbp_outside_thresh  triage_resprate_outside_thresh  \\\n",
            "0             Not applicable                  Not applicable   \n",
            "1             Not applicable                  Not applicable   \n",
            "2             Not applicable                  Not applicable   \n",
            "3             Not applicable                  Not applicable   \n",
            "4             Not applicable                  Not applicable   \n",
            "\n",
            "   triage_o2sat_outside_thresh  is_postpartum  \n",
            "0               Not applicable          False  \n",
            "1               Not applicable          False  \n",
            "2               Not applicable           True  \n",
            "3               Not applicable          False  \n",
            "4               Not applicable          False  \n",
            "\n",
            "[5 rows x 1789 columns]\n"
          ]
        }
      ]
    },
    {
      "cell_type": "code",
      "source": [
        "output_data = read_csv('/content/drive/MyDrive/final_dfs/target_outputs.csv')"
      ],
      "metadata": {
        "id": "23PMf1k4g8a3",
        "colab": {
          "base_uri": "https://localhost:8080/"
        },
        "outputId": "f019852d-3d2c-4f5d-e949-31088ec39e64"
      },
      "execution_count": 6,
      "outputs": [
        {
          "output_type": "stream",
          "name": "stdout",
          "text": [
            "/content/drive/MyDrive/final_dfs/target_outputs.csv\n",
            "Shape: (19076, 5)\n",
            "   subject_id  preeclampsia_output  preterm_output  hemorrhage_output  \\\n",
            "0    16925328                    0               0                  0   \n",
            "1    11146739                    0               0                  0   \n",
            "2    14546051                    0               0                  0   \n",
            "3    13074106                    0               1                  1   \n",
            "4    13559141                    0               0                  0   \n",
            "\n",
            "   has_adverse_outcome  \n",
            "0                    0  \n",
            "1                    0  \n",
            "2                    0  \n",
            "3                    1  \n",
            "4                    0  \n"
          ]
        }
      ]
    },
    {
      "cell_type": "markdown",
      "source": [
        "### Format input/output data for EDA\n",
        "- for admissions-level data, add the output data (merge on subject id)\n",
        "- create aggregated represenation of the input data, and combine with the output data (merge on subject id)"
      ],
      "metadata": {
        "id": "cYbwwqrfFA7t"
      }
    },
    {
      "cell_type": "code",
      "source": [
        "def aggregate_by_subject(df):\n",
        "    \"\"\"\n",
        "    Aggregates a DataFrame by subject_id.\n",
        "    \"\"\"\n",
        "    numeric_cols = ['age_at_admission', 'mean_patient_weight']\n",
        "    boolean_cols = [col for col in df.columns if col not in numeric_cols + ['subject_id']]\n",
        "\n",
        "    aggregation_functions = {col: 'mean' for col in numeric_cols}\n",
        "    aggregation_functions.update({col: 'first' for col in boolean_cols})\n",
        "\n",
        "    aggregated_df = df.groupby('subject_id').agg(aggregation_functions).reset_index()\n",
        "    aggregated_df.sort_values(by='subject_id', inplace=True)\n",
        "\n",
        "    return aggregated_df"
      ],
      "metadata": {
        "id": "I0cjkHN7FACJ"
      },
      "execution_count": 7,
      "outputs": []
    },
    {
      "cell_type": "code",
      "source": [
        "# drop charttime, duration since no longer needed\n",
        "input_data = input_data.drop(columns=['charttime', 'duration'])\n",
        "aggregated_input_data = aggregate_by_subject(input_data)"
      ],
      "metadata": {
        "id": "xQU0wyqSF50O"
      },
      "execution_count": 8,
      "outputs": []
    },
    {
      "cell_type": "code",
      "source": [
        "input_data_with_targets = pd.merge(input_data, output_data, on='subject_id', how='left')"
      ],
      "metadata": {
        "id": "5CDtHr8KGnoa"
      },
      "execution_count": 9,
      "outputs": []
    },
    {
      "cell_type": "code",
      "source": [
        "aggregated_input_data_with_targets = pd.merge(aggregated_input_data, output_data, on='subject_id', how='left')"
      ],
      "metadata": {
        "id": "cOAUnrEteYNv"
      },
      "execution_count": 10,
      "outputs": []
    },
    {
      "cell_type": "markdown",
      "source": [
        "## Patient Demographics EDA"
      ],
      "metadata": {
        "id": "Yz7FyeLSD2na"
      }
    },
    {
      "cell_type": "markdown",
      "source": [
        "### Race"
      ],
      "metadata": {
        "id": "QLyYQeOOD85J"
      }
    },
    {
      "cell_type": "code",
      "source": [
        "aggregated_input_data['race'].value_counts()"
      ],
      "metadata": {
        "id": "9v7XMv9AXs67",
        "colab": {
          "base_uri": "https://localhost:8080/",
          "height": 393
        },
        "outputId": "5452f795-e538-46b5-e9b5-3cab4776e325"
      },
      "execution_count": 11,
      "outputs": [
        {
          "output_type": "execute_result",
          "data": {
            "text/plain": [
              "race\n",
              "Unknown                          6832\n",
              "White                            6090\n",
              "Black or African American        3374\n",
              "Hispanic or Latino               1387\n",
              "Asian                            1249\n",
              "Native American/Alaska Native      55\n",
              "Mixed Race/Ethnicity               39\n",
              "South American                     34\n",
              "Pacific Islander                   16\n",
              "Name: count, dtype: int64"
            ],
            "text/html": [
              "<div>\n",
              "<style scoped>\n",
              "    .dataframe tbody tr th:only-of-type {\n",
              "        vertical-align: middle;\n",
              "    }\n",
              "\n",
              "    .dataframe tbody tr th {\n",
              "        vertical-align: top;\n",
              "    }\n",
              "\n",
              "    .dataframe thead th {\n",
              "        text-align: right;\n",
              "    }\n",
              "</style>\n",
              "<table border=\"1\" class=\"dataframe\">\n",
              "  <thead>\n",
              "    <tr style=\"text-align: right;\">\n",
              "      <th></th>\n",
              "      <th>count</th>\n",
              "    </tr>\n",
              "    <tr>\n",
              "      <th>race</th>\n",
              "      <th></th>\n",
              "    </tr>\n",
              "  </thead>\n",
              "  <tbody>\n",
              "    <tr>\n",
              "      <th>Unknown</th>\n",
              "      <td>6832</td>\n",
              "    </tr>\n",
              "    <tr>\n",
              "      <th>White</th>\n",
              "      <td>6090</td>\n",
              "    </tr>\n",
              "    <tr>\n",
              "      <th>Black or African American</th>\n",
              "      <td>3374</td>\n",
              "    </tr>\n",
              "    <tr>\n",
              "      <th>Hispanic or Latino</th>\n",
              "      <td>1387</td>\n",
              "    </tr>\n",
              "    <tr>\n",
              "      <th>Asian</th>\n",
              "      <td>1249</td>\n",
              "    </tr>\n",
              "    <tr>\n",
              "      <th>Native American/Alaska Native</th>\n",
              "      <td>55</td>\n",
              "    </tr>\n",
              "    <tr>\n",
              "      <th>Mixed Race/Ethnicity</th>\n",
              "      <td>39</td>\n",
              "    </tr>\n",
              "    <tr>\n",
              "      <th>South American</th>\n",
              "      <td>34</td>\n",
              "    </tr>\n",
              "    <tr>\n",
              "      <th>Pacific Islander</th>\n",
              "      <td>16</td>\n",
              "    </tr>\n",
              "  </tbody>\n",
              "</table>\n",
              "</div><br><label><b>dtype:</b> int64</label>"
            ]
          },
          "metadata": {},
          "execution_count": 11
        }
      ]
    },
    {
      "cell_type": "code",
      "source": [
        "color_mapping = {\n",
        "    'White': 'green',\n",
        "    'Black or African American': 'orange',\n",
        "    'Hispanic or Latino': 'yellow',\n",
        "    'Asian': 'lightblue',\n",
        "    'Native American/Alaska Native': 'magenta',\n",
        "    'Mixed Race/Ethnicity': 'gray',\n",
        "    'South American': 'yellow',\n",
        "    'Pacific Islander': 'lightblue'\n",
        "}"
      ],
      "metadata": {
        "id": "SPVWmsgNbhY4"
      },
      "execution_count": 12,
      "outputs": []
    },
    {
      "cell_type": "code",
      "source": [
        "known_race_df = aggregated_input_data[aggregated_input_data['race'] != 'Unknown']\n",
        "race_counts = known_race_df['race'].value_counts()\n",
        "plt.figure(figsize=(8, 4))\n",
        "percents = race_counts / race_counts.sum() * 100\n",
        "percentage_df = pd.DataFrame({\n",
        "    'race': percents.index,\n",
        "    'percentage': percents.values\n",
        "})\n",
        "sns.barplot(data=percentage_df, x='race', y='percentage', palette=color_mapping)\n",
        "plt.title('Distribution of Race Values')\n",
        "plt.xlabel('Race')\n",
        "plt.ylabel('Percentage (%)')\n",
        "plt.xticks(rotation=45)\n",
        "plt.savefig('/content/drive/My Drive/capstone_imgs/race_distribution_percent.png', bbox_inches='tight')\n",
        "plt.show()"
      ],
      "metadata": {
        "id": "qxxRWxrQZ1oC",
        "colab": {
          "base_uri": "https://localhost:8080/",
          "height": 663
        },
        "outputId": "3ccc2719-4507-44c3-f85b-45db575e784f"
      },
      "execution_count": 13,
      "outputs": [
        {
          "output_type": "stream",
          "name": "stderr",
          "text": [
            "<ipython-input-13-3273d66863b4>:9: FutureWarning: \n",
            "\n",
            "Passing `palette` without assigning `hue` is deprecated and will be removed in v0.14.0. Assign the `x` variable to `hue` and set `legend=False` for the same effect.\n",
            "\n",
            "  sns.barplot(data=percentage_df, x='race', y='percentage', palette=color_mapping)\n"
          ]
        },
        {
          "output_type": "display_data",
          "data": {
            "text/plain": [
              "<Figure size 800x400 with 1 Axes>"
            ],
            "image/png": "[encoded data removed]"
          },
          "metadata": {}
        }
      ]
    },
    {
      "cell_type": "code",
      "source": [
        "race_outcome_counts = aggregated_input_data_with_targets.groupby(['race', 'has_adverse_outcome']).size().unstack(fill_value=0)\n",
        "race_outcome_percentages = race_outcome_counts.div(race_outcome_counts.sum(axis=1), axis=0) * 100\n",
        "percentage_df = race_outcome_percentages.reset_index().melt(id_vars=['race'], var_name='has_adverse_outcome', value_name='percentage')"
      ],
      "metadata": {
        "id": "wZ93eU3GaxzP"
      },
      "execution_count": 14,
      "outputs": []
    },
    {
      "cell_type": "code",
      "source": [
        "plt.figure(figsize=(10, 8))\n",
        "plot = sns.barplot(data=percentage_df, x='race', y='percentage', hue='has_adverse_outcome')\n",
        "\n",
        "plt.title('Distribution of Adverse Outcomes by Race')\n",
        "plt.xlabel('Race')\n",
        "plt.ylabel('Percentage (%)')\n",
        "plt.xticks(rotation=45, ha='right')\n",
        "\n",
        "handles, _ = plot.get_legend_handles_labels()\n",
        "legend_labels = ['No', 'Yes']\n",
        "plt.legend(handles=handles, labels=legend_labels, title='Adverse Outcome', loc='upper right')\n",
        "\n",
        "plt.tight_layout()\n",
        "\n",
        "plt.savefig('/content/drive/My Drive/capstone_imgs/race_adverse_outcome_distribution.png', bbox_inches='tight')\n",
        "\n",
        "plt.show()"
      ],
      "metadata": {
        "id": "dDg6pFghef0l",
        "colab": {
          "base_uri": "https://localhost:8080/",
          "height": 807
        },
        "outputId": "d6e2ac82-79a0-4fb4-f8f0-4165bb9892ee"
      },
      "execution_count": 15,
      "outputs": [
        {
          "output_type": "display_data",
          "data": {
            "text/plain": [
              "<Figure size 1000x800 with 1 Axes>"
            ],
            "image/png": "[encoded data removed]"
          },
          "metadata": {}
        }
      ]
    },
    {
      "cell_type": "markdown",
      "source": [
        "### Language"
      ],
      "metadata": {
        "id": "6bbzUVvGD-cU"
      }
    },
    {
      "cell_type": "code",
      "source": [
        "aggregated_input_data['language'].value_counts()"
      ],
      "metadata": {
        "id": "LbMkTbT4vp81",
        "colab": {
          "base_uri": "https://localhost:8080/",
          "height": 176
        },
        "outputId": "c36e3487-c647-47ef-c6cd-10d2500ef94d"
      },
      "execution_count": 16,
      "outputs": [
        {
          "output_type": "execute_result",
          "data": {
            "text/plain": [
              "language\n",
              "ENGLISH    11385\n",
              "UNKNOWN     7691\n",
              "Name: count, dtype: int64"
            ],
            "text/html": [
              "<div>\n",
              "<style scoped>\n",
              "    .dataframe tbody tr th:only-of-type {\n",
              "        vertical-align: middle;\n",
              "    }\n",
              "\n",
              "    .dataframe tbody tr th {\n",
              "        vertical-align: top;\n",
              "    }\n",
              "\n",
              "    .dataframe thead th {\n",
              "        text-align: right;\n",
              "    }\n",
              "</style>\n",
              "<table border=\"1\" class=\"dataframe\">\n",
              "  <thead>\n",
              "    <tr style=\"text-align: right;\">\n",
              "      <th></th>\n",
              "      <th>count</th>\n",
              "    </tr>\n",
              "    <tr>\n",
              "      <th>language</th>\n",
              "      <th></th>\n",
              "    </tr>\n",
              "  </thead>\n",
              "  <tbody>\n",
              "    <tr>\n",
              "      <th>ENGLISH</th>\n",
              "      <td>11385</td>\n",
              "    </tr>\n",
              "    <tr>\n",
              "      <th>UNKNOWN</th>\n",
              "      <td>7691</td>\n",
              "    </tr>\n",
              "  </tbody>\n",
              "</table>\n",
              "</div><br><label><b>dtype:</b> int64</label>"
            ]
          },
          "metadata": {},
          "execution_count": 16
        }
      ]
    },
    {
      "cell_type": "markdown",
      "source": [
        "### Marital Status"
      ],
      "metadata": {
        "id": "8jh7rlrvEAU8"
      }
    },
    {
      "cell_type": "code",
      "source": [
        "aggregated_input_data['marital_status'].value_counts()"
      ],
      "metadata": {
        "id": "ZImTlqEtv4Gu",
        "colab": {
          "base_uri": "https://localhost:8080/",
          "height": 269
        },
        "outputId": "4e2635d3-0ee8-43e7-eab1-ea9edd1af3de"
      },
      "execution_count": 17,
      "outputs": [
        {
          "output_type": "execute_result",
          "data": {
            "text/plain": [
              "marital_status\n",
              "MARRIED     7309\n",
              "UNKNOWN     6636\n",
              "SINGLE      4980\n",
              "DIVORCED     139\n",
              "WIDOWED       12\n",
              "Name: count, dtype: int64"
            ],
            "text/html": [
              "<div>\n",
              "<style scoped>\n",
              "    .dataframe tbody tr th:only-of-type {\n",
              "        vertical-align: middle;\n",
              "    }\n",
              "\n",
              "    .dataframe tbody tr th {\n",
              "        vertical-align: top;\n",
              "    }\n",
              "\n",
              "    .dataframe thead th {\n",
              "        text-align: right;\n",
              "    }\n",
              "</style>\n",
              "<table border=\"1\" class=\"dataframe\">\n",
              "  <thead>\n",
              "    <tr style=\"text-align: right;\">\n",
              "      <th></th>\n",
              "      <th>count</th>\n",
              "    </tr>\n",
              "    <tr>\n",
              "      <th>marital_status</th>\n",
              "      <th></th>\n",
              "    </tr>\n",
              "  </thead>\n",
              "  <tbody>\n",
              "    <tr>\n",
              "      <th>MARRIED</th>\n",
              "      <td>7309</td>\n",
              "    </tr>\n",
              "    <tr>\n",
              "      <th>UNKNOWN</th>\n",
              "      <td>6636</td>\n",
              "    </tr>\n",
              "    <tr>\n",
              "      <th>SINGLE</th>\n",
              "      <td>4980</td>\n",
              "    </tr>\n",
              "    <tr>\n",
              "      <th>DIVORCED</th>\n",
              "      <td>139</td>\n",
              "    </tr>\n",
              "    <tr>\n",
              "      <th>WIDOWED</th>\n",
              "      <td>12</td>\n",
              "    </tr>\n",
              "  </tbody>\n",
              "</table>\n",
              "</div><br><label><b>dtype:</b> int64</label>"
            ]
          },
          "metadata": {},
          "execution_count": 17
        }
      ]
    },
    {
      "cell_type": "code",
      "source": [
        "known_status_df = aggregated_input_data_with_targets[aggregated_input_data_with_targets['marital_status'] != 'UNKNOWN']"
      ],
      "metadata": {
        "id": "ixJXmjUPv8lQ"
      },
      "execution_count": 18,
      "outputs": []
    },
    {
      "cell_type": "code",
      "source": [
        "status_outcome_counts = known_status_df.groupby(['marital_status', 'has_adverse_outcome']).size().unstack(fill_value=0)\n",
        "# convert to percentages\n",
        "status_outcome_percentages = status_outcome_counts.div(status_outcome_counts.sum(axis=1), axis=0) * 100\n",
        "# create as df which will be used for the plot\n",
        "percentage_df = status_outcome_percentages.reset_index().melt(id_vars=['marital_status'], var_name='has_adverse_outcome', value_name='percentage')\n",
        "percentage_df['marital_status'] = pd.Categorical(percentage_df['marital_status'])"
      ],
      "metadata": {
        "id": "fpjJIR0PwDs8"
      },
      "execution_count": 19,
      "outputs": []
    },
    {
      "cell_type": "code",
      "source": [
        "plt.figure(figsize=(10, 8))\n",
        "ax = sns.barplot(data=percentage_df, x='marital_status', y='percentage', hue='has_adverse_outcome', palette={0: 'lightblue', 1: 'salmon'})\n",
        "\n",
        "plt.title('Marital Status Distribution by Pregnancy Outcome')\n",
        "plt.xlabel('Marital Status')\n",
        "plt.ylabel('Percentage (%)')\n",
        "plt.xticks(rotation=45, ha='right')\n",
        "\n",
        "handles, _ = plot.get_legend_handles_labels()\n",
        "legend_labels = ['No', 'Yes']\n",
        "plt.legend(handles=handles, labels=legend_labels, title='Adverse Outcome', loc='upper right')\n",
        "\n",
        "# add actual percentages\n",
        "for p in ax.patches:\n",
        "    height = p.get_height()\n",
        "    if height > 0:\n",
        "      ax.annotate(f'{height:.1f}%',\n",
        "                  (p.get_x() + p.get_width() / 2., height),\n",
        "                  ha='center', va='center',\n",
        "                  xytext=(0, 5),\n",
        "                  textcoords='offset points')\n",
        "\n",
        "plt.tight_layout()\n",
        "plt.savefig('/content/drive/My Drive/capstone_imgs/marital_status_adverse_outcome_distribution.png', bbox_inches='tight')\n",
        "\n",
        "plt.show()"
      ],
      "metadata": {
        "id": "kTDX8jnnwqqE",
        "colab": {
          "base_uri": "https://localhost:8080/",
          "height": 807
        },
        "outputId": "b5900682-b47d-45a6-9be0-4a6db50b4295"
      },
      "execution_count": 20,
      "outputs": [
        {
          "output_type": "display_data",
          "data": {
            "text/plain": [
              "<Figure size 1000x800 with 1 Axes>"
            ],
            "image/png": "[encoded data removed]"
          },
          "metadata": {}
        }
      ]
    },
    {
      "cell_type": "code",
      "source": [
        "outcome_cols = ['preeclampsia_output', 'preterm_output', 'hemorrhage_output']\n",
        "combined_data = []\n",
        "\n",
        "def process_outcome(df, outcome_col):\n",
        "    status_outcome_counts = df.groupby([outcome_col, 'marital_status']).size().unstack(fill_value=0)\n",
        "    status_outcome_percentages = status_outcome_counts.div(status_outcome_counts.sum(axis=1), axis=0) * 100\n",
        "    percentage_df = status_outcome_percentages.reset_index().melt(id_vars=[outcome_col], var_name='marital_status', value_name='percentage')\n",
        "    percentage_df['outcome'] = outcome_col\n",
        "\n",
        "    return percentage_df\n",
        "\n",
        "for outcome_col in outcome_cols:\n",
        "    combined_data.append(process_outcome(known_status_df, outcome_col))\n",
        "\n",
        "all_data = pd.concat(combined_data)\n",
        "\n",
        "custom_labels = {\n",
        "    'preeclampsia_output': 'Preeclampsia',\n",
        "    'preterm_output': 'Preterm Delivery',\n",
        "    'hemorrhage_output': 'Hemorrhage'\n",
        "}\n",
        "\n",
        "stacked_df = all_data.pivot_table(index='outcome', columns='marital_status', values='percentage', fill_value=0)\n",
        "stacked_df.index = [custom_labels.get(col, col) for col in stacked_df.index]\n",
        "\n",
        "plt.figure(figsize=(14, 8))\n",
        "\n",
        "pastel_palette = sns.color_palette(\"pastel\", n_colors=stacked_df.shape[1])\n",
        "ax = stacked_df.plot(kind='bar', stacked=True, figsize=(14, 8), color=pastel_palette)\n",
        "\n",
        "plt.title('Marital Status Distribution for Various Outcomes')\n",
        "plt.xlabel('Outcome')\n",
        "plt.ylabel('Percentage (%)')\n",
        "plt.xticks(rotation=45)\n",
        "\n",
        "for container in ax.containers:\n",
        "    ax.bar_label(container, fmt='%.1f%%', label_type='center')\n",
        "\n",
        "plt.legend(title='Marital Status', bbox_to_anchor=(1.05, 1), loc='upper left')\n",
        "\n",
        "plt.tight_layout()\n",
        "plt.savefig('/content/drive/My Drive/capstone_imgs/marital_status_by_outcomes.png', bbox_inches='tight')\n",
        "\n",
        "plt.show()"
      ],
      "metadata": {
        "id": "5gJyjAiSy6oO",
        "colab": {
          "base_uri": "https://localhost:8080/",
          "height": 781
        },
        "outputId": "58f2053b-b5e3-42aa-a5ab-ffce7bfc07c4"
      },
      "execution_count": 21,
      "outputs": [
        {
          "output_type": "display_data",
          "data": {
            "text/plain": [
              "<Figure size 1400x800 with 0 Axes>"
            ]
          },
          "metadata": {}
        },
        {
          "output_type": "display_data",
          "data": {
            "text/plain": [
              "<Figure size 1400x800 with 1 Axes>"
            ],
            "image/png": "[encoded data removed]"
          },
          "metadata": {}
        }
      ]
    },
    {
      "cell_type": "markdown",
      "source": [
        "### Insurance"
      ],
      "metadata": {
        "id": "j9iGvcL7EB45"
      }
    },
    {
      "cell_type": "code",
      "source": [
        "aggregated_input_data_with_targets['insurance'].value_counts()"
      ],
      "metadata": {
        "id": "U55C3jS53HO0",
        "colab": {
          "base_uri": "https://localhost:8080/",
          "height": 238
        },
        "outputId": "5e1cccf3-4efe-4a83-c189-fbcb33250c40"
      },
      "execution_count": 22,
      "outputs": [
        {
          "output_type": "execute_result",
          "data": {
            "text/plain": [
              "insurance\n",
              "Other       10613\n",
              "UNKNOWN      6360\n",
              "Medicaid     1945\n",
              "Medicare      158\n",
              "Name: count, dtype: int64"
            ],
            "text/html": [
              "<div>\n",
              "<style scoped>\n",
              "    .dataframe tbody tr th:only-of-type {\n",
              "        vertical-align: middle;\n",
              "    }\n",
              "\n",
              "    .dataframe tbody tr th {\n",
              "        vertical-align: top;\n",
              "    }\n",
              "\n",
              "    .dataframe thead th {\n",
              "        text-align: right;\n",
              "    }\n",
              "</style>\n",
              "<table border=\"1\" class=\"dataframe\">\n",
              "  <thead>\n",
              "    <tr style=\"text-align: right;\">\n",
              "      <th></th>\n",
              "      <th>count</th>\n",
              "    </tr>\n",
              "    <tr>\n",
              "      <th>insurance</th>\n",
              "      <th></th>\n",
              "    </tr>\n",
              "  </thead>\n",
              "  <tbody>\n",
              "    <tr>\n",
              "      <th>Other</th>\n",
              "      <td>10613</td>\n",
              "    </tr>\n",
              "    <tr>\n",
              "      <th>UNKNOWN</th>\n",
              "      <td>6360</td>\n",
              "    </tr>\n",
              "    <tr>\n",
              "      <th>Medicaid</th>\n",
              "      <td>1945</td>\n",
              "    </tr>\n",
              "    <tr>\n",
              "      <th>Medicare</th>\n",
              "      <td>158</td>\n",
              "    </tr>\n",
              "  </tbody>\n",
              "</table>\n",
              "</div><br><label><b>dtype:</b> int64</label>"
            ]
          },
          "metadata": {},
          "execution_count": 22
        }
      ]
    },
    {
      "cell_type": "code",
      "source": [
        "known_status_df = aggregated_input_data_with_targets[aggregated_input_data_with_targets['insurance'] != 'UNKNOWN']"
      ],
      "metadata": {
        "id": "_K0jw4kA3wmg"
      },
      "execution_count": 23,
      "outputs": []
    },
    {
      "cell_type": "code",
      "source": [
        "outcome_cols = ['preeclampsia_output', 'preterm_output', 'hemorrhage_output']\n",
        "combined_data = []\n",
        "\n",
        "def process_outcome(df, outcome_col):\n",
        "    status_outcome_counts = df.groupby([outcome_col, 'insurance']).size().unstack(fill_value=0)\n",
        "    status_outcome_percentages = status_outcome_counts.div(status_outcome_counts.sum(axis=1), axis=0) * 100\n",
        "    percentage_df = status_outcome_percentages.reset_index().melt(id_vars=[outcome_col], var_name='insurance', value_name='percentage')\n",
        "    percentage_df['outcome'] = outcome_col\n",
        "\n",
        "    return percentage_df\n",
        "\n",
        "for outcome_col in outcome_cols:\n",
        "    combined_data.append(process_outcome(known_status_df, outcome_col))\n",
        "\n",
        "all_data = pd.concat(combined_data)\n",
        "\n",
        "custom_labels = {\n",
        "    'preeclampsia_output': 'Preeclampsia',\n",
        "    'preterm_output': 'Preterm Delivery',\n",
        "    'hemorrhage_output': 'Hemorrhage'\n",
        "}\n",
        "\n",
        "stacked_df = all_data.pivot_table(index='outcome', columns='insurance', values='percentage', fill_value=0)\n",
        "stacked_df.index = [custom_labels.get(col, col) for col in stacked_df.index]\n",
        "\n",
        "plt.figure(figsize=(14, 8))\n",
        "\n",
        "pastel_palette = sns.color_palette(\"pastel\", n_colors=stacked_df.shape[1])\n",
        "ax = stacked_df.plot(kind='bar', stacked=True, figsize=(14, 8), color=pastel_palette)\n",
        "\n",
        "plt.title('Insurance Distribution for Various Outcomes')\n",
        "plt.xlabel('Outcome')\n",
        "plt.ylabel('Percentage (%)')\n",
        "plt.xticks(rotation=45)\n",
        "\n",
        "for container in ax.containers:\n",
        "    ax.bar_label(container, fmt='%.1f%%', label_type='center')\n",
        "\n",
        "plt.legend(title='Marital Status', bbox_to_anchor=(1.05, 1), loc='upper left')\n",
        "\n",
        "# Save the figure\n",
        "plt.tight_layout()\n",
        "plt.savefig('/content/drive/My Drive/capstone_imgs/insurance_by_outcomes.png', bbox_inches='tight')\n",
        "\n",
        "# Show the plot\n",
        "plt.show()"
      ],
      "metadata": {
        "id": "NWb1iCWH3zdS",
        "colab": {
          "base_uri": "https://localhost:8080/",
          "height": 781
        },
        "outputId": "ce073f53-da28-4696-a13c-6ed5c7f3af2e"
      },
      "execution_count": 24,
      "outputs": [
        {
          "output_type": "display_data",
          "data": {
            "text/plain": [
              "<Figure size 1400x800 with 0 Axes>"
            ]
          },
          "metadata": {}
        },
        {
          "output_type": "display_data",
          "data": {
            "text/plain": [
              "<Figure size 1400x800 with 1 Axes>"
            ],
            "image/png": "[encoded data removed]"
          },
          "metadata": {}
        }
      ]
    },
    {
      "cell_type": "markdown",
      "source": [
        "## Diagnoses\n",
        "- most common diagnoses"
      ],
      "metadata": {
        "id": "z_CkUcmbEH0W"
      }
    },
    {
      "cell_type": "code",
      "source": [
        "three_letter_columns = [col for col in aggregated_input_data_with_targets.columns if len(col) == 3]\n",
        "aggregated_input_data_with_targets[three_letter_columns].sum().sort_values(ascending=False).head(15)"
      ],
      "metadata": {
        "id": "9hlcGEGkCmOk",
        "colab": {
          "base_uri": "https://localhost:8080/",
          "height": 548
        },
        "outputId": "f7ff4a03-c97d-413a-e309-01e45bd47bd6"
      },
      "execution_count": 32,
      "outputs": [
        {
          "output_type": "execute_result",
          "data": {
            "text/plain": [
              "Z37    3263.0\n",
              "I10    2334.0\n",
              "E78    1865.0\n",
              "D64    1821.0\n",
              "J45    1620.0\n",
              "F32    1576.0\n",
              "E11    1557.0\n",
              "F41    1556.0\n",
              "E87    1455.0\n",
              "Z51    1323.0\n",
              "E66    1282.0\n",
              "Z68    1138.0\n",
              "E89    1127.0\n",
              "Z95    1085.0\n",
              "K22    1062.0\n",
              "dtype: float64"
            ],
            "text/html": [
              "<div>\n",
              "<style scoped>\n",
              "    .dataframe tbody tr th:only-of-type {\n",
              "        vertical-align: middle;\n",
              "    }\n",
              "\n",
              "    .dataframe tbody tr th {\n",
              "        vertical-align: top;\n",
              "    }\n",
              "\n",
              "    .dataframe thead th {\n",
              "        text-align: right;\n",
              "    }\n",
              "</style>\n",
              "<table border=\"1\" class=\"dataframe\">\n",
              "  <thead>\n",
              "    <tr style=\"text-align: right;\">\n",
              "      <th></th>\n",
              "      <th>0</th>\n",
              "    </tr>\n",
              "  </thead>\n",
              "  <tbody>\n",
              "    <tr>\n",
              "      <th>Z37</th>\n",
              "      <td>3263.0</td>\n",
              "    </tr>\n",
              "    <tr>\n",
              "      <th>I10</th>\n",
              "      <td>2334.0</td>\n",
              "    </tr>\n",
              "    <tr>\n",
              "      <th>E78</th>\n",
              "      <td>1865.0</td>\n",
              "    </tr>\n",
              "    <tr>\n",
              "      <th>D64</th>\n",
              "      <td>1821.0</td>\n",
              "    </tr>\n",
              "    <tr>\n",
              "      <th>J45</th>\n",
              "      <td>1620.0</td>\n",
              "    </tr>\n",
              "    <tr>\n",
              "      <th>F32</th>\n",
              "      <td>1576.0</td>\n",
              "    </tr>\n",
              "    <tr>\n",
              "      <th>E11</th>\n",
              "      <td>1557.0</td>\n",
              "    </tr>\n",
              "    <tr>\n",
              "      <th>F41</th>\n",
              "      <td>1556.0</td>\n",
              "    </tr>\n",
              "    <tr>\n",
              "      <th>E87</th>\n",
              "      <td>1455.0</td>\n",
              "    </tr>\n",
              "    <tr>\n",
              "      <th>Z51</th>\n",
              "      <td>1323.0</td>\n",
              "    </tr>\n",
              "    <tr>\n",
              "      <th>E66</th>\n",
              "      <td>1282.0</td>\n",
              "    </tr>\n",
              "    <tr>\n",
              "      <th>Z68</th>\n",
              "      <td>1138.0</td>\n",
              "    </tr>\n",
              "    <tr>\n",
              "      <th>E89</th>\n",
              "      <td>1127.0</td>\n",
              "    </tr>\n",
              "    <tr>\n",
              "      <th>Z95</th>\n",
              "      <td>1085.0</td>\n",
              "    </tr>\n",
              "    <tr>\n",
              "      <th>K22</th>\n",
              "      <td>1062.0</td>\n",
              "    </tr>\n",
              "  </tbody>\n",
              "</table>\n",
              "</div><br><label><b>dtype:</b> float64</label>"
            ]
          },
          "metadata": {},
          "execution_count": 32
        }
      ]
    },
    {
      "cell_type": "markdown",
      "source": [
        "Conduct on subjects of the population based on their target values:"
      ],
      "metadata": {
        "id": "IJ-EcfiYVvF6"
      }
    },
    {
      "cell_type": "code",
      "source": [
        "three_letter_columns = [col for col in aggregated_input_data_with_targets.columns if len(col) == 3]"
      ],
      "metadata": {
        "id": "eByYcH7yVroZ"
      },
      "execution_count": null,
      "outputs": []
    },
    {
      "cell_type": "code",
      "source": [],
      "metadata": {
        "id": "krQM-5p1WRG-"
      },
      "execution_count": null,
      "outputs": []
    },
    {
      "cell_type": "code",
      "source": [
        "df_has_adverse = aggregated_input_data_with_targets[aggregated_input_data_with_targets['has_adverse_outcome'] == 1]\n",
        "df_no_adverse = aggregated_input_data_with_targets[aggregated_input_data_with_targets['has_adverse_outcome'] == 0]\n",
        "\n",
        "# compute sums for each of outcome type\n",
        "sum_has_adverse = df_has_adverse[three_letter_columns].sum().sort_values(ascending=False).head(15)\n",
        "sum_no_adverse = df_no_adverse[three_letter_columns].sum().sort_values(ascending=False).head(15)\n",
        "\n",
        "print(\"Top 15 columns for patients with adverse outcome:\")\n",
        "print(sum_has_adverse)\n",
        "print(\"\\nTop 15 columns for patients without adverse outcome:\")\n",
        "print(sum_no_adverse)"
      ],
      "metadata": {
        "id": "06aWn7HqV0zx",
        "colab": {
          "base_uri": "https://localhost:8080/"
        },
        "outputId": "c6bc4561-2f00-427f-947f-4ccee7e33c21"
      },
      "execution_count": 33,
      "outputs": [
        {
          "output_type": "stream",
          "name": "stdout",
          "text": [
            "Top 15 columns for patients with adverse outcome:\n",
            "Z37    962.0\n",
            "J45    307.0\n",
            "D64    261.0\n",
            "E66    254.0\n",
            "F41    245.0\n",
            "F32    200.0\n",
            "Z68    187.0\n",
            "D25    164.0\n",
            "E89    143.0\n",
            "G43    124.0\n",
            "Z30    122.0\n",
            "Z23    118.0\n",
            "Z51    115.0\n",
            "D69    112.0\n",
            "E11    107.0\n",
            "dtype: float64\n",
            "\n",
            "Top 15 columns for patients without adverse outcome:\n",
            "Z37    2301.0\n",
            "I10    2275.0\n",
            "E78    1829.0\n",
            "D64    1560.0\n",
            "E11    1450.0\n",
            "F32    1376.0\n",
            "E87    1350.0\n",
            "J45    1313.0\n",
            "F41    1311.0\n",
            "Z51    1208.0\n",
            "E66    1028.0\n",
            "Z95    1024.0\n",
            "K22     997.0\n",
            "E89     984.0\n",
            "Z85     969.0\n",
            "dtype: float64\n"
          ]
        }
      ]
    },
    {
      "cell_type": "markdown",
      "source": [
        "## Top Prescriptions"
      ],
      "metadata": {
        "id": "i63lGpMB7dKm"
      }
    },
    {
      "cell_type": "code",
      "source": [
        "prescrip_columns = [col for col in aggregated_input_data_with_targets.columns if col.startswith('prescrip')]\n",
        "aggregated_input_data_with_targets[prescrip_columns].sum().sort_values(ascending=False).head(15)"
      ],
      "metadata": {
        "colab": {
          "base_uri": "https://localhost:8080/",
          "height": 548
        },
        "id": "3RP6D8SX7clP",
        "outputId": "04e498fb-b1ed-4efb-987f-62ba92c6de65"
      },
      "execution_count": 29,
      "outputs": [
        {
          "output_type": "execute_result",
          "data": {
            "text/plain": [
              "prescription_vancomycin hydrochloride                                           1496.0\n",
              "prescription_magnesium sulfate in water                                         1360.0\n",
              "prescription_pantoprazole sodium                                                1072.0\n",
              "prescription_potassium chloride                                                  793.0\n",
              "prescription_metronidazole                                                       729.0\n",
              "prescription_ceftriaxone sodium                                                  697.0\n",
              "prescription_gentamicin sulfate                                                  696.0\n",
              "prescription_ampicillin sodium                                                   622.0\n",
              "prescription_famotidine                                                          463.0\n",
              "prescription_cefazolin sodium                                                    447.0\n",
              "prescription_ciprofloxacin                                                       386.0\n",
              "prescription_tazobactam sodium and piperacillin sodium                           315.0\n",
              "prescription_betamethasone sodium phosphate and betamethasone acetate            240.0\n",
              "prescription_potassium phosphate, monobasic and potassium phosphate, dibasic     214.0\n",
              "prescription_magnesium sulfate heptahydrate                                      161.0\n",
              "dtype: float64"
            ],
            "text/html": [
              "<div>\n",
              "<style scoped>\n",
              "    .dataframe tbody tr th:only-of-type {\n",
              "        vertical-align: middle;\n",
              "    }\n",
              "\n",
              "    .dataframe tbody tr th {\n",
              "        vertical-align: top;\n",
              "    }\n",
              "\n",
              "    .dataframe thead th {\n",
              "        text-align: right;\n",
              "    }\n",
              "</style>\n",
              "<table border=\"1\" class=\"dataframe\">\n",
              "  <thead>\n",
              "    <tr style=\"text-align: right;\">\n",
              "      <th></th>\n",
              "      <th>0</th>\n",
              "    </tr>\n",
              "  </thead>\n",
              "  <tbody>\n",
              "    <tr>\n",
              "      <th>prescription_vancomycin hydrochloride</th>\n",
              "      <td>1496.0</td>\n",
              "    </tr>\n",
              "    <tr>\n",
              "      <th>prescription_magnesium sulfate in water</th>\n",
              "      <td>1360.0</td>\n",
              "    </tr>\n",
              "    <tr>\n",
              "      <th>prescription_pantoprazole sodium</th>\n",
              "      <td>1072.0</td>\n",
              "    </tr>\n",
              "    <tr>\n",
              "      <th>prescription_potassium chloride</th>\n",
              "      <td>793.0</td>\n",
              "    </tr>\n",
              "    <tr>\n",
              "      <th>prescription_metronidazole</th>\n",
              "      <td>729.0</td>\n",
              "    </tr>\n",
              "    <tr>\n",
              "      <th>prescription_ceftriaxone sodium</th>\n",
              "      <td>697.0</td>\n",
              "    </tr>\n",
              "    <tr>\n",
              "      <th>prescription_gentamicin sulfate</th>\n",
              "      <td>696.0</td>\n",
              "    </tr>\n",
              "    <tr>\n",
              "      <th>prescription_ampicillin sodium</th>\n",
              "      <td>622.0</td>\n",
              "    </tr>\n",
              "    <tr>\n",
              "      <th>prescription_famotidine</th>\n",
              "      <td>463.0</td>\n",
              "    </tr>\n",
              "    <tr>\n",
              "      <th>prescription_cefazolin sodium</th>\n",
              "      <td>447.0</td>\n",
              "    </tr>\n",
              "    <tr>\n",
              "      <th>prescription_ciprofloxacin</th>\n",
              "      <td>386.0</td>\n",
              "    </tr>\n",
              "    <tr>\n",
              "      <th>prescription_tazobactam sodium and piperacillin sodium</th>\n",
              "      <td>315.0</td>\n",
              "    </tr>\n",
              "    <tr>\n",
              "      <th>prescription_betamethasone sodium phosphate and betamethasone acetate</th>\n",
              "      <td>240.0</td>\n",
              "    </tr>\n",
              "    <tr>\n",
              "      <th>prescription_potassium phosphate, monobasic and potassium phosphate, dibasic</th>\n",
              "      <td>214.0</td>\n",
              "    </tr>\n",
              "    <tr>\n",
              "      <th>prescription_magnesium sulfate heptahydrate</th>\n",
              "      <td>161.0</td>\n",
              "    </tr>\n",
              "  </tbody>\n",
              "</table>\n",
              "</div><br><label><b>dtype:</b> float64</label>"
            ]
          },
          "metadata": {},
          "execution_count": 29
        }
      ]
    },
    {
      "cell_type": "code",
      "source": [
        "# compute sums for each of outcome type\n",
        "sum_has_adverse = df_has_adverse[prescrip_columns].sum().sort_values(ascending=False).head(15)\n",
        "sum_no_adverse = df_no_adverse[prescrip_columns].sum().sort_values(ascending=False).head(15)\n",
        "\n",
        "print(\"Top 15 columns for patients with adverse outcome:\")\n",
        "print(sum_has_adverse)\n",
        "print(\"\\nTop 15 columns for patients without adverse outcome:\")\n",
        "print(sum_no_adverse)"
      ],
      "metadata": {
        "colab": {
          "base_uri": "https://localhost:8080/"
        },
        "id": "8f4Z05aj8mQu",
        "outputId": "9b3b8ac1-b42d-4d6d-e589-347e43b53a51"
      },
      "execution_count": 34,
      "outputs": [
        {
          "output_type": "stream",
          "name": "stdout",
          "text": [
            "Top 15 columns for patients with adverse outcome:\n",
            "prescription_ampicillin sodium                                           204.0\n",
            "prescription_gentamicin sulfate                                          198.0\n",
            "prescription_magnesium sulfate in water                                  159.0\n",
            "prescription_betamethasone sodium phosphate and betamethasone acetate    154.0\n",
            "prescription_famotidine                                                  133.0\n",
            "prescription_cefazolin sodium                                             73.0\n",
            "prescription_vancomycin hydrochloride                                     65.0\n",
            "prescription_potassium chloride                                           62.0\n",
            "prescription_ceftriaxone sodium                                           49.0\n",
            "prescription_clindamycin in 5 percent dextrose                            47.0\n",
            "prescription_penicillin g                                                 39.0\n",
            "prescription_metronidazole                                                38.0\n",
            "prescription_cefazolin                                                    37.0\n",
            "prescription_pantoprazole sodium                                          36.0\n",
            "prescription_penicillin g potassium                                       35.0\n",
            "dtype: float64\n",
            "\n",
            "Top 15 columns for patients without adverse outcome:\n",
            "prescription_vancomycin hydrochloride                                           1431.0\n",
            "prescription_magnesium sulfate in water                                         1201.0\n",
            "prescription_pantoprazole sodium                                                1036.0\n",
            "prescription_potassium chloride                                                  731.0\n",
            "prescription_metronidazole                                                       691.0\n",
            "prescription_ceftriaxone sodium                                                  648.0\n",
            "prescription_gentamicin sulfate                                                  498.0\n",
            "prescription_ampicillin sodium                                                   418.0\n",
            "prescription_cefazolin sodium                                                    374.0\n",
            "prescription_ciprofloxacin                                                       369.0\n",
            "prescription_famotidine                                                          330.0\n",
            "prescription_tazobactam sodium and piperacillin sodium                           286.0\n",
            "prescription_potassium phosphate, monobasic and potassium phosphate, dibasic     198.0\n",
            "prescription_magnesium sulfate heptahydrate                                      142.0\n",
            "prescription_acetaminophen                                                       130.0\n",
            "dtype: float64\n"
          ]
        }
      ]
    },
    {
      "cell_type": "code",
      "source": [
        "aggregated_input_data_with_targets.head()"
      ],
      "metadata": {
        "id": "Tc7nGvgKD8Bf",
        "colab": {
          "base_uri": "https://localhost:8080/",
          "height": 338
        },
        "outputId": "99214e17-fc8b-4316-b471-d678dab52df6"
      },
      "execution_count": 35,
      "outputs": [
        {
          "output_type": "execute_result",
          "data": {
            "text/plain": [
              "   subject_id  age_at_admission  mean_patient_weight     hadm_id  \\\n",
              "0    10000719         34.000000           107.047712  24558333.0   \n",
              "1    10001319         30.000000            73.539842  23005466.0   \n",
              "2    10001472         34.000000            78.834290  23506139.0   \n",
              "3    10001884         74.744186            67.570065  21192799.0   \n",
              "4    10002266         30.500000            69.329322  24160398.0   \n",
              "\n",
              "                     microbiology_orgname curr_service   care_unit_group  \\\n",
              "0  POSITIVE FOR GROUP B BETA STREPTOCOCCI          OBS  Labor & Delivery   \n",
              "1                  GRAM POSITIVE BACTERIA          OBS  Labor & Delivery   \n",
              "2                                    None          OBS  Labor & Delivery   \n",
              "3  POSITIVE FOR INFLUENZA A VIRAL ANTIGEN          MED         Emergency   \n",
              "4                  GRAM POSITIVE BACTERIA          OBS  Labor & Delivery   \n",
              "\n",
              "  disposition  is_ed_visit  is_urgent_lab_event  ...  \\\n",
              "0        HOME            0                    1  ...   \n",
              "1        HOME            0                    1  ...   \n",
              "2        HOME            0                    1  ...   \n",
              "3     UNKNOWN            0                    0  ...   \n",
              "4        HOME            0                    1  ...   \n",
              "\n",
              "   triage_heartrate_outside_thresh  triage_sbp_outside_thresh  \\\n",
              "0                   Not applicable             Not applicable   \n",
              "1                   Not applicable             Not applicable   \n",
              "2                   Not applicable             Not applicable   \n",
              "3                   Not applicable             Not applicable   \n",
              "4                   Not applicable             Not applicable   \n",
              "\n",
              "   triage_dbp_outside_thresh  triage_resprate_outside_thresh  \\\n",
              "0             Not applicable                  Not applicable   \n",
              "1             Not applicable                  Not applicable   \n",
              "2             Not applicable                  Not applicable   \n",
              "3             Not applicable                  Not applicable   \n",
              "4             Not applicable                  Not applicable   \n",
              "\n",
              "   triage_o2sat_outside_thresh  is_postpartum  preeclampsia_output  \\\n",
              "0               Not applicable          False                    0   \n",
              "1               Not applicable          False                    0   \n",
              "2               Not applicable          False                    0   \n",
              "3               Not applicable          False                    0   \n",
              "4               Not applicable           True                    0   \n",
              "\n",
              "   preterm_output  hemorrhage_output  has_adverse_outcome  \n",
              "0               0                  0                    0  \n",
              "1               0                  0                    0  \n",
              "2               0                  0                    0  \n",
              "3               0                  0                    0  \n",
              "4               0                  0                    0  \n",
              "\n",
              "[5 rows x 1791 columns]"
            ],
            "text/html": [
              "\n",
              "  <div id=\"df-d684e578-e74a-4a8b-ad3e-04d5a8275a03\" class=\"colab-df-container\">\n",
              "    <div>\n",
              "<style scoped>\n",
              "    .dataframe tbody tr th:only-of-type {\n",
              "        vertical-align: middle;\n",
              "    }\n",
              "\n",
              "    .dataframe tbody tr th {\n",
              "        vertical-align: top;\n",
              "    }\n",
              "\n",
              "    .dataframe thead th {\n",
              "        text-align: right;\n",
              "    }\n",
              "</style>\n",
              "<table border=\"1\" class=\"dataframe\">\n",
              "  <thead>\n",
              "    <tr style=\"text-align: right;\">\n",
              "      <th></th>\n",
              "      <th>subject_id</th>\n",
              "      <th>age_at_admission</th>\n",
              "      <th>mean_patient_weight</th>\n",
              "      <th>hadm_id</th>\n",
              "      <th>microbiology_orgname</th>\n",
              "      <th>curr_service</th>\n",
              "      <th>care_unit_group</th>\n",
              "      <th>disposition</th>\n",
              "      <th>is_ed_visit</th>\n",
              "      <th>is_urgent_lab_event</th>\n",
              "      <th>...</th>\n",
              "      <th>triage_heartrate_outside_thresh</th>\n",
              "      <th>triage_sbp_outside_thresh</th>\n",
              "      <th>triage_dbp_outside_thresh</th>\n",
              "      <th>triage_resprate_outside_thresh</th>\n",
              "      <th>triage_o2sat_outside_thresh</th>\n",
              "      <th>is_postpartum</th>\n",
              "      <th>preeclampsia_output</th>\n",
              "      <th>preterm_output</th>\n",
              "      <th>hemorrhage_output</th>\n",
              "      <th>has_adverse_outcome</th>\n",
              "    </tr>\n",
              "  </thead>\n",
              "  <tbody>\n",
              "    <tr>\n",
              "      <th>0</th>\n",
              "      <td>10000719</td>\n",
              "      <td>34.000000</td>\n",
              "      <td>107.047712</td>\n",
              "      <td>24558333.0</td>\n",
              "      <td>POSITIVE FOR GROUP B BETA STREPTOCOCCI</td>\n",
              "      <td>OBS</td>\n",
              "      <td>Labor &amp; Delivery</td>\n",
              "      <td>HOME</td>\n",
              "      <td>0</td>\n",
              "      <td>1</td>\n",
              "      <td>...</td>\n",
              "      <td>Not applicable</td>\n",
              "      <td>Not applicable</td>\n",
              "      <td>Not applicable</td>\n",
              "      <td>Not applicable</td>\n",
              "      <td>Not applicable</td>\n",
              "      <td>False</td>\n",
              "      <td>0</td>\n",
              "      <td>0</td>\n",
              "      <td>0</td>\n",
              "      <td>0</td>\n",
              "    </tr>\n",
              "    <tr>\n",
              "      <th>1</th>\n",
              "      <td>10001319</td>\n",
              "      <td>30.000000</td>\n",
              "      <td>73.539842</td>\n",
              "      <td>23005466.0</td>\n",
              "      <td>GRAM POSITIVE BACTERIA</td>\n",
              "      <td>OBS</td>\n",
              "      <td>Labor &amp; Delivery</td>\n",
              "      <td>HOME</td>\n",
              "      <td>0</td>\n",
              "      <td>1</td>\n",
              "      <td>...</td>\n",
              "      <td>Not applicable</td>\n",
              "      <td>Not applicable</td>\n",
              "      <td>Not applicable</td>\n",
              "      <td>Not applicable</td>\n",
              "      <td>Not applicable</td>\n",
              "      <td>False</td>\n",
              "      <td>0</td>\n",
              "      <td>0</td>\n",
              "      <td>0</td>\n",
              "      <td>0</td>\n",
              "    </tr>\n",
              "    <tr>\n",
              "      <th>2</th>\n",
              "      <td>10001472</td>\n",
              "      <td>34.000000</td>\n",
              "      <td>78.834290</td>\n",
              "      <td>23506139.0</td>\n",
              "      <td>None</td>\n",
              "      <td>OBS</td>\n",
              "      <td>Labor &amp; Delivery</td>\n",
              "      <td>HOME</td>\n",
              "      <td>0</td>\n",
              "      <td>1</td>\n",
              "      <td>...</td>\n",
              "      <td>Not applicable</td>\n",
              "      <td>Not applicable</td>\n",
              "      <td>Not applicable</td>\n",
              "      <td>Not applicable</td>\n",
              "      <td>Not applicable</td>\n",
              "      <td>False</td>\n",
              "      <td>0</td>\n",
              "      <td>0</td>\n",
              "      <td>0</td>\n",
              "      <td>0</td>\n",
              "    </tr>\n",
              "    <tr>\n",
              "      <th>3</th>\n",
              "      <td>10001884</td>\n",
              "      <td>74.744186</td>\n",
              "      <td>67.570065</td>\n",
              "      <td>21192799.0</td>\n",
              "      <td>POSITIVE FOR INFLUENZA A VIRAL ANTIGEN</td>\n",
              "      <td>MED</td>\n",
              "      <td>Emergency</td>\n",
              "      <td>UNKNOWN</td>\n",
              "      <td>0</td>\n",
              "      <td>0</td>\n",
              "      <td>...</td>\n",
              "      <td>Not applicable</td>\n",
              "      <td>Not applicable</td>\n",
              "      <td>Not applicable</td>\n",
              "      <td>Not applicable</td>\n",
              "      <td>Not applicable</td>\n",
              "      <td>False</td>\n",
              "      <td>0</td>\n",
              "      <td>0</td>\n",
              "      <td>0</td>\n",
              "      <td>0</td>\n",
              "    </tr>\n",
              "    <tr>\n",
              "      <th>4</th>\n",
              "      <td>10002266</td>\n",
              "      <td>30.500000</td>\n",
              "      <td>69.329322</td>\n",
              "      <td>24160398.0</td>\n",
              "      <td>GRAM POSITIVE BACTERIA</td>\n",
              "      <td>OBS</td>\n",
              "      <td>Labor &amp; Delivery</td>\n",
              "      <td>HOME</td>\n",
              "      <td>0</td>\n",
              "      <td>1</td>\n",
              "      <td>...</td>\n",
              "      <td>Not applicable</td>\n",
              "      <td>Not applicable</td>\n",
              "      <td>Not applicable</td>\n",
              "      <td>Not applicable</td>\n",
              "      <td>Not applicable</td>\n",
              "      <td>True</td>\n",
              "      <td>0</td>\n",
              "      <td>0</td>\n",
              "      <td>0</td>\n",
              "      <td>0</td>\n",
              "    </tr>\n",
              "  </tbody>\n",
              "</table>\n",
              "<p>5 rows × 1791 columns</p>\n",
              "</div>\n",
              "    <div class=\"colab-df-buttons\">\n",
              "\n",
              "  <div class=\"colab-df-container\">\n",
              "    <button class=\"colab-df-convert\" onclick=\"convertToInteractive('df-d684e578-e74a-4a8b-ad3e-04d5a8275a03')\"\n",
              "            title=\"Convert this dataframe to an interactive table.\"\n",
              "            style=\"display:none;\">\n",
              "\n",
              "  <svg xmlns=\"http://www.w3.org/2000/svg\" height=\"24px\" viewBox=\"0 -960 960 960\">\n",
              "    <path d=\"M120-120v-720h720v720H120Zm60-500h600v-160H180v160Zm220 220h160v-160H400v160Zm0 220h160v-160H400v160ZM180-400h160v-160H180v160Zm440 0h160v-160H620v160ZM180-180h160v-160H180v160Zm440 0h160v-160H620v160Z\"/>\n",
              "  </svg>\n",
              "    </button>\n",
              "\n",
              "  <style>\n",
              "    .colab-df-container {\n",
              "      display:flex;\n",
              "      gap: 12px;\n",
              "    }\n",
              "\n",
              "    .colab-df-convert {\n",
              "      background-color: #E8F0FE;\n",
              "      border: none;\n",
              "      border-radius: 50%;\n",
              "      cursor: pointer;\n",
              "      display: none;\n",
              "      fill: #1967D2;\n",
              "      height: 32px;\n",
              "      padding: 0 0 0 0;\n",
              "      width: 32px;\n",
              "    }\n",
              "\n",
              "    .colab-df-convert:hover {\n",
              "      background-color: #E2EBFA;\n",
              "      box-shadow: 0px 1px 2px rgba(60, 64, 67, 0.3), 0px 1px 3px 1px rgba(60, 64, 67, 0.15);\n",
              "      fill: #174EA6;\n",
              "    }\n",
              "\n",
              "    .colab-df-buttons div {\n",
              "      margin-bottom: 4px;\n",
              "    }\n",
              "\n",
              "    [theme=dark] .colab-df-convert {\n",
              "      background-color: #3B4455;\n",
              "      fill: #D2E3FC;\n",
              "    }\n",
              "\n",
              "    [theme=dark] .colab-df-convert:hover {\n",
              "      background-color: #434B5C;\n",
              "      box-shadow: 0px 1px 3px 1px rgba(0, 0, 0, 0.15);\n",
              "      filter: drop-shadow(0px 1px 2px rgba(0, 0, 0, 0.3));\n",
              "      fill: #FFFFFF;\n",
              "    }\n",
              "  </style>\n",
              "\n",
              "    <script>\n",
              "      const buttonEl =\n",
              "        document.querySelector('#df-d684e578-e74a-4a8b-ad3e-04d5a8275a03 button.colab-df-convert');\n",
              "      buttonEl.style.display =\n",
              "        google.colab.kernel.accessAllowed ? 'block' : 'none';\n",
              "\n",
              "      async function convertToInteractive(key) {\n",
              "        const element = document.querySelector('#df-d684e578-e74a-4a8b-ad3e-04d5a8275a03');\n",
              "        const dataTable =\n",
              "          await google.colab.kernel.invokeFunction('convertToInteractive',\n",
              "                                                    [key], {});\n",
              "        if (!dataTable) return;\n",
              "\n",
              "        const docLinkHtml = 'Like what you see? Visit the ' +\n",
              "          '<a target=\"_blank\" href=https://colab.research.google.com/notebooks/data_table.ipynb>data table notebook</a>'\n",
              "          + ' to learn more about interactive tables.';\n",
              "        element.innerHTML = '';\n",
              "        dataTable['output_type'] = 'display_data';\n",
              "        await google.colab.output.renderOutput(dataTable, element);\n",
              "        const docLink = document.createElement('div');\n",
              "        docLink.innerHTML = docLinkHtml;\n",
              "        element.appendChild(docLink);\n",
              "      }\n",
              "    </script>\n",
              "  </div>\n",
              "\n",
              "\n",
              "<div id=\"df-d3f1ff84-2965-4b49-a623-55f56768ae30\">\n",
              "  <button class=\"colab-df-quickchart\" onclick=\"quickchart('df-d3f1ff84-2965-4b49-a623-55f56768ae30')\"\n",
              "            title=\"Suggest charts\"\n",
              "            style=\"display:none;\">\n",
              "\n",
              "<svg xmlns=\"http://www.w3.org/2000/svg\" height=\"24px\"viewBox=\"0 0 24 24\"\n",
              "     width=\"24px\">\n",
              "    <g>\n",
              "        <path d=\"M19 3H5c-1.1 0-2 .9-2 2v14c0 1.1.9 2 2 2h14c1.1 0 2-.9 2-2V5c0-1.1-.9-2-2-2zM9 17H7v-7h2v7zm4 0h-2V7h2v10zm4 0h-2v-4h2v4z\"/>\n",
              "    </g>\n",
              "</svg>\n",
              "  </button>\n",
              "\n",
              "<style>\n",
              "  .colab-df-quickchart {\n",
              "      --bg-color: #E8F0FE;\n",
              "      --fill-color: #1967D2;\n",
              "      --hover-bg-color: #E2EBFA;\n",
              "      --hover-fill-color: #174EA6;\n",
              "      --disabled-fill-color: #AAA;\n",
              "      --disabled-bg-color: #DDD;\n",
              "  }\n",
              "\n",
              "  [theme=dark] .colab-df-quickchart {\n",
              "      --bg-color: #3B4455;\n",
              "      --fill-color: #D2E3FC;\n",
              "      --hover-bg-color: #434B5C;\n",
              "      --hover-fill-color: #FFFFFF;\n",
              "      --disabled-bg-color: #3B4455;\n",
              "      --disabled-fill-color: #666;\n",
              "  }\n",
              "\n",
              "  .colab-df-quickchart {\n",
              "    background-color: var(--bg-color);\n",
              "    border: none;\n",
              "    border-radius: 50%;\n",
              "    cursor: pointer;\n",
              "    display: none;\n",
              "    fill: var(--fill-color);\n",
              "    height: 32px;\n",
              "    padding: 0;\n",
              "    width: 32px;\n",
              "  }\n",
              "\n",
              "  .colab-df-quickchart:hover {\n",
              "    background-color: var(--hover-bg-color);\n",
              "    box-shadow: 0 1px 2px rgba(60, 64, 67, 0.3), 0 1px 3px 1px rgba(60, 64, 67, 0.15);\n",
              "    fill: var(--button-hover-fill-color);\n",
              "  }\n",
              "\n",
              "  .colab-df-quickchart-complete:disabled,\n",
              "  .colab-df-quickchart-complete:disabled:hover {\n",
              "    background-color: var(--disabled-bg-color);\n",
              "    fill: var(--disabled-fill-color);\n",
              "    box-shadow: none;\n",
              "  }\n",
              "\n",
              "  .colab-df-spinner {\n",
              "    border: 2px solid var(--fill-color);\n",
              "    border-color: transparent;\n",
              "    border-bottom-color: var(--fill-color);\n",
              "    animation:\n",
              "      spin 1s steps(1) infinite;\n",
              "  }\n",
              "\n",
              "  @keyframes spin {\n",
              "    0% {\n",
              "      border-color: transparent;\n",
              "      border-bottom-color: var(--fill-color);\n",
              "      border-left-color: var(--fill-color);\n",
              "    }\n",
              "    20% {\n",
              "      border-color: transparent;\n",
              "      border-left-color: var(--fill-color);\n",
              "      border-top-color: var(--fill-color);\n",
              "    }\n",
              "    30% {\n",
              "      border-color: transparent;\n",
              "      border-left-color: var(--fill-color);\n",
              "      border-top-color: var(--fill-color);\n",
              "      border-right-color: var(--fill-color);\n",
              "    }\n",
              "    40% {\n",
              "      border-color: transparent;\n",
              "      border-right-color: var(--fill-color);\n",
              "      border-top-color: var(--fill-color);\n",
              "    }\n",
              "    60% {\n",
              "      border-color: transparent;\n",
              "      border-right-color: var(--fill-color);\n",
              "    }\n",
              "    80% {\n",
              "      border-color: transparent;\n",
              "      border-right-color: var(--fill-color);\n",
              "      border-bottom-color: var(--fill-color);\n",
              "    }\n",
              "    90% {\n",
              "      border-color: transparent;\n",
              "      border-bottom-color: var(--fill-color);\n",
              "    }\n",
              "  }\n",
              "</style>\n",
              "\n",
              "  <script>\n",
              "    async function quickchart(key) {\n",
              "      const quickchartButtonEl =\n",
              "        document.querySelector('#' + key + ' button');\n",
              "      quickchartButtonEl.disabled = true;  // To prevent multiple clicks.\n",
              "      quickchartButtonEl.classList.add('colab-df-spinner');\n",
              "      try {\n",
              "        const charts = await google.colab.kernel.invokeFunction(\n",
              "            'suggestCharts', [key], {});\n",
              "      } catch (error) {\n",
              "        console.error('Error during call to suggestCharts:', error);\n",
              "      }\n",
              "      quickchartButtonEl.classList.remove('colab-df-spinner');\n",
              "      quickchartButtonEl.classList.add('colab-df-quickchart-complete');\n",
              "    }\n",
              "    (() => {\n",
              "      let quickchartButtonEl =\n",
              "        document.querySelector('#df-d3f1ff84-2965-4b49-a623-55f56768ae30 button');\n",
              "      quickchartButtonEl.style.display =\n",
              "        google.colab.kernel.accessAllowed ? 'block' : 'none';\n",
              "    })();\n",
              "  </script>\n",
              "</div>\n",
              "\n",
              "    </div>\n",
              "  </div>\n"
            ],
            "application/vnd.google.colaboratory.intrinsic+json": {
              "type": "dataframe",
              "variable_name": "aggregated_input_data_with_targets"
            }
          },
          "metadata": {},
          "execution_count": 35
        }
      ]
    },
    {
      "cell_type": "markdown",
      "source": [
        "## Basic Info about our population"
      ],
      "metadata": {
        "id": "kpN2S8ZY_yGh"
      }
    },
    {
      "cell_type": "code",
      "source": [
        "# number of total patients\n",
        "aggregated_input_data_with_targets['subject_id'].nunique()"
      ],
      "metadata": {
        "colab": {
          "base_uri": "https://localhost:8080/"
        },
        "id": "dVUV3viv7T9L",
        "outputId": "a74e6b5d-26e0-4433-f8fb-103f6ce0c71f"
      },
      "execution_count": 36,
      "outputs": [
        {
          "output_type": "execute_result",
          "data": {
            "text/plain": [
              "19076"
            ]
          },
          "metadata": {},
          "execution_count": 36
        }
      ]
    },
    {
      "cell_type": "code",
      "source": [
        "aggregated_input_data_with_targets[aggregated_input_data_with_targets['has_adverse_outcome'] == 1]['subject_id'].nunique()"
      ],
      "metadata": {
        "colab": {
          "base_uri": "https://localhost:8080/"
        },
        "id": "WTtnZdd3_5Ei",
        "outputId": "bd397e70-b6ed-4ae4-cb7f-bb110ef2ec19"
      },
      "execution_count": 37,
      "outputs": [
        {
          "output_type": "execute_result",
          "data": {
            "text/plain": [
              "3549"
            ]
          },
          "metadata": {},
          "execution_count": 37
        }
      ]
    },
    {
      "cell_type": "code",
      "source": [
        "2549/19076"
      ],
      "metadata": {
        "colab": {
          "base_uri": "https://localhost:8080/"
        },
        "id": "KPj6iRet__kI",
        "outputId": "caffa504-451c-48fc-a9f4-a3d76a266f2c"
      },
      "execution_count": 39,
      "outputs": [
        {
          "output_type": "execute_result",
          "data": {
            "text/plain": [
              "0.13362340113231286"
            ]
          },
          "metadata": {},
          "execution_count": 39
        }
      ]
    },
    {
      "cell_type": "code",
      "source": [
        "aggregated_input_data_with_targets[aggregated_input_data_with_targets['has_adverse_outcome'] == 0]['subject_id'].nunique()"
      ],
      "metadata": {
        "colab": {
          "base_uri": "https://localhost:8080/"
        },
        "id": "BZFLPxs_AD_1",
        "outputId": "258f7635-a85d-4beb-e182-1865da6cfc6e"
      },
      "execution_count": 41,
      "outputs": [
        {
          "output_type": "execute_result",
          "data": {
            "text/plain": [
              "15527"
            ]
          },
          "metadata": {},
          "execution_count": 41
        }
      ]
    },
    {
      "cell_type": "code",
      "source": [
        "aggregated_input_data_with_targets[aggregated_input_data_with_targets['preeclampsia_output'] == 1]['subject_id'].nunique()"
      ],
      "metadata": {
        "colab": {
          "base_uri": "https://localhost:8080/"
        },
        "id": "g7nRrx-NAI1X",
        "outputId": "b7135ff5-014e-426e-9788-669c507c9bd9"
      },
      "execution_count": 43,
      "outputs": [
        {
          "output_type": "execute_result",
          "data": {
            "text/plain": [
              "1022"
            ]
          },
          "metadata": {},
          "execution_count": 43
        }
      ]
    },
    {
      "cell_type": "code",
      "source": [
        "aggregated_input_data_with_targets[aggregated_input_data_with_targets['preterm_output'] == 1]['subject_id'].nunique()"
      ],
      "metadata": {
        "colab": {
          "base_uri": "https://localhost:8080/"
        },
        "id": "pSlzVfwWAVHU",
        "outputId": "0ca7545b-10e3-429a-8e11-55a9be4f3977"
      },
      "execution_count": 44,
      "outputs": [
        {
          "output_type": "execute_result",
          "data": {
            "text/plain": [
              "1074"
            ]
          },
          "metadata": {},
          "execution_count": 44
        }
      ]
    },
    {
      "cell_type": "code",
      "source": [
        "aggregated_input_data_with_targets[aggregated_input_data_with_targets['hemorrhage_output'] == 1]['subject_id'].nunique()"
      ],
      "metadata": {
        "colab": {
          "base_uri": "https://localhost:8080/"
        },
        "id": "Ft8ZdaGRAWc_",
        "outputId": "18667124-6c63-4925-d373-d0788067a28f"
      },
      "execution_count": 45,
      "outputs": [
        {
          "output_type": "execute_result",
          "data": {
            "text/plain": [
              "2105"
            ]
          },
          "metadata": {},
          "execution_count": 45
        }
      ]
    },
    {
      "cell_type": "markdown",
      "source": [
        "## Admission-related statistics"
      ],
      "metadata": {
        "id": "lUMqUqNoAjzm"
      }
    },
    {
      "cell_type": "code",
      "source": [
        "row_counts = input_data.groupby('subject_id').size()\n",
        "mean_rows = row_counts.mean()\n",
        "std_dev_rows = row_counts.std()\n",
        "median_rows = row_counts.median()\n",
        "print(\"Mean admissions:\", mean_rows)\n",
        "print(\"Standard deviation admissions:\", std_dev_rows)\n",
        "print(\"Median rows:\", median_rows)"
      ],
      "metadata": {
        "colab": {
          "base_uri": "https://localhost:8080/"
        },
        "id": "IVmxSuxvAi_o",
        "outputId": "384787d9-4f03-450a-e449-a91ea3feffcd"
      },
      "execution_count": 47,
      "outputs": [
        {
          "output_type": "stream",
          "name": "stdout",
          "text": [
            "Mean admissions: 5.753355001048438\n",
            "Standard deviation admissions: 9.657051248124795\n",
            "Median rows: 3.0\n"
          ]
        }
      ]
    },
    {
      "cell_type": "code",
      "source": [
        "input_data[input_data['is_ed_visit'] == 1]['hadm_id'].nunique()"
      ],
      "metadata": {
        "colab": {
          "base_uri": "https://localhost:8080/"
        },
        "id": "SEnA877NBQbS",
        "outputId": "fc91c755-88b6-4413-a52e-1e271b1baeee"
      },
      "execution_count": 50,
      "outputs": [
        {
          "output_type": "execute_result",
          "data": {
            "text/plain": [
              "43042"
            ]
          },
          "metadata": {},
          "execution_count": 50
        }
      ]
    },
    {
      "cell_type": "code",
      "source": [
        "input_data[input_data['is_ed_visit'] == 0]['hadm_id'].nunique()"
      ],
      "metadata": {
        "colab": {
          "base_uri": "https://localhost:8080/"
        },
        "id": "Y1SRgyaLCIa6",
        "outputId": "8093601f-7a2b-4c6d-bfc2-3d88354686f0"
      },
      "execution_count": 51,
      "outputs": [
        {
          "output_type": "execute_result",
          "data": {
            "text/plain": [
              "66709"
            ]
          },
          "metadata": {},
          "execution_count": 51
        }
      ]
    },
    {
      "cell_type": "code",
      "source": [
        "input_data.shape"
      ],
      "metadata": {
        "colab": {
          "base_uri": "https://localhost:8080/"
        },
        "id": "zbz5cb96CSlM",
        "outputId": "8c4da95f-4d70-4e5d-9b10-ab53f3e08556"
      },
      "execution_count": 52,
      "outputs": [
        {
          "output_type": "execute_result",
          "data": {
            "text/plain": [
              "(109751, 1787)"
            ]
          },
          "metadata": {},
          "execution_count": 52
        }
      ]
    }
  ]
}