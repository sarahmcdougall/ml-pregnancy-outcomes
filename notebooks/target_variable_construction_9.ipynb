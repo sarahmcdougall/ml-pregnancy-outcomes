{
 "cells": [
  {
   "cell_type": "markdown",
   "id": "50bb7a0d-e538-4e33-bce5-768ee7c39eb8",
   "metadata": {},
   "source": [
    "# Target Variable Construction\n",
    "\n",
    "The purpose of this Jupyter Notebook is to construct the output dataframe for the adverse outcomes for each patient."
   ]
  },
  {
   "cell_type": "markdown",
   "id": "c44d0beb-b2b2-4aa6-80e7-b76688a133e0",
   "metadata": {},
   "source": [
    "## Read in the List of Pregnant Patients we are starting with"
   ]
  },
  {
   "cell_type": "code",
   "execution_count": 30,
   "id": "73462dec-6f0f-419f-a326-835210ad02c0",
   "metadata": {},
   "outputs": [],
   "source": [
    "import psycopg2\n",
    "from psycopg2 import OperationalError, DatabaseError, sql\n",
    "import pandas as pd\n",
    "import csv\n",
    "import os"
   ]
  },
  {
   "cell_type": "code",
   "execution_count": 2,
   "id": "5a0d25ae-f517-476c-846f-c35f2620000b",
   "metadata": {},
   "outputs": [],
   "source": [
    "### Environment Variables for Connection ###\n",
    "DB_NAME = 'smcdougall'\n",
    "USERNAME = 'postgres'\n",
    "PASSWORD = 'postgres'\n",
    "HOST = 'localhost'\n",
    "PORT = 5432 "
   ]
  },
  {
   "cell_type": "code",
   "execution_count": 3,
   "id": "2ca530e9-456a-4267-a979-75977c20c1f8",
   "metadata": {},
   "outputs": [],
   "source": [
    "def connect_to_postgres(db_name, username, password, host, port):\n",
    "    connection = None\n",
    "    try:\n",
    "        connection = psycopg2.connect(\n",
    "            dbname=db_name,\n",
    "            user=username,\n",
    "            password=password,\n",
    "            host=host,\n",
    "            port=port\n",
    "        )\n",
    "        print('Connected to db:', db_name)\n",
    "        return connection\n",
    "    except OperationalError as e:\n",
    "        print('Received the following error:', e)\n",
    "        return None"
   ]
  },
  {
   "cell_type": "code",
   "execution_count": 4,
   "id": "63e9f982-9d00-476b-be08-9e16040b772f",
   "metadata": {},
   "outputs": [],
   "source": [
    "def verify_postgres_connection(connection):\n",
    "    if connection is not None:\n",
    "        try:\n",
    "            cur = connection.cursor()\n",
    "            cur.execute('SELECT version();')\n",
    "            db_version = cur.fetchone()\n",
    "            print('The Postgres database version is:', db_version)\n",
    "            cur.close()\n",
    "        except DatabaseError as e:\n",
    "            print('Received the following error:', e)\n",
    "    else:\n",
    "        print('Connection to Postgres failed.')"
   ]
  },
  {
   "cell_type": "code",
   "execution_count": 5,
   "id": "80b7069f-3aa8-47cf-8f38-06414679d459",
   "metadata": {},
   "outputs": [],
   "source": [
    "def close_connection(connection):\n",
    "    if connection is not None:\n",
    "        connection.close()\n",
    "        print('Postgres connection has been closed.')"
   ]
  },
  {
   "cell_type": "code",
   "execution_count": 6,
   "id": "caf96fc9-29f1-4788-a113-6988638ea90c",
   "metadata": {},
   "outputs": [],
   "source": [
    "\"\"\"\n",
    "Saves pandas DataFrame as a CSV file.\n",
    "\"\"\"\n",
    "def save_df_as_csv(df, csv_name, directory='dataframes'):\n",
    "    if not os.path.exists(directory):\n",
    "        os.makedirs(directory)\n",
    "\n",
    "    file_path = os.path.join(directory, csv_name)\n",
    "    df.to_csv(file_path, index=False)\n",
    "\n",
    "    print(f'DataFrame has been saved as {file_path}')"
   ]
  },
  {
   "cell_type": "code",
   "execution_count": 7,
   "id": "62a415c3-ef8e-450c-8b65-9c7a01147b2a",
   "metadata": {},
   "outputs": [
    {
     "name": "stdout",
     "output_type": "stream",
     "text": [
      "Connected to db: smcdougall\n",
      "The Postgres database version is: ('PostgreSQL 14.5 on aarch64-apple-darwin20.6.0, compiled by Apple clang version 12.0.5 (clang-1205.0.22.9), 64-bit',)\n",
      "Postgres connection has been closed.\n"
     ]
    }
   ],
   "source": [
    "connection = connect_to_postgres(DB_NAME, USERNAME, PASSWORD, HOST, PORT)\n",
    "verify_postgres_connection(connection)\n",
    "close_connection(connection)"
   ]
  },
  {
   "cell_type": "code",
   "execution_count": 8,
   "id": "923ce17c-7ec8-4709-8aa8-748820dbd94e",
   "metadata": {},
   "outputs": [],
   "source": [
    "def load_csv_column_as_list(file_path):\n",
    "    column_values = []\n",
    "    with open(file_path, newline='') as csv_file:\n",
    "        reader = csv.reader(csv_file)\n",
    "        for row in reader:\n",
    "            if row:  # Check if row is not empty\n",
    "                column_values.append(row[0])\n",
    "    return column_values\n",
    "\n",
    "file_path = \"final_dfs/final_subject_id_list.csv\"\n",
    "# remove column header from the list since we are only interested in the actual ids\n",
    "hosp_and_ed_subjects = load_csv_column_as_list(file_path)[1:]"
   ]
  },
  {
   "cell_type": "code",
   "execution_count": 9,
   "id": "22e8ab96-64cb-4810-b191-f5f47d1ed7af",
   "metadata": {},
   "outputs": [
    {
     "name": "stdout",
     "output_type": "stream",
     "text": [
      "19076\n"
     ]
    }
   ],
   "source": [
    "print(len(hosp_and_ed_subjects))"
   ]
  },
  {
   "cell_type": "markdown",
   "id": "04e76633-4857-428f-b44e-c1489ae5c4f4",
   "metadata": {},
   "source": [
    "We will be starting with 24895 pregnant patients in total."
   ]
  },
  {
   "cell_type": "markdown",
   "id": "c4ee25bc-ae80-4dc0-bb19-291a0de8d7f4",
   "metadata": {},
   "source": [
    "## Relevant Diagnosis Codes\n",
    "\n",
    "### Preeclampsia\n",
    "- ICD-10: O14\n",
    "- ICD-9: 642.4, 642.5\n",
    "\n",
    "Note that the O14 diagnosis codes contain specific codes for the different trimesters (unspecified trimester, second trimester, and third trimester), so that can be leveraged in the future for that related analysis\n",
    "\n",
    "Note that we exclude codes like 642.7 (preeclampsia or eclampsia superimposed on pre-existing hypertension) because it means the patient had hypertension as a pre-existing condition to pregnancy\n",
    "\n",
    "### Preterm Delivery\n",
    "- ICD-10: O60.1 (this is specifically preterm labor with delivery, as opposed to without delivery)\n",
    "- ICD-9: 644.21, 644.1, 765.0, 765.1\n",
    "\n",
    "### Obstetric Hemorrhage\n",
    "- ICD-10: O20 (early pregnancy hemorrhage), O72 (postpartum hemorrhage), O46 - antepartum hemorrhage (during pregnancy but before onset of labor), O67 (labor and delivery complicated by intrapartum hemorrhage/during labor and delivery)\n",
    "- maybe should not include O20 early pregnancy hemorrhage? not sure\n",
    "- ICD-9: 641 (antepartum hemorrhage), 666 (postpartum hemorrhage)"
   ]
  },
  {
   "cell_type": "markdown",
   "id": "4df57638-ebf8-499d-b7e1-8435bc22b9e8",
   "metadata": {},
   "source": [
    "## Preliminary Counts for Preeclampsia"
   ]
  },
  {
   "cell_type": "code",
   "execution_count": 10,
   "id": "5920ac79-a3cd-4403-af30-f687892fe581",
   "metadata": {},
   "outputs": [],
   "source": [
    "def get_all_preeclampsia_subject_ids(connection, subject_id_list):\n",
    "    cur = connection.cursor()\n",
    "    cur.execute(\"\"\"\n",
    "        SELECT subject_id\n",
    "        FROM (\n",
    "        SELECT di.subject_id\n",
    "                FROM mimiciv_hosp.diagnoses_icd di\n",
    "                WHERE ((di.icd_code LIKE 'O14%') AND di.icd_version = 10)\n",
    "                    OR\n",
    "                    ((di.icd_code LIKE '6424%'\n",
    "                    OR di.icd_code LIKE '6425%') AND di.icd_version = 9)\n",
    "        UNION\n",
    "        SELECT di.subject_id\n",
    "                FROM mimiciv_ed.diagnosis di\n",
    "                WHERE ((di.icd_code LIKE 'O14%') AND di.icd_version = 10)\n",
    "                    OR\n",
    "                    ((di.icd_code LIKE '6424%'\n",
    "                    OR di.icd_code LIKE '6425%') AND di.icd_version = 9)\n",
    "    ) AS combined_results;\n",
    "    \"\"\")\n",
    "    rows = cur.fetchall()\n",
    "    subject_ids_from_query = [row[0] for row in rows]\n",
    "    print(len(subject_ids_from_query))\n",
    "\n",
    "    # Filter subject IDs to those present in subject_id_list\n",
    "    filtered_subject_ids = [sid for sid in subject_ids_from_query if str(sid) in subject_id_list]\n",
    "    cur.close()\n",
    "    return filtered_subject_ids"
   ]
  },
  {
   "cell_type": "code",
   "execution_count": 11,
   "id": "7c96442e-1c33-48d4-8d91-2cc505e116fa",
   "metadata": {},
   "outputs": [
    {
     "name": "stdout",
     "output_type": "stream",
     "text": [
      "Connected to db: smcdougall\n",
      "1024\n",
      "Postgres connection has been closed.\n",
      "1022\n"
     ]
    }
   ],
   "source": [
    "connection = connect_to_postgres(DB_NAME, USERNAME, PASSWORD, HOST, PORT)\n",
    "preeclampsia_subject_ids = get_all_preeclampsia_subject_ids(connection, hosp_and_ed_subjects)\n",
    "close_connection(connection)\n",
    "print(len(preeclampsia_subject_ids))"
   ]
  },
  {
   "cell_type": "markdown",
   "id": "e87232a1-e0a7-44f2-a309-cb8a4939a3a7",
   "metadata": {},
   "source": [
    "## Preliminary Counts for Preterm Delivery"
   ]
  },
  {
   "cell_type": "code",
   "execution_count": 12,
   "id": "f6f03684-bdd6-404f-991d-e0be171f1ba3",
   "metadata": {},
   "outputs": [],
   "source": [
    "def get_all_preterm_subject_ids(connection, subject_id_list):\n",
    "    cur = connection.cursor()\n",
    "    cur.execute(\"\"\"\n",
    "        SELECT subject_id\n",
    "        FROM (\n",
    "        SELECT di.subject_id\n",
    "                FROM mimiciv_hosp.diagnoses_icd di\n",
    "                WHERE ((di.icd_code LIKE 'O601%') AND di.icd_version = 10)\n",
    "                    OR\n",
    "                    ((di.icd_code LIKE '64421%'\n",
    "                    OR di.icd_code LIKE '6441'\n",
    "                    OR di.icd_code LIKE '7651%'\n",
    "                    OR di.icd_code LIKE '7650%') AND di.icd_version = 9)\n",
    "        UNION\n",
    "        SELECT di.subject_id\n",
    "                FROM mimiciv_ed.diagnosis di\n",
    "                WHERE ((di.icd_code LIKE 'O601%') AND di.icd_version = 10)\n",
    "                    OR\n",
    "                    ((di.icd_code LIKE '64421%'\n",
    "                    OR di.icd_code LIKE '6441'\n",
    "                    OR di.icd_code LIKE '7651%'\n",
    "                    OR di.icd_code LIKE '7650%') AND di.icd_version = 9)\n",
    "    ) AS combined_results;\n",
    "    \"\"\")\n",
    "    rows = cur.fetchall()\n",
    "    subject_ids_from_query = [row[0] for row in rows]\n",
    "    print(len(subject_ids_from_query))\n",
    "\n",
    "    # Filter subject IDs to those present in subject_id_list\n",
    "    filtered_subject_ids = [sid for sid in subject_ids_from_query if str(sid) in subject_id_list]\n",
    "    cur.close()\n",
    "    return filtered_subject_ids"
   ]
  },
  {
   "cell_type": "code",
   "execution_count": 13,
   "id": "be3d5be1-1897-44da-ab1a-5ba9887dbd57",
   "metadata": {},
   "outputs": [
    {
     "name": "stdout",
     "output_type": "stream",
     "text": [
      "Connected to db: smcdougall\n",
      "1074\n",
      "Postgres connection has been closed.\n",
      "1074\n"
     ]
    }
   ],
   "source": [
    "connection = connect_to_postgres(DB_NAME, USERNAME, PASSWORD, HOST, PORT)\n",
    "preterm_subject_ids = get_all_preterm_subject_ids(connection, hosp_and_ed_subjects)\n",
    "close_connection(connection)\n",
    "print(len(preterm_subject_ids))"
   ]
  },
  {
   "cell_type": "markdown",
   "id": "056d6a7a-2ce0-45c7-bdbc-8b660730a8c1",
   "metadata": {},
   "source": [
    "## Preliminary Counts for Obstetric Hemorrhage"
   ]
  },
  {
   "cell_type": "code",
   "execution_count": 14,
   "id": "cba52169-4def-45a7-8076-759bf19ddbe1",
   "metadata": {},
   "outputs": [],
   "source": [
    "def get_all_hemorrhage_subject_ids(connection, subject_id_list):\n",
    "    cur = connection.cursor()\n",
    "    cur.execute(\"\"\"\n",
    "        SELECT subject_id\n",
    "        FROM (\n",
    "        SELECT di.subject_id\n",
    "                FROM mimiciv_hosp.diagnoses_icd di\n",
    "                WHERE ((di.icd_code LIKE 'O20%'\n",
    "                    OR di.icd_code LIKE 'O72%'\n",
    "                    OR di.icd_code LIKE 'O46%'\n",
    "                    OR di.icd_code LIKE 'O67%') AND di.icd_version = 10)\n",
    "                    OR\n",
    "                    ((di.icd_code LIKE '641%'\n",
    "                    OR di.icd_code LIKE '666%') AND di.icd_version = 9)\n",
    "        UNION\n",
    "        SELECT di.subject_id\n",
    "                FROM mimiciv_ed.diagnosis di\n",
    "                WHERE ((di.icd_code LIKE 'O20%'\n",
    "                    OR di.icd_code LIKE 'O72%'\n",
    "                    OR di.icd_code LIKE 'O46%'\n",
    "                    OR di.icd_code LIKE 'O67%') AND di.icd_version = 10)\n",
    "                    OR\n",
    "                    ((di.icd_code LIKE '641%'\n",
    "                    OR di.icd_code LIKE '666%') AND di.icd_version = 9)\n",
    "    ) AS combined_results;\n",
    "    \"\"\")\n",
    "    rows = cur.fetchall()\n",
    "    subject_ids_from_query = [row[0] for row in rows]\n",
    "    print(len(subject_ids_from_query))\n",
    "\n",
    "    # Filter subject IDs to those present in subject_id_list\n",
    "    filtered_subject_ids = [sid for sid in subject_ids_from_query if str(sid) in subject_id_list]\n",
    "    cur.close()\n",
    "    return filtered_subject_ids"
   ]
  },
  {
   "cell_type": "code",
   "execution_count": 15,
   "id": "f1b928ee-2445-4803-9439-40093cc9f936",
   "metadata": {},
   "outputs": [
    {
     "name": "stdout",
     "output_type": "stream",
     "text": [
      "Connected to db: smcdougall\n",
      "2112\n",
      "Postgres connection has been closed.\n",
      "2105\n"
     ]
    }
   ],
   "source": [
    "connection = connect_to_postgres(DB_NAME, USERNAME, PASSWORD, HOST, PORT)\n",
    "hemorrhage_subject_ids = get_all_hemorrhage_subject_ids(connection, hosp_and_ed_subjects)\n",
    "close_connection(connection)\n",
    "print(len(hemorrhage_subject_ids))"
   ]
  },
  {
   "cell_type": "markdown",
   "id": "533f7d81-0ec0-4b32-af1b-39dcdf1d532c",
   "metadata": {},
   "source": [
    "### Preliminary Results"
   ]
  },
  {
   "cell_type": "code",
   "execution_count": 16,
   "id": "207b77f4-b789-4f43-9006-7fdc802ef979",
   "metadata": {},
   "outputs": [
    {
     "name": "stdout",
     "output_type": "stream",
     "text": [
      "0.05357517299224156 percent preeclampsia\n",
      "0.05630111134409729 percent preterm\n",
      "0.11034808135877543 hemorrhage\n"
     ]
    }
   ],
   "source": [
    "print(len(preeclampsia_subject_ids)/len(hosp_and_ed_subjects), 'percent preeclampsia')\n",
    "print(len(preterm_subject_ids)/len(hosp_and_ed_subjects), 'percent preterm')\n",
    "print(len(hemorrhage_subject_ids)/len(hosp_and_ed_subjects), 'hemorrhage')"
   ]
  },
  {
   "cell_type": "markdown",
   "id": "4f28ccce-02a2-4817-82c1-b1e25de1cc29",
   "metadata": {},
   "source": [
    "They are each less than 10 percent, so this is considered highly imbalanced"
   ]
  },
  {
   "cell_type": "markdown",
   "id": "4b34ec91-f08e-4910-8f42-01d37a11c938",
   "metadata": {},
   "source": [
    "## Dataframe Construction"
   ]
  },
  {
   "cell_type": "code",
   "execution_count": 24,
   "id": "ebe1bad5-a671-4966-9222-04ae3da15e53",
   "metadata": {},
   "outputs": [],
   "source": [
    "hosp_and_ed_subjects = [int(x) for x in hosp_and_ed_subjects]\n",
    "df = pd.DataFrame({'subject_id': hosp_and_ed_subjects})\n",
    "# add binary columns for each condition\n",
    "df['preeclampsia_output'] = df['subject_id'].apply(lambda x: 1 if x in preeclampsia_subject_ids else 0)\n",
    "df['preterm_output'] = df['subject_id'].apply(lambda x: 1 if x in preterm_subject_ids else 0)\n",
    "df['hemorrhage_output'] = df['subject_id'].apply(lambda x: 1 if x in hemorrhage_subject_ids else 0)\n",
    "df['has_adverse_outcome'] = df[['preeclampsia_output', 'preterm_output', 'hemorrhage_output']].max(axis=1)"
   ]
  },
  {
   "cell_type": "code",
   "execution_count": 28,
   "id": "650b27f4-de7f-4631-86ff-1ea686e27c8d",
   "metadata": {},
   "outputs": [
    {
     "data": {
      "text/plain": [
       "has_adverse_outcome\n",
       "0    15527\n",
       "1     3549\n",
       "Name: count, dtype: int64"
      ]
     },
     "execution_count": 28,
     "metadata": {},
     "output_type": "execute_result"
    }
   ],
   "source": [
    "df['has_adverse_outcome'].value_counts()"
   ]
  },
  {
   "cell_type": "code",
   "execution_count": 31,
   "id": "13f7b2ac-b4d4-487d-8737-9ddcee1f7d4f",
   "metadata": {},
   "outputs": [
    {
     "name": "stdout",
     "output_type": "stream",
     "text": [
      "DataFrame has been saved as final_dfs/target_outputs.csv\n"
     ]
    }
   ],
   "source": [
    "save_df_as_csv(df, 'target_outputs.csv', 'final_dfs')"
   ]
  },
  {
   "cell_type": "code",
   "execution_count": null,
   "id": "64da6438-a0e4-4128-8dd5-4d20868be922",
   "metadata": {},
   "outputs": [],
   "source": []
  }
 ],
 "metadata": {
  "kernelspec": {
   "display_name": "Python 3 (ipykernel)",
   "language": "python",
   "name": "python3"
  },
  "language_info": {
   "codemirror_mode": {
    "name": "ipython",
    "version": 3
   },
   "file_extension": ".py",
   "mimetype": "text/x-python",
   "name": "python",
   "nbconvert_exporter": "python",
   "pygments_lexer": "ipython3",
   "version": "3.11.5"
  }
 },
 "nbformat": 4,
 "nbformat_minor": 5
}
