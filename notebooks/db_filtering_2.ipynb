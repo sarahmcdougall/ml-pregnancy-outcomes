{
 "cells": [
  {
   "cell_type": "markdown",
   "id": "ef7375fb-771d-42fc-a54b-e6f9bc28fd65",
   "metadata": {},
   "source": [
    "# Database Filtering"
   ]
  },
  {
   "cell_type": "markdown",
   "id": "0f4aeabd-9a19-4faf-b733-2bb501285722",
   "metadata": {},
   "source": [
    "- We have a list of subject id's that represent patients with a pregnancy diagnosis that we want to use to filter the database so that we are working with a smaller set of patients\n",
    "- The non-pregnant patients (and their data) are not relevant to this analysis, so they should be filtered out\n",
    "- In order to be cautious, we will be creating new tables rather than directly modifying the existing tables (the existing tables took hours to upload to postgres and are useful to have as a backup)\n",
    "- **Filter all “relevant” tables (based on analysis of relevance for our study) by the subject id list – will include all relevant rows for each of the pregnant subjects**"
   ]
  },
  {
   "cell_type": "code",
   "execution_count": 14,
   "id": "c1d87b36-7f08-4289-94ed-ad7797fe33ba",
   "metadata": {},
   "outputs": [],
   "source": [
    "import psycopg2\n",
    "from psycopg2 import OperationalError, DatabaseError, sql\n",
    "import pandas\n",
    "import csv"
   ]
  },
  {
   "cell_type": "code",
   "execution_count": 15,
   "id": "89bf5d23-daf0-4713-acab-f9ae11307c99",
   "metadata": {},
   "outputs": [],
   "source": [
    "### Environment Variables for Connection ###\n",
    "DB_NAME = 'smcdougall'\n",
    "USERNAME = 'postgres'\n",
    "PASSWORD = 'postgres'\n",
    "HOST = 'localhost'\n",
    "PORT = 5432 "
   ]
  },
  {
   "cell_type": "code",
   "execution_count": 16,
   "id": "a5638c3d-0be6-484b-8584-047a4739e5e6",
   "metadata": {},
   "outputs": [],
   "source": [
    "def connect_to_postgres(db_name, username, password, host, port):\n",
    "    connection = None\n",
    "    try:\n",
    "        connection = psycopg2.connect(\n",
    "            dbname=db_name,\n",
    "            user=username,\n",
    "            password=password,\n",
    "            host=host,\n",
    "            port=port\n",
    "        )\n",
    "        print('Connected to db:', db_name)\n",
    "        return connection\n",
    "    except OperationalError as e:\n",
    "        print('Received the following error:', e)\n",
    "        return None"
   ]
  },
  {
   "cell_type": "code",
   "execution_count": 17,
   "id": "2227ea69-09fa-4c2c-b746-84c1f0b82e55",
   "metadata": {},
   "outputs": [],
   "source": [
    "def verify_postgres_connection(connection):\n",
    "    if connection is not None:\n",
    "        try:\n",
    "            cur = connection.cursor()\n",
    "            cur.execute('SELECT version();')\n",
    "            db_version = cur.fetchone()\n",
    "            print('The Postgres database version is:', db_version)\n",
    "            cur.close()\n",
    "        except DatabaseError as e:\n",
    "            print('Received the following error:', e)\n",
    "    else:\n",
    "        print('Connection to Postgres failed.')"
   ]
  },
  {
   "cell_type": "code",
   "execution_count": 18,
   "id": "2e68aba8-3050-4b77-88fd-f1c24260e831",
   "metadata": {},
   "outputs": [],
   "source": [
    "def close_connection(connection):\n",
    "    if connection is not None:\n",
    "        connection.close()\n",
    "        print('Postgres connection has been closed.')"
   ]
  },
  {
   "cell_type": "code",
   "execution_count": 19,
   "id": "0f36be1a-f430-4be9-a7af-f5e0acad41c9",
   "metadata": {},
   "outputs": [
    {
     "name": "stdout",
     "output_type": "stream",
     "text": [
      "Connected to db: smcdougall\n",
      "The Postgres database version is: ('PostgreSQL 14.5 on aarch64-apple-darwin20.6.0, compiled by Apple clang version 12.0.5 (clang-1205.0.22.9), 64-bit',)\n",
      "Postgres connection has been closed.\n"
     ]
    }
   ],
   "source": [
    "connection = connect_to_postgres(DB_NAME, USERNAME, PASSWORD, HOST, PORT)\n",
    "verify_postgres_connection(connection)\n",
    "close_connection(connection)"
   ]
  },
  {
   "cell_type": "code",
   "execution_count": 20,
   "id": "ceb415c8-df57-4057-928c-c63374b235b4",
   "metadata": {},
   "outputs": [],
   "source": [
    "def load_csv_column_as_list(file_path):\n",
    "    column_values = []\n",
    "    with open(file_path, newline='') as csv_file:\n",
    "        reader = csv.reader(csv_file)\n",
    "        for row in reader:\n",
    "            if row:  # Check if row is not empty\n",
    "                column_values.append(row[0])\n",
    "    return column_values\n",
    "\n",
    "file_path = \"hosp_and_ed_pregnant_subjects.csv\"\n",
    "# remove column header from the list since we are only interested in the actual ids\n",
    "hosp_and_ed_subjects = load_csv_column_as_list(file_path)[1:]"
   ]
  },
  {
   "cell_type": "markdown",
   "id": "78530713-feaf-42f8-bc86-983f64f2076e",
   "metadata": {},
   "source": [
    "The `hosp_and_ed_subjects` list contains the subject ids that we are interested in:"
   ]
  },
  {
   "cell_type": "code",
   "execution_count": 21,
   "id": "c857169a-5fcb-42e9-849f-1a3388787538",
   "metadata": {},
   "outputs": [
    {
     "name": "stdout",
     "output_type": "stream",
     "text": [
      "['10000719', '10001319', '10001472', '10001884', '10002266']\n"
     ]
    }
   ],
   "source": [
    "print(hosp_and_ed_subjects[:5])"
   ]
  },
  {
   "cell_type": "markdown",
   "id": "2c2ab0cc-8a64-4c1b-97b2-6de1802fbcd0",
   "metadata": {},
   "source": [
    "All the other tables represent the id's as integers, so we will coerce the string id's to integers:"
   ]
  },
  {
   "cell_type": "code",
   "execution_count": 22,
   "id": "a3a1eded-4428-47a0-8f60-5da4e97e7113",
   "metadata": {},
   "outputs": [
    {
     "name": "stdout",
     "output_type": "stream",
     "text": [
      "[10000719, 10001319, 10001472, 10001884, 10002266]\n"
     ]
    }
   ],
   "source": [
    "hosp_and_ed_subjects = [int(sub) for sub in hosp_and_ed_subjects]\n",
    "print(hosp_and_ed_subjects[:5])"
   ]
  },
  {
   "cell_type": "code",
   "execution_count": 23,
   "id": "1508fd40-a9cb-47af-a62f-b7c0e89db3f9",
   "metadata": {},
   "outputs": [
    {
     "name": "stdout",
     "output_type": "stream",
     "text": [
      "19088\n"
     ]
    }
   ],
   "source": [
    "print(len(hosp_and_ed_subjects))"
   ]
  },
  {
   "cell_type": "code",
   "execution_count": 24,
   "id": "373eab71-a737-485b-99bb-caf5db077fe3",
   "metadata": {},
   "outputs": [],
   "source": [
    "# these pats come from the analysis completed in the data_preprocessing_notebook\n",
    "deceased_pats_to_exclude = [10495653, 11611136, 10504589, 11101737, 15047583, 15014156, 15695321, 19017858, 18805396, 18892314, 17809756, 18186302]"
   ]
  },
  {
   "cell_type": "code",
   "execution_count": 25,
   "id": "44674ca3-24fe-41ec-ab1f-f5a6868aeb93",
   "metadata": {},
   "outputs": [
    {
     "name": "stdout",
     "output_type": "stream",
     "text": [
      "19076\n"
     ]
    }
   ],
   "source": [
    "hosp_and_ed_subjects = [sub for sub in hosp_and_ed_subjects if sub not in deceased_pats_to_exclude]\n",
    "print(len(hosp_and_ed_subjects))"
   ]
  },
  {
   "cell_type": "markdown",
   "id": "30f49c2d-49d6-42a5-b9c3-88bf295edc88",
   "metadata": {},
   "source": [
    "## Relevant Tables for Filtering\n",
    "From an earlier analysis, we have determined that there are some tables that are not relevant to this analysis at all, and so filtering will not be applied to them and they will not be used. On the other hand, of the relevant tables, most of them use `subject_id` as a linking field, **but not all of them**. Even though some of the tables don't use `subject_id` as the best linking field, all of them do have `subject_id` as a field, so they can all be filtered accordingly and then linked according to the ideal linking field."
   ]
  },
  {
   "cell_type": "code",
   "execution_count": 26,
   "id": "02439da6-6c8d-4d15-a346-35c7d9fc1c98",
   "metadata": {},
   "outputs": [],
   "source": [
    "# tables that contain subject_id field and that we want to filter\n",
    "subject_id_filtered_tables = [\n",
    "    # Hosp tables\n",
    "    \"mimiciv_hosp.omr\",\n",
    "    \"mimiciv_hosp.admissions\",\n",
    "    \"mimiciv_hosp.diagnoses_icd\",\n",
    "    \"mimiciv_hosp.drgcodes\",\n",
    "    \"mimiciv_hosp.emar\",\n",
    "    \"mimiciv_hosp.emar_detail\",\n",
    "    \"mimiciv_hosp.microbiologyevents\",\n",
    "    \"mimiciv_hosp.patients\",\n",
    "    \"mimiciv_hosp.pharmacy\",\n",
    "    \"mimiciv_hosp.poe\",\n",
    "    \"mimiciv_hosp.poe_detail\",\n",
    "    \"mimiciv_hosp.prescriptions\",\n",
    "    \"mimiciv_hosp.procedures_icd\",\n",
    "    \"mimiciv_hosp.services\",\n",
    "    \"mimiciv_hosp.transfers\",\n",
    "    \"mimiciv_hosp.labevents\",\n",
    "    # ICU tables\n",
    "    \"mimiciv_icu.chartevents\",\n",
    "    \"mimiciv_icu.datetimeevents\",\n",
    "    \"mimiciv_icu.icustays\",\n",
    "    \"mimiciv_icu.ingredientevents\",\n",
    "    \"mimiciv_icu.inputevents\",\n",
    "    \"mimiciv_icu.outputevents\",\n",
    "    \"mimiciv_icu.procedureevents\",\n",
    "    # ED tables\n",
    "    \"mimiciv_ed.diagnosis\",\n",
    "    \"mimiciv_ed.edstays\",\n",
    "    \"mimiciv_ed.medrecon\",\n",
    "    \"mimiciv_ed.pyxis\",\n",
    "    \"mimiciv_ed.triage\",\n",
    "    \"mimiciv_ed.vitalsign\",\n",
    "    # Notes tables\n",
    "    \"mimiciv_note.discharge\",\n",
    "    \"mimiciv_note.discharge_detail\",\n",
    "    \"mimiciv_note.radiology\",\n",
    "    \"mimiciv_note.radiology_detail\"\n",
    "]"
   ]
  },
  {
   "cell_type": "code",
   "execution_count": 27,
   "id": "28ac2672-f527-457c-bf1e-d13970ef485a",
   "metadata": {},
   "outputs": [],
   "source": [
    "def filter_table_on_subject_id(connection, table_name, subject_id_list):\n",
    "    cur = connection.cursor()\n",
    "\n",
    "    try:\n",
    "        # create new table based on the original table that is filtered based on subject id\n",
    "        schema_name, base_table_name = table_name.split('.')\n",
    "        filtered_table_name = f\"{schema_name}.filtered_{base_table_name}\"\n",
    "        # use sql.Identifier to safely handle table names to prevent SQL injection\n",
    "        query = sql.SQL(\"\"\"\n",
    "            DROP TABLE {};\n",
    "            CREATE TABLE {}\n",
    "            AS\n",
    "            SELECT * FROM {}.{}\n",
    "            WHERE subject_id IN %s\n",
    "        \"\"\").format(\n",
    "            sql.Identifier(filtered_table_name),\n",
    "            sql.Identifier(filtered_table_name),\n",
    "            sql.Identifier(schema_name),\n",
    "            sql.Identifier(base_table_name)\n",
    "        )\n",
    "        cur.execute(query, (tuple(subject_id_list),))\n",
    "        # commit the transaction after creating the new table\n",
    "        connection.commit()\n",
    "    \n",
    "        print(f\"Filtered table {filtered_table_name} created successfully!\")\n",
    "\n",
    "        # count number of rows in the filtered table\n",
    "        query_rows = sql.SQL(\"\"\"\n",
    "            SELECT COUNT(*) FROM {}\n",
    "        \"\"\").format(sql.Identifier(filtered_table_name))\n",
    "\n",
    "        cur.execute(query_rows)\n",
    "        num_rows = cur.fetchone()[0]\n",
    "        print(f\"Number of rows in filtered table {filtered_table_name}:\", num_rows)\n",
    "\n",
    "        # count unique subject Id's in the filtered table\n",
    "        query_subject_ids = sql.SQL(\"\"\"\n",
    "            SELECT COUNT(DISTINCT subject_id) FROM {}\n",
    "        \"\"\").format(sql.Identifier(filtered_table_name))\n",
    "\n",
    "        cur.execute(query_subject_ids)\n",
    "        num_unique_subject_ids = cur.fetchone()[0]\n",
    "        print(f\"Number of unique subject ids:\", num_unique_subject_ids)\n",
    "    \n",
    "    except psycopg2.Error as e:\n",
    "        print(f\"Error creating table {filtered_table_name}:\", e)\n",
    "    finally:\n",
    "        cur.close()"
   ]
  },
  {
   "cell_type": "code",
   "execution_count": 28,
   "id": "1d8ff007-53be-467b-a512-b419991560ab",
   "metadata": {},
   "outputs": [
    {
     "name": "stdout",
     "output_type": "stream",
     "text": [
      "Connected to db: smcdougall\n",
      "Filtered table mimiciv_hosp.filtered_omr created successfully!\n",
      "Number of rows in filtered table mimiciv_hosp.filtered_omr: 978756\n",
      "Number of unique subject ids: 15772\n",
      "Filtered table mimiciv_hosp.filtered_admissions created successfully!\n",
      "Number of rows in filtered table mimiciv_hosp.filtered_admissions: 56822\n",
      "Number of unique subject ids: 17841\n",
      "Filtered table mimiciv_hosp.filtered_diagnoses_icd created successfully!\n",
      "Number of rows in filtered table mimiciv_hosp.filtered_diagnoses_icd: 608999\n",
      "Number of unique subject ids: 17840\n",
      "Filtered table mimiciv_hosp.filtered_drgcodes created successfully!\n",
      "Number of rows in filtered table mimiciv_hosp.filtered_drgcodes: 91785\n",
      "Number of unique subject ids: 17559\n",
      "Filtered table mimiciv_hosp.filtered_emar created successfully!\n",
      "Number of rows in filtered table mimiciv_hosp.filtered_emar: 2856872\n",
      "Number of unique subject ids: 10842\n",
      "Filtered table mimiciv_hosp.filtered_emar_detail created successfully!\n",
      "Number of rows in filtered table mimiciv_hosp.filtered_emar_detail: 5844692\n",
      "Number of unique subject ids: 10842\n",
      "Filtered table mimiciv_hosp.filtered_microbiologyevents created successfully!\n",
      "Number of rows in filtered table mimiciv_hosp.filtered_microbiologyevents: 506163\n",
      "Number of unique subject ids: 17170\n",
      "Filtered table mimiciv_hosp.filtered_patients created successfully!\n",
      "Number of rows in filtered table mimiciv_hosp.filtered_patients: 19076\n",
      "Number of unique subject ids: 19076\n",
      "Filtered table mimiciv_hosp.filtered_pharmacy created successfully!\n",
      "Number of rows in filtered table mimiciv_hosp.filtered_pharmacy: 1559802\n",
      "Number of unique subject ids: 17692\n",
      "Filtered table mimiciv_hosp.filtered_poe created successfully!\n",
      "Number of rows in filtered table mimiciv_hosp.filtered_poe: 4469737\n",
      "Number of unique subject ids: 17815\n",
      "Filtered table mimiciv_hosp.filtered_poe_detail created successfully!\n",
      "Number of rows in filtered table mimiciv_hosp.filtered_poe_detail: 480867\n",
      "Number of unique subject ids: 17776\n",
      "Filtered table mimiciv_hosp.filtered_prescriptions created successfully!\n",
      "Number of rows in filtered table mimiciv_hosp.filtered_prescriptions: 1726124\n",
      "Number of unique subject ids: 17692\n",
      "Filtered table mimiciv_hosp.filtered_procedures_icd created successfully!\n",
      "Number of rows in filtered table mimiciv_hosp.filtered_procedures_icd: 82672\n",
      "Number of unique subject ids: 16515\n",
      "Filtered table mimiciv_hosp.filtered_services created successfully!\n",
      "Number of rows in filtered table mimiciv_hosp.filtered_services: 60107\n",
      "Number of unique subject ids: 17841\n",
      "Filtered table mimiciv_hosp.filtered_transfers created successfully!\n",
      "Number of rows in filtered table mimiciv_hosp.filtered_transfers: 234354\n",
      "Number of unique subject ids: 19076\n",
      "Filtered table mimiciv_hosp.filtered_labevents created successfully!\n",
      "Number of rows in filtered table mimiciv_hosp.filtered_labevents: 12891709\n",
      "Number of unique subject ids: 18951\n",
      "Filtered table mimiciv_icu.filtered_chartevents created successfully!\n",
      "Number of rows in filtered table mimiciv_icu.filtered_chartevents: 17310061\n",
      "Number of unique subject ids: 2625\n",
      "Filtered table mimiciv_icu.filtered_datetimeevents created successfully!\n",
      "Number of rows in filtered table mimiciv_icu.filtered_datetimeevents: 394521\n",
      "Number of unique subject ids: 2611\n",
      "Filtered table mimiciv_icu.filtered_icustays created successfully!\n",
      "Number of rows in filtered table mimiciv_icu.filtered_icustays: 5119\n",
      "Number of unique subject ids: 2625\n",
      "Filtered table mimiciv_icu.filtered_ingredientevents created successfully!\n",
      "Number of rows in filtered table mimiciv_icu.filtered_ingredientevents: 604474\n",
      "Number of unique subject ids: 2614\n",
      "Filtered table mimiciv_icu.filtered_inputevents created successfully!\n",
      "Number of rows in filtered table mimiciv_icu.filtered_inputevents: 470488\n",
      "Number of unique subject ids: 2616\n",
      "Filtered table mimiciv_icu.filtered_outputevents created successfully!\n",
      "Number of rows in filtered table mimiciv_icu.filtered_outputevents: 223095\n",
      "Number of unique subject ids: 2573\n",
      "Filtered table mimiciv_icu.filtered_procedureevents created successfully!\n",
      "Number of rows in filtered table mimiciv_icu.filtered_procedureevents: 37436\n",
      "Number of unique subject ids: 2621\n",
      "Filtered table mimiciv_ed.filtered_diagnosis created successfully!\n",
      "Number of rows in filtered table mimiciv_ed.filtered_diagnosis: 91603\n",
      "Number of unique subject ids: 12973\n",
      "Filtered table mimiciv_ed.filtered_edstays created successfully!\n",
      "Number of rows in filtered table mimiciv_ed.filtered_edstays: 43198\n",
      "Number of unique subject ids: 12993\n",
      "Filtered table mimiciv_ed.filtered_medrecon created successfully!\n",
      "Number of rows in filtered table mimiciv_ed.filtered_medrecon: 391033\n",
      "Number of unique subject ids: 9798\n",
      "Filtered table mimiciv_ed.filtered_pyxis created successfully!\n",
      "Number of rows in filtered table mimiciv_ed.filtered_pyxis: 173941\n",
      "Number of unique subject ids: 9874\n",
      "Filtered table mimiciv_ed.filtered_triage created successfully!\n",
      "Number of rows in filtered table mimiciv_ed.filtered_triage: 43198\n",
      "Number of unique subject ids: 12993\n",
      "Filtered table mimiciv_ed.filtered_vitalsign created successfully!\n",
      "Number of rows in filtered table mimiciv_ed.filtered_vitalsign: 154819\n",
      "Number of unique subject ids: 12584\n",
      "Filtered table mimiciv_note.filtered_discharge created successfully!\n",
      "Number of rows in filtered table mimiciv_note.filtered_discharge: 36520\n",
      "Number of unique subject ids: 10191\n",
      "Filtered table mimiciv_note.filtered_discharge_detail created successfully!\n",
      "Number of rows in filtered table mimiciv_note.filtered_discharge_detail: 20379\n",
      "Number of unique subject ids: 5702\n",
      "Filtered table mimiciv_note.filtered_radiology created successfully!\n",
      "Number of rows in filtered table mimiciv_note.filtered_radiology: 229447\n",
      "Number of unique subject ids: 16465\n",
      "Filtered table mimiciv_note.filtered_radiology_detail created successfully!\n",
      "Number of rows in filtered table mimiciv_note.filtered_radiology_detail: 611703\n",
      "Number of unique subject ids: 16571\n",
      "Postgres connection has been closed.\n"
     ]
    }
   ],
   "source": [
    "connection = connect_to_postgres(DB_NAME, USERNAME, PASSWORD, HOST, PORT)\n",
    "\n",
    "for table_name in subject_id_filtered_tables:\n",
    "    filter_table_on_subject_id(connection, table_name, hosp_and_ed_subjects)\n",
    "close_connection(connection)"
   ]
  }
 ],
 "metadata": {
  "kernelspec": {
   "display_name": "Python 3 (ipykernel)",
   "language": "python",
   "name": "python3"
  },
  "language_info": {
   "codemirror_mode": {
    "name": "ipython",
    "version": 3
   },
   "file_extension": ".py",
   "mimetype": "text/x-python",
   "name": "python",
   "nbconvert_exporter": "python",
   "pygments_lexer": "ipython3",
   "version": "3.11.5"
  }
 },
 "nbformat": 4,
 "nbformat_minor": 5
}
