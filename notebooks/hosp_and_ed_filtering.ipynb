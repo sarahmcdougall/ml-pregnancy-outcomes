{
 "cells": [
  {
   "cell_type": "markdown",
   "id": "38ba4cac",
   "metadata": {},
   "source": [
    "## 1. Connect to Postgres Database and Verify Connection\n",
    "The MIMIC-IV data is stored in a Postgres Database with separate schemas for each module (ICU, Hosp, ED, and Notes).\n",
    "\n",
    "We will use the `psycopg2` package to connect to Postgres and verify a connection to the database."
   ]
  },
  {
   "cell_type": "code",
   "execution_count": 2,
   "id": "90cbf95a",
   "metadata": {},
   "outputs": [],
   "source": [
    "import psycopg2\n",
    "from psycopg2 import OperationalError, DatabaseError\n",
    "import pandas\n",
    "import csv"
   ]
  },
  {
   "cell_type": "code",
   "execution_count": 3,
   "id": "981b3b81-224c-4cd4-9170-4d1de4a2498e",
   "metadata": {},
   "outputs": [],
   "source": [
    "### Environment Variables for Connection ###\n",
    "DB_NAME = 'smcdougall'\n",
    "USERNAME = 'postgres'\n",
    "PASSWORD = 'postgres'\n",
    "HOST = 'localhost'\n",
    "PORT = 5432 "
   ]
  },
  {
   "cell_type": "code",
   "execution_count": 4,
   "id": "dd5dc508",
   "metadata": {},
   "outputs": [],
   "source": [
    "def connect_to_postgres(db_name, username, password, host, port):\n",
    "    connection = None\n",
    "    try:\n",
    "        connection = psycopg2.connect(\n",
    "            dbname=db_name,\n",
    "            user=username,\n",
    "            password=password,\n",
    "            host=host,\n",
    "            port=port\n",
    "        )\n",
    "        print('Connected to db:', db_name)\n",
    "        return connection\n",
    "    except OperationalError as e:\n",
    "        print('Received the following error:', e)\n",
    "        return None"
   ]
  },
  {
   "cell_type": "code",
   "execution_count": 5,
   "id": "5c8f45b2-ac7d-4bb3-a105-e963dcdef232",
   "metadata": {},
   "outputs": [],
   "source": [
    "def verify_postgres_connection(connection):\n",
    "    if connection is not None:\n",
    "        try:\n",
    "            cur = connection.cursor()\n",
    "            cur.execute('SELECT version();')\n",
    "            db_version = cur.fetchone()\n",
    "            print('The Postgres database version is:', db_version)\n",
    "            cur.close()\n",
    "        except DatabaseError as e:\n",
    "            print('Received the following error:', e)\n",
    "    else:\n",
    "        print('Connection to Postgres failed.')"
   ]
  },
  {
   "cell_type": "code",
   "execution_count": 6,
   "id": "8cca5f0f-ff27-4451-8559-92f939f513ab",
   "metadata": {},
   "outputs": [],
   "source": [
    "def close_connection(connection):\n",
    "    if connection is not None:\n",
    "        connection.close()\n",
    "        print('Postgres connection has been closed.')"
   ]
  },
  {
   "cell_type": "code",
   "execution_count": 7,
   "id": "b1048db3-b8d9-4207-827b-e24e30b99a86",
   "metadata": {},
   "outputs": [
    {
     "name": "stdout",
     "output_type": "stream",
     "text": [
      "Connected to db: smcdougall\n",
      "The Postgres database version is: ('PostgreSQL 14.5 on aarch64-apple-darwin20.6.0, compiled by Apple clang version 12.0.5 (clang-1205.0.22.9), 64-bit',)\n",
      "Postgres connection has been closed.\n"
     ]
    }
   ],
   "source": [
    "connection = connect_to_postgres(DB_NAME, USERNAME, PASSWORD, HOST, PORT)\n",
    "verify_postgres_connection(connection)\n",
    "close_connection(connection)"
   ]
  },
  {
   "cell_type": "markdown",
   "id": "6612b386-eeb7-4f31-b63d-9df306b26e2a",
   "metadata": {},
   "source": [
    "## 2. Verify Ability to Read Data from all 4 Modules\n",
    "The four modules from MIMIC-IV being used are: hosp, icu, ed, notes\n",
    "Verify connection to each of them so that they can be appropriately filtered"
   ]
  },
  {
   "cell_type": "markdown",
   "id": "2e04170d-bc95-4dde-a5b3-9dcf86a78134",
   "metadata": {},
   "source": [
    "Hosp module:"
   ]
  },
  {
   "cell_type": "code",
   "execution_count": 8,
   "id": "5c7ead97-87ab-4842-9003-b750bfb7ae69",
   "metadata": {},
   "outputs": [
    {
     "name": "stdout",
     "output_type": "stream",
     "text": [
      "Connected to db: smcdougall\n",
      "Count of rows: 299712\n",
      "Postgres connection has been closed.\n"
     ]
    }
   ],
   "source": [
    "connection = connect_to_postgres(DB_NAME, USERNAME, PASSWORD, HOST, PORT)\n",
    "cur = connection.cursor()\n",
    "# tells Postgres to prioritize searching for tables within the mimiciv_hosp schema\n",
    "# before searching other schemas\n",
    "cur.execute('SET search_path to mimiciv_hosp')\n",
    "cur.execute('SELECT COUNT(*) from patients')\n",
    "# fetch result\n",
    "count = cur.fetchone()[0]\n",
    "print('Count of rows:', count)\n",
    "\n",
    "cur.close()\n",
    "close_connection(connection)"
   ]
  },
  {
   "cell_type": "markdown",
   "id": "c960b537-713f-41be-b000-ddd0d144537d",
   "metadata": {},
   "source": [
    "ICU module:"
   ]
  },
  {
   "cell_type": "code",
   "execution_count": 9,
   "id": "5569059a-f134-476b-9a34-64195bf83fbe",
   "metadata": {
    "scrolled": true
   },
   "outputs": [
    {
     "name": "stdout",
     "output_type": "stream",
     "text": [
      "Connected to db: smcdougall\n",
      "Count of rows: 15468\n",
      "Postgres connection has been closed.\n"
     ]
    }
   ],
   "source": [
    "connection = connect_to_postgres(DB_NAME, USERNAME, PASSWORD, HOST, PORT)\n",
    "cur = connection.cursor()\n",
    "cur.execute('SET search_path to mimiciv_icu')\n",
    "cur.execute('SELECT COUNT(*) from caregiver')\n",
    "# fetch result\n",
    "count = cur.fetchone()[0]\n",
    "print('Count of rows:', count)\n",
    "\n",
    "cur.close()\n",
    "close_connection(connection)"
   ]
  },
  {
   "cell_type": "markdown",
   "id": "31325a84-7a58-4e75-9970-f66ec53fe206",
   "metadata": {},
   "source": [
    "ED module:"
   ]
  },
  {
   "cell_type": "code",
   "execution_count": 10,
   "id": "352b434d-c8d6-4e27-9fd8-a4a410be41f4",
   "metadata": {},
   "outputs": [
    {
     "name": "stdout",
     "output_type": "stream",
     "text": [
      "Connected to db: smcdougall\n",
      "Count of rows: 899050\n",
      "Postgres connection has been closed.\n"
     ]
    }
   ],
   "source": [
    "connection = connect_to_postgres(DB_NAME, USERNAME, PASSWORD, HOST, PORT)\n",
    "cur = connection.cursor()\n",
    "cur.execute('SET search_path to mimiciv_ed')\n",
    "cur.execute('SELECT COUNT(*) from diagnosis')\n",
    "# fetch result\n",
    "count = cur.fetchone()[0]\n",
    "print('Count of rows:', count)\n",
    "\n",
    "cur.close()\n",
    "close_connection(connection)"
   ]
  },
  {
   "cell_type": "markdown",
   "id": "08956faa-cfaa-4e3d-bebb-5b8819a0b9e7",
   "metadata": {},
   "source": [
    "Notes:"
   ]
  },
  {
   "cell_type": "code",
   "execution_count": 11,
   "id": "ff970548-2e42-4b42-993f-3116a63eabee",
   "metadata": {},
   "outputs": [
    {
     "name": "stdout",
     "output_type": "stream",
     "text": [
      "Connected to db: smcdougall\n",
      "Count of rows: 331793\n",
      "Postgres connection has been closed.\n"
     ]
    }
   ],
   "source": [
    "connection = connect_to_postgres(DB_NAME, USERNAME, PASSWORD, HOST, PORT)\n",
    "cur = connection.cursor()\n",
    "cur.execute('SET search_path to mimiciv_note')\n",
    "cur.execute('SELECT COUNT(*) from discharge')\n",
    "# fetch result\n",
    "count = cur.fetchone()[0]\n",
    "print('Count of rows:', count)\n",
    "\n",
    "cur.close()\n",
    "close_connection(connection)"
   ]
  },
  {
   "cell_type": "markdown",
   "id": "a5bdcf9b-4639-46dc-b981-9194c01e06bc",
   "metadata": {},
   "source": [
    "## 3. Store our filtering criteria\n",
    "To start, we will filter by the following:\n",
    "- (1) ICD-9/ICD-10 codes pertaining to pregnancy (from both hosp module and ED module)\n",
    "- (2) DRG Codes (diagnosis-related group) related to pregnancy"
   ]
  },
  {
   "cell_type": "markdown",
   "id": "a3c36771-29f0-481d-be3a-97c0d546c4c0",
   "metadata": {
    "jp-MarkdownHeadingCollapsed": true
   },
   "source": [
    "### Diagnosis Code filtering - hosp module\n",
    "- Relevant table - `diagnoses_icd`\n",
    "- Relevant columns - `icd_code` and `icd_version`\n",
    "\n",
    "Query will be of the form `icd_version = 9 AND icd_code = ... OR icd_version = 10 AND icd_code = ...`\n",
    "\n",
    "### ICD-10 codes\n",
    "- Z33 - Pregnant State\n",
    "- Z34 - Encounter for supervision of normal pregnancy\n",
    "- Z3A - weeks of gestation\n",
    "- O00-O9A - complications of pregnancy\n",
    "\n",
    "### ICD-10 query\n",
    "\n",
    "```\n",
    ".... FROM diagnoses_icd\n",
    "WHERE icd_code LIKE 'Z33%' \n",
    "OR icd_code LIKE 'Z34%' \n",
    "OR icd_code LIKE 'Z3A%' \n",
    "OR icd_code LIKE 'O0%' \n",
    "OR icd_code LIKE 'O1%' \n",
    "OR icd_code LIKE 'O2%' \n",
    "OR icd_code LIKE 'O3%' \n",
    "OR icd_code LIKE 'O4%' \n",
    "OR icd_code LIKE 'O5%' \n",
    "OR icd_code LIKE 'O6%' \n",
    "OR icd_code LIKE 'O7%' \n",
    "OR icd_code LIKE 'O8%' \n",
    "OR icd_code LIKE 'O9%'\n",
    "\n",
    "AND icd_version = 10\n",
    "\n",
    "```\n",
    "### ICD-9 codes\n",
    "- V22.0-V22.9 - normal pregnancy\n",
    "- V23.0-V23.9 - pregnancy, including high-risk pregnancy\n",
    "- V24 - Routine postpartum care and examination\n",
    "- V27 - Outcome of delivery\n",
    "- V28 - Antenatal screening\n",
    "- 630-679 - complications of pregnancy (includes ectopic pregnancy, complications related to pregnancy, puerperium, course of labor and delivery, etc.)\n",
    "\n",
    "### ICD-9 query\n",
    "```\n",
    "... FROM diagnoses_icd\n",
    "WHERE icd_code LIKE 'V22%'\n",
    "OR icd_code LIKE 'V23%'\n",
    "OR icd_code LIKE 'V24%'\n",
    "OR icd_code LIKE 'V27%'\n",
    "OR icd_code LIKE 'V28%'\n",
    "OR icd_code LIKE '63%'\n",
    "OR icd_code LIKE '64%'\n",
    "OR icd_code LIKE '65%'\n",
    "OR icd_code LIKE '66%'\n",
    "OR icd_code LIKE '67%'\n",
    "\n",
    "AND icd_version = 9\n",
    "```\n"
   ]
  },
  {
   "cell_type": "markdown",
   "id": "c12dd241-7b99-4432-9e8e-1647ac2ce932",
   "metadata": {},
   "source": [
    "### Diagnosis Code filtering - ED module\n",
    "- module - `mimiciv_ed`\n",
    "- table - `diagnosis`\n",
    "- columns - `icd_code` and `icd_version`\n",
    "- will pretty much be the same as hosp queries except the table we are pulling from is called `diagnosis` instead of `diagnoses_icd`\n",
    "\n",
    "### ICD-10 codes\n",
    "- Z33 - Pregnant State\n",
    "- Z34 - Encounter for supervision of normal pregnancy\n",
    "- Z3A - weeks of gestation\n",
    "- O00-O9A - complications of pregnancy\n",
    "\n",
    "### ICD-10 query\n",
    "\n",
    "```\n",
    ".... FROM diagnosis\n",
    "WHERE icd_code LIKE 'Z33%' \n",
    "OR icd_code LIKE 'Z34%' \n",
    "OR icd_code LIKE 'Z3A%' \n",
    "OR icd_code LIKE 'O0%' \n",
    "OR icd_code LIKE 'O1%' \n",
    "OR icd_code LIKE 'O2%' \n",
    "OR icd_code LIKE 'O3%' \n",
    "OR icd_code LIKE 'O4%' \n",
    "OR icd_code LIKE 'O5%' \n",
    "OR icd_code LIKE 'O6%' \n",
    "OR icd_code LIKE 'O7%' \n",
    "OR icd_code LIKE 'O8%' \n",
    "OR icd_code LIKE 'O9%'\n",
    "\n",
    "AND icd_version = 10\n",
    "\n",
    "```\n",
    "### ICD-9 codes\n",
    "- V22.0-V22.9 - normal pregnancy\n",
    "- V23.0-V23.9 - pregnancy, including high-risk pregnancy\n",
    "- V24 - Routine postpartum care and examination\n",
    "- V27 - Outcome of delivery\n",
    "- V28 - Antenatal screening\n",
    "- 630-679 - complications of pregnancy (includes ectopic pregnancy, complications related to pregnancy, puerperium, course of labor and delivery, etc.)\n",
    "\n",
    "### ICD-9 query\n",
    "```\n",
    "... FROM diagnosis\n",
    "WHERE icd_code LIKE 'V22%'\n",
    "OR icd_code LIKE 'V23%'\n",
    "OR icd_code LIKE 'V24%'\n",
    "OR icd_code LIKE 'V27%'\n",
    "OR icd_code LIKE 'V28%'\n",
    "OR icd_code LIKE '63%'\n",
    "OR icd_code LIKE '64%'\n",
    "OR icd_code LIKE '65%'\n",
    "OR icd_code LIKE '66%'\n",
    "OR icd_code LIKE '67%'\n",
    "\n",
    "AND icd_version = 9\n",
    "```\n"
   ]
  },
  {
   "cell_type": "markdown",
   "id": "8c04751c-5b9c-4730-9ca5-b890edfb64d0",
   "metadata": {},
   "source": [
    "### Diagnosis Code filtering - DRG codes (hosp module)\n",
    "- Hosp module\n",
    "- `drgcodes` table\n",
    "- `drg_code` column (note the values are numbers but they are represented as **strings**)\n",
    "\n",
    "```\n",
    "... FROM drgcodes\n",
    "WHERE drg_code BETWEEN '370' AND '384'\n",
    "```\n",
    "(use of 'LIKE' over 'BETWEEN' would be less efficient here)"
   ]
  },
  {
   "cell_type": "markdown",
   "id": "c5ed555c-be99-4122-bff5-c59f6ca1052f",
   "metadata": {},
   "source": [
    "## Get Number of Unique Subjects we are starting with\n",
    "- join `hosp` diagnosis table with `ed` diagnosis table so that we can get the starting number of patients that have been given diagnoses either in hospital or ED setting\n",
    "- gives us a baseline when seeing how much filtering we have done"
   ]
  },
  {
   "cell_type": "code",
   "execution_count": 12,
   "id": "78a626b7-4620-4067-9a3b-971325ba9625",
   "metadata": {},
   "outputs": [
    {
     "name": "stdout",
     "output_type": "stream",
     "text": [
      "Connected to db: smcdougall\n",
      "Number of unique patients with diagnoses: 122474\n",
      "Postgres connection has been closed.\n"
     ]
    }
   ],
   "source": [
    "def count_unique_subject_ids_from_diagnosis(connection):\n",
    "    cur = connection.cursor()\n",
    "    cur.execute(\"\"\"\n",
    "        SELECT COUNT(DISTINCT di.subject_id)\n",
    "        FROM mimiciv_hosp.diagnoses_icd di\n",
    "        INNER JOIN mimiciv_ed.diagnosis ed\n",
    "        ON di.subject_id = ed.subject_id\n",
    "    \"\"\")\n",
    "    count = cur.fetchone()[0]\n",
    "    print(\"Number of unique patients with diagnoses:\", count)\n",
    "    cur.close()\n",
    "\n",
    "connection = connect_to_postgres(DB_NAME, USERNAME, PASSWORD, HOST, PORT)\n",
    "count_unique_subject_ids_from_diagnosis(connection)\n",
    "close_connection(connection)"
   ]
  },
  {
   "cell_type": "markdown",
   "id": "ffc000df-120e-4330-bf40-6cef21c54691",
   "metadata": {},
   "source": [
    "## Get Number of Unique Subjects with Hosp Pregnancy Diagnosis"
   ]
  },
  {
   "cell_type": "code",
   "execution_count": 13,
   "id": "10c5687f-10d0-4778-b34e-3c3bbb133be9",
   "metadata": {},
   "outputs": [],
   "source": [
    "def count_unique_hosp_pregnant_subjects(connection):\n",
    "    cur = connection.cursor()\n",
    "    cur.execute(\"\"\"\n",
    "        SELECT COUNT(DISTINCT di.subject_id)\n",
    "        FROM mimiciv_hosp.diagnoses_icd di\n",
    "\t\tINNER JOIN mimiciv_hosp.drgcodes d ON di.subject_id = d.subject_id\n",
    "        INNER JOIN mimiciv_hosp.patients p ON di.subject_id = p.subject_id\n",
    "        WHERE (((di.icd_code LIKE 'Z33%' \n",
    "            OR di.icd_code LIKE 'Z34%' \n",
    "            OR di.icd_code LIKE 'Z3A%' \n",
    "            OR di.icd_code LIKE 'O0%' \n",
    "            OR di.icd_code LIKE 'O1%' \n",
    "            OR di.icd_code LIKE 'O2%' \n",
    "            OR di.icd_code LIKE 'O3%' \n",
    "            OR di.icd_code LIKE 'O4%' \n",
    "            OR di.icd_code LIKE 'O5%' \n",
    "            OR di.icd_code LIKE 'O6%' \n",
    "            OR di.icd_code LIKE 'O7%' \n",
    "            OR di.icd_code LIKE 'O8%' \n",
    "            OR di.icd_code LIKE 'O9%') AND di.icd_version = 10)\n",
    "            OR\n",
    "            ((di.icd_code LIKE 'V22%'\n",
    "            OR di.icd_code LIKE 'V23%'\n",
    "            OR di.icd_code LIKE 'V24%'\n",
    "            OR di.icd_code LIKE 'V27%'\n",
    "            OR di.icd_code LIKE 'V28%'\n",
    "            OR di.icd_code LIKE '63%'\n",
    "            OR di.icd_code LIKE '64%'\n",
    "            OR di.icd_code LIKE '65%'\n",
    "            OR di.icd_code LIKE '66%'\n",
    "            OR di.icd_code LIKE '67%') AND di.icd_version = 9)\n",
    "            OR (d.drg_code BETWEEN '370' AND '384'))\n",
    "            AND p.gender = 'F';\n",
    "    \"\"\")\n",
    "    count = cur.fetchone()[0]\n",
    "    print(\"Number of unique patients:\", count)\n",
    "    cur.close()"
   ]
  },
  {
   "cell_type": "code",
   "execution_count": 14,
   "id": "758ca85e-a441-4762-ad5a-49153d3eb097",
   "metadata": {},
   "outputs": [
    {
     "name": "stdout",
     "output_type": "stream",
     "text": [
      "Connected to db: smcdougall\n",
      "Number of unique patients: 17485\n",
      "Postgres connection has been closed.\n"
     ]
    }
   ],
   "source": [
    "connection = connect_to_postgres(DB_NAME, USERNAME, PASSWORD, HOST, PORT)\n",
    "count_unique_hosp_pregnant_subjects(connection)\n",
    "close_connection(connection)"
   ]
  },
  {
   "cell_type": "markdown",
   "id": "3d5c911c-9319-43c8-8d98-e47c1ff23261",
   "metadata": {},
   "source": [
    "## Get Number of Unique Subjects with ED Pregnancy Diagnosis"
   ]
  },
  {
   "cell_type": "code",
   "execution_count": 15,
   "id": "a29a4f5c-b943-4a33-a84c-9e9af7345320",
   "metadata": {},
   "outputs": [],
   "source": [
    "def count_unique_ed_pregnant_subjects(connection):\n",
    "    cur = connection.cursor()\n",
    "    cur.execute(\"\"\"\n",
    "        SELECT COUNT(DISTINCT di.subject_id)\n",
    "        FROM mimiciv_ed.diagnosis di\n",
    "        INNER JOIN mimiciv_hosp.patients p ON di.subject_id = p.subject_id\n",
    "        WHERE (((di.icd_code LIKE 'Z33%' \n",
    "            OR di.icd_code LIKE 'Z34%' \n",
    "            OR di.icd_code LIKE 'Z3A%' \n",
    "            OR di.icd_code LIKE 'O0%' \n",
    "            OR di.icd_code LIKE 'O1%' \n",
    "            OR di.icd_code LIKE 'O2%' \n",
    "            OR di.icd_code LIKE 'O3%' \n",
    "            OR di.icd_code LIKE 'O4%' \n",
    "            OR di.icd_code LIKE 'O5%' \n",
    "            OR di.icd_code LIKE 'O6%' \n",
    "            OR di.icd_code LIKE 'O7%' \n",
    "            OR di.icd_code LIKE 'O8%' \n",
    "            OR di.icd_code LIKE 'O9%') AND di.icd_version = 10)\n",
    "            OR\n",
    "            ((di.icd_code LIKE 'V22%'\n",
    "            OR di.icd_code LIKE 'V23%'\n",
    "            OR di.icd_code LIKE 'V24%'\n",
    "            OR di.icd_code LIKE 'V27%'\n",
    "            OR di.icd_code LIKE 'V28%'\n",
    "            OR di.icd_code LIKE '63%'\n",
    "            OR di.icd_code LIKE '64%'\n",
    "            OR di.icd_code LIKE '65%'\n",
    "            OR di.icd_code LIKE '66%'\n",
    "            OR di.icd_code LIKE '67%') AND di.icd_version = 9))\n",
    "            AND p.gender = 'F';\n",
    "    \"\"\")\n",
    "    count = cur.fetchone()[0]\n",
    "    print(\"Number of unique patients:\", count)\n",
    "    cur.close()"
   ]
  },
  {
   "cell_type": "code",
   "execution_count": 16,
   "id": "f2025286-ca62-41bb-a7e0-e14ba6fa481d",
   "metadata": {},
   "outputs": [
    {
     "name": "stdout",
     "output_type": "stream",
     "text": [
      "Connected to db: smcdougall\n",
      "Number of unique patients: 4877\n",
      "Postgres connection has been closed.\n"
     ]
    }
   ],
   "source": [
    "connection = connect_to_postgres(DB_NAME, USERNAME, PASSWORD, HOST, PORT)\n",
    "count_unique_ed_pregnant_subjects(connection)\n",
    "close_connection(connection)"
   ]
  },
  {
   "cell_type": "markdown",
   "id": "495456ea-f33a-41b8-b112-c95529bca43c",
   "metadata": {},
   "source": [
    "## Get Number of Joint Unique Subjects between the Two Modules"
   ]
  },
  {
   "cell_type": "code",
   "execution_count": 17,
   "id": "79993200-f3e6-44d2-bade-96f438e84c71",
   "metadata": {},
   "outputs": [],
   "source": [
    "def get_all_pregnant_subject_ids(connection):\n",
    "    cur = connection.cursor()\n",
    "    cur.execute(\"\"\"\n",
    "        SELECT subject_id\n",
    "        FROM (\n",
    "        SELECT di.subject_id\n",
    "                FROM mimiciv_hosp.diagnoses_icd di\n",
    "        \t\tINNER JOIN mimiciv_hosp.drgcodes d ON di.subject_id = d.subject_id\n",
    "                INNER JOIN mimiciv_hosp.patients p ON di.subject_id = p.subject_id\n",
    "                WHERE (((di.icd_code LIKE 'Z33%' \n",
    "                    OR di.icd_code LIKE 'Z34%' \n",
    "                    OR di.icd_code LIKE 'Z3A%' \n",
    "                    OR di.icd_code LIKE 'O0%' \n",
    "                    OR di.icd_code LIKE 'O1%' \n",
    "                    OR di.icd_code LIKE 'O2%' \n",
    "                    OR di.icd_code LIKE 'O3%' \n",
    "                    OR di.icd_code LIKE 'O4%' \n",
    "                    OR di.icd_code LIKE 'O5%' \n",
    "                    OR di.icd_code LIKE 'O6%' \n",
    "                    OR di.icd_code LIKE 'O7%' \n",
    "                    OR di.icd_code LIKE 'O8%' \n",
    "                    OR di.icd_code LIKE 'O9%') AND di.icd_version = 10)\n",
    "                    OR\n",
    "                    ((di.icd_code LIKE 'V22%'\n",
    "                    OR di.icd_code LIKE 'V23%'\n",
    "                    OR di.icd_code LIKE 'V24%'\n",
    "                    OR di.icd_code LIKE 'V27%'\n",
    "                    OR di.icd_code LIKE 'V28%'\n",
    "                    OR di.icd_code LIKE '63%'\n",
    "                    OR di.icd_code LIKE '64%'\n",
    "                    OR di.icd_code LIKE '65%'\n",
    "                    OR di.icd_code LIKE '66%'\n",
    "                    OR di.icd_code LIKE '67%') AND di.icd_version = 9)\n",
    "                    OR (d.drg_code BETWEEN '370' AND '384'))\n",
    "                    AND p.gender = 'F'\n",
    "        UNION\n",
    "        SELECT di.subject_id\n",
    "                FROM mimiciv_ed.diagnosis di\n",
    "                INNER JOIN mimiciv_hosp.patients p ON di.subject_id = p.subject_id\n",
    "                WHERE (((di.icd_code LIKE 'Z33%' \n",
    "                    OR di.icd_code LIKE 'Z34%' \n",
    "                    OR di.icd_code LIKE 'Z3A%' \n",
    "                    OR di.icd_code LIKE 'O0%' \n",
    "                    OR di.icd_code LIKE 'O1%' \n",
    "                    OR di.icd_code LIKE 'O2%' \n",
    "                    OR di.icd_code LIKE 'O3%' \n",
    "                    OR di.icd_code LIKE 'O4%' \n",
    "                    OR di.icd_code LIKE 'O5%' \n",
    "                    OR di.icd_code LIKE 'O6%' \n",
    "                    OR di.icd_code LIKE 'O7%' \n",
    "                    OR di.icd_code LIKE 'O8%' \n",
    "                    OR di.icd_code LIKE 'O9%') AND di.icd_version = 10)\n",
    "                    OR\n",
    "                    ((di.icd_code LIKE 'V22%'\n",
    "                    OR di.icd_code LIKE 'V23%'\n",
    "                    OR di.icd_code LIKE 'V24%'\n",
    "                    OR di.icd_code LIKE 'V27%'\n",
    "                    OR di.icd_code LIKE 'V28%'\n",
    "                    OR di.icd_code LIKE '63%'\n",
    "                    OR di.icd_code LIKE '64%'\n",
    "                    OR di.icd_code LIKE '65%'\n",
    "                    OR di.icd_code LIKE '66%'\n",
    "                    OR di.icd_code LIKE '67%') AND di.icd_version = 9))\n",
    "                    AND p.gender = 'F'\n",
    "    ) AS combined_results;\n",
    "    \"\"\")\n",
    "    rows = cur.fetchall()\n",
    "    subject_ids = [row[0] for row in rows]\n",
    "    cur.close()\n",
    "    return subject_ids"
   ]
  },
  {
   "cell_type": "code",
   "execution_count": 18,
   "id": "cbf13f59-70b4-431d-b707-82092a71f441",
   "metadata": {},
   "outputs": [
    {
     "name": "stdout",
     "output_type": "stream",
     "text": [
      "Connected to db: smcdougall\n",
      "Postgres connection has been closed.\n",
      "19088\n"
     ]
    }
   ],
   "source": [
    "connection = connect_to_postgres(DB_NAME, USERNAME, PASSWORD, HOST, PORT)\n",
    "subject_ids = get_all_pregnant_subject_ids(connection)\n",
    "close_connection(connection)\n",
    "print(len(subject_ids))"
   ]
  },
  {
   "cell_type": "code",
   "execution_count": 19,
   "id": "23982979-c954-4afe-84e1-7833d8c363df",
   "metadata": {},
   "outputs": [
    {
     "name": "stdout",
     "output_type": "stream",
     "text": [
      "19076\n"
     ]
    }
   ],
   "source": [
    "deceased_pats_to_exclude = [10495653, 11611136, 10504589, 11101737, 15047583, 15014156, 15695321, 19017858, 18805396, 18892314, 17809756, 18186302]\n",
    "subject_ids = [sub for sub in subject_ids if sub not in deceased_pats_to_exclude]\n",
    "print(len(subject_ids))"
   ]
  },
  {
   "cell_type": "markdown",
   "id": "fa1a19fd-2563-4f6e-a0c8-412ee10e5617",
   "metadata": {},
   "source": [
    "### Export the results to csv file for later comparison/usage"
   ]
  },
  {
   "cell_type": "code",
   "execution_count": 20,
   "id": "b95017e5-a921-49fc-94af-d1f2a38e8f98",
   "metadata": {},
   "outputs": [],
   "source": [
    "def export_to_csv(id_list, file_path):\n",
    "    with open(file_path, 'w', newline='') as csv_file:\n",
    "        writer = csv.writer(csv_file)\n",
    "        # add header\n",
    "        writer.writerow(['subject_id'])\n",
    "        for item in id_list:\n",
    "            writer.writerow([item])"
   ]
  },
  {
   "cell_type": "code",
   "execution_count": 21,
   "id": "93935122-3af6-48d7-b36c-d9be94f45770",
   "metadata": {},
   "outputs": [],
   "source": [
    "export_to_csv(subject_ids, 'hosp_and_ed_pregnant_subjects.csv')"
   ]
  },
  {
   "cell_type": "code",
   "execution_count": null,
   "id": "754789df-00c3-4f02-9e6b-0d9e57fe4cd8",
   "metadata": {},
   "outputs": [],
   "source": []
  }
 ],
 "metadata": {
  "kernelspec": {
   "display_name": "Python 3 (ipykernel)",
   "language": "python",
   "name": "python3"
  },
  "language_info": {
   "codemirror_mode": {
    "name": "ipython",
    "version": 3
   },
   "file_extension": ".py",
   "mimetype": "text/x-python",
   "name": "python",
   "nbconvert_exporter": "python",
   "pygments_lexer": "ipython3",
   "version": "3.11.5"
  }
 },
 "nbformat": 4,
 "nbformat_minor": 5
}
